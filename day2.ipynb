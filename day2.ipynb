{
  "nbformat": 4,
  "nbformat_minor": 0,
  "metadata": {
    "colab": {
      "provenance": [],
      "authorship_tag": "ABX9TyM+WXNvFQdjsaCm5e346Ojl",
      "include_colab_link": true
    },
    "kernelspec": {
      "name": "python3",
      "display_name": "Python 3"
    },
    "language_info": {
      "name": "python"
    }
  },
  "cells": [
    {
      "cell_type": "markdown",
      "metadata": {
        "id": "view-in-github",
        "colab_type": "text"
      },
      "source": [
        "<a href=\"https://colab.research.google.com/github/muralianamala/pythonlearning/blob/main/day2.ipynb\" target=\"_parent\"><img src=\"https://colab.research.google.com/assets/colab-badge.svg\" alt=\"Open In Colab\"/></a>"
      ]
    },
    {
      "cell_type": "code",
      "execution_count": 4,
      "metadata": {
        "colab": {
          "base_uri": "https://localhost:8080/"
        },
        "id": "F92hSk_Tsd7K",
        "outputId": "a6d3800f-1c9b-481b-b4e1-0ffcd2760669"
      },
      "outputs": [
        {
          "output_type": "stream",
          "name": "stdout",
          "text": [
            "g\n",
            "z\n",
            "enzeon\n",
            "gnen\n",
            "noezneg\n"
          ]
        }
      ],
      "source": [
        "x='genzeon'\n",
        "print(x[0])\n",
        "print(x[-4])\n",
        "print(x[1:])\n",
        "print(x[0:8:2])\n",
        "print(x[::-1])"
      ]
    },
    {
      "cell_type": "code",
      "source": [
        "#string operations\n",
        "str1=\"hello\"\n",
        "str2=\"world\"\n",
        "\n",
        "str3 = str1+str2\n",
        "print(str3)\n",
        "str4 = str3*2\n",
        "print(str4)"
      ],
      "metadata": {
        "colab": {
          "base_uri": "https://localhost:8080/"
        },
        "id": "g_F7b1sKue48",
        "outputId": "00c838f8-9d7c-4adc-ecaa-fb467a1de843"
      },
      "execution_count": 9,
      "outputs": [
        {
          "output_type": "stream",
          "name": "stdout",
          "text": [
            "helloworld\n",
            "helloworldhelloworld\n"
          ]
        }
      ]
    },
    {
      "cell_type": "code",
      "source": [],
      "metadata": {
        "id": "NYbLIk1Kui8y"
      },
      "execution_count": null,
      "outputs": []
    },
    {
      "cell_type": "code",
      "source": [
        "my_str=\"we are learning\"\n",
        "#indexing\n",
        "mylist1=[1,2,34]\n",
        "mylist2=[1,\"helllo\",3.1]\n",
        "mylist3=[\"w\",\"e\",\"l\",\"c\",\"o\",\"m\",\"e\"]\n",
        "\n",
        "n_list=[\"hello\",mylist1,mylist2,mylist3]\n",
        "\n",
        "print(n_list[2][2])\n",
        "\n",
        "#list methods\n",
        "li=[1,2,3]\n",
        "li.append(4)\n",
        "\n",
        "print(li)\n",
        "\n",
        "l1=[2,5,6,9,2,2,6,10,17,99]\n",
        "print(len(l1))\n",
        "\n",
        "print(l1.count(2))\n",
        "\n",
        "l1.sort()\n",
        "print(l1)"
      ],
      "metadata": {
        "colab": {
          "base_uri": "https://localhost:8080/"
        },
        "id": "3MgGbPb2vMgB",
        "outputId": "d79277b6-8561-4cbe-a1db-aa700ed18026"
      },
      "execution_count": 14,
      "outputs": [
        {
          "output_type": "stream",
          "name": "stdout",
          "text": [
            "3.1\n",
            "[1, 2, 3, 4]\n",
            "10\n",
            "3\n",
            "[2, 2, 2, 5, 6, 6, 9, 10, 17, 99]\n"
          ]
        }
      ]
    },
    {
      "cell_type": "code",
      "source": [
        "#tuples\n",
        "tup1=(1,2,3,4)\n",
        "tup2=(3,4,5,6)\n",
        "tup3=(\"hi\",1.0,5)\n",
        "tup4=(\"hi\",\"hello\",\"hloo\")\n",
        "ntup=(\"genzeon\",tup1,tup2,tup3,tup4)\n",
        "\n",
        "print(ntup[0])\n",
        "print(ntup[3][1])\n",
        "print(ntup[0][::-1])\n",
        "\n",
        "#tuple methods\n",
        "print(tup1.count(1))\n",
        "print(tup1.index(2))\n",
        "print(max(tup1))"
      ],
      "metadata": {
        "colab": {
          "base_uri": "https://localhost:8080/"
        },
        "id": "YkJ5QCkXy9nF",
        "outputId": "d005667d-69ad-49dd-a543-5e7498f2bfae"
      },
      "execution_count": 22,
      "outputs": [
        {
          "output_type": "stream",
          "name": "stdout",
          "text": [
            "genzeon\n",
            "1.0\n",
            "noezneg\n",
            "1\n",
            "1\n",
            "4\n"
          ]
        }
      ]
    },
    {
      "cell_type": "code",
      "source": [
        "#sets - should be unique\n"
      ],
      "metadata": {
        "id": "jb_kqlk90j4t"
      },
      "execution_count": null,
      "outputs": []
    },
    {
      "cell_type": "code",
      "source": [
        "#string formats\n",
        "name=\"genzeon\"\n",
        "lan=\"python\"\n",
        "year=2023\n",
        "\n",
        "print(name,\"is teaching\",lan,\"programming in\",year)\n",
        "print(\"{} is teaching {} programming in {}\".format(name,lan,year))\n",
        "\n",
        "#placeholder\n",
        "\n",
        "#rawstring\n",
        "print(f\"{name} is teaching {lan} programming in {year} \")"
      ],
      "metadata": {
        "colab": {
          "base_uri": "https://localhost:8080/"
        },
        "id": "DNb7Ykat9tUj",
        "outputId": "4a2d2c4a-b04a-4b30-82ff-c7a7576cb134"
      },
      "execution_count": 4,
      "outputs": [
        {
          "output_type": "stream",
          "name": "stdout",
          "text": [
            "genzeon is teaching python programming in 2023\n",
            "genzeon is teaching python proframming in 2023\n",
            "genzeon is teaching python programming in 2023 \n"
          ]
        }
      ]
    },
    {
      "cell_type": "code",
      "source": [
        "a=input(\"enter string\")\n",
        "print(a)\n",
        "b=int(input(\"enter any number\"))\n",
        "print(b)"
      ],
      "metadata": {
        "id": "uaO1kxXFAOTo"
      },
      "execution_count": null,
      "outputs": []
    },
    {
      "cell_type": "code",
      "source": [
        "#conditional statement\n",
        "a=100\n",
        "if a>0:\n",
        "  print(\"true\")\n",
        "  print(a)\n",
        "\n",
        "b=-1\n",
        "if b>0:\n",
        "    print(\"true\")\n",
        "else:\n",
        "  print(\"flase\")"
      ],
      "metadata": {
        "colab": {
          "base_uri": "https://localhost:8080/"
        },
        "id": "1LhDzzIYAXts",
        "outputId": "db9c5b0f-0865-4637-e1e6-ac2339b7a2cb"
      },
      "execution_count": 6,
      "outputs": [
        {
          "output_type": "stream",
          "name": "stdout",
          "text": [
            "true\n",
            "100\n",
            "flase\n"
          ]
        }
      ]
    },
    {
      "cell_type": "code",
      "source": [
        "#nested if\n",
        "age=int(input(\"enter person's age\"))\n",
        "if age>3 and age<=100:\n",
        "  if age<15:\n",
        "    print(\"half ticket\")\n",
        "  elif age==15 & age<60:\n",
        "    print(\"full ticket\")\n",
        "  elif age>60:\n",
        "    print(\"discounted price\")"
      ],
      "metadata": {
        "colab": {
          "base_uri": "https://localhost:8080/"
        },
        "id": "pRVvA-yCA_vq",
        "outputId": "37c89c2b-7b40-4a4f-97cf-dd94b1280ae7"
      },
      "execution_count": 7,
      "outputs": [
        {
          "output_type": "stream",
          "name": "stdout",
          "text": [
            "enter person's age62\n",
            "discounted price\n"
          ]
        }
      ]
    },
    {
      "cell_type": "code",
      "source": [
        "#loops\n",
        "#list\n",
        "num=[1,2,6,7,3,7,9,4]\n",
        "sum=0\n",
        "for i in num:\n",
        "    sum+=i\n",
        "print(sum)\n",
        "for i in range(1,11,2):\n",
        "  print(i)"
      ],
      "metadata": {
        "colab": {
          "base_uri": "https://localhost:8080/"
        },
        "id": "fXefkUrWBu7_",
        "outputId": "51fd6761-3766-4d34-df1b-b615e286beca"
      },
      "execution_count": 12,
      "outputs": [
        {
          "output_type": "stream",
          "name": "stdout",
          "text": [
            "39\n",
            "1\n",
            "3\n",
            "5\n",
            "7\n",
            "9\n"
          ]
        }
      ]
    },
    {
      "cell_type": "code",
      "source": [
        "x=[[12,7,3],\n",
        "  [4,5,6],\n",
        "  [7,8,9]]\n",
        "\n",
        "y=[[5,8,1],[0,0,1],[0,0,0]]\n",
        "\n",
        "temp=[[0,0,0],[0,0,0],[0,0,0]]\n",
        "\n",
        "for i in range(len(x)):\n",
        "  for j in range(len(x[0])):\n",
        "    temp[i][j]=x[i][j]+y[i][j]\n",
        "\n",
        "print(temp)\n"
      ],
      "metadata": {
        "colab": {
          "base_uri": "https://localhost:8080/"
        },
        "id": "p2kQjYGGCfUx",
        "outputId": "8d3fb24c-a089-43c9-a4a2-f090af6d5336"
      },
      "execution_count": 13,
      "outputs": [
        {
          "output_type": "stream",
          "name": "stdout",
          "text": [
            "[[17, 15, 4], [4, 5, 7], [7, 8, 9]]\n"
          ]
        }
      ]
    },
    {
      "cell_type": "code",
      "source": [
        "#while\n",
        "count=0\n",
        "while(count<11):\n",
        "  print(\"the count is\", count)\n",
        "  count+=1"
      ],
      "metadata": {
        "colab": {
          "base_uri": "https://localhost:8080/"
        },
        "id": "obYEfgWUDhiS",
        "outputId": "17b85db8-f7a9-4bea-bbb9-6517c65ccb90"
      },
      "execution_count": 14,
      "outputs": [
        {
          "output_type": "stream",
          "name": "stdout",
          "text": [
            "the count is 0\n",
            "the count is 1\n",
            "the count is 2\n",
            "the count is 3\n",
            "the count is 4\n",
            "the count is 5\n",
            "the count is 6\n",
            "the count is 7\n",
            "the count is 8\n",
            "the count is 9\n",
            "the count is 10\n"
          ]
        }
      ]
    },
    {
      "cell_type": "code",
      "source": [
        "#nested while\n",
        "num=int(input(\"enter the last table that you need\"))\n",
        "i=1\n",
        "while(i<num):\n",
        "  print(f\"table {i}\")\n",
        "  j=1\n",
        "  while(j<=10):\n",
        "    print(f\"{i}+{j}={i+j}\")\n",
        "    j+=1\n",
        "  print(\"__________________\")\n",
        "  i+=1\n"
      ],
      "metadata": {
        "colab": {
          "base_uri": "https://localhost:8080/"
        },
        "id": "MW_e1PBgD2bv",
        "outputId": "6876fe97-a8f6-4491-cba0-150ecf9e8ef5"
      },
      "execution_count": 16,
      "outputs": [
        {
          "output_type": "stream",
          "name": "stdout",
          "text": [
            "enter the last table that you need9\n",
            "table 1\n",
            "1+1=2\n",
            "1+2=3\n",
            "1+3=4\n",
            "1+4=5\n",
            "1+5=6\n",
            "1+6=7\n",
            "1+7=8\n",
            "1+8=9\n",
            "1+9=10\n",
            "1+10=11\n",
            "__________________\n",
            "table 2\n",
            "2+1=3\n",
            "2+2=4\n",
            "2+3=5\n",
            "2+4=6\n",
            "2+5=7\n",
            "2+6=8\n",
            "2+7=9\n",
            "2+8=10\n",
            "2+9=11\n",
            "2+10=12\n",
            "__________________\n",
            "table 3\n",
            "3+1=4\n",
            "3+2=5\n",
            "3+3=6\n",
            "3+4=7\n",
            "3+5=8\n",
            "3+6=9\n",
            "3+7=10\n",
            "3+8=11\n",
            "3+9=12\n",
            "3+10=13\n",
            "__________________\n",
            "table 4\n",
            "4+1=5\n",
            "4+2=6\n",
            "4+3=7\n",
            "4+4=8\n",
            "4+5=9\n",
            "4+6=10\n",
            "4+7=11\n",
            "4+8=12\n",
            "4+9=13\n",
            "4+10=14\n",
            "__________________\n",
            "table 5\n",
            "5+1=6\n",
            "5+2=7\n",
            "5+3=8\n",
            "5+4=9\n",
            "5+5=10\n",
            "5+6=11\n",
            "5+7=12\n",
            "5+8=13\n",
            "5+9=14\n",
            "5+10=15\n",
            "__________________\n",
            "table 6\n",
            "6+1=7\n",
            "6+2=8\n",
            "6+3=9\n",
            "6+4=10\n",
            "6+5=11\n",
            "6+6=12\n",
            "6+7=13\n",
            "6+8=14\n",
            "6+9=15\n",
            "6+10=16\n",
            "__________________\n",
            "table 7\n",
            "7+1=8\n",
            "7+2=9\n",
            "7+3=10\n",
            "7+4=11\n",
            "7+5=12\n",
            "7+6=13\n",
            "7+7=14\n",
            "7+8=15\n",
            "7+9=16\n",
            "7+10=17\n",
            "__________________\n",
            "table 8\n",
            "8+1=9\n",
            "8+2=10\n",
            "8+3=11\n",
            "8+4=12\n",
            "8+5=13\n",
            "8+6=14\n",
            "8+7=15\n",
            "8+8=16\n",
            "8+9=17\n",
            "8+10=18\n",
            "__________________\n"
          ]
        }
      ]
    },
    {
      "cell_type": "code",
      "source": [
        "#contorl statements\n",
        "\n",
        "#break\n",
        "\n",
        "for i in \"python\":\n",
        "  if i=='h':\n",
        "    break\n",
        "  print(\"current letter\",i)\n",
        "print(\"___________________\")\n",
        "#continue\n",
        "for i in \"python\":\n",
        "  if i=='h':\n",
        "    continue\n",
        "  print(\"current letter\",i)\n",
        "print(\"_________________\")\n",
        "#pass\n",
        "for i in \"python\":\n",
        "  if i=='h':\n",
        "    pass\n",
        "  print(\"current letter\",i)"
      ],
      "metadata": {
        "colab": {
          "base_uri": "https://localhost:8080/"
        },
        "id": "K_5-8YGDEvnf",
        "outputId": "59d7c8ce-b65b-40ee-a2ee-3030f8986b7a"
      },
      "execution_count": 20,
      "outputs": [
        {
          "output_type": "stream",
          "name": "stdout",
          "text": [
            "current letter p\n",
            "current letter y\n",
            "current letter t\n",
            "___________________\n",
            "current letter p\n",
            "current letter y\n",
            "current letter t\n",
            "current letter o\n",
            "current letter n\n",
            "_________________\n",
            "current letter p\n",
            "current letter y\n",
            "current letter t\n",
            "current letter h\n",
            "current letter o\n",
            "current letter n\n"
          ]
        }
      ]
    },
    {
      "cell_type": "code",
      "source": [
        "#functions\n",
        "def greet(name):\n",
        "  '''this function greets a person'''\n",
        "  print(\"hello \\t\"+name+\"\\t good morning\")\n",
        "\n",
        "greet(\"murali\")\n"
      ],
      "metadata": {
        "colab": {
          "base_uri": "https://localhost:8080/"
        },
        "id": "h65alOMZFuWu",
        "outputId": "a321f3b8-20d3-47b8-81a6-4c793a2ef31f"
      },
      "execution_count": 21,
      "outputs": [
        {
          "output_type": "stream",
          "name": "stdout",
          "text": [
            "hello \tmurali\t good morning\n"
          ]
        }
      ]
    },
    {
      "cell_type": "code",
      "source": [
        "#default\n",
        "def A(a,b=3,c=2):\n",
        "  return a+b+c\n",
        "print(A(2,2,0))\n",
        "\n",
        "#keyword\n",
        "def A(a,b=1,c=2):\n",
        "  return a+b+c\n",
        "print(A(a=2,b=3,c=4))\n",
        "\n",
        "#positional\n",
        "def A(a,b,c):\n",
        "  return a+b+c\n",
        "print(A(2,3,4))"
      ],
      "metadata": {
        "colab": {
          "base_uri": "https://localhost:8080/"
        },
        "id": "3KNPOai_G-bZ",
        "outputId": "65b9f316-c9a1-47ef-ac5c-ad17e55d8949"
      },
      "execution_count": 24,
      "outputs": [
        {
          "output_type": "stream",
          "name": "stdout",
          "text": [
            "4\n",
            "9\n",
            "9\n"
          ]
        }
      ]
    },
    {
      "cell_type": "code",
      "source": [
        "#arbitrary positional\n",
        "def add_num(*n):\n",
        "  print(n)\n",
        "  print(sum(n))\n",
        "\n",
        "print(add_num(1,2,3))"
      ],
      "metadata": {
        "colab": {
          "base_uri": "https://localhost:8080/",
          "height": 349
        },
        "id": "vpQuFkpuH3ng",
        "outputId": "5a6e62c4-44c2-4bc1-eb66-fb2b061ad791"
      },
      "execution_count": 32,
      "outputs": [
        {
          "output_type": "stream",
          "name": "stdout",
          "text": [
            "(1, 2, 3)\n"
          ]
        },
        {
          "output_type": "error",
          "ename": "TypeError",
          "evalue": "ignored",
          "traceback": [
            "\u001b[0;31m---------------------------------------------------------------------------\u001b[0m",
            "\u001b[0;31mTypeError\u001b[0m                                 Traceback (most recent call last)",
            "\u001b[0;32m<ipython-input-32-98fcd2a714c0>\u001b[0m in \u001b[0;36m<cell line: 7>\u001b[0;34m()\u001b[0m\n\u001b[1;32m      5\u001b[0m   \u001b[0mprint\u001b[0m\u001b[0;34m(\u001b[0m\u001b[0msum\u001b[0m\u001b[0;34m(\u001b[0m\u001b[0mn\u001b[0m\u001b[0;34m)\u001b[0m\u001b[0;34m)\u001b[0m\u001b[0;34m\u001b[0m\u001b[0;34m\u001b[0m\u001b[0m\n\u001b[1;32m      6\u001b[0m \u001b[0;34m\u001b[0m\u001b[0m\n\u001b[0;32m----> 7\u001b[0;31m \u001b[0mprint\u001b[0m\u001b[0;34m(\u001b[0m\u001b[0madd_num\u001b[0m\u001b[0;34m(\u001b[0m\u001b[0;36m1\u001b[0m\u001b[0;34m,\u001b[0m\u001b[0;36m2\u001b[0m\u001b[0;34m,\u001b[0m\u001b[0;36m3\u001b[0m\u001b[0;34m)\u001b[0m\u001b[0;34m)\u001b[0m\u001b[0;34m\u001b[0m\u001b[0;34m\u001b[0m\u001b[0m\n\u001b[0m",
            "\u001b[0;32m<ipython-input-32-98fcd2a714c0>\u001b[0m in \u001b[0;36madd_num\u001b[0;34m(*n)\u001b[0m\n\u001b[1;32m      3\u001b[0m   \u001b[0mprint\u001b[0m\u001b[0;34m(\u001b[0m\u001b[0mn\u001b[0m\u001b[0;34m)\u001b[0m\u001b[0;34m\u001b[0m\u001b[0;34m\u001b[0m\u001b[0m\n\u001b[1;32m      4\u001b[0m   \u001b[0msum\u001b[0m\u001b[0;34m=\u001b[0m\u001b[0;36m0\u001b[0m\u001b[0;34m\u001b[0m\u001b[0;34m\u001b[0m\u001b[0m\n\u001b[0;32m----> 5\u001b[0;31m   \u001b[0mprint\u001b[0m\u001b[0;34m(\u001b[0m\u001b[0msum\u001b[0m\u001b[0;34m(\u001b[0m\u001b[0mn\u001b[0m\u001b[0;34m)\u001b[0m\u001b[0;34m)\u001b[0m\u001b[0;34m\u001b[0m\u001b[0;34m\u001b[0m\u001b[0m\n\u001b[0m\u001b[1;32m      6\u001b[0m \u001b[0;34m\u001b[0m\u001b[0m\n\u001b[1;32m      7\u001b[0m \u001b[0mprint\u001b[0m\u001b[0;34m(\u001b[0m\u001b[0madd_num\u001b[0m\u001b[0;34m(\u001b[0m\u001b[0;36m1\u001b[0m\u001b[0;34m,\u001b[0m\u001b[0;36m2\u001b[0m\u001b[0;34m,\u001b[0m\u001b[0;36m3\u001b[0m\u001b[0;34m)\u001b[0m\u001b[0;34m)\u001b[0m\u001b[0;34m\u001b[0m\u001b[0;34m\u001b[0m\u001b[0m\n",
            "\u001b[0;31mTypeError\u001b[0m: 'int' object is not callable"
          ]
        }
      ]
    },
    {
      "cell_type": "code",
      "source": [
        "#arbitrary keyword\n",
        "def key_arg(**kwargs):\n",
        "  return(kwargs)\n",
        "\n",
        "my_dict=key_arg(apples=10,banana=20,grapes=30)\n",
        "print(my_dict)"
      ],
      "metadata": {
        "colab": {
          "base_uri": "https://localhost:8080/"
        },
        "id": "unQRNvmqJasq",
        "outputId": "46e0d60c-8eb2-4427-9122-59398ab731c3"
      },
      "execution_count": 33,
      "outputs": [
        {
          "output_type": "stream",
          "name": "stdout",
          "text": [
            "{'apples': 10, 'banana': 20, 'grapes': 30}\n"
          ]
        }
      ]
    }
  ]
}