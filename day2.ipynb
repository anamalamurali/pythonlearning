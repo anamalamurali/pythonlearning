{
  "nbformat": 4,
  "nbformat_minor": 0,
  "metadata": {
    "colab": {
      "provenance": [],
      "authorship_tag": "ABX9TyP8zEWTL+j+mOo9dGRgqeTF",
      "include_colab_link": true
    },
    "kernelspec": {
      "name": "python3",
      "display_name": "Python 3"
    },
    "language_info": {
      "name": "python"
    }
  },
  "cells": [
    {
      "cell_type": "markdown",
      "metadata": {
        "id": "view-in-github",
        "colab_type": "text"
      },
      "source": [
        "<a href=\"https://colab.research.google.com/github/muralianamala/pythonlearning/blob/main/day2.ipynb\" target=\"_parent\"><img src=\"https://colab.research.google.com/assets/colab-badge.svg\" alt=\"Open In Colab\"/></a>"
      ]
    },
    {
      "cell_type": "code",
      "execution_count": 4,
      "metadata": {
        "colab": {
          "base_uri": "https://localhost:8080/"
        },
        "id": "F92hSk_Tsd7K",
        "outputId": "a6d3800f-1c9b-481b-b4e1-0ffcd2760669"
      },
      "outputs": [
        {
          "output_type": "stream",
          "name": "stdout",
          "text": [
            "g\n",
            "z\n",
            "enzeon\n",
            "gnen\n",
            "noezneg\n"
          ]
        }
      ],
      "source": [
        "x='genzeon'\n",
        "print(x[0])\n",
        "print(x[-4])\n",
        "print(x[1:])\n",
        "print(x[0:8:2])\n",
        "print(x[::-1])"
      ]
    },
    {
      "cell_type": "code",
      "source": [
        "#string operations\n",
        "str1=\"hello\"\n",
        "str2=\"world\"\n",
        "\n",
        "str3 = str1+str2\n",
        "print(str3)\n",
        "str4 = str3*2\n",
        "print(str4)"
      ],
      "metadata": {
        "colab": {
          "base_uri": "https://localhost:8080/"
        },
        "id": "g_F7b1sKue48",
        "outputId": "00c838f8-9d7c-4adc-ecaa-fb467a1de843"
      },
      "execution_count": 9,
      "outputs": [
        {
          "output_type": "stream",
          "name": "stdout",
          "text": [
            "helloworld\n",
            "helloworldhelloworld\n"
          ]
        }
      ]
    },
    {
      "cell_type": "code",
      "source": [],
      "metadata": {
        "id": "NYbLIk1Kui8y"
      },
      "execution_count": null,
      "outputs": []
    },
    {
      "cell_type": "code",
      "source": [
        "my_str=\"we are learning\"\n",
        "#indexing\n",
        "mylist1=[1,2,34]\n",
        "mylist2=[1,\"helllo\",3.1]\n",
        "mylist3=[\"w\",\"e\",\"l\",\"c\",\"o\",\"m\",\"e\"]\n",
        "\n",
        "n_list=[\"hello\",mylist1,mylist2,mylist3]\n",
        "\n",
        "print(n_list[2][2])\n",
        "\n",
        "#list methods\n",
        "li=[1,2,3]\n",
        "li.append(4)\n",
        "\n",
        "print(li)\n",
        "\n",
        "l1=[2,5,6,9,2,2,6,10,17,99]\n",
        "print(len(l1))\n",
        "\n",
        "print(l1.count(2))\n",
        "\n",
        "l1.sort()\n",
        "print(l1)"
      ],
      "metadata": {
        "colab": {
          "base_uri": "https://localhost:8080/"
        },
        "id": "3MgGbPb2vMgB",
        "outputId": "d79277b6-8561-4cbe-a1db-aa700ed18026"
      },
      "execution_count": 14,
      "outputs": [
        {
          "output_type": "stream",
          "name": "stdout",
          "text": [
            "3.1\n",
            "[1, 2, 3, 4]\n",
            "10\n",
            "3\n",
            "[2, 2, 2, 5, 6, 6, 9, 10, 17, 99]\n"
          ]
        }
      ]
    }
  ]
}