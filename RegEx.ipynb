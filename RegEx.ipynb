{
  "nbformat": 4,
  "nbformat_minor": 0,
  "metadata": {
    "colab": {
      "provenance": [],
      "authorship_tag": "ABX9TyOoq4w1OFt9VXJ1i4MKpS5Z",
      "include_colab_link": true
    },
    "kernelspec": {
      "name": "python3",
      "display_name": "Python 3"
    },
    "language_info": {
      "name": "python"
    }
  },
  "cells": [
    {
      "cell_type": "markdown",
      "metadata": {
        "id": "view-in-github",
        "colab_type": "text"
      },
      "source": [
        "<a href=\"https://colab.research.google.com/github/muralianamala/pythonlearning/blob/main/RegEx.ipynb\" target=\"_parent\"><img src=\"https://colab.research.google.com/assets/colab-badge.svg\" alt=\"Open In Colab\"/></a>"
      ]
    },
    {
      "cell_type": "code",
      "execution_count": 1,
      "metadata": {
        "colab": {
          "base_uri": "https://localhost:8080/"
        },
        "id": "-OpfYypoGDjJ",
        "outputId": "e9666bdf-713d-4787-cbf7-0bf37a1c0b90"
      },
      "outputs": [
        {
          "output_type": "stream",
          "name": "stdout",
          "text": [
            "Downloading...\n",
            "From: https://drive.google.com/uc?id=1sSDV5UspYZL3UUOGuiuxppSGcv1wS9ex\n",
            "To: /content/data.txt\n",
            "\r  0% 0.00/9.33k [00:00<?, ?B/s]\r100% 9.33k/9.33k [00:00<00:00, 28.7MB/s]\n"
          ]
        }
      ],
      "source": [
        "!gdown 1sSDV5UspYZL3UUOGuiuxppSGcv1wS9ex"
      ]
    },
    {
      "cell_type": "code",
      "source": [
        "data = open('data.txt', 'r').read()\n",
        "print(data[:500])"
      ],
      "metadata": {
        "colab": {
          "base_uri": "https://localhost:8080/"
        },
        "id": "Z4LUcr6BGNz3",
        "outputId": "e5d12330-e7c1-4564-ec24-1133b96fbcfa"
      },
      "execution_count": 3,
      "outputs": [
        {
          "output_type": "stream",
          "name": "stdout",
          "text": [
            "Dave Martin\n",
            "615-555-7164\n",
            "173 Main St., Springfield RI 55924\n",
            "davemartin@bogusemail.com\n",
            "\n",
            "Charles Harris\n",
            "800-555-5669\n",
            "969 High St., Atlantis VA 34075\n",
            "charlesharris@bogusemail.com\n",
            "\n",
            "Eric Williams\n",
            "560-555-5153\n",
            "806 1st St., Faketown AK 86847\n",
            "laurawilliams@bogusemail.com\n",
            "\n",
            "Corey Jefferson\n",
            "900-555-9340\n",
            "826 Elm St., Epicburg NE 10671\n",
            "coreyjefferson@bogusemail.com\n",
            "\n",
            "Jennifer Martin-White\n",
            "714-555-7405\n",
            "212 Cedar St., Sunnydale CT 74983\n",
            "jenniferwhite@bogusemail.com\n",
            "\n",
            "Erick Davis\n",
            "800-555-6771\n",
            "519 Washington St., \n"
          ]
        }
      ]
    },
    {
      "cell_type": "code",
      "source": [
        "# write a function to mask email address\n",
        "## sample abcd@gmail.com\n",
        "## output a####d@gmail.com\n",
        "def maskemail(email):\n",
        "  if '@' in email:\n",
        "    name,domain = email.split('@')\n",
        "    return f\"{name[0]}####{name[-1]}@{domain}\"\n",
        "  else:\n",
        "    return \"Invalid Email Address\""
      ],
      "metadata": {
        "id": "ifSZrgRQG6XP"
      },
      "execution_count": 4,
      "outputs": []
    },
    {
      "cell_type": "code",
      "source": [
        "email_1 = 'abcd@gmail.com'\n",
        "maskemail(email_1)"
      ],
      "metadata": {
        "colab": {
          "base_uri": "https://localhost:8080/",
          "height": 35
        },
        "id": "SNvplDmsHu29",
        "outputId": "ddf3ce9b-f2fd-4072-e0e6-90bd8234ddd3"
      },
      "execution_count": 5,
      "outputs": [
        {
          "output_type": "execute_result",
          "data": {
            "text/plain": [
              "'a####d@gmail.com'"
            ],
            "application/vnd.google.colaboratory.intrinsic+json": {
              "type": "string"
            }
          },
          "metadata": {},
          "execution_count": 5
        }
      ]
    },
    {
      "cell_type": "code",
      "source": [
        "maskemail('mura.anama@gmail.com')"
      ],
      "metadata": {
        "colab": {
          "base_uri": "https://localhost:8080/",
          "height": 35
        },
        "id": "s0kA4MV3H4V1",
        "outputId": "9f8f5602-1969-4d72-e635-0390b814abee"
      },
      "execution_count": 6,
      "outputs": [
        {
          "output_type": "execute_result",
          "data": {
            "text/plain": [
              "'m####a@gmail.com'"
            ],
            "application/vnd.google.colaboratory.intrinsic+json": {
              "type": "string"
            }
          },
          "metadata": {},
          "execution_count": 6
        }
      ]
    },
    {
      "cell_type": "markdown",
      "source": [
        "## Regex - Regular Expressions come into action!"
      ],
      "metadata": {
        "id": "4iW1S2T8Ikex"
      }
    },
    {
      "cell_type": "code",
      "source": [
        "import re\n",
        "\n",
        "def is_valid_email(ip):\n",
        "    email_pattern = \"^\\w+([\\.-]?\\w+)*@\\w+([|.-]?\\w+)*(\\.\\w{2,3})+$\"\n",
        "    result = re.search(email_pattern, ip)\n",
        "    print(result)\n",
        "    ## scan through string looking for the first location where the pattern is found\n",
        "    if result:\n",
        "        return True\n",
        "    else:\n",
        "        return False\n"
      ],
      "metadata": {
        "id": "cAoYUrrtIlWZ"
      },
      "execution_count": 7,
      "outputs": []
    },
    {
      "cell_type": "code",
      "source": [
        "is_valid_email('abcd@gmail.com')"
      ],
      "metadata": {
        "colab": {
          "base_uri": "https://localhost:8080/"
        },
        "id": "uMzEGs0WJ1t3",
        "outputId": "ffd9bbcf-4cb1-4fea-a691-6c47935bcfe4"
      },
      "execution_count": 8,
      "outputs": [
        {
          "output_type": "stream",
          "name": "stdout",
          "text": [
            "<re.Match object; span=(0, 14), match='abcd@gmail.com'>\n"
          ]
        },
        {
          "output_type": "execute_result",
          "data": {
            "text/plain": [
              "True"
            ]
          },
          "metadata": {},
          "execution_count": 8
        }
      ]
    },
    {
      "cell_type": "markdown",
      "source": [
        "`\"^\\w+([\\.-]?\\w+)*@\\w+([|.-]?\\w+)*(\\.\\w{2,3})+$\"` is my regular expression that is finding the patterns in the input text."
      ],
      "metadata": {
        "id": "Kno-1AJrLBfr"
      }
    },
    {
      "cell_type": "markdown",
      "source": [
        "## What is a regular expression (regex)?\n",
        "Tiny highly specialised programming language which can be used to find patterns in the textual data.\n",
        "\n",
        "## How to write these regular expression?"
      ],
      "metadata": {
        "id": "HdBuKg1vLFIP"
      }
    },
    {
      "cell_type": "markdown",
      "source": [
        "```\n",
        ". - Any Character Except New Line\n",
        "\\d - Digit (0-9)\n",
        "\\D - Not a Digit (0-9)\n",
        "\\w - Word Character (a-z, A-Z, 0-9, _)\n",
        "\\W - Not a Word Character\n",
        "\\s - Whitespace (space, tab, newline)\n",
        "\\S - Not Whitespace (space, tab, newline)\n",
        "\n",
        "-- Anchors\n",
        "\\b - Word Boundary\n",
        "\\B - Not a Word Boundary\n",
        "^ - Beginning of a String\n",
        "$ - End of a String\n",
        "\n",
        "-- Character Sets\n",
        "[] - Matches Characters in brackets\n",
        "[^ ] - Matches Characters NOT in brackets\n",
        "| - Either Or\n",
        "( ) - Group\n",
        "\n",
        "```\n"
      ],
      "metadata": {
        "id": "nGBB5LyROGI5"
      }
    },
    {
      "cell_type": "markdown",
      "source": [
        "## Quantifers\n",
        "\n",
        "Available quantifiers:\n",
        "```\n",
        "* - 0 or More\n",
        "+ - 1 or More\n",
        "? - 0 or One\n",
        "{3} - Exact Number\n",
        "{3,4} - Range of Numbers (Minimum, Maximum)\n",
        "```"
      ],
      "metadata": {
        "id": "2ufzOZ76kAhy"
      }
    },
    {
      "cell_type": "markdown",
      "source": [
        "## Important functions\n",
        "1. match - checks for a match only at the beginning of the string.\n",
        "2. search - locates the patter in the string\n",
        "3. findall - finds all the occurrences in the string\n",
        "4. finditer - return an iterator yielding matche objects over all non-overlapping matches."
      ],
      "metadata": {
        "id": "5uRlhp9QjZLi"
      }
    },
    {
      "cell_type": "code",
      "source": [
        "regex = '^\\w+([\\.-]?\\w+)*@\\w+([\\.-]?\\w+)*(\\.\\w{2,3})+$'"
      ],
      "metadata": {
        "id": "Z06gFr4SKEW0"
      },
      "execution_count": null,
      "outputs": []
    },
    {
      "cell_type": "markdown",
      "source": [
        "1. `^` means start and `$` means end\n",
        "2. `\\w+` means alphanumeric, one or more times\n",
        "3. `([\\.-]?\\w+)*` - zero or more such groups; `[\\.-]`either dot or dash, zero or one time `\\w+`- one or more characters\n",
        "4. `@\\w+` - 1 or more word characters after @\n",
        "5. `([\\.-]?\\w+)*` - zero or more times - either dot or dash, followed by words.\n",
        "6. (\\.\\w{2,3})+ - matches . followed by 2 or 3 characters i.e. .com or .in etc.\n",
        "\n",
        "\n"
      ],
      "metadata": {
        "id": "dvLs-NKmrOTn"
      }
    },
    {
      "cell_type": "code",
      "source": [
        "import re\n",
        "regex = '^\\w+([\\.-]?\\w+)*@\\w+([\\.-]?\\w+)*(\\.\\w{2,3})+$'\n",
        "\n",
        "reg_pattern = re.compile(r\"\"\"\n",
        "                ^\\w+([\\.-]?\\w+)*    # starts with \\w+ - user\n",
        "                @                   # single @ sign\n",
        "                \\w+([\\.-]?\\w+)*     # domain name\n",
        "                 (\\.\\w{2,3})+$      # .com, .ac, .in., .co\n",
        "                \"\"\", re.VERBOSE | re.IGNORECASE)\n",
        "\n",
        "result = reg_pattern.match(\"abcd@iisc.ac.in\")\n",
        "print(result.string)\n",
        "print(result)"
      ],
      "metadata": {
        "id": "050l04nDrQel"
      },
      "execution_count": null,
      "outputs": []
    },
    {
      "cell_type": "code",
      "source": [
        "pattern = \"\\d{3}-\\d{3}-\\d{4}\"\n",
        "print(re.match(pattern, data))"
      ],
      "metadata": {
        "id": "mu8IzG53rUWb"
      },
      "execution_count": null,
      "outputs": []
    },
    {
      "cell_type": "code",
      "source": [
        "print(re.search(pattern, data))"
      ],
      "metadata": {
        "id": "byfwH8qrrWEG"
      },
      "execution_count": null,
      "outputs": []
    },
    {
      "cell_type": "code",
      "source": [
        "print(re.findall(pattern, data))"
      ],
      "metadata": {
        "id": "tuIi3JtJrWgO"
      },
      "execution_count": null,
      "outputs": []
    },
    {
      "cell_type": "code",
      "source": [
        "numbers = re.finditer(pattern, data)\n",
        "for i, num in enumerate(numbers):\n",
        "    print(num)\n",
        "    if (i==5):\n",
        "        break"
      ],
      "metadata": {
        "id": "8hN5yk00rX3H"
      },
      "execution_count": null,
      "outputs": []
    },
    {
      "cell_type": "code",
      "source": [
        "numbers = re.finditer(pattern, data)\n",
        "for i, num in enumerate(numbers):\n",
        "    print(num.group(), num.start(), num.end())\n",
        "    if (i==5):\n",
        "        break"
      ],
      "metadata": {
        "id": "_3pXgC7DraQ6"
      },
      "execution_count": null,
      "outputs": []
    }
  ]
}