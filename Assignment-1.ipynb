{
  "nbformat": 4,
  "nbformat_minor": 0,
  "metadata": {
    "colab": {
      "provenance": [],
      "authorship_tag": "ABX9TyNdtNKPIzUELWliCzMhEg5b",
      "include_colab_link": true
    },
    "kernelspec": {
      "name": "python3",
      "display_name": "Python 3"
    },
    "language_info": {
      "name": "python"
    }
  },
  "cells": [
    {
      "cell_type": "markdown",
      "metadata": {
        "id": "view-in-github",
        "colab_type": "text"
      },
      "source": [
        "<a href=\"https://colab.research.google.com/github/muralianamala/pythonlearning/blob/main/Assignment-1.ipynb\" target=\"_parent\"><img src=\"https://colab.research.google.com/assets/colab-badge.svg\" alt=\"Open In Colab\"/></a>"
      ]
    },
    {
      "cell_type": "markdown",
      "source": [
        "# **String Methods**"
      ],
      "metadata": {
        "id": "1cTdFcBQBEpR"
      }
    },
    {
      "cell_type": "code",
      "execution_count": null,
      "metadata": {
        "id": "9kL-OisLA-55",
        "outputId": "ce22bfc1-7ec2-4496-ee4b-85a728eaeb43",
        "colab": {
          "base_uri": "https://localhost:8080/"
        }
      },
      "outputs": [
        {
          "output_type": "stream",
          "name": "stdout",
          "text": [
            "original string :  James\n",
            "Jms\n"
          ]
        }
      ],
      "source": [
        "#Create a string made of the first, middle and last character\n",
        "#Write a program to create a new string made of an input string’s first, middle, and last character.\n",
        "#i/p str1 = \"James\"\n",
        "#o/p Jms\n",
        "\n",
        "str1 = \"James\"\n",
        "print(\"original string : \", str1)\n",
        "res = str1[0]\n",
        "\n",
        "l = len(str1)\n",
        "mi = int(l/2)\n",
        "\n",
        "res = res + str1[mi]\n",
        "\n",
        "res = res + str1[l-1]\n",
        "\n",
        "print(res)"
      ]
    },
    {
      "cell_type": "code",
      "source": [
        "a = \"abc\"\n",
        "print(a.capitalize())\n",
        "print(a)"
      ],
      "metadata": {
        "colab": {
          "base_uri": "https://localhost:8080/"
        },
        "id": "HIO5N1-M76Qx",
        "outputId": "08ed3619-a0a2-4706-987b-03fa1714fb99"
      },
      "execution_count": null,
      "outputs": [
        {
          "output_type": "stream",
          "name": "stdout",
          "text": [
            "Abc\n",
            "abc\n"
          ]
        }
      ]
    },
    {
      "cell_type": "code",
      "source": [
        "def get_middle_three_chars(str1):\n",
        "  print(\"Original string is : \",str1)\n",
        "\n",
        "  mi = int(len(str1)/2)\n",
        "\n",
        "  res = str1[mi-1:mi + 2]\n",
        "  print(\"Middle three chars are : \", res)\n",
        "\n",
        "\n",
        "get_middle_three_chars(\"JhonDipPeta\")\n",
        "get_middle_three_chars(\"JaSonAy\")"
      ],
      "metadata": {
        "colab": {
          "base_uri": "https://localhost:8080/"
        },
        "id": "KuUvLHV9AYsN",
        "outputId": "5e93778e-8e2d-4f5d-dd9d-7701162c5131"
      },
      "execution_count": null,
      "outputs": [
        {
          "output_type": "stream",
          "name": "stdout",
          "text": [
            "Original string is :  JhonDipPeta\n",
            "Middle three chars are :  Dip\n",
            "Original string is :  JaSonAy\n",
            "Middle three chars are :  Son\n"
          ]
        }
      ]
    },
    {
      "cell_type": "code",
      "source": [
        "#Given two strings, s1 and s2. Write a program to create a new string s3 by appending s2 in the middle of s1.\n",
        "s1 = \"Ault\"\n",
        "s2 = \"Kelly\"\n",
        "mi = int(len(s1) /2)\n",
        "s3 = s1[:mi]+s2+s1[mi:]\n",
        "\n",
        "print(s3)"
      ],
      "metadata": {
        "colab": {
          "base_uri": "https://localhost:8080/"
        },
        "id": "twysJJwsPxq_",
        "outputId": "63c42f78-0f00-43d8-9f78-a61c4cee3965"
      },
      "execution_count": null,
      "outputs": [
        {
          "output_type": "stream",
          "name": "stdout",
          "text": [
            "AuKellylt\n"
          ]
        }
      ]
    },
    {
      "cell_type": "code",
      "source": [
        "# Given two strings, s1 and s2, write a program to return a new string made of s1 and s2’s first, middle, and last characters.\n",
        "s1 = \"America\"\n",
        "s2 = \"Japan\"\n",
        "\n",
        "mi1 = int(len(s1)/2)\n",
        "mi2 = int(len(s2)/2)\n",
        "\n",
        "s3 = s1[0] + s2[0] + s1[mi1:mi1+1] + s2[mi2:mi2+1] + s1[len(s1)-1] + s2[len(s2)-1]\n",
        "print(s3)"
      ],
      "metadata": {
        "colab": {
          "base_uri": "https://localhost:8080/"
        },
        "id": "yFFwQJcTQeAY",
        "outputId": "095fb88f-57a1-4e47-be4b-fcb5193f8159"
      },
      "execution_count": null,
      "outputs": [
        {
          "output_type": "stream",
          "name": "stdout",
          "text": [
            "AJrpan\n"
          ]
        }
      ]
    },
    {
      "cell_type": "code",
      "source": [
        "#Arrange string characters such that lowercase letters should come first\n",
        "str1 = \"PyNaTive\"\n",
        "s1=\"\"\n",
        "s2 = \"\"\n",
        "for i in str1:\n",
        "  if i.isupper():\n",
        "    s2 += i\n",
        "  else:\n",
        "    s1 += i\n",
        "\n",
        "print(s1 + s2)"
      ],
      "metadata": {
        "colab": {
          "base_uri": "https://localhost:8080/"
        },
        "id": "rGPsqteVRTkQ",
        "outputId": "202b1865-27e9-4286-81a8-f2ff6d4ecb89"
      },
      "execution_count": null,
      "outputs": [
        {
          "output_type": "stream",
          "name": "stdout",
          "text": [
            "yaivePNT\n"
          ]
        }
      ]
    },
    {
      "cell_type": "code",
      "source": [
        "# Count all letters, digits, and special symbols from a given string\n",
        "str1 = \"P@#yn26at^&i5ve\"\n",
        "\n",
        "l_cnt = 0\n",
        "d_cnt = 0\n",
        "s_cnt = 0\n",
        "for i in str1:\n",
        "  if i.isdigit():\n",
        "    d_cnt += 1\n",
        "  elif i.isalpha():\n",
        "    l_cnt += 1\n",
        "  else:\n",
        "    s_cnt += 1\n",
        "\n",
        "\n",
        "print(\"letters count: \",l_cnt, \" digits count: \", d_cnt,\" symbols count: \", s_cnt)"
      ],
      "metadata": {
        "colab": {
          "base_uri": "https://localhost:8080/"
        },
        "id": "bTYSbPhhS6Hc",
        "outputId": "933b3ae2-0b53-4ca7-a105-8e21ec6912ca"
      },
      "execution_count": null,
      "outputs": [
        {
          "output_type": "stream",
          "name": "stdout",
          "text": [
            "letters count:  8  digits count:  3  symbols count:  4\n"
          ]
        }
      ]
    },
    {
      "cell_type": "code",
      "source": [
        "# Write a program to count occurrences of all characters within a string\n",
        "#i/p : str1 = \"Apple\"\n",
        "#o/p : {'A': 1, 'p': 2, 'l': 1, 'e': 1}\n",
        "\n",
        "str1 = \"Apple\"\n",
        "d1 = {}\n",
        "cnt = 0\n",
        "l1 = list(str1)\n",
        "for i in l1:\n",
        "  cnt = str1.count(i)\n",
        "  d1[i] = cnt\n",
        "print(d1)\n"
      ],
      "metadata": {
        "colab": {
          "base_uri": "https://localhost:8080/"
        },
        "id": "zTk21sprVKCH",
        "outputId": "3a345ef5-c60e-473b-911d-f451058dbfde"
      },
      "execution_count": null,
      "outputs": [
        {
          "output_type": "stream",
          "name": "stdout",
          "text": [
            "{'A': 1, 'p': 2, 'l': 1, 'e': 1}\n"
          ]
        }
      ]
    },
    {
      "cell_type": "code",
      "source": [
        "# Reverse string\n",
        "str1 = \"PYnative\"\n",
        "print(str1[::-1])"
      ],
      "metadata": {
        "colab": {
          "base_uri": "https://localhost:8080/"
        },
        "id": "Uvk9wojwhW8c",
        "outputId": "bc47546c-7d73-4b99-b839-ff799deef822"
      },
      "execution_count": null,
      "outputs": [
        {
          "output_type": "stream",
          "name": "stdout",
          "text": [
            "evitanYP\n"
          ]
        }
      ]
    },
    {
      "cell_type": "code",
      "source": [
        "#Write a program to find the last position of a substring “Emma” in a given string.\n",
        "str1 = \"Emma is a data scientist who knows Python. Emma works at google.\"\n",
        "\n",
        "a = str1.rfind(\"Emma\")\n",
        "print(a)\n"
      ],
      "metadata": {
        "colab": {
          "base_uri": "https://localhost:8080/"
        },
        "id": "4MfS_z9LhkMH",
        "outputId": "5d92177c-9af7-44fd-e664-67c7a4271e7c"
      },
      "execution_count": null,
      "outputs": [
        {
          "output_type": "stream",
          "name": "stdout",
          "text": [
            "43\n"
          ]
        }
      ]
    },
    {
      "cell_type": "code",
      "source": [
        "str = \"heLLo\"\n",
        "\n",
        "#Converts the first character to upper case\n",
        "print(str.capitalize())\n",
        "#Converts string into lower case\n",
        "print(str.casefold())\n",
        "#Returns a centered string\n",
        "print(str.center(5))\n",
        "#Returns the number of times a specified value occurs in a string\n",
        "print(str.count(\"L\"))\n",
        "#Returns an encoded version of the string\n",
        "str1= \"My name is Ståle\"\n",
        "print(str1.encode())\n",
        "print(str1.encode(encoding=\"ascii\",errors=\"backslashreplace\"))\n",
        "print(str1.encode(encoding=\"ascii\",errors=\"ignore\"))\n",
        "#Returns true if the string ends with the specified value\n",
        "print(str.endswith(\"o\"))\n",
        "print(str.endswith(\"L\"))\n",
        "\n",
        "#Sets the tab size of the string\n",
        "txt = \"H\\te\\tl\\tl\\to\"\n",
        "\n",
        "print(txt)\n",
        "print(txt.expandtabs())\n",
        "print(txt.expandtabs(2))\n",
        "print(txt.expandtabs(4))\n",
        "print(txt.expandtabs(10))\n",
        "\n",
        "# Searches the string for a specified value and returns the position of where it was found\n",
        "# The find() method is almost the same as the index() method,\n",
        "# the only difference is that the index() method raises an exception if the value is not found. (See example below)\n",
        "print(str.find(\"o\"))\n",
        "\n",
        "# Formats specified values in a string\n",
        "txt1 = \"My name is {fname}, I'm {age}\".format(fname = \"John\", age = 36)\n",
        "txt2 = \"My name is {0}, I'm {1}\".format(\"John\",36)\n",
        "txt3 = \"My name is {}, I'm {}\".format(\"John\",36)\n",
        "txt4 = \"For only {price:.2f} dollars!\".format(price = 49)\n",
        "print(txt1)\n",
        "print(txt2)\n",
        "print(txt3)\n",
        "print(txt4)\n",
        "\n",
        "#Formats specified values in a string of dict\n",
        "# input stored in variable a.\n",
        "a = {'x':'John', 'y':'Wick'}\n",
        "\n",
        "# Use of format_map() function\n",
        "print(\"{x}'s last name is {y}\".format_map(a))\n",
        "\n",
        "#Searches the string for a specified value and returns the position of where it was found\n",
        "print(str.index(\"L\"))\n",
        "\n",
        "# Returns True if all characters in the string are alphanumeric\n",
        "print(str.isalnum())\n",
        "\n",
        "# Returns True if all characters in the string are in the alphabet\n",
        "print(str.isalpha())\n",
        "\n",
        "# Returns True if all characters in the string are ascii characters (a-z)\n",
        "print(str.isascii())\n",
        "\n",
        "# Returns True if all characters in the string are decimals\n",
        "print(str.isdecimal())\n",
        "print(\"1234\".isdecimal())\n",
        "\n",
        "#Returns True if all characters in the string are digits\n",
        "print(str.isdigit())\n",
        "\n",
        "# Returns True if the string is an identifier\n",
        "# A string is considered a valid identifier if it only contains alphanumeric letters (a-z) and (0-9), or underscores (_).\n",
        "#A valid identifier cannot start with a number, or contain any spaces.\n",
        "print(str.isidentifier())\n",
        "\n",
        "# Returns True if all characters in the string are lower case\n",
        "print(str.islower())\n",
        "\n",
        "# Returns True if all characters in the string are numeric\n",
        "print(str.isnumeric())\n",
        "\n",
        "# Returns True if all characters in the string are printable\n",
        "print(str.isprintable())\n",
        "\n",
        "# Returns True if all characters in the string are whitespaces\n",
        "print(str.isspace())\n",
        "\n",
        "# Returns True if the string follows the rules of a title\n",
        "# The istitle() method returns True if all words in a text start with a upper case letter,\n",
        "# AND the rest of the word are lower case letters, otherwise False.\n",
        "print(str.title().istitle())\n",
        "\n",
        "# Returns True if all characters in the string are upper case\n",
        "print(str.upper().isupper())\n",
        "\n",
        "# Converts the elements of an iterable into a string\n",
        "#str.join()\n",
        "myTuple = (\"John\", \"Peter\", \"Vicky\")\n",
        "x = \"#\".join(myTuple)\n",
        "y = \" \".join(myTuple)\n",
        "print(x, y)\n",
        "\n",
        "myDict = {\"name\": \"John\", \"country\": \"Norway\"}\n",
        "mySeparator = \"TEST\"\n",
        "sep = \"SEP\"\n",
        "x = mySeparator.join(myDict)\n",
        "y = sep.join(myDict.values())\n",
        "z = sep.join(myDict.keys())\n",
        "print(x)\n",
        "print(y)\n",
        "print(z)\n",
        "\n",
        "# Returns a left justified version of the string\n",
        "txt = \"banana\"\n",
        "x = txt.ljust(8,\"_\")\n",
        "print(x, \"is my favorite fruit.\")\n",
        "\n",
        "# Converts a string into lower case\n",
        "print(str.lower())\n",
        "\n",
        "# Returns a left trim version of the string\n",
        "str.lstrip()\n",
        "\n",
        "# Returns a translation table to be used in translations which is nothing but translate or replace\n",
        "x = str.maketrans(\"L\",\"l\")\n",
        "print(str.translate(x))\n",
        "\n",
        "# Returns a tuple where the string is parted into three parts\n",
        "txt = \"I could eat bananas all day\"\n",
        "x = txt.partition(\"bananas\")\n",
        "print(x)\n",
        "\n",
        "#str.removeprefix()\n",
        "#str.removesuffix()\n",
        "# Returns a string where a specified value is replaced with a specified value\n",
        "txt = \"I like bananas\"\n",
        "x = txt.replace(\"bananas\", \"apples\")\n",
        "print(x)\n",
        "# Searches the string for a specified value and returns the last position of where it was found\n",
        "txt = \"Mi casa, su casa.\"\n",
        "x = txt.rfind(\"casa\")\n",
        "print(x)\n",
        "\n",
        "# Searches the string for a specified value and returns the last position of where it was found\n",
        "#The rindex() method finds the last occurrence of the specified value.\n",
        "#The rindex() method raises an exception if the value is not found.\n",
        "#The rindex() method is almost the same as the rfind() method.\n",
        "txt = \"Mi casa, su casa.\"\n",
        "x = txt.rindex(\"casa\")\n",
        "print(x)\n",
        "\n",
        "# Returns a right justified version of the string-- padding the char's\n",
        "print(str.rjust(10,\"W\"))\n",
        "\n",
        "#Returns a tuple where the string is parted into three parts\n",
        "#The rpartition() method searches for the last occurrence of a specified string, and splits the string into a tuple containing three elements.\n",
        "#The first element contains the part before the specified string.\n",
        "#The second element contains the specified string.\n",
        "#The third element contains the part after the string.\n",
        "txt = \"I could day eat bananas all day\"\n",
        "x = txt.rpartition(\"day\")\n",
        "print(x)\n",
        "\n",
        "#Splits the string at the specified separator, and returns a list\n",
        "txt = \"apple, banana, cherry\"\n",
        "x = txt.rsplit(\", \")\n",
        "print(x)\n",
        "\n",
        "#Returns a right trim version of the string\n",
        "txt = \"     banana     \"\n",
        "x = txt.rstrip()\n",
        "print(\"of all fruits\", x, \"is my favorite\")\n",
        "\n",
        "#Splits the string at the specified separator, and returns a list\n",
        "txt = \"welcome to the jungle\"\n",
        "x = txt.split()\n",
        "print(x)\n",
        "\n",
        "#Splits the string at line breaks and returns a list\n",
        "txt = \"Thank you for the music\\nWelcome to the jungle\"\n",
        "x = txt.splitlines()\n",
        "print(x)\n",
        "\n",
        "# Returns true if the string starts with the specified value\n",
        "txt = \"Hello, welcome to my world.\"\n",
        "x = txt.startswith(\"Hello\")\n",
        "print(x)\n",
        "\n",
        "# Returns a trimmed version of the string\n",
        "txt = \"     banana     \"\n",
        "x = txt.strip()\n",
        "print(\"of all fruits\", x, \"is my favorite\")\n",
        "\n",
        "# Swaps cases, lower case becomes upper case and vice versa\n",
        "txt = \"Hello My Name Is PETER\"\n",
        "x = txt.swapcase()\n",
        "print(x)\n",
        "\n",
        "# Converts the first character of each word to upper case\n",
        "print(str.title())\n",
        "\n",
        "# Returns a translated string\n",
        "#The translate() method returns a string where some specified characters are replaced with the character described in a dictionary, or in a mapping table.\n",
        "#Use the maketrans() method to create a mapping table.\n",
        "#If a character is not specified in the dictionary/table, the character will not be replaced.\n",
        "#If you use a dictionary, you must use ascii codes instead of characters.\n",
        "\n",
        "##use a dictionary with ascii codes to replace 83 (S) with 80 (P):\n",
        "mydict = {83:  80}\n",
        "txt = \"Hello Sam!\"\n",
        "print(txt.translate(mydict))\n",
        "\n",
        "txt = \"Hello Sam!\"\n",
        "mytable = str.maketrans(\"S\", \"P\")\n",
        "print(txt.translate(mytable))\n",
        "\n",
        "# Converts a string into upper case\n",
        "print(str.upper())\n",
        "\n",
        "# Fills the string with a specified number of 0 values at the beginning\n",
        "txt = \"50\"\n",
        "x = txt.zfill(10)\n",
        "print(x)"
      ],
      "metadata": {
        "colab": {
          "base_uri": "https://localhost:8080/"
        },
        "id": "A_zUatiriImW",
        "outputId": "dadec4ec-b814-46f5-f4d5-e94bfe5d4e99"
      },
      "execution_count": null,
      "outputs": [
        {
          "output_type": "stream",
          "name": "stdout",
          "text": [
            "Hello\n",
            "hello\n",
            "heLLo\n",
            "2\n",
            "b'My name is St\\xc3\\xa5le'\n",
            "b'My name is St\\\\xe5le'\n",
            "b'My name is Stle'\n",
            "True\n",
            "False\n",
            "H\te\tl\tl\to\n",
            "H       e       l       l       o\n",
            "H e l l o\n",
            "H   e   l   l   o\n",
            "H         e         l         l         o\n",
            "4\n",
            "My name is John, I'm 36\n",
            "My name is John, I'm 36\n",
            "My name is John, I'm 36\n",
            "For only 49.00 dollars!\n",
            "John's last name is Wick\n",
            "2\n",
            "True\n",
            "True\n",
            "True\n",
            "False\n",
            "True\n",
            "False\n",
            "True\n",
            "False\n",
            "False\n",
            "True\n",
            "False\n",
            "True\n",
            "True\n",
            "John#Peter#Vicky John Peter Vicky\n",
            "nameTESTcountry\n",
            "JohnSEPNorway\n",
            "nameSEPcountry\n",
            "banana__ is my favorite fruit.\n",
            "hello\n",
            "hello\n",
            "('I could eat ', 'bananas', ' all day')\n",
            "I like apples\n",
            "12\n",
            "12\n",
            "WWWWWheLLo\n",
            "('I could day eat bananas all ', 'day', '')\n",
            "['apple', 'banana', 'cherry']\n",
            "of all fruits      banana is my favorite\n",
            "['welcome', 'to', 'the', 'jungle']\n",
            "['Thank you for the music', 'Welcome to the jungle']\n",
            "True\n",
            "of all fruits banana is my favorite\n",
            "hELLO mY nAME iS peter\n",
            "Hello\n",
            "Hello Pam!\n",
            "Hello Pam!\n",
            "HELLO\n",
            "0000000050\n"
          ]
        }
      ]
    },
    {
      "cell_type": "markdown",
      "source": [
        "# **LISTs METHODS**\n",
        "\n",
        "*   append()\tAdds an element at the end of the list\n",
        "*   clear()\tRemoves all the elements from the list\n",
        "*   copy()\tReturns a copy of the list\n",
        "*   count()\tReturns the number of elements with the specified value\n",
        "*   extend()\tAdd the elements of a list (or any iterable), to the end of the current list\n",
        "*   index()\tReturns the index of the first element with the specified value\n",
        "*   insert()\tAdds an element at the specified position\n",
        "*   pop()\tRemoves the element at the specified position\n",
        "*   remove()\tRemoves the first item with the specified value\n",
        "*   reverse()\tReverses the order of the list\n",
        "*   sort()\tSorts the list\n",
        "\n",
        "\n",
        "\n",
        "\n",
        "\n",
        "\n",
        "\n",
        "\n",
        "\n",
        "\n",
        "\n"
      ],
      "metadata": {
        "id": "VsqdXdcjBSSR"
      }
    },
    {
      "cell_type": "code",
      "source": [
        "# append() Adds an element at the end of the list\n",
        "l1 = [1,2,3]\n",
        "l1.append(\"a\")\n",
        "l1.append(\"b\")\n",
        "print(l1)\n",
        "\n",
        "a = [\"apple\", \"banana\", \"cherry\"]\n",
        "b = [\"Ford\", \"BMW\", \"Volvo\"]\n",
        "a.append(b)\n",
        "print(a)"
      ],
      "metadata": {
        "id": "5Isd_rzuBN52",
        "colab": {
          "base_uri": "https://localhost:8080/"
        },
        "outputId": "a9c84b95-0d16-484e-fd80-8aa1aad0669b"
      },
      "execution_count": null,
      "outputs": [
        {
          "output_type": "stream",
          "name": "stdout",
          "text": [
            "[1, 2, 3, 'a', 'b']\n",
            "['apple', 'banana', 'cherry', ['Ford', 'BMW', 'Volvo']]\n"
          ]
        }
      ]
    },
    {
      "cell_type": "code",
      "source": [
        "#clear() Removes all the elements from the list\n",
        "print(l1)\n",
        "l1.clear()\n",
        "print(l1)"
      ],
      "metadata": {
        "colab": {
          "base_uri": "https://localhost:8080/"
        },
        "id": "E7rVOoJmW3JO",
        "outputId": "5107c5e4-f679-4c3a-fad7-8bc5733f9a6f"
      },
      "execution_count": null,
      "outputs": [
        {
          "output_type": "stream",
          "name": "stdout",
          "text": [
            "[1, 2, 3, 'a', 'b']\n",
            "[]\n"
          ]
        }
      ]
    },
    {
      "cell_type": "code",
      "source": [
        "# copy() Returns a copy of the list\n",
        "print(a)\n",
        "s = a.copy()\n",
        "print(s)"
      ],
      "metadata": {
        "colab": {
          "base_uri": "https://localhost:8080/"
        },
        "id": "kgP9cTLnXFXz",
        "outputId": "c65288f3-27ab-4d98-a51e-d612550fca42"
      },
      "execution_count": null,
      "outputs": [
        {
          "output_type": "stream",
          "name": "stdout",
          "text": [
            "['apple', 'banana', 'cherry', ['Ford', 'BMW', 'Volvo']]\n",
            "['apple', 'banana', 'cherry', ['Ford', 'BMW', 'Volvo']]\n"
          ]
        }
      ]
    },
    {
      "cell_type": "code",
      "source": [
        "# count() Returns the number of elements with the specified value\n",
        "cnt = s.count(\"cherry\")\n",
        "print(cnt)"
      ],
      "metadata": {
        "colab": {
          "base_uri": "https://localhost:8080/"
        },
        "id": "hLC4cswuXTYX",
        "outputId": "ecb3b50e-75f1-4fea-89be-3dc14473c9c5"
      },
      "execution_count": null,
      "outputs": [
        {
          "output_type": "stream",
          "name": "stdout",
          "text": [
            "1\n"
          ]
        }
      ]
    },
    {
      "cell_type": "code",
      "source": [
        "# extend() Add the elements of a list (or any iterable), to the end of the current list\n",
        "fruits = ['apple', 'banana', 'cherry']\n",
        "cars = ['Ford', 'BMW', 'Volvo']\n",
        "fruits.extend(cars)\n",
        "print(fruits)"
      ],
      "metadata": {
        "colab": {
          "base_uri": "https://localhost:8080/"
        },
        "id": "8o4qR6s5XjiY",
        "outputId": "a38a058e-c867-4621-e30d-bc5dc8935cf4"
      },
      "execution_count": null,
      "outputs": [
        {
          "output_type": "stream",
          "name": "stdout",
          "text": [
            "['apple', 'banana', 'cherry', 'Ford', 'BMW', 'Volvo']\n"
          ]
        }
      ]
    },
    {
      "cell_type": "code",
      "source": [
        "# index() Returns the index of the first element with the specified value\n",
        "print(fruits)\n",
        "print(fruits.index(\"BMW\"))"
      ],
      "metadata": {
        "colab": {
          "base_uri": "https://localhost:8080/"
        },
        "id": "6-76DsZnBrHm",
        "outputId": "00cda3d6-7e59-41a3-d0d6-e18e29eeb5d9"
      },
      "execution_count": null,
      "outputs": [
        {
          "output_type": "stream",
          "name": "stdout",
          "text": [
            "['apple', 'banana', 'cherry', 'Ford', 'BMW', 'Volvo']\n",
            "4\n"
          ]
        }
      ]
    },
    {
      "cell_type": "code",
      "source": [
        "#insert() Adds an element at the specified position\n",
        "fruits.insert(1,\"berry\")\n",
        "print(fruits)"
      ],
      "metadata": {
        "colab": {
          "base_uri": "https://localhost:8080/"
        },
        "id": "DcNTuLUjCAmk",
        "outputId": "3a9fba22-3185-4965-fbc6-18e5007f5306"
      },
      "execution_count": null,
      "outputs": [
        {
          "output_type": "stream",
          "name": "stdout",
          "text": [
            "['apple', 'berry', 'banana', 'cherry', 'Ford', 'BMW', 'Volvo']\n"
          ]
        }
      ]
    },
    {
      "cell_type": "code",
      "source": [
        "#pop() Removes the element at the specified position\n",
        "x = fruits.pop(1)\n",
        "print(x)\n",
        "print(fruits)"
      ],
      "metadata": {
        "colab": {
          "base_uri": "https://localhost:8080/"
        },
        "id": "XdcJRzXkCaKT",
        "outputId": "0352352d-066e-42fb-cf26-4eacf8edb6fb"
      },
      "execution_count": null,
      "outputs": [
        {
          "output_type": "stream",
          "name": "stdout",
          "text": [
            "berry\n",
            "['apple', 'banana', 'cherry', 'Ford', 'BMW', 'Volvo']\n"
          ]
        }
      ]
    },
    {
      "cell_type": "code",
      "source": [
        "#remove() Removes the first item with the specified value\n",
        "fruits.remove(\"banana\")\n",
        "print(fruits)"
      ],
      "metadata": {
        "colab": {
          "base_uri": "https://localhost:8080/"
        },
        "id": "TVnz63rmCyTS",
        "outputId": "7b19617c-2345-4dc4-b5c8-320221bbfe38"
      },
      "execution_count": null,
      "outputs": [
        {
          "output_type": "stream",
          "name": "stdout",
          "text": [
            "['apple', 'cherry', 'Ford', 'BMW', 'Volvo']\n"
          ]
        }
      ]
    },
    {
      "cell_type": "code",
      "source": [
        "#reverse() Reverses the order of the list\n",
        "fruits.reverse()\n",
        "print(fruits)"
      ],
      "metadata": {
        "colab": {
          "base_uri": "https://localhost:8080/"
        },
        "id": "tT--EaGrCjaW",
        "outputId": "b2c8cefc-9c00-4891-98bb-001a5dd76551"
      },
      "execution_count": null,
      "outputs": [
        {
          "output_type": "stream",
          "name": "stdout",
          "text": [
            "['Volvo', 'BMW', 'Ford', 'cherry', 'banana', 'apple']\n"
          ]
        }
      ]
    },
    {
      "cell_type": "code",
      "source": [
        "#sort() Sorts the list\n",
        "fruits.sort()\n",
        "print(fruits)\n",
        "fruits.sort(reverse=True)\n",
        "print(fruits)\n",
        "fruits.sort(reverse=False)\n",
        "print(fruits)"
      ],
      "metadata": {
        "colab": {
          "base_uri": "https://localhost:8080/"
        },
        "id": "KEPHdiL3DZAK",
        "outputId": "311bc1f8-8018-478a-e345-002bed8cb667"
      },
      "execution_count": null,
      "outputs": [
        {
          "output_type": "stream",
          "name": "stdout",
          "text": [
            "['BMW', 'Ford', 'Volvo', 'apple', 'banana', 'cherry']\n",
            "['cherry', 'banana', 'apple', 'Volvo', 'Ford', 'BMW']\n",
            "['BMW', 'Ford', 'Volvo', 'apple', 'banana', 'cherry']\n"
          ]
        }
      ]
    },
    {
      "cell_type": "markdown",
      "source": [
        "# **TUPLES METHODS**\n",
        "\n",
        "*   count()\tReturns the number of times a specified value occurs in a tuple\n",
        "*   index()\tSearches the tuple for a specified value and returns the position of where it was found\n",
        "\n"
      ],
      "metadata": {
        "id": "5MLoZFhtBcvW"
      }
    },
    {
      "cell_type": "code",
      "source": [
        "# count() Returns the number of times a specified value occurs in a tuple\n",
        "thistuple = (1, 3, 7, 8, 7, 5, 4, 6, 8, 5)\n",
        "x = thistuple.count(5)\n",
        "print(x)"
      ],
      "metadata": {
        "id": "6_Fp1ZZCBcSc",
        "colab": {
          "base_uri": "https://localhost:8080/"
        },
        "outputId": "9752e567-30d7-4b01-ba30-6ec2184aa561"
      },
      "execution_count": null,
      "outputs": [
        {
          "output_type": "stream",
          "name": "stdout",
          "text": [
            "2\n"
          ]
        }
      ]
    },
    {
      "cell_type": "code",
      "source": [
        "thistuple = (1, 3, 7, 8, 7, 5, 4, 6, 8, 5)\n",
        "x = thistuple.index(8)\n",
        "print(x)\n",
        "\n"
      ],
      "metadata": {
        "colab": {
          "base_uri": "https://localhost:8080/"
        },
        "id": "6W1jFdbvEf4m",
        "outputId": "b8aeb01e-0e77-4a31-e7c5-258a108c6adb"
      },
      "execution_count": null,
      "outputs": [
        {
          "output_type": "stream",
          "name": "stdout",
          "text": [
            "3\n"
          ]
        }
      ]
    },
    {
      "cell_type": "markdown",
      "source": [
        "# **DICTIONARIES METHODS**\n",
        "\n",
        "*   clear()\tRemoves all the elements from the dictionary\n",
        "*   copy()\tReturns a copy of the dictionary\n",
        "*   fromkeys()\tReturns a dictionary with the specified keys and value\n",
        "*   get()\tReturns the value of the specified key\n",
        "*   items()\tReturns a list containing a tuple for each key value pair\n",
        "*   items()\tReturns a list containing a tuple for each key value pair\n",
        "*   keys()\tReturns a list containing the dictionary's keys\n",
        "*   pop()\tRemoves the element with the specified key\n",
        "*   popitem()\tRemoves the last inserted key-value pair\n",
        "*   setdefault()\tReturns the value of the specified key. If the key does not exist: insert the key, with the specified value\n",
        "*   update()\tUpdates the dictionary with the specified key-value pairs\n",
        "*   values()\tReturns a list of all the values in the dictionary\n",
        "\n",
        "\n",
        "\n"
      ],
      "metadata": {
        "id": "1spHA-9PBkHb"
      }
    },
    {
      "cell_type": "code",
      "source": [
        "# clear() Removes all the elements from the dictionary\n",
        "car = {\n",
        "  \"brand\": \"Ford\",\n",
        "  \"model\": \"Mustang\",\n",
        "  \"year\": 1964\n",
        "}\n",
        "car.clear()\n",
        "print(car)"
      ],
      "metadata": {
        "id": "2WLmyBkkBjjP",
        "colab": {
          "base_uri": "https://localhost:8080/"
        },
        "outputId": "8555b83b-61a7-4456-d46e-409b6e99860a"
      },
      "execution_count": null,
      "outputs": [
        {
          "output_type": "stream",
          "name": "stdout",
          "text": [
            "{}\n"
          ]
        }
      ]
    },
    {
      "cell_type": "code",
      "source": [
        "# Returns a copy of the dictionary\n",
        "car = {\n",
        "  \"brand\": \"Ford\",\n",
        "  \"model\": \"Mustang\",\n",
        "  \"year\": 1964\n",
        "}\n",
        "x = car.copy()\n",
        "print(x)"
      ],
      "metadata": {
        "colab": {
          "base_uri": "https://localhost:8080/"
        },
        "id": "cxlEM-QLGP33",
        "outputId": "e9b2653a-6a9d-47d2-c17e-fd3baab2c8a3"
      },
      "execution_count": null,
      "outputs": [
        {
          "output_type": "stream",
          "name": "stdout",
          "text": [
            "{'brand': 'Ford', 'model': 'Mustang', 'year': 1964}\n"
          ]
        }
      ]
    },
    {
      "cell_type": "code",
      "source": [
        "# fromkeys() Returns a dictionary with the specified keys and value\n",
        "x = ('key1', 'key2', 'key3')\n",
        "y = 0\n",
        "thisdict = dict.fromkeys(x, y)\n",
        "print(thisdict)\n",
        "\n",
        "x = ('key1', 'key2', 'key3')\n",
        "thisdict = dict.fromkeys(x)\n",
        "print(thisdict)"
      ],
      "metadata": {
        "colab": {
          "base_uri": "https://localhost:8080/"
        },
        "id": "GxXeeOnBWAWV",
        "outputId": "a6db693e-aeb9-40e5-d17c-eae8a0d17f0f"
      },
      "execution_count": null,
      "outputs": [
        {
          "output_type": "stream",
          "name": "stdout",
          "text": [
            "{'key1': 0, 'key2': 0, 'key3': 0}\n",
            "{'key1': None, 'key2': None, 'key3': None}\n"
          ]
        }
      ]
    },
    {
      "cell_type": "code",
      "source": [
        "# The get() method returns the value of the item with the specified key.\n",
        "car = {\n",
        "  \"brand\": \"Ford\",\n",
        "  \"model\": \"Mustang\",\n",
        "  \"year\": 1964\n",
        "}\n",
        "x = car.get(\"price\", 15000)\n",
        "y = car.get(\"model\", \"Default\")\n",
        "print(y, x)\n"
      ],
      "metadata": {
        "colab": {
          "base_uri": "https://localhost:8080/"
        },
        "id": "qeIchLDlWWGT",
        "outputId": "19bd80b2-017e-4df7-d4ae-3d4dfe212bdb"
      },
      "execution_count": null,
      "outputs": [
        {
          "output_type": "stream",
          "name": "stdout",
          "text": [
            "Mustang 15000\n"
          ]
        }
      ]
    },
    {
      "cell_type": "code",
      "source": [
        "# Returns a list containing a tuple for each key value pair\n",
        "car = {\n",
        "  \"brand\": \"Ford\",\n",
        "  \"model\": \"Mustang\",\n",
        "  \"year\": 1964\n",
        "}\n",
        "for k,v in car.items():\n",
        "  print(k, v)\n",
        "\n",
        "car = {\n",
        "  \"brand\": \"Ford\",\n",
        "  \"model\": \"Mustang\",\n",
        "  \"year\": 1964\n",
        "}\n",
        "x = car.items()\n",
        "car[\"year\"] = 2018\n",
        "print(x)"
      ],
      "metadata": {
        "colab": {
          "base_uri": "https://localhost:8080/"
        },
        "id": "goFmAJHkW0Ch",
        "outputId": "b3ba51b3-be8d-41a8-f14b-bfdae5160e05"
      },
      "execution_count": null,
      "outputs": [
        {
          "output_type": "stream",
          "name": "stdout",
          "text": [
            "brand Ford\n",
            "model Mustang\n",
            "year 1964\n",
            "dict_items([('brand', 'Ford'), ('model', 'Mustang'), ('year', 2018)])\n"
          ]
        }
      ]
    },
    {
      "cell_type": "code",
      "source": [
        "# Returns a list containing the dictionary's keys\n",
        "car = {\n",
        "  \"brand\": \"Ford\",\n",
        "  \"model\": \"Mustang\",\n",
        "  \"year\": 1964\n",
        "}\n",
        "for i in car.keys():\n",
        "  print(i, end=\" \")\n",
        "x = car.keys()\n",
        "print(x)"
      ],
      "metadata": {
        "colab": {
          "base_uri": "https://localhost:8080/"
        },
        "id": "BqEwtL5YXQdR",
        "outputId": "e3c5c183-dc08-4de1-ec25-9c1f12453b92"
      },
      "execution_count": null,
      "outputs": [
        {
          "output_type": "stream",
          "name": "stdout",
          "text": [
            "brand model year dict_keys(['brand', 'model', 'year'])\n"
          ]
        }
      ]
    },
    {
      "cell_type": "code",
      "source": [
        "#pop Removes the element with the specified key\n",
        "car = {\n",
        "  \"brand\": \"Ford\",\n",
        "  \"model\": \"Mustang\",\n",
        "  \"year\": 1964\n",
        "}\n",
        "b = car.pop(\"model\")\n",
        "print(b)\n",
        "print(car)\n",
        "a = car.pop(\"xyz\",\"not found\")\n",
        "print(car)\n",
        "print(a)"
      ],
      "metadata": {
        "colab": {
          "base_uri": "https://localhost:8080/"
        },
        "id": "nrx76KQ6XkxA",
        "outputId": "7c688182-9c90-4594-ea40-98f0c91edb8e"
      },
      "execution_count": null,
      "outputs": [
        {
          "output_type": "stream",
          "name": "stdout",
          "text": [
            "Mustang\n",
            "{'brand': 'Ford', 'year': 1964}\n",
            "{'brand': 'Ford', 'year': 1964}\n",
            "not found\n"
          ]
        }
      ]
    },
    {
      "cell_type": "code",
      "source": [
        "#popitem(): Removes the last inserted key-value pair\n",
        "car = {\n",
        "  \"brand\": \"Ford\",\n",
        "  \"model\": \"Mustang\",\n",
        "  \"year\": 1964\n",
        "}\n",
        "a = car.popitem()\n",
        "print(a)\n",
        "print(car)"
      ],
      "metadata": {
        "colab": {
          "base_uri": "https://localhost:8080/"
        },
        "id": "cwAioZptYFs9",
        "outputId": "719a993c-0396-4c69-fb70-37c76594824d"
      },
      "execution_count": null,
      "outputs": [
        {
          "output_type": "stream",
          "name": "stdout",
          "text": [
            "('year', 1964)\n",
            "{'brand': 'Ford', 'model': 'Mustang'}\n"
          ]
        }
      ]
    },
    {
      "cell_type": "code",
      "source": [
        "#setdefault() : Returns the value of the specified key. If the key does not exist: insert the key, with the specified value\n",
        "car = {\n",
        "  \"brand\": \"Ford\",\n",
        "  \"model\": \"Mustang\",\n",
        "  \"year\": 1964\n",
        "}\n",
        "x = car.setdefault(\"model\", \"Bronco\")\n",
        "n = \"Brown\"\n",
        "y = car.setdefault(\"color\", n)\n",
        "print(x)\n",
        "print(car)"
      ],
      "metadata": {
        "colab": {
          "base_uri": "https://localhost:8080/"
        },
        "id": "JntijGu0XzZ_",
        "outputId": "cc086041-7eba-4639-e394-638b1dfd0286"
      },
      "execution_count": null,
      "outputs": [
        {
          "output_type": "stream",
          "name": "stdout",
          "text": [
            "Mustang\n",
            "{'brand': 'Ford', 'model': 'Mustang', 'year': 1964, 'color': 'Brown'}\n"
          ]
        }
      ]
    },
    {
      "cell_type": "code",
      "source": [
        "#update() : Updates the dictionary with the specified key-value pairs\n",
        "car = {\n",
        "  \"brand\": \"Ford\",\n",
        "  \"model\": \"Mustang\",\n",
        "  \"year\": 1964\n",
        "}\n",
        "car.update({\"color\": \"White\"})\n",
        "print(car)"
      ],
      "metadata": {
        "colab": {
          "base_uri": "https://localhost:8080/"
        },
        "id": "_k0soL8_ZDXH",
        "outputId": "7f3a07a6-0df1-49e9-c1ed-375741172203"
      },
      "execution_count": null,
      "outputs": [
        {
          "output_type": "stream",
          "name": "stdout",
          "text": [
            "{'brand': 'Ford', 'model': 'Mustang', 'year': 1964, 'color': 'White'}\n"
          ]
        }
      ]
    },
    {
      "cell_type": "code",
      "source": [
        "#values() : Returns a list of all the values in the dictionary\n",
        "car = {\n",
        "  \"brand\": \"Ford\",\n",
        "  \"model\": \"Mustang\",\n",
        "  \"year\": 1964\n",
        "}\n",
        "x = car.values()\n",
        "print(x)\n",
        "car[\"year\"] = 2018\n",
        "print(x)"
      ],
      "metadata": {
        "colab": {
          "base_uri": "https://localhost:8080/"
        },
        "id": "v3pfBE_zZp2L",
        "outputId": "22f5dd80-6cf8-4b67-d98a-49394aaeba58"
      },
      "execution_count": null,
      "outputs": [
        {
          "output_type": "stream",
          "name": "stdout",
          "text": [
            "dict_values(['Ford', 'Mustang', 1964])\n",
            "dict_values(['Ford', 'Mustang', 2018])\n"
          ]
        }
      ]
    },
    {
      "cell_type": "markdown",
      "source": [
        "# **SET METHODS**\n",
        "\n",
        "*   add()\tAdds an element to the set\n",
        "*   clear()\tRemoves all the elements from the set\n",
        "*   copy()\tReturns a copy of the set\n",
        "*   difference()\tReturns a set containing the difference between two or more sets\n",
        "*   difference_update()\tRemoves the items in this set that are also included in another, specified set\n",
        "*   discard()\tRemove the specified item\n",
        "*   intersection()\tReturns a set, that is the intersection of two or more sets\n",
        "*   intersection_update()\tRemoves the items in this set that are not present in other, specified set(s)\n",
        "*   isdisjoint()\tReturns whether two sets have a intersection or not\n",
        "*   issubset()\tReturns whether another set contains this set or not\n",
        "*   issuperset()\tReturns whether this set contains another set or not\n",
        "*   pop()\tRemoves an element from the set\n",
        "*   remove()\tRemoves the specified element\n",
        "*   symmetric_difference()\tReturns a set with the symmetric differences of two sets\n",
        "*   symmetric_difference_update()\tinserts the symmetric differences from this set and another\n",
        "*   union()\tReturn a set containing the union of sets\n",
        "*   update()\tUpdate the set with another set, or any other iterable"
      ],
      "metadata": {
        "id": "OSInG29jBpUu"
      }
    },
    {
      "cell_type": "code",
      "source": [
        "# add()\n",
        "fruits = {\"apple\", \"banana\", \"cherry\"}\n",
        "fruits.add(\"orange\")\n",
        "fruits.add(\"orange\")\n",
        "print(fruits)"
      ],
      "metadata": {
        "id": "tZ7Rn5-DBu2G",
        "colab": {
          "base_uri": "https://localhost:8080/"
        },
        "outputId": "d49182c8-9a1e-410f-ee22-6365263a4f13"
      },
      "execution_count": null,
      "outputs": [
        {
          "output_type": "stream",
          "name": "stdout",
          "text": [
            "{'banana', 'cherry', 'apple', 'orange'}\n"
          ]
        }
      ]
    },
    {
      "cell_type": "code",
      "source": [
        "# clear() : Removes all the elements from the set\n",
        "fruits = {\"apple\", \"banana\", \"cherry\"}\n",
        "fruits.clear()\n",
        "print(fruits)\n",
        "print(type(fruits))"
      ],
      "metadata": {
        "colab": {
          "base_uri": "https://localhost:8080/"
        },
        "id": "PtEDpmj1cKJb",
        "outputId": "9af23aa3-d450-4893-f148-7df51ac1fb76"
      },
      "execution_count": null,
      "outputs": [
        {
          "output_type": "stream",
          "name": "stdout",
          "text": [
            "set()\n",
            "<class 'set'>\n"
          ]
        }
      ]
    },
    {
      "cell_type": "code",
      "source": [
        "#copy(): Returns a copy of the list\n",
        "fruits = {\"apple\", \"banana\", \"cherry\"}\n",
        "x = fruits.copy()\n",
        "print(x)"
      ],
      "metadata": {
        "id": "BT6_sRuZcdEf",
        "colab": {
          "base_uri": "https://localhost:8080/"
        },
        "outputId": "c396fad3-6d11-433a-8b48-72408a0d16cb"
      },
      "execution_count": null,
      "outputs": [
        {
          "output_type": "stream",
          "name": "stdout",
          "text": [
            "{'cherry', 'apple', 'banana'}\n"
          ]
        }
      ]
    },
    {
      "cell_type": "code",
      "source": [
        "#difference(): Returns a set containing the difference between two or more sets\n",
        "x = {\"apple\", \"banana\", \"cherry\"}\n",
        "y = {\"google\", \"microsoft\", \"apple\"}\n",
        "z = x.difference(y)\n",
        "a = y.difference(x)\n",
        "print(z, a)"
      ],
      "metadata": {
        "colab": {
          "base_uri": "https://localhost:8080/"
        },
        "id": "DXP3ywqf4lw8",
        "outputId": "ed0c6807-e765-41d6-bfc6-41b61f0961a1"
      },
      "execution_count": null,
      "outputs": [
        {
          "output_type": "stream",
          "name": "stdout",
          "text": [
            "{'cherry', 'banana'} {'google', 'microsoft'}\n"
          ]
        }
      ]
    },
    {
      "cell_type": "code",
      "source": [
        "#difference_update(): Removes the items in this set that are also included in another, specified set\n",
        "x = {\"apple\", \"banana\", \"cherry\"}\n",
        "y = {\"google\", \"microsoft\", \"apple\"}\n",
        "x.difference_update(y)\n",
        "print(x)"
      ],
      "metadata": {
        "colab": {
          "base_uri": "https://localhost:8080/"
        },
        "id": "b5hbcNQf4t2d",
        "outputId": "dd73c533-225d-4b91-8dbd-f1aa9b6de5c1"
      },
      "execution_count": null,
      "outputs": [
        {
          "output_type": "stream",
          "name": "stdout",
          "text": [
            "{'cherry', 'banana'}\n"
          ]
        }
      ]
    },
    {
      "cell_type": "code",
      "source": [
        "#discard(): Remove the specified item\n",
        "# This method is different from the remove() method, because the remove() method will raise an error if the specified item does not exist, and the discard() method will not.\n",
        "fruits = {\"apple\", \"banana\", \"cherry\"}\n",
        "fruits.discard(\"banana\")\n",
        "print(fruits)"
      ],
      "metadata": {
        "colab": {
          "base_uri": "https://localhost:8080/"
        },
        "id": "y5o0ri9W5si2",
        "outputId": "0999d1df-6e6b-4d8b-ecd0-9087e084fe8d"
      },
      "execution_count": null,
      "outputs": [
        {
          "output_type": "stream",
          "name": "stdout",
          "text": [
            "{'cherry', 'apple'}\n"
          ]
        }
      ]
    },
    {
      "cell_type": "code",
      "source": [
        "#intersection(): Returns a set, that is the intersection of two or more sets\n",
        "x = {\"apple\", \"banana\", \"cherry\"}\n",
        "y = {\"google\", \"microsoft\", \"apple\"}\n",
        "z = x.intersection(y)\n",
        "print(z)\n",
        "print(x)"
      ],
      "metadata": {
        "colab": {
          "base_uri": "https://localhost:8080/"
        },
        "id": "Y2sxUOyZ55-W",
        "outputId": "f14f9b28-0e97-46a7-f498-114a89cf7850"
      },
      "execution_count": null,
      "outputs": [
        {
          "output_type": "stream",
          "name": "stdout",
          "text": [
            "{'apple'}\n",
            "{'cherry', 'apple', 'banana'}\n"
          ]
        }
      ]
    },
    {
      "cell_type": "code",
      "source": [
        "#intersection_update(): Removes the items in this set that are not present in other, specified set(s)\n",
        "x = {\"apple\", \"banana\", \"cherry\"}\n",
        "y = {\"google\", \"microsoft\", \"apple\"}\n",
        "x.intersection_update(y)\n",
        "print(x)"
      ],
      "metadata": {
        "colab": {
          "base_uri": "https://localhost:8080/"
        },
        "id": "OHHEJ0MZ6Pcq",
        "outputId": "94ecbd89-1006-464b-8dab-a386a46085b1"
      },
      "execution_count": null,
      "outputs": [
        {
          "output_type": "stream",
          "name": "stdout",
          "text": [
            "{'apple'}\n"
          ]
        }
      ]
    },
    {
      "cell_type": "code",
      "source": [
        "#isdisjoint(): Returns whether two sets have a intersection or not\n",
        "x = {\"apple\", \"banana\", \"cherry\"}\n",
        "y = {\"google\", \"microsoft\", \"facebook\"}\n",
        "z = x.isdisjoint(y)\n",
        "print(z)"
      ],
      "metadata": {
        "colab": {
          "base_uri": "https://localhost:8080/"
        },
        "id": "wWQOYCej6ZVn",
        "outputId": "a34c92d8-3dad-4b8c-8055-c513b96ab9e1"
      },
      "execution_count": null,
      "outputs": [
        {
          "output_type": "stream",
          "name": "stdout",
          "text": [
            "True\n"
          ]
        }
      ]
    },
    {
      "cell_type": "code",
      "source": [
        "#issubset(): Returns whether another set contains this set or not\n",
        "# method returns True if all items in the set exists in the specified set, otherwise it returns False.\n",
        "x = {\"a\", \"b\", \"c\"}\n",
        "y = {\"f\", \"e\", \"d\", \"c\", \"b\", \"a\"}\n",
        "z = x.issubset(y)\n",
        "print(z)"
      ],
      "metadata": {
        "colab": {
          "base_uri": "https://localhost:8080/"
        },
        "id": "hf8fTELR6wGz",
        "outputId": "364b542d-1a3c-40f0-e6f2-2e58319f0cc4"
      },
      "execution_count": null,
      "outputs": [
        {
          "output_type": "stream",
          "name": "stdout",
          "text": [
            "True\n"
          ]
        }
      ]
    },
    {
      "cell_type": "code",
      "source": [
        "#issuperset(): Returns whether this set contains another set or not\n",
        "x = {\"f\", \"e\", \"d\", \"c\", \"b\", \"a\"}\n",
        "y = {\"a\", \"b\", \"c\"}\n",
        "z = x.issuperset(y)\n",
        "print(z)"
      ],
      "metadata": {
        "colab": {
          "base_uri": "https://localhost:8080/"
        },
        "id": "4Tjazq5e6882",
        "outputId": "df33266d-3b5b-4af7-c0ef-502289cf8aee"
      },
      "execution_count": null,
      "outputs": [
        {
          "output_type": "stream",
          "name": "stdout",
          "text": [
            "True\n"
          ]
        }
      ]
    },
    {
      "cell_type": "code",
      "source": [
        "#pop(): Removes an element from the set\n",
        "fruits = {\"apple\", \"banana\", \"cherry\"}\n",
        "x = fruits.pop()\n",
        "print(fruits, x)"
      ],
      "metadata": {
        "colab": {
          "base_uri": "https://localhost:8080/"
        },
        "id": "Fz_BgRxH7R1D",
        "outputId": "22cf5352-d6c2-4ca8-cb4e-a8d6315fe6b6"
      },
      "execution_count": null,
      "outputs": [
        {
          "output_type": "stream",
          "name": "stdout",
          "text": [
            "{'apple', 'banana'} cherry\n"
          ]
        }
      ]
    },
    {
      "cell_type": "code",
      "source": [
        "# remove(): Removes the specified element\n",
        "fruits = {\"apple\", \"banana\", \"cherry\"}\n",
        "fruits.remove(\"banana\")\n",
        "#fruits.remove(\"orange\") - throws an error, if element not present\n",
        "print(fruits)"
      ],
      "metadata": {
        "colab": {
          "base_uri": "https://localhost:8080/"
        },
        "id": "Sk8RwRTe7f0f",
        "outputId": "6487bea3-8ee3-4086-ae47-5465f5f5000a"
      },
      "execution_count": null,
      "outputs": [
        {
          "output_type": "stream",
          "name": "stdout",
          "text": [
            "{'cherry', 'apple'}\n"
          ]
        }
      ]
    },
    {
      "cell_type": "code",
      "source": [
        "# symmetric_difference(): Returns a set with the symmetric differences of two sets\n",
        "x = {\"apple\", \"banana\", \"cherry\"}\n",
        "y = {\"google\", \"microsoft\", \"apple\"}\n",
        "z = x.symmetric_difference(y)\n",
        "print(z)"
      ],
      "metadata": {
        "colab": {
          "base_uri": "https://localhost:8080/"
        },
        "id": "KPBOtYEM76CU",
        "outputId": "6e15fd29-6a35-4796-b921-1b54de6d5388"
      },
      "execution_count": null,
      "outputs": [
        {
          "output_type": "stream",
          "name": "stdout",
          "text": [
            "{'banana', 'cherry', 'google', 'microsoft'}\n"
          ]
        }
      ]
    },
    {
      "cell_type": "code",
      "source": [
        "#symmetric_difference_update(): inserts the symmetric differences from this set and another\n",
        "x = {\"apple\", \"banana\", \"cherry\"}\n",
        "y = {\"google\", \"microsoft\", \"apple\"}\n",
        "x.symmetric_difference_update(y)\n",
        "print(x)"
      ],
      "metadata": {
        "colab": {
          "base_uri": "https://localhost:8080/"
        },
        "id": "Upl_nXY38Siz",
        "outputId": "7cac9b83-98c6-483d-f01d-d161b4665c22"
      },
      "execution_count": null,
      "outputs": [
        {
          "output_type": "stream",
          "name": "stdout",
          "text": [
            "{'banana', 'cherry', 'google', 'microsoft'}\n"
          ]
        }
      ]
    },
    {
      "cell_type": "code",
      "source": [
        "#union(): Return a set containing the union of sets\n",
        "x = {\"apple\", \"banana\", \"cherry\"}\n",
        "y = {\"google\", \"microsoft\", \"apple\"}\n",
        "z = x.union(y)\n",
        "print(z)\n",
        "a = {\"a\", \"b\", \"c\"}\n",
        "b = {\"f\", \"d\", \"a\"}\n",
        "c = {\"c\", \"d\", \"e\"}\n",
        "result = a.union(b, c)\n",
        "print(result)"
      ],
      "metadata": {
        "colab": {
          "base_uri": "https://localhost:8080/"
        },
        "id": "1SfSbG5b8lYp",
        "outputId": "2026be21-846c-4dcb-e041-22ab596ff5f0"
      },
      "execution_count": null,
      "outputs": [
        {
          "output_type": "stream",
          "name": "stdout",
          "text": [
            "{'cherry', 'apple', 'banana', 'google', 'microsoft'}\n",
            "{'f', 'd', 'e', 'b', 'c', 'a'}\n"
          ]
        }
      ]
    },
    {
      "cell_type": "code",
      "source": [
        "#update(): Update the set with another set, or any other iterable\n",
        "x = {\"apple\", \"banana\", \"cherry\"}\n",
        "y = {\"google\", \"microsoft\", \"apple\"}\n",
        "x.update(y)\n",
        "print(x)"
      ],
      "metadata": {
        "colab": {
          "base_uri": "https://localhost:8080/"
        },
        "id": "33tfl7oA8wZs",
        "outputId": "ffbd1092-40a0-4fba-8227-e78d3a1e5259"
      },
      "execution_count": null,
      "outputs": [
        {
          "output_type": "stream",
          "name": "stdout",
          "text": [
            "{'cherry', 'apple', 'banana', 'google', 'microsoft'}\n"
          ]
        }
      ]
    },
    {
      "cell_type": "markdown",
      "source": [
        "# **Convert Decimal to Binary, Octal and Hexdecimal with direct method**"
      ],
      "metadata": {
        "id": "jKNGzUdQBvU9"
      }
    },
    {
      "cell_type": "code",
      "source": [
        "# Python program to convert decimal into other number systems\n",
        "dec = 344\n",
        "\n",
        "print(\"The decimal value of\", dec, \"is:\")\n",
        "print(bin(dec), \"in binary.\")\n",
        "print(oct(dec), \"in octal.\")\n",
        "print(hex(dec), \"in hexadecimal.\")"
      ],
      "metadata": {
        "id": "OuILaLWxB5Y2",
        "colab": {
          "base_uri": "https://localhost:8080/"
        },
        "outputId": "0976ff27-a40f-4061-cf07-299c4549d910"
      },
      "execution_count": null,
      "outputs": [
        {
          "output_type": "stream",
          "name": "stdout",
          "text": [
            "The decimal value of 344 is:\n",
            "0b101011000 in binary.\n",
            "0o530 in octal.\n",
            "0x158 in hexadecimal.\n"
          ]
        }
      ]
    },
    {
      "cell_type": "markdown",
      "source": [
        "# **Arithmetic operators with examples**\n",
        "\n",
        "*   '+'\tAddition\tx + y\n",
        "*   '-'\tSubtraction\tx - y\n",
        "*   '*'\tMultiplication\tx * y\n",
        "*   '/'\tDivision\tx / y\n",
        "*   '%'\tModulus\tx % y\n",
        "*   '**'\tExponentiation\tx ** y\n",
        "*   '//'\tFloor division\tx // y\n",
        "\n",
        "\n",
        "\n",
        "\n",
        "\n",
        "\n",
        "\n"
      ],
      "metadata": {
        "id": "9Kk64UorB5y_"
      }
    },
    {
      "cell_type": "code",
      "source": [
        "a = 5\n",
        "b = 4\n",
        "print(a + b)\n",
        "print(a - b)\n",
        "print(a * b)\n",
        "print(a / b)\n",
        "print(a % b)\n",
        "print(a ** b)\n",
        "print(a // b)"
      ],
      "metadata": {
        "id": "oO3hhEzNB9lw",
        "colab": {
          "base_uri": "https://localhost:8080/"
        },
        "outputId": "16bc7d7d-c93f-45c7-f446-774caf29f928"
      },
      "execution_count": null,
      "outputs": [
        {
          "output_type": "stream",
          "name": "stdout",
          "text": [
            "9\n",
            "1\n",
            "20\n",
            "1.25\n",
            "1\n",
            "625\n",
            "1\n"
          ]
        }
      ]
    },
    {
      "cell_type": "markdown",
      "source": [
        "# **Assignment operators with examples**\n",
        "\n",
        "*   =\n",
        "*   +=\n",
        "*   -=\n",
        "*   *=\n",
        "*   /=\n",
        "*   %=\n",
        "*   //=\n",
        "*   **=\n",
        "*   &=\n",
        "*   |=\n",
        "*   ^=\n",
        "*   '>>='\n",
        "*   <<=\n",
        "\n",
        "=\tx = 5\tx = 5\n",
        "+=\tx += 3\tx = x + 3\n",
        "-=\tx -= 3\tx = x - 3\n",
        "*=\tx *= 3\tx = x * 3\n",
        "/=\tx /= 3\tx = x / 3\n",
        "%=\tx %= 3\tx = x % 3\n",
        "//=\tx //= 3\tx = x // 3\n",
        "**=\tx **= 3\tx = x ** 3\n",
        "&=\tx &= 3\tx = x & 3\n",
        "|=\tx |= 3\tx = x | 3\n",
        "^=\tx ^= 3\tx = x ^ 3\n",
        "'>>='\tx >>= 3\tx = x >> 3\n",
        "<<=\tx <<= 3\tx = x << 3"
      ],
      "metadata": {
        "id": "HBh58gOrB-FR"
      }
    },
    {
      "cell_type": "code",
      "source": [
        "x = 5\n",
        "x += 6\n",
        "print(x)\n",
        "x -= 3\n",
        "print(x)\n",
        "x *= 2\n",
        "print(x)\n",
        "x /= 5\n",
        "print(x)\n",
        "x %= 4\n",
        "print(x)\n",
        "x = 5\n",
        "x //= 3\n",
        "print(x)\n",
        "x = 5\n",
        "x **= 3\n",
        "print(x)\n",
        "x = 5\n",
        "x &= 3\n",
        "#(101 & 011 = 001)\n",
        "print(x)\n",
        "x = 5\n",
        "x |= 3\n",
        "#(101 | 011 = 111)\n",
        "print(x)\n",
        "x = 5\n",
        "x ^= 3\n",
        "#(101 ^ 011 = 110=6)\n",
        "print(x)\n",
        "x = 5\n",
        "x >>= 3\n",
        "#(5 >> 3)\n",
        "print(x)\n",
        "x = 5\n",
        "x <<= 3\n",
        " #(5 << 3)\n",
        "print(x)"
      ],
      "metadata": {
        "colab": {
          "base_uri": "https://localhost:8080/"
        },
        "id": "dmTW4jpngQ_P",
        "outputId": "ac6202e7-a9fa-470f-e9ef-b54c80f55752"
      },
      "execution_count": null,
      "outputs": [
        {
          "output_type": "stream",
          "name": "stdout",
          "text": [
            "11\n",
            "8\n",
            "16\n",
            "3.2\n",
            "3.2\n",
            "1\n",
            "125\n",
            "1\n",
            "7\n",
            "6\n",
            "0\n",
            "40\n"
          ]
        }
      ]
    },
    {
      "cell_type": "markdown",
      "source": [
        "# **Comparison operators with examples.**\n",
        "\n",
        "*   ==\tEqual\tx == y\n",
        "*   !=\tNot equal\tx != y\n",
        "*   '>'\tGreater than\tx > y\n",
        "*   <\tLess than\tx < y\n",
        "*   '>='\tGreater than or equal to\tx >= y\n",
        "*   <=\tLess than or equal to\tx <= y\n",
        "\n",
        "\n",
        "\n",
        "\n",
        "\n",
        "\n",
        "\n",
        "\n",
        "\n",
        "\n",
        "\n",
        "\n"
      ],
      "metadata": {
        "id": "HNj-Q0CtCA6k"
      }
    },
    {
      "cell_type": "code",
      "source": [
        "x = 5\n",
        "y = 3\n",
        "print(x == y)\n",
        "print(x != y)\n",
        "print(x > y)\n",
        "print(x < y)\n",
        "print(x >= y)\n",
        "print(x <= y)"
      ],
      "metadata": {
        "colab": {
          "base_uri": "https://localhost:8080/"
        },
        "id": "i3J8mfLAlLr4",
        "outputId": "e6b8241b-8e81-49bd-96c7-7176c89ea746"
      },
      "execution_count": null,
      "outputs": [
        {
          "output_type": "stream",
          "name": "stdout",
          "text": [
            "False\n",
            "True\n",
            "True\n",
            "False\n",
            "True\n",
            "False\n"
          ]
        }
      ]
    },
    {
      "cell_type": "markdown",
      "source": [
        "# **Logical operators with examples.**\n",
        "\n",
        "*   and \tReturns True if both statements are true\tx < 5 and  x < 10\n",
        "*   or\tReturns True if one of the statements is true\tx < 5 or x < 4\n",
        "*   not\tReverse the result, returns False if the result is true\tnot(x < 5 and x < 10)\n",
        "\n",
        "\n",
        "\n",
        "\n",
        "\n"
      ],
      "metadata": {
        "id": "-3UoGF1bCDwi"
      }
    },
    {
      "cell_type": "code",
      "source": [
        "print( x<5 and x<10)\n",
        "print(x<5 or x<10)\n",
        "print(x)\n",
        "print(not(x<5 and x<10))"
      ],
      "metadata": {
        "colab": {
          "base_uri": "https://localhost:8080/"
        },
        "id": "r2fwixiwpI7Y",
        "outputId": "f4f35121-f956-444e-e798-3c65a83a2309"
      },
      "execution_count": null,
      "outputs": [
        {
          "output_type": "stream",
          "name": "stdout",
          "text": [
            "False\n",
            "True\n",
            "5\n",
            "True\n"
          ]
        }
      ]
    },
    {
      "cell_type": "markdown",
      "source": [
        "# **Bitwise operators with examples.**\n",
        "\n",
        "& \tAND\tSets each bit to 1 if both bits are 1\tx & y\n",
        "|\tOR\tSets each bit to 1 if one of two bits is 1\tx | y\n",
        "^\tXOR\tSets each bit to 1 if only one of two bits is 1\tx ^ y\n",
        "~\tNOT\tInverts all the bits\t~x\n",
        "<<\tZero fill left shift\tShift left by pushing zeros in from the right and let the leftmost bits fall off\tx << 2\n",
        ">>\tSigned right shift\tShift right by pushing copies of the leftmost bit in from the left, and let the rightmost bits fall off\tx >> 2"
      ],
      "metadata": {
        "id": "65oeQoMvCGww"
      }
    },
    {
      "cell_type": "markdown",
      "source": [
        "# **Membership operators with examples.**\n",
        "\n",
        "in \tReturns True if a sequence with the specified value is present in the object\tx in y\n",
        "not in\tReturns True if a sequence with the specified value is not present in the object\tx not in y"
      ],
      "metadata": {
        "id": "Me-gTcJ1CPV4"
      }
    },
    {
      "cell_type": "markdown",
      "source": [
        "# **Identity operators with examples**\n",
        "\n",
        "is \tReturns True if both variables are the same object\tx is y\n",
        "is not\tReturns True if both variables are not the same object\tx is not y"
      ],
      "metadata": {
        "id": "I-7LuR4ICSWn"
      }
    },
    {
      "cell_type": "markdown",
      "source": [
        "# **Demonstrate Negative indexing for List and apply slicing.**"
      ],
      "metadata": {
        "id": "Yoh_XlIsCVIa"
      }
    },
    {
      "cell_type": "markdown",
      "source": [
        "# **Predict the output for the given code snippet and justify the result.**\n",
        "\n",
        "\n",
        "\n",
        "*   print(\"A series of characters designated as one object known as a string\"[::-1][4::3])\n",
        "*   print(\"------------\")\n",
        "*   print(\"welcome to Python training program\"[3:10][::-1])\n",
        "\n",
        "\n",
        "\n",
        "\n",
        "\n",
        "\n"
      ],
      "metadata": {
        "id": "yMY0hOb5CY1C"
      }
    },
    {
      "cell_type": "code",
      "source": [
        "print(\"A series of characters designated as one object known as a string\"[::-1][4::3])"
      ],
      "metadata": {
        "colab": {
          "base_uri": "https://localhost:8080/"
        },
        "id": "zf6Upqxdcka1",
        "outputId": "24d5a2aa-526b-4a23-d230-53069bbdc93f"
      },
      "execution_count": null,
      "outputs": [
        {
          "output_type": "stream",
          "name": "stdout",
          "text": [
            "taawkcbe  tgestrcoeeA\n"
          ]
        }
      ]
    },
    {
      "cell_type": "code",
      "source": [
        "print(\"welcome to Python training program\"[3:10][::-1])"
      ],
      "metadata": {
        "colab": {
          "base_uri": "https://localhost:8080/"
        },
        "id": "v8qrrRgacysh",
        "outputId": "f02e32ac-e1dd-443b-aa71-78d38e661413"
      },
      "execution_count": null,
      "outputs": [
        {
          "output_type": "stream",
          "name": "stdout",
          "text": [
            "ot emoc\n"
          ]
        }
      ]
    },
    {
      "cell_type": "markdown",
      "source": [
        "# **Write a python code to get desired output**\n",
        "\n",
        "\n",
        "\n",
        "*   input_string: p_phrase=\"was it a car or a cat I saw\"\n",
        "*   output : WAS I TAC A RO RAC A TI SAW\n",
        "\n"
      ],
      "metadata": {
        "id": "11NM0ct6C7mI"
      }
    },
    {
      "cell_type": "code",
      "source": [
        "s1 = \"was it a car or a cat I saw\"\n",
        "print(s1[::-1].upper())\n"
      ],
      "metadata": {
        "id": "qHxOL43olrtv",
        "colab": {
          "base_uri": "https://localhost:8080/"
        },
        "outputId": "5ab87498-bee7-4733-fe88-a214c002ec73"
      },
      "execution_count": null,
      "outputs": [
        {
          "output_type": "stream",
          "name": "stdout",
          "text": [
            "WAS I TAC A RO RAC A TI SAW\n"
          ]
        }
      ]
    },
    {
      "cell_type": "markdown",
      "source": [
        "You are required to generate a word similar to ZOO, X and Y that denote the number of Zs and Os respectively.\n",
        "The generated word similar to ZOO where Y= 2 * X.\n",
        "\n",
        "*   Input X= 2 Output ZZOOOO\n",
        "*   Input X= 5 Output ZZZZZOOOOOOOOOO\n",
        "\n"
      ],
      "metadata": {
        "id": "INW5M4LlD0uj"
      }
    },
    {
      "cell_type": "code",
      "source": [
        "S = \"ZOO\"\n",
        "X = int(input())\n",
        "\n",
        "for i in S:\n",
        "  print(i * X,end=\"\")"
      ],
      "metadata": {
        "colab": {
          "base_uri": "https://localhost:8080/"
        },
        "id": "HZrMnvO-nAGm",
        "outputId": "b8ace1ad-4220-4756-ccc3-cf952d5c734b"
      },
      "execution_count": null,
      "outputs": [
        {
          "output_type": "stream",
          "name": "stdout",
          "text": [
            "5\n",
            "ZZZZZOOOOOOOOOO"
          ]
        }
      ]
    },
    {
      "cell_type": "markdown",
      "source": [
        "# **Matrix Subtraction, Addition, Multiplication**"
      ],
      "metadata": {
        "id": "OLQBRxOdEMmo"
      }
    }
  ]
}