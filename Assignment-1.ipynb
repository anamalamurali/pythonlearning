{
  "nbformat": 4,
  "nbformat_minor": 0,
  "metadata": {
    "colab": {
      "provenance": [],
      "authorship_tag": "ABX9TyOWKfCxCYu32h4eZnUSYyZG",
      "include_colab_link": true
    },
    "kernelspec": {
      "name": "python3",
      "display_name": "Python 3"
    },
    "language_info": {
      "name": "python"
    }
  },
  "cells": [
    {
      "cell_type": "markdown",
      "metadata": {
        "id": "view-in-github",
        "colab_type": "text"
      },
      "source": [
        "<a href=\"https://colab.research.google.com/github/muralianamala/pythonlearning/blob/main/Assignment-1.ipynb\" target=\"_parent\"><img src=\"https://colab.research.google.com/assets/colab-badge.svg\" alt=\"Open In Colab\"/></a>"
      ]
    },
    {
      "cell_type": "markdown",
      "source": [
        "# **String Methods**"
      ],
      "metadata": {
        "id": "1cTdFcBQBEpR"
      }
    },
    {
      "cell_type": "code",
      "execution_count": 2,
      "metadata": {
        "id": "9kL-OisLA-55",
        "outputId": "ce22bfc1-7ec2-4496-ee4b-85a728eaeb43",
        "colab": {
          "base_uri": "https://localhost:8080/"
        }
      },
      "outputs": [
        {
          "output_type": "stream",
          "name": "stdout",
          "text": [
            "original string :  James\n",
            "Jms\n"
          ]
        }
      ],
      "source": [
        "#Create a string made of the first, middle and last character\n",
        "#Write a program to create a new string made of an input string’s first, middle, and last character.\n",
        "#i/p str1 = \"James\"\n",
        "#o/p Jms\n",
        "\n",
        "str1 = \"James\"\n",
        "print(\"original string : \", str1)\n",
        "res = str1[0]\n",
        "\n",
        "l = len(str1)\n",
        "mi = int(l/2)\n",
        "\n",
        "res = res + str1[mi]\n",
        "\n",
        "res = res + str1[l-1]\n",
        "\n",
        "print(res)"
      ]
    },
    {
      "cell_type": "code",
      "source": [
        "a = \"abc\"\n",
        "print(a.capitalize())\n",
        "print(a)"
      ],
      "metadata": {
        "colab": {
          "base_uri": "https://localhost:8080/"
        },
        "id": "HIO5N1-M76Qx",
        "outputId": "08ed3619-a0a2-4706-987b-03fa1714fb99"
      },
      "execution_count": 4,
      "outputs": [
        {
          "output_type": "stream",
          "name": "stdout",
          "text": [
            "Abc\n",
            "abc\n"
          ]
        }
      ]
    },
    {
      "cell_type": "code",
      "source": [
        "def get_middle_three_chars(str1):\n",
        "  print(\"Original string is : \",str1)\n",
        "\n",
        "  mi = int(len(str1)/2)\n",
        "\n",
        "  res = str1[mi-1:mi + 2]\n",
        "  print(\"Middle three chars are : \", res)\n",
        "\n",
        "\n",
        "get_middle_three_chars(\"JhonDipPeta\")\n",
        "get_middle_three_chars(\"JaSonAy\")"
      ],
      "metadata": {
        "colab": {
          "base_uri": "https://localhost:8080/"
        },
        "id": "KuUvLHV9AYsN",
        "outputId": "5e93778e-8e2d-4f5d-dd9d-7701162c5131"
      },
      "execution_count": 5,
      "outputs": [
        {
          "output_type": "stream",
          "name": "stdout",
          "text": [
            "Original string is :  JhonDipPeta\n",
            "Middle three chars are :  Dip\n",
            "Original string is :  JaSonAy\n",
            "Middle three chars are :  Son\n"
          ]
        }
      ]
    },
    {
      "cell_type": "code",
      "source": [
        "#Given two strings, s1 and s2. Write a program to create a new string s3 by appending s2 in the middle of s1.\n",
        "s1 = \"Ault\"\n",
        "s2 = \"Kelly\"\n",
        "mi = int(len(s1) /2)\n",
        "s3 = s1[:mi]+s2+s1[mi:]\n",
        "\n",
        "print(s3)"
      ],
      "metadata": {
        "colab": {
          "base_uri": "https://localhost:8080/"
        },
        "id": "twysJJwsPxq_",
        "outputId": "63c42f78-0f00-43d8-9f78-a61c4cee3965"
      },
      "execution_count": 8,
      "outputs": [
        {
          "output_type": "stream",
          "name": "stdout",
          "text": [
            "AuKellylt\n"
          ]
        }
      ]
    },
    {
      "cell_type": "code",
      "source": [
        "# Given two strings, s1 and s2, write a program to return a new string made of s1 and s2’s first, middle, and last characters.\n",
        "s1 = \"America\"\n",
        "s2 = \"Japan\"\n",
        "\n",
        "mi1 = int(len(s1)/2)\n",
        "mi2 = int(len(s2)/2)\n",
        "\n",
        "s3 = s1[0] + s2[0] + s1[mi1:mi1+1] + s2[mi2:mi2+1] + s1[len(s1)-1] + s2[len(s2)-1]\n",
        "print(s3)"
      ],
      "metadata": {
        "colab": {
          "base_uri": "https://localhost:8080/"
        },
        "id": "yFFwQJcTQeAY",
        "outputId": "095fb88f-57a1-4e47-be4b-fcb5193f8159"
      },
      "execution_count": 9,
      "outputs": [
        {
          "output_type": "stream",
          "name": "stdout",
          "text": [
            "AJrpan\n"
          ]
        }
      ]
    },
    {
      "cell_type": "code",
      "source": [
        "#Arrange string characters such that lowercase letters should come first\n",
        "str1 = \"PyNaTive\"\n",
        "s1=\"\"\n",
        "s2 = \"\"\n",
        "for i in str1:\n",
        "  if i.isupper():\n",
        "    s2 += i\n",
        "  else:\n",
        "    s1 += i\n",
        "\n",
        "print(s1 + s2)"
      ],
      "metadata": {
        "colab": {
          "base_uri": "https://localhost:8080/"
        },
        "id": "rGPsqteVRTkQ",
        "outputId": "202b1865-27e9-4286-81a8-f2ff6d4ecb89"
      },
      "execution_count": 20,
      "outputs": [
        {
          "output_type": "stream",
          "name": "stdout",
          "text": [
            "yaivePNT\n"
          ]
        }
      ]
    },
    {
      "cell_type": "code",
      "source": [
        "# Count all letters, digits, and special symbols from a given string\n",
        "str1 = \"P@#yn26at^&i5ve\"\n",
        "\n",
        "l_cnt = 0\n",
        "d_cnt = 0\n",
        "s_cnt = 0\n",
        "for i in str1:\n",
        "  if i.isdigit():\n",
        "    d_cnt += 1\n",
        "  elif i.isalpha():\n",
        "    l_cnt += 1\n",
        "  else:\n",
        "    s_cnt += 1\n",
        "\n",
        "\n",
        "print(\"letters count: \",l_cnt, \" digits count: \", d_cnt,\" symbols count: \", s_cnt)"
      ],
      "metadata": {
        "colab": {
          "base_uri": "https://localhost:8080/"
        },
        "id": "bTYSbPhhS6Hc",
        "outputId": "933b3ae2-0b53-4ca7-a105-8e21ec6912ca"
      },
      "execution_count": 22,
      "outputs": [
        {
          "output_type": "stream",
          "name": "stdout",
          "text": [
            "letters count:  8  digits count:  3  symbols count:  4\n"
          ]
        }
      ]
    },
    {
      "cell_type": "code",
      "source": [
        "# Write a program to count occurrences of all characters within a string\n",
        "#i/p : str1 = \"Apple\"\n",
        "#o/p : {'A': 1, 'p': 2, 'l': 1, 'e': 1}\n",
        "\n",
        "str1 = \"Apple\"\n",
        "d1 = {}\n",
        "cnt = 0\n",
        "l1 = list(str1)\n",
        "\n",
        "for i in l1:\n",
        "  cnt = str1.count(i)\n",
        "  d1[i] = cnt\n",
        "\n",
        "\n",
        "print(d1)\n"
      ],
      "metadata": {
        "colab": {
          "base_uri": "https://localhost:8080/"
        },
        "id": "zTk21sprVKCH",
        "outputId": "3a345ef5-c60e-473b-911d-f451058dbfde"
      },
      "execution_count": 27,
      "outputs": [
        {
          "output_type": "stream",
          "name": "stdout",
          "text": [
            "{'A': 1, 'p': 2, 'l': 1, 'e': 1}\n"
          ]
        }
      ]
    },
    {
      "cell_type": "code",
      "source": [
        "# Reverse string\n",
        "str1 = \"PYnative\"\n",
        "print(str1[::-1])"
      ],
      "metadata": {
        "colab": {
          "base_uri": "https://localhost:8080/"
        },
        "id": "Uvk9wojwhW8c",
        "outputId": "bc47546c-7d73-4b99-b839-ff799deef822"
      },
      "execution_count": 28,
      "outputs": [
        {
          "output_type": "stream",
          "name": "stdout",
          "text": [
            "evitanYP\n"
          ]
        }
      ]
    },
    {
      "cell_type": "code",
      "source": [
        "#Write a program to find the last position of a substring “Emma” in a given string.\n",
        "str1 = \"Emma is a data scientist who knows Python. Emma works at google.\"\n",
        "\n",
        "a = str1.rfind(\"Emma\")\n",
        "print(a)\n"
      ],
      "metadata": {
        "colab": {
          "base_uri": "https://localhost:8080/"
        },
        "id": "4MfS_z9LhkMH",
        "outputId": "5d92177c-9af7-44fd-e664-67c7a4271e7c"
      },
      "execution_count": 50,
      "outputs": [
        {
          "output_type": "stream",
          "name": "stdout",
          "text": [
            "43\n"
          ]
        }
      ]
    },
    {
      "cell_type": "code",
      "source": [
        "str = \"heLLo\"\n",
        "\n",
        "#Converts the first character to upper case\n",
        "print(str.capitalize())\n",
        "#Converts string into lower case\n",
        "print(str.casefold())\n",
        "#Returns a centered string\n",
        "print(str.center(5))\n",
        "#Returns the number of times a specified value occurs in a string\n",
        "print(str.count(\"L\"))\n",
        "#Returns an encoded version of the string\n",
        "str1= \"My name is Ståle\"\n",
        "print(str1.encode())\n",
        "print(str1.encode(encoding=\"ascii\",errors=\"backslashreplace\"))\n",
        "print(str1.encode(encoding=\"ascii\",errors=\"ignore\"))\n",
        "#Returns true if the string ends with the specified value\n",
        "print(str.endswith(\"o\"))\n",
        "print(str.endswith(\"L\"))\n",
        "\n",
        "#Sets the tab size of the string\n",
        "txt = \"H\\te\\tl\\tl\\to\"\n",
        "\n",
        "print(txt)\n",
        "print(txt.expandtabs())\n",
        "print(txt.expandtabs(2))\n",
        "print(txt.expandtabs(4))\n",
        "print(txt.expandtabs(10))\n",
        "\n",
        "# Searches the string for a specified value and returns the position of where it was found\n",
        "# The find() method is almost the same as the index() method,\n",
        "# the only difference is that the index() method raises an exception if the value is not found. (See example below)\n",
        "print(str.find(\"o\"))\n",
        "\n",
        "# Formats specified values in a string\n",
        "txt1 = \"My name is {fname}, I'm {age}\".format(fname = \"John\", age = 36)\n",
        "txt2 = \"My name is {0}, I'm {1}\".format(\"John\",36)\n",
        "txt3 = \"My name is {}, I'm {}\".format(\"John\",36)\n",
        "txt4 = \"For only {price:.2f} dollars!\".format(price = 49)\n",
        "print(txt1)\n",
        "print(txt2)\n",
        "print(txt3)\n",
        "print(txt4)\n",
        "\n",
        "#Formats specified values in a string of dict\n",
        "# input stored in variable a.\n",
        "a = {'x':'John', 'y':'Wick'}\n",
        "\n",
        "# Use of format_map() function\n",
        "print(\"{x}'s last name is {y}\".format_map(a))\n",
        "\n",
        "#Searches the string for a specified value and returns the position of where it was found\n",
        "print(str.index(\"L\"))\n",
        "\n",
        "# Returns True if all characters in the string are alphanumeric\n",
        "print(str.isalnum())\n",
        "\n",
        "# Returns True if all characters in the string are in the alphabet\n",
        "print(str.isalpha())\n",
        "\n",
        "# Returns True if all characters in the string are ascii characters (a-z)\n",
        "print(str.isascii())\n",
        "\n",
        "# Returns True if all characters in the string are decimals\n",
        "print(str.isdecimal())\n",
        "print(\"1234\".isdecimal())\n",
        "\n",
        "#Returns True if all characters in the string are digits\n",
        "print(str.isdigit())\n",
        "\n",
        "# Returns True if the string is an identifier\n",
        "# A string is considered a valid identifier if it only contains alphanumeric letters (a-z) and (0-9), or underscores (_).\n",
        "#A valid identifier cannot start with a number, or contain any spaces.\n",
        "print(str.isidentifier())\n",
        "\n",
        "# Returns True if all characters in the string are lower case\n",
        "print(str.islower())\n",
        "\n",
        "# Returns True if all characters in the string are numeric\n",
        "print(str.isnumeric())\n",
        "\n",
        "# Returns True if all characters in the string are printable\n",
        "print(str.isprintable())\n",
        "\n",
        "# Returns True if all characters in the string are whitespaces\n",
        "print(str.isspace())\n",
        "\n",
        "# Returns True if the string follows the rules of a title\n",
        "# The istitle() method returns True if all words in a text start with a upper case letter,\n",
        "# AND the rest of the word are lower case letters, otherwise False.\n",
        "print(str.title().istitle())\n",
        "\n",
        "# Returns True if all characters in the string are upper case\n",
        "print(str.upper().isupper())\n",
        "\n",
        "# Converts the elements of an iterable into a string\n",
        "#str.join()\n",
        "myTuple = (\"John\", \"Peter\", \"Vicky\")\n",
        "x = \"#\".join(myTuple)\n",
        "y = \" \".join(myTuple)\n",
        "print(x, y)\n",
        "\n",
        "myDict = {\"name\": \"John\", \"country\": \"Norway\"}\n",
        "mySeparator = \"TEST\"\n",
        "sep = \"SEP\"\n",
        "x = mySeparator.join(myDict)\n",
        "y = sep.join(myDict.values())\n",
        "z = sep.join(myDict.keys())\n",
        "print(x)\n",
        "print(y)\n",
        "print(z)\n",
        "\n",
        "# Returns a left justified version of the string\n",
        "txt = \"banana\"\n",
        "x = txt.ljust(8,\"_\")\n",
        "print(x, \"is my favorite fruit.\")\n",
        "\n",
        "# Converts a string into lower case\n",
        "print(str.lower())\n",
        "\n",
        "# Returns a left trim version of the string\n",
        "str.lstrip()\n",
        "\n",
        "# Returns a translation table to be used in translations which is nothing but translate or replace\n",
        "x = str.maketrans(\"L\",\"l\")\n",
        "print(str.translate(x))\n",
        "\n",
        "# Returns a tuple where the string is parted into three parts\n",
        "txt = \"I could eat bananas all day\"\n",
        "x = txt.partition(\"bananas\")\n",
        "print(x)\n",
        "\n",
        "#str.removeprefix()\n",
        "#str.removesuffix()\n",
        "# Returns a string where a specified value is replaced with a specified value\n",
        "txt = \"I like bananas\"\n",
        "x = txt.replace(\"bananas\", \"apples\")\n",
        "print(x)\n",
        "# Searches the string for a specified value and returns the last position of where it was found\n",
        "txt = \"Mi casa, su casa.\"\n",
        "x = txt.rfind(\"casa\")\n",
        "print(x)\n",
        "\n",
        "str.rindex()\n",
        "str.rjust()\n",
        "str.rpartition()\n",
        "str.rsplit()\n",
        "str.rstrip()\n",
        "str.split()\n",
        "str.splitlines()\n",
        "str.startswith()\n",
        "str.strip()\n",
        "str.swapcase()\n",
        "str.title()\n",
        "str.translate()\n",
        "str.upper()\n",
        "str.zfill()"
      ],
      "metadata": {
        "colab": {
          "base_uri": "https://localhost:8080/",
          "height": 1000
        },
        "id": "A_zUatiriImW",
        "outputId": "37597626-98e4-4c6b-f7d8-2455f8426a9f"
      },
      "execution_count": 83,
      "outputs": [
        {
          "output_type": "stream",
          "name": "stdout",
          "text": [
            "Hello\n",
            "hello\n",
            "heLLo\n",
            "2\n",
            "b'My name is St\\xc3\\xa5le'\n",
            "b'My name is St\\\\xe5le'\n",
            "b'My name is Stle'\n",
            "True\n",
            "False\n",
            "H\te\tl\tl\to\n",
            "H       e       l       l       o\n",
            "H e l l o\n",
            "H   e   l   l   o\n",
            "H         e         l         l         o\n",
            "4\n",
            "My name is John, I'm 36\n",
            "My name is John, I'm 36\n",
            "My name is John, I'm 36\n",
            "For only 49.00 dollars!\n",
            "John's last name is Wick\n",
            "2\n",
            "True\n",
            "True\n",
            "True\n",
            "False\n",
            "True\n",
            "False\n",
            "True\n",
            "False\n",
            "False\n",
            "True\n",
            "False\n",
            "True\n",
            "True\n",
            "John#Peter#Vicky John Peter Vicky\n",
            "nameTESTcountry\n",
            "JohnSEPNorway\n",
            "nameSEPcountry\n",
            "banana__ is my favorite fruit.\n",
            "hello\n",
            "hello\n",
            "('I could eat ', 'bananas', ' all day')\n",
            "I like apples\n",
            "12\n"
          ]
        },
        {
          "output_type": "error",
          "ename": "TypeError",
          "evalue": "ignored",
          "traceback": [
            "\u001b[0;31m---------------------------------------------------------------------------\u001b[0m",
            "\u001b[0;31mTypeError\u001b[0m                                 Traceback (most recent call last)",
            "\u001b[0;32m<ipython-input-83-154bd42bf472>\u001b[0m in \u001b[0;36m<cell line: 143>\u001b[0;34m()\u001b[0m\n\u001b[1;32m    141\u001b[0m \u001b[0mprint\u001b[0m\u001b[0;34m(\u001b[0m\u001b[0mx\u001b[0m\u001b[0;34m)\u001b[0m\u001b[0;34m\u001b[0m\u001b[0;34m\u001b[0m\u001b[0m\n\u001b[1;32m    142\u001b[0m \u001b[0;34m\u001b[0m\u001b[0m\n\u001b[0;32m--> 143\u001b[0;31m \u001b[0mstr\u001b[0m\u001b[0;34m.\u001b[0m\u001b[0mrindex\u001b[0m\u001b[0;34m(\u001b[0m\u001b[0;34m)\u001b[0m\u001b[0;34m\u001b[0m\u001b[0;34m\u001b[0m\u001b[0m\n\u001b[0m\u001b[1;32m    144\u001b[0m \u001b[0mstr\u001b[0m\u001b[0;34m.\u001b[0m\u001b[0mrjust\u001b[0m\u001b[0;34m(\u001b[0m\u001b[0;34m)\u001b[0m\u001b[0;34m\u001b[0m\u001b[0;34m\u001b[0m\u001b[0m\n\u001b[1;32m    145\u001b[0m \u001b[0mstr\u001b[0m\u001b[0;34m.\u001b[0m\u001b[0mrpartition\u001b[0m\u001b[0;34m(\u001b[0m\u001b[0;34m)\u001b[0m\u001b[0;34m\u001b[0m\u001b[0;34m\u001b[0m\u001b[0m\n",
            "\u001b[0;31mTypeError\u001b[0m: rindex() takes at least 1 argument (0 given)"
          ]
        }
      ]
    },
    {
      "cell_type": "markdown",
      "source": [
        "# **LISTs METHODS**"
      ],
      "metadata": {
        "id": "VsqdXdcjBSSR"
      }
    },
    {
      "cell_type": "code",
      "source": [
        "2."
      ],
      "metadata": {
        "id": "5Isd_rzuBN52"
      },
      "execution_count": null,
      "outputs": []
    },
    {
      "cell_type": "markdown",
      "source": [
        "# **TUPLES METHODS**"
      ],
      "metadata": {
        "id": "5MLoZFhtBcvW"
      }
    },
    {
      "cell_type": "code",
      "source": [],
      "metadata": {
        "id": "6_Fp1ZZCBcSc"
      },
      "execution_count": null,
      "outputs": []
    },
    {
      "cell_type": "markdown",
      "source": [
        "# **DICTIONARIES METHODS**"
      ],
      "metadata": {
        "id": "1spHA-9PBkHb"
      }
    },
    {
      "cell_type": "code",
      "source": [],
      "metadata": {
        "id": "2WLmyBkkBjjP"
      },
      "execution_count": null,
      "outputs": []
    },
    {
      "cell_type": "markdown",
      "source": [
        "# **SET METHODS**"
      ],
      "metadata": {
        "id": "OSInG29jBpUu"
      }
    },
    {
      "cell_type": "code",
      "source": [],
      "metadata": {
        "id": "tZ7Rn5-DBu2G"
      },
      "execution_count": null,
      "outputs": []
    },
    {
      "cell_type": "markdown",
      "source": [
        "# **Convert Decimal to Binary, Octal and Hexdecimal with direct method**"
      ],
      "metadata": {
        "id": "jKNGzUdQBvU9"
      }
    },
    {
      "cell_type": "code",
      "source": [
        "# Python program to convert decimal into other number systems\n",
        "dec = 344\n",
        "\n",
        "print(\"The decimal value of\", dec, \"is:\")\n",
        "print(bin(dec), \"in binary.\")\n",
        "print(oct(dec), \"in octal.\")\n",
        "print(hex(dec), \"in hexadecimal.\")"
      ],
      "metadata": {
        "id": "OuILaLWxB5Y2",
        "colab": {
          "base_uri": "https://localhost:8080/"
        },
        "outputId": "0976ff27-a40f-4061-cf07-299c4549d910"
      },
      "execution_count": null,
      "outputs": [
        {
          "output_type": "stream",
          "name": "stdout",
          "text": [
            "The decimal value of 344 is:\n",
            "0b101011000 in binary.\n",
            "0o530 in octal.\n",
            "0x158 in hexadecimal.\n"
          ]
        }
      ]
    },
    {
      "cell_type": "markdown",
      "source": [
        "# **Arithmetic operators with examples**"
      ],
      "metadata": {
        "id": "9Kk64UorB5y_"
      }
    },
    {
      "cell_type": "code",
      "source": [],
      "metadata": {
        "id": "oO3hhEzNB9lw"
      },
      "execution_count": null,
      "outputs": []
    },
    {
      "cell_type": "markdown",
      "source": [
        "# **Assignment operators with examples**"
      ],
      "metadata": {
        "id": "HBh58gOrB-FR"
      }
    },
    {
      "cell_type": "markdown",
      "source": [
        "# **Comparison operators with examples.**"
      ],
      "metadata": {
        "id": "HNj-Q0CtCA6k"
      }
    },
    {
      "cell_type": "markdown",
      "source": [
        "# **Logical operators with examples.**"
      ],
      "metadata": {
        "id": "-3UoGF1bCDwi"
      }
    },
    {
      "cell_type": "markdown",
      "source": [
        "# **Bitwise operators with examples.**"
      ],
      "metadata": {
        "id": "65oeQoMvCGww"
      }
    },
    {
      "cell_type": "markdown",
      "source": [
        "# **Membership operators with examples.**"
      ],
      "metadata": {
        "id": "Me-gTcJ1CPV4"
      }
    },
    {
      "cell_type": "markdown",
      "source": [
        "# **Identity operators with examples**"
      ],
      "metadata": {
        "id": "I-7LuR4ICSWn"
      }
    },
    {
      "cell_type": "markdown",
      "source": [
        "# **Demonstrate Negative indexing for List and apply slicing.**"
      ],
      "metadata": {
        "id": "Yoh_XlIsCVIa"
      }
    },
    {
      "cell_type": "markdown",
      "source": [
        "# **Predict the output for the given code snippet and justify the result.**\n",
        "\n",
        "\n",
        "\n",
        "*   print(\"A series of characters designated as one object known as a string\"[::-1][4::3])\n",
        "*   print(\"------------\")\n",
        "*   print(\"welcome to Python training program\"[3:10][::-1])\n",
        "\n",
        "\n",
        "\n",
        "\n",
        "\n",
        "\n"
      ],
      "metadata": {
        "id": "yMY0hOb5CY1C"
      }
    },
    {
      "cell_type": "code",
      "source": [
        "print(\"A series of characters designated as one object known as a string\"[::-1][4::3])"
      ],
      "metadata": {
        "colab": {
          "base_uri": "https://localhost:8080/"
        },
        "id": "zf6Upqxdcka1",
        "outputId": "24d5a2aa-526b-4a23-d230-53069bbdc93f"
      },
      "execution_count": null,
      "outputs": [
        {
          "output_type": "stream",
          "name": "stdout",
          "text": [
            "taawkcbe  tgestrcoeeA\n"
          ]
        }
      ]
    },
    {
      "cell_type": "code",
      "source": [
        "print(\"welcome to Python training program\"[3:10][::-1])"
      ],
      "metadata": {
        "colab": {
          "base_uri": "https://localhost:8080/"
        },
        "id": "v8qrrRgacysh",
        "outputId": "f02e32ac-e1dd-443b-aa71-78d38e661413"
      },
      "execution_count": null,
      "outputs": [
        {
          "output_type": "stream",
          "name": "stdout",
          "text": [
            "ot emoc\n"
          ]
        }
      ]
    },
    {
      "cell_type": "markdown",
      "source": [
        "# **Write a python code to get desired output**\n",
        "\n",
        "\n",
        "\n",
        "*   input_string: p_phrase=\"was it a car or a cat I saw\"\n",
        "*   output : WAS I TAC A RO RAC A TI SAW\n",
        "\n"
      ],
      "metadata": {
        "id": "11NM0ct6C7mI"
      }
    },
    {
      "cell_type": "code",
      "source": [
        "s1 = \"was it a car or a cat I saw\"\n",
        "print(s1[::-1].upper())\n"
      ],
      "metadata": {
        "id": "qHxOL43olrtv",
        "colab": {
          "base_uri": "https://localhost:8080/"
        },
        "outputId": "5ab87498-bee7-4733-fe88-a214c002ec73"
      },
      "execution_count": null,
      "outputs": [
        {
          "output_type": "stream",
          "name": "stdout",
          "text": [
            "WAS I TAC A RO RAC A TI SAW\n"
          ]
        }
      ]
    },
    {
      "cell_type": "markdown",
      "source": [
        "You are required to generate a word similar to ZOO, X and Y that denote the number of Zs and Os respectively.\n",
        "The generated word similar to ZOO where Y= 2 * X.\n",
        "\n",
        "*   Input X= 2 Output ZZOOOO\n",
        "*   Input X= 5 Output ZZZZZOOOOOOOOOO\n",
        "\n"
      ],
      "metadata": {
        "id": "INW5M4LlD0uj"
      }
    },
    {
      "cell_type": "code",
      "source": [
        "S = \"ZOO\"\n",
        "X = int(input())\n",
        "\n",
        "for i in S:\n",
        "  print(i * X,end=\"\")"
      ],
      "metadata": {
        "colab": {
          "base_uri": "https://localhost:8080/"
        },
        "id": "HZrMnvO-nAGm",
        "outputId": "b8ace1ad-4220-4756-ccc3-cf952d5c734b"
      },
      "execution_count": null,
      "outputs": [
        {
          "output_type": "stream",
          "name": "stdout",
          "text": [
            "5\n",
            "ZZZZZOOOOOOOOOO"
          ]
        }
      ]
    },
    {
      "cell_type": "markdown",
      "source": [
        "# **Matrix Subtraction, Addition, Multiplication**"
      ],
      "metadata": {
        "id": "OLQBRxOdEMmo"
      }
    }
  ]
}