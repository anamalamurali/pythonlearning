{
  "nbformat": 4,
  "nbformat_minor": 0,
  "metadata": {
    "colab": {
      "provenance": [],
      "authorship_tag": "ABX9TyPmmEkAwkPTJxW8IxMe6JwD",
      "include_colab_link": true
    },
    "kernelspec": {
      "name": "python3",
      "display_name": "Python 3"
    },
    "language_info": {
      "name": "python"
    }
  },
  "cells": [
    {
      "cell_type": "markdown",
      "metadata": {
        "id": "view-in-github",
        "colab_type": "text"
      },
      "source": [
        "<a href=\"https://colab.research.google.com/github/muralianamala/pythonlearning/blob/main/Assignment-2.ipynb\" target=\"_parent\"><img src=\"https://colab.research.google.com/assets/colab-badge.svg\" alt=\"Open In Colab\"/></a>"
      ]
    },
    {
      "cell_type": "markdown",
      "source": [
        "1. Unique Sort problem – Implement this in 5 different ways.\n",
        "Take a string as input that accepts a comma separated sequence of words as input and\n",
        "prints the unique words in sorted form (alphanumerically).\n",
        "*Input*: orange, white, red, cyan, green, magenta, cyan, pink, white\n",
        "*Output*: cyan, green, magenta, orange, pink, red, white"
      ],
      "metadata": {
        "id": "7RC_k1zdMGWy"
      }
    },
    {
      "cell_type": "code",
      "execution_count": 2,
      "metadata": {
        "colab": {
          "base_uri": "https://localhost:8080/"
        },
        "id": "EKtMGVWlMBCm",
        "outputId": "abf12146-4f27-4cac-a091-d03ad28f2ccc"
      },
      "outputs": [
        {
          "name": "stdout",
          "output_type": "stream",
          "text": [
            "enter a comma seperated sentenceorange, white, red, cyan, green, magenta, cyan, pink, white\n"
          ]
        }
      ],
      "source": [
        "s= input(\"enter a comma seperated sentence\")\n",
        "l = s.split(\",\")"
      ]
    },
    {
      "cell_type": "code",
      "source": [
        "print(l)\n",
        "l.sort()\n",
        "x = list((set(l)))\n",
        "x.sort()\n",
        "for i in x:\n",
        "  print(i,end=\",\")"
      ],
      "metadata": {
        "colab": {
          "base_uri": "https://localhost:8080/"
        },
        "id": "F_UJA9iVaZF9",
        "outputId": "5367c8f5-e14e-40d0-ca20-1cf851b4c97d"
      },
      "execution_count": 8,
      "outputs": [
        {
          "output_type": "stream",
          "name": "stdout",
          "text": [
            "[' cyan', ' cyan', ' green', ' magenta', ' pink', ' red', ' white', ' white', 'orange']\n",
            " cyan, green, magenta, pink, red, white,orange,"
          ]
        }
      ]
    },
    {
      "cell_type": "markdown",
      "source": [
        "2. SpaceTo Hyphen problem\n",
        "\n",
        "\n",
        "Take a string as input, and replaces spaces “ “ with hyphens “- ”, and returns a string.\n",
        "“This program converts spaces into hyphen” becomes\n",
        "“ This-program-converts-spaces-into-hyphen”"
      ],
      "metadata": {
        "id": "68lQ0lPTMqqW"
      }
    },
    {
      "cell_type": "code",
      "source": [
        "x = input()"
      ],
      "metadata": {
        "colab": {
          "base_uri": "https://localhost:8080/"
        },
        "id": "ZCyFBXdcMuyn",
        "outputId": "7ef6b06f-b69e-4e73-f569-c8e3c9a5702e"
      },
      "execution_count": null,
      "outputs": [
        {
          "name": "stdout",
          "output_type": "stream",
          "text": [
            "This program converts spaces into hyphen\n"
          ]
        }
      ]
    },
    {
      "cell_type": "code",
      "source": [
        "print(x)\n",
        "y = x.replace(\" \",\"-\")\n",
        "print(y)\n"
      ],
      "metadata": {
        "colab": {
          "base_uri": "https://localhost:8080/"
        },
        "id": "sNlN6l41NK49",
        "outputId": "0f49f59d-b690-46ff-c16a-89d5f9544898"
      },
      "execution_count": null,
      "outputs": [
        {
          "output_type": "stream",
          "name": "stdout",
          "text": [
            "This program converts spaces into hyphen\n",
            "This-program-converts-spaces-into-hyphen\n"
          ]
        }
      ]
    },
    {
      "cell_type": "markdown",
      "source": [
        "3. Python Program:\n",
        "\n",
        "Create a list with name statelist with five elements\n",
        "\n",
        "statelist = [\"Delhi\",\"Telangana\",\"Goa\",\"AP\",\"Kerala\"]\n",
        "\n",
        "Write a python program that extract first and last characters of each item\n",
        "print it in desired format\n",
        "o/p : dItAgAaPkA"
      ],
      "metadata": {
        "id": "PaYeUAA9OBRl"
      }
    },
    {
      "cell_type": "code",
      "source": [
        "statelist = [\"Delhi\",\"Telangana\",\"Goa\",\"AP\",\"Kerala\"]\n",
        "s=\"\"\n",
        "for i in statelist:\n",
        "  for j in range(len(i)):\n",
        "    if j == 0:\n",
        "      s += i[j].lower()\n",
        "    elif j == (len(i)-1):\n",
        "      s += i[j].upper()\n",
        "    else:\n",
        "      pass\n",
        "\n",
        "print(s)\n",
        "\n"
      ],
      "metadata": {
        "colab": {
          "base_uri": "https://localhost:8080/"
        },
        "id": "EUpBCvF4Omcm",
        "outputId": "2d66a21e-667a-4717-baa4-6b1cc28db945"
      },
      "execution_count": null,
      "outputs": [
        {
          "output_type": "stream",
          "name": "stdout",
          "text": [
            "dItAgAaPkA\n"
          ]
        }
      ]
    },
    {
      "cell_type": "markdown",
      "source": [
        "4. Python Program:\n",
        "\n",
        "\n",
        "statelist = [\"Delhi\",\"Telangana\",\"Goa\",\"AP\",\"Kerala\"]\n",
        "\n",
        "Write a python program that extract middle characters of each item\n",
        "print if it is vowel"
      ],
      "metadata": {
        "id": "DlMwEilpRGg6"
      }
    },
    {
      "cell_type": "code",
      "source": [
        "statelist = [\"Delhi\",\"Bihar\",\"Goa\",\"Gujarat\",\"Assam\"]\n",
        "s = []\n",
        "for i in statelist:\n",
        "  mi = int(len(i)/2)\n",
        "  if i[mi].lower() in ['a','e','i','o','u']:\n",
        "    s.append(i[mi].upper())\n",
        "  else:\n",
        "    continue\n",
        "s.sort()\n",
        "for i in s:\n",
        "  print(i,end=\"\")\n"
      ],
      "metadata": {
        "colab": {
          "base_uri": "https://localhost:8080/"
        },
        "id": "it8KuBMiRbSt",
        "outputId": "7f644e18-c571-4949-89de-f935b2ba1ea8"
      },
      "execution_count": null,
      "outputs": [
        {
          "output_type": "stream",
          "name": "stdout",
          "text": [
            "AO"
          ]
        }
      ]
    },
    {
      "cell_type": "markdown",
      "source": [
        "5. python program\n",
        "\n",
        "statelist = [\"Delhi\",\"Bihar\",\"UP\",\"Goa\",\"Gujarat\",\"Assam\",\"AP\"]\n",
        "\n",
        "write a program that extract second chracter of eac item and print that character if it is vowel.\n",
        "\n",
        "o/p: UOIE"
      ],
      "metadata": {
        "id": "TR2hbqBFUKeg"
      }
    },
    {
      "cell_type": "code",
      "source": [
        "statelist = [\"Delhi\",\"Bihar\",\"UP\",\"Goa\",\"Gujarat\",\"Assam\",\"AP\"]\n",
        "l = []\n",
        "vowels = ['a','e','i','o','u']\n",
        "for i in statelist:\n",
        "  if i[1].lower() in vowels:\n",
        "    l.append(i[1].upper())\n",
        "  else:\n",
        "    continue\n",
        "l.sort(reverse=True)\n",
        "for i in l:\n",
        "  print(i,end=\"\")\n"
      ],
      "metadata": {
        "colab": {
          "base_uri": "https://localhost:8080/"
        },
        "id": "sCuHa9diVj-k",
        "outputId": "d13be3c5-bace-479c-bff6-e5fe0a2a09ed"
      },
      "execution_count": null,
      "outputs": [
        {
          "output_type": "stream",
          "name": "stdout",
          "text": [
            "UOIE"
          ]
        }
      ]
    },
    {
      "cell_type": "markdown",
      "source": [
        "6. program\n",
        "\n",
        "statelist = [\"Delhi\",\"Bihar\",\"UP\",\"Goa\",\"Gujarat\",\"Assam\",\"AP\"]\n",
        "\n",
        "extract last second character of each item and print it if its vowel\n",
        "\n",
        "o/p: AAAOUA"
      ],
      "metadata": {
        "id": "nxnrXSRhWPtD"
      }
    },
    {
      "cell_type": "code",
      "source": [
        "statelist = [\"Delhi\",\"Bihar\",\"UP\",\"Goa\",\"Gujarat\",\"Assam\",\"AP\"]\n",
        "l = []\n",
        "for i in statelist:\n",
        "   if i[len(i) - 2].lower() in vowels:\n",
        "    l.append(i[len(i) - 2].upper())\n",
        "\n",
        "l.reverse()\n",
        "for i in l:\n",
        "  print(i,end=\"\")\n"
      ],
      "metadata": {
        "colab": {
          "base_uri": "https://localhost:8080/"
        },
        "id": "iaRARbvJWkQB",
        "outputId": "cd79d4f1-fbf4-4458-ed2e-fb212b6d36cf"
      },
      "execution_count": null,
      "outputs": [
        {
          "output_type": "stream",
          "name": "stdout",
          "text": [
            "AAAOUA"
          ]
        }
      ]
    },
    {
      "cell_type": "markdown",
      "source": [
        "7. Write a program using filter and without filter\n",
        "\n"
      ],
      "metadata": {
        "id": "VregKf1cXudJ"
      }
    }
  ]
}