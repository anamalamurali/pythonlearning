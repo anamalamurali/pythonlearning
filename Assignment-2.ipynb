{
  "nbformat": 4,
  "nbformat_minor": 0,
  "metadata": {
    "colab": {
      "provenance": [],
      "authorship_tag": "ABX9TyOgYhmy145sHa2oIxxrwIh9",
      "include_colab_link": true
    },
    "kernelspec": {
      "name": "python3",
      "display_name": "Python 3"
    },
    "language_info": {
      "name": "python"
    }
  },
  "cells": [
    {
      "cell_type": "markdown",
      "metadata": {
        "id": "view-in-github",
        "colab_type": "text"
      },
      "source": [
        "<a href=\"https://colab.research.google.com/github/muralianamala/pythonlearning/blob/main/Assignment-2.ipynb\" target=\"_parent\"><img src=\"https://colab.research.google.com/assets/colab-badge.svg\" alt=\"Open In Colab\"/></a>"
      ]
    },
    {
      "cell_type": "markdown",
      "source": [
        "1. Unique Sort problem – Implement this in 5 different ways.\n",
        "Take a string as input that accepts a comma separated sequence of words as input and\n",
        "prints the unique words in sorted form (alphanumerically).\n",
        "*Input*: orange, white, red, cyan, green, magenta, cyan, pink, white\n",
        "*Output*: cyan, green, magenta, orange, pink, red, white"
      ],
      "metadata": {
        "id": "7RC_k1zdMGWy"
      }
    },
    {
      "cell_type": "code",
      "execution_count": 7,
      "metadata": {
        "colab": {
          "base_uri": "https://localhost:8080/"
        },
        "id": "EKtMGVWlMBCm",
        "outputId": "8fac16ff-661f-4fce-e8a6-df2fff1e97d2"
      },
      "outputs": [
        {
          "name": "stdout",
          "output_type": "stream",
          "text": [
            "enter a comma seperated sentenceorange,white,red,cyan,green,magenta,cyan,pink,white\n"
          ]
        }
      ],
      "source": [
        "s= input(\"enter a comma seperated sentence\")\n",
        "l = s.split(\",\")\n",
        "#"
      ]
    },
    {
      "cell_type": "code",
      "source": [
        "print(l)\n",
        "x = sorted(set(l))\n",
        "print(x)"
      ],
      "metadata": {
        "colab": {
          "base_uri": "https://localhost:8080/"
        },
        "id": "F_UJA9iVaZF9",
        "outputId": "6803aebe-3654-42e6-ecfc-3972a11e3a91"
      },
      "execution_count": 8,
      "outputs": [
        {
          "output_type": "stream",
          "name": "stdout",
          "text": [
            "['orange', 'white', 'red', 'cyan', 'green', 'magenta', 'cyan', 'pink', 'white']\n",
            "['cyan', 'green', 'magenta', 'orange', 'pink', 'red', 'white']\n"
          ]
        }
      ]
    },
    {
      "cell_type": "markdown",
      "source": [
        "2. SpaceTo Hyphen problem\n",
        "\n",
        "\n",
        "Take a string as input, and replaces spaces “ “ with hyphens “- ”, and returns a string.\n",
        "“This program converts spaces into hyphen” becomes\n",
        "“ This-program-converts-spaces-into-hyphen”"
      ],
      "metadata": {
        "id": "68lQ0lPTMqqW"
      }
    },
    {
      "cell_type": "code",
      "source": [
        "x = input()"
      ],
      "metadata": {
        "colab": {
          "base_uri": "https://localhost:8080/"
        },
        "id": "ZCyFBXdcMuyn",
        "outputId": "7ef6b06f-b69e-4e73-f569-c8e3c9a5702e"
      },
      "execution_count": null,
      "outputs": [
        {
          "name": "stdout",
          "output_type": "stream",
          "text": [
            "This program converts spaces into hyphen\n"
          ]
        }
      ]
    },
    {
      "cell_type": "code",
      "source": [
        "print(x)\n",
        "y = x.replace(\" \",\"-\")\n",
        "print(y)\n"
      ],
      "metadata": {
        "colab": {
          "base_uri": "https://localhost:8080/"
        },
        "id": "sNlN6l41NK49",
        "outputId": "0f49f59d-b690-46ff-c16a-89d5f9544898"
      },
      "execution_count": null,
      "outputs": [
        {
          "output_type": "stream",
          "name": "stdout",
          "text": [
            "This program converts spaces into hyphen\n",
            "This-program-converts-spaces-into-hyphen\n"
          ]
        }
      ]
    },
    {
      "cell_type": "markdown",
      "source": [
        "3. Python Program:\n",
        "\n",
        "Create a list with name statelist with five elements\n",
        "\n",
        "statelist = [\"Delhi\",\"Telangana\",\"Goa\",\"AP\",\"Kerala\"]\n",
        "\n",
        "Write a python program that extract first and last characters of each item\n",
        "print it in desired format\n",
        "o/p : dItAgAaPkA"
      ],
      "metadata": {
        "id": "PaYeUAA9OBRl"
      }
    },
    {
      "cell_type": "code",
      "source": [
        "statelist = [\"Delhi\",\"Telangana\",\"Goa\",\"AP\",\"Kerala\"]\n",
        "s=\"\"\n",
        "for i in statelist:\n",
        "  for j in range(len(i)):\n",
        "    if j == 0:\n",
        "      s += i[j].lower()\n",
        "    elif j == (len(i)-1):\n",
        "      s += i[j].upper()\n",
        "    else:\n",
        "      pass\n",
        "\n",
        "print(s)\n",
        "\n"
      ],
      "metadata": {
        "colab": {
          "base_uri": "https://localhost:8080/"
        },
        "id": "EUpBCvF4Omcm",
        "outputId": "2d66a21e-667a-4717-baa4-6b1cc28db945"
      },
      "execution_count": null,
      "outputs": [
        {
          "output_type": "stream",
          "name": "stdout",
          "text": [
            "dItAgAaPkA\n"
          ]
        }
      ]
    },
    {
      "cell_type": "markdown",
      "source": [
        "4. Python Program:\n",
        "\n",
        "\n",
        "statelist = [\"Delhi\",\"Telangana\",\"Goa\",\"AP\",\"Kerala\"]\n",
        "\n",
        "Write a python program that extract middle characters of each item\n",
        "print if it is vowel"
      ],
      "metadata": {
        "id": "DlMwEilpRGg6"
      }
    },
    {
      "cell_type": "code",
      "source": [
        "statelist = [\"Delhi\",\"Bihar\",\"Goa\",\"Gujarat\",\"Assam\"]\n",
        "s = []\n",
        "for i in statelist:\n",
        "  mi = int(len(i)/2)\n",
        "  if i[mi].lower() in ['a','e','i','o','u']:\n",
        "    s.append(i[mi].upper())\n",
        "  else:\n",
        "    continue\n",
        "s.sort()\n",
        "for i in s:\n",
        "  print(i,end=\"\")\n"
      ],
      "metadata": {
        "colab": {
          "base_uri": "https://localhost:8080/"
        },
        "id": "it8KuBMiRbSt",
        "outputId": "7f644e18-c571-4949-89de-f935b2ba1ea8"
      },
      "execution_count": null,
      "outputs": [
        {
          "output_type": "stream",
          "name": "stdout",
          "text": [
            "AO"
          ]
        }
      ]
    },
    {
      "cell_type": "markdown",
      "source": [
        "5. python program\n",
        "\n",
        "statelist = [\"Delhi\",\"Bihar\",\"UP\",\"Goa\",\"Gujarat\",\"Assam\",\"AP\"]\n",
        "\n",
        "write a program that extract second chracter of eac item and print that character if it is vowel.\n",
        "\n",
        "o/p: UOIE"
      ],
      "metadata": {
        "id": "TR2hbqBFUKeg"
      }
    },
    {
      "cell_type": "code",
      "source": [
        "statelist = [\"Delhi\",\"Bihar\",\"UP\",\"Goa\",\"Gujarat\",\"Assam\",\"AP\"]\n",
        "l = []\n",
        "vowels = ['a','e','i','o','u']\n",
        "for i in statelist:\n",
        "  if i[1].lower() in vowels:\n",
        "    l.append(i[1].upper())\n",
        "  else:\n",
        "    continue\n",
        "l.sort(reverse=True)\n",
        "for i in l:\n",
        "  print(i,end=\"\")\n"
      ],
      "metadata": {
        "colab": {
          "base_uri": "https://localhost:8080/"
        },
        "id": "sCuHa9diVj-k",
        "outputId": "d13be3c5-bace-479c-bff6-e5fe0a2a09ed"
      },
      "execution_count": null,
      "outputs": [
        {
          "output_type": "stream",
          "name": "stdout",
          "text": [
            "UOIE"
          ]
        }
      ]
    },
    {
      "cell_type": "markdown",
      "source": [
        "6. program\n",
        "\n",
        "statelist = [\"Delhi\",\"Bihar\",\"UP\",\"Goa\",\"Gujarat\",\"Assam\",\"AP\"]\n",
        "\n",
        "extract last second character of each item and print it if its vowel\n",
        "\n",
        "o/p: AAAOUA"
      ],
      "metadata": {
        "id": "nxnrXSRhWPtD"
      }
    },
    {
      "cell_type": "code",
      "source": [
        "statelist = [\"Delhi\",\"Bihar\",\"UP\",\"Goa\",\"Gujarat\",\"Assam\",\"AP\"]\n",
        "l = []\n",
        "for i in statelist:\n",
        "   if i[len(i) - 2].lower() in vowels:\n",
        "    l.append(i[len(i) - 2].upper())\n",
        "\n",
        "l.reverse()\n",
        "for i in l:\n",
        "  print(i,end=\"\")\n"
      ],
      "metadata": {
        "colab": {
          "base_uri": "https://localhost:8080/"
        },
        "id": "iaRARbvJWkQB",
        "outputId": "cd79d4f1-fbf4-4458-ed2e-fb212b6d36cf"
      },
      "execution_count": null,
      "outputs": [
        {
          "output_type": "stream",
          "name": "stdout",
          "text": [
            "AAAOUA"
          ]
        }
      ]
    },
    {
      "cell_type": "markdown",
      "source": [
        "7. Write a program using filter and without filter\n",
        "\n",
        "Write a program that generates desired o/p i.e from countries list\n",
        "filter out the countries with names that dont contain that string \"and\"\n",
        "\n",
        "i/p: countries=['Finland','Germany','Sweden','Ireland','Turkey']\n",
        "\n",
        "o/p: ['Finland','Ireland']\n"
      ],
      "metadata": {
        "id": "VregKf1cXudJ"
      }
    },
    {
      "cell_type": "code",
      "source": [
        "countries=['Finland','Germany','Sweden','Ireland','Turkey']\n",
        "keyword = 'and'\n",
        "\n",
        "def filter_countries(countries,keyword):\n",
        "  filtered_countries = list(filter(lambda country: keyword in country,countries))\n",
        "  return filtered_countries\n",
        "\n",
        "def filter_without(countries,keyword):\n",
        "  filter_country = [country for country in countries if keyword in country]\n",
        "  return filter_country\n",
        "\n",
        "x = filter_countries(countries,keyword)\n",
        "print(x)\n",
        "y = filter_without(countries,keyword)\n",
        "print(y)\n"
      ],
      "metadata": {
        "colab": {
          "base_uri": "https://localhost:8080/"
        },
        "id": "Dukv9Su9WdiN",
        "outputId": "512e30b7-2613-4bb9-b1d6-239b2c44faf5"
      },
      "execution_count": 10,
      "outputs": [
        {
          "output_type": "stream",
          "name": "stdout",
          "text": [
            "['Finland', 'Ireland']\n",
            "['Finland', 'Ireland']\n"
          ]
        }
      ]
    },
    {
      "cell_type": "markdown",
      "source": [
        "8. Explore about reduce - higher order function and implement\n",
        "\n",
        "write a python program that reduce the given list into single item\n",
        "\n",
        "i/p: [25, 12, 13, 33, 12, 8, 10]\n",
        "\n",
        "o/p: 100"
      ],
      "metadata": {
        "id": "kvTZ8p6HYKB4"
      }
    },
    {
      "cell_type": "code",
      "source": [
        "from functools import reduce\n",
        "x = [25, 12, 13, 33, 12, 8, 10]\n",
        "\n",
        "y = reduce(lambda acc,curr : acc+curr, x)\n",
        "\n",
        "print(y)\n"
      ],
      "metadata": {
        "colab": {
          "base_uri": "https://localhost:8080/"
        },
        "id": "gmircxs_Ynps",
        "outputId": "112e3c62-32c1-4ad3-df8b-4baf71501ca0"
      },
      "execution_count": 17,
      "outputs": [
        {
          "output_type": "stream",
          "name": "stdout",
          "text": [
            "113\n"
          ]
        }
      ]
    },
    {
      "cell_type": "markdown",
      "source": [
        "9. Write a python program that read cost from file input() and create userdefined exception InvalidProductBillException  \n",
        "\n",
        "raise exception if cost<0 print message – Bill cannot be negative"
      ],
      "metadata": {
        "id": "ylYDND6JhwfK"
      }
    },
    {
      "cell_type": "code",
      "source": [
        "class InvalidProductBillException(Exception):\n",
        "  def __init__(self,message=\"Bill can not be negative\"):\n",
        "    self.message = message\n",
        "    super().__init__(self.message)\n",
        "\n",
        "\n",
        "def get_product_cost():\n",
        "  try:\n",
        "    cost=float(input(\"Enter the product cost: $\"))\n",
        "    if cost < 0:\n",
        "      raise InvalidProductBillException()\n",
        "    return cost\n",
        "  except ValueError:\n",
        "    print(\"Invalid input. Please enter a valid number\")\n",
        "    return get_product_cost()\n",
        "\n",
        "def main():\n",
        "  try:\n",
        "    product_cost = get_product_cost()\n",
        "    print(f\"The product cost is: ${product_cost}\")\n",
        "  except InvalidProductBillException as e:\n",
        "    print(f\"Error: {e}\")\n",
        "\n",
        "\n",
        "if __name__ == \"__main__\":\n",
        "  main()"
      ],
      "metadata": {
        "colab": {
          "base_uri": "https://localhost:8080/"
        },
        "id": "VOlL0fFFh9AJ",
        "outputId": "69982479-2112-4b3b-dba6-94388f0f45e2"
      },
      "execution_count": 20,
      "outputs": [
        {
          "output_type": "stream",
          "name": "stdout",
          "text": [
            "Enter the product cost: $4\n",
            "The product cost is: $4.0\n"
          ]
        }
      ]
    },
    {
      "cell_type": "markdown",
      "source": [
        "10. Write a Python function to count the number of digits in a given number and return result into a file countdigit.tx"
      ],
      "metadata": {
        "id": "kcST0Ht7mjcg"
      }
    },
    {
      "cell_type": "code",
      "source": [
        "def count_digits_and_write_to_files(number):\n",
        "  num_digits = len(str(abs(number)))\n",
        "\n",
        "  with open(\"countdigit.txt\",\"w\") as file:\n",
        "    file.write(f\"{num_digits}\")\n",
        "\n",
        "\n",
        "x = int(input(\"Enter a number\"))\n",
        "count_digits_and_write_to_files(x)"
      ],
      "metadata": {
        "colab": {
          "base_uri": "https://localhost:8080/"
        },
        "id": "zIIT9-MNmlsN",
        "outputId": "7f158bdd-7846-4b4f-ddc8-0970c6ed9332"
      },
      "execution_count": 4,
      "outputs": [
        {
          "name": "stdout",
          "output_type": "stream",
          "text": [
            "Enter a number123456\n"
          ]
        }
      ]
    },
    {
      "cell_type": "markdown",
      "source": [
        "11. Write a Python program that reads a number from input() , calculate sum of n- natural number and write result into a file sumresult.txt"
      ],
      "metadata": {
        "id": "LQX59_fNvVUi"
      }
    },
    {
      "cell_type": "code",
      "source": [
        "def sum_natural_num(num):\n",
        "  sum = 0\n",
        "  while num > 0:\n",
        "    sum += num\n",
        "    num -= 1\n",
        "  return sum\n",
        "\n",
        "\n",
        "x = int(input(\"Enter a Number: \"))\n",
        "\n",
        "with open(\"sumreslut.txt\",\"w\") as file:\n",
        "  file.write(f\"Sum of natural Numbers : {sum_natural_num(x)}\")\n",
        "print(sum_natural_num(x))\n"
      ],
      "metadata": {
        "colab": {
          "base_uri": "https://localhost:8080/"
        },
        "id": "4Y1Dk_VHvfW3",
        "outputId": "f9884449-96b3-419b-fe3e-c391f228f9a6"
      },
      "execution_count": 6,
      "outputs": [
        {
          "output_type": "stream",
          "name": "stdout",
          "text": [
            "Enter a Number: 10\n",
            "55\n"
          ]
        }
      ]
    },
    {
      "cell_type": "markdown",
      "source": [
        "12. Write a python program that reads given list and convert list elements into Capitalize format and return the result into target file named listupper.txt(use higher order functions if possible)\n",
        "\n",
        "input : [ramu,laxman,sita,john]\n",
        "\n",
        "output : [Ramu , Laxman, Sita ,John]"
      ],
      "metadata": {
        "id": "HzUfbTRyy733"
      }
    },
    {
      "cell_type": "code",
      "source": [
        "l = ['ramu','laxman','sita','hanuman']\n",
        "y = list(map(lambda x: x.capitalize(),l))\n",
        "\n",
        "for i in y:\n",
        "  with open(\"listupper.txt\",\"a\") as file:\n",
        "    file.write(f\"{i}\\n\")\n",
        "\n"
      ],
      "metadata": {
        "id": "im_-4lK2zEkS"
      },
      "execution_count": 13,
      "outputs": []
    },
    {
      "cell_type": "markdown",
      "source": [
        "13. Write a python program that read input string from file stringinput.txt.\n",
        "\n",
        "Find the reverse of that string and write result into another file reversestr.txt"
      ],
      "metadata": {
        "id": "e1CQ2Xj7zudM"
      }
    },
    {
      "cell_type": "code",
      "source": [
        "with open(\"listupper.txt\",\"r\") as file:\n",
        "  x = file.read().strip()\n",
        "  with open(\"reversestr.txt\",\"a\") as file1:\n",
        "    y = x[::-1]\n",
        "    file1.write(f\"{y}\")"
      ],
      "metadata": {
        "id": "m4AW24-N1QVT"
      },
      "execution_count": 23,
      "outputs": []
    },
    {
      "cell_type": "markdown",
      "source": [
        "14. Write a python program that generate desired output i.e. use the filter () function on a sequence of countries to filter out the countries with names that don‟t contain the string “and.”\n",
        "\n",
        "Input : Countries=[“Finland‟,‟Germany‟,‟Sweden‟,‟Ireland‟,‟Turkey‟]\n",
        "\n",
        "Output : [‟Finland‟, ‟Ireland‟]"
      ],
      "metadata": {
        "id": "tuIc9W-l8-u3"
      }
    },
    {
      "cell_type": "code",
      "source": [
        "def filter_countries(countries,keyword):\n",
        "  filterd_countries = list(filter(lambda country: keyword in country,countries))\n",
        "  return filterd_countries\n",
        "\n",
        "countries = ['Finland','Germany','Sweden','Ireland','Turkey']\n",
        "keyword= 'and'\n",
        "x = filter_countries(countries,keyword)\n",
        "\n",
        "print(x)"
      ],
      "metadata": {
        "colab": {
          "base_uri": "https://localhost:8080/"
        },
        "id": "j6y8bSqp9H3R",
        "outputId": "414bb313-02fa-4bc4-ca33-197e801c023c"
      },
      "execution_count": 26,
      "outputs": [
        {
          "output_type": "stream",
          "name": "stdout",
          "text": [
            "['Finland', 'Ireland']\n"
          ]
        }
      ]
    },
    {
      "cell_type": "markdown",
      "source": [
        "15. Write a python programs that extract three numbers from file input.txt and find largest of three numbers and return output into file largest.txt"
      ],
      "metadata": {
        "id": "GdVcRsjI-h2w"
      }
    },
    {
      "cell_type": "code",
      "source": [
        "l =[]\n",
        "with open(\"numbers.txt\") as file:\n",
        "  x = file.readlines()\n",
        "  num=0\n",
        "\n",
        "  for i in x:\n",
        "    if num < 3:\n",
        "      l.append(int(i.strip()))\n",
        "    else:\n",
        "      break\n",
        "    num += 1\n",
        "\n",
        "max_num = max(l)\n",
        "with open(\"largest.txt\",\"w\") as file1:\n",
        "  file1.write(str(max_num))\n",
        "\n",
        "\n",
        "\n"
      ],
      "metadata": {
        "colab": {
          "base_uri": "https://localhost:8080/"
        },
        "id": "F4VnW3I8-pbf",
        "outputId": "b5f8dcd4-4d5a-4be7-8ef1-e90e92d55baf"
      },
      "execution_count": 24,
      "outputs": [
        {
          "output_type": "stream",
          "name": "stdout",
          "text": [
            "[123, 234, 2315]\n"
          ]
        }
      ]
    },
    {
      "cell_type": "code",
      "source": [
        "n = [234,2345,8976]\n",
        "print(max(n))"
      ],
      "metadata": {
        "colab": {
          "base_uri": "https://localhost:8080/"
        },
        "id": "6G_JXfvBOFJ7",
        "outputId": "be99d323-9c4e-4a27-f99e-f12a588863ff"
      },
      "execution_count": 19,
      "outputs": [
        {
          "output_type": "stream",
          "name": "stdout",
          "text": [
            "8976\n"
          ]
        }
      ]
    }
  ]
}