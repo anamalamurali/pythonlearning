{
  "nbformat": 4,
  "nbformat_minor": 0,
  "metadata": {
    "colab": {
      "provenance": [],
      "authorship_tag": "ABX9TyOh6ItiCSLiABSM0RJYn9W2",
      "include_colab_link": true
    },
    "kernelspec": {
      "name": "python3",
      "display_name": "Python 3"
    },
    "language_info": {
      "name": "python"
    }
  },
  "cells": [
    {
      "cell_type": "markdown",
      "metadata": {
        "id": "view-in-github",
        "colab_type": "text"
      },
      "source": [
        "<a href=\"https://colab.research.google.com/github/muralianamala/pythonlearning/blob/main/Assignment-2.ipynb\" target=\"_parent\"><img src=\"https://colab.research.google.com/assets/colab-badge.svg\" alt=\"Open In Colab\"/></a>"
      ]
    },
    {
      "cell_type": "markdown",
      "source": [
        "1. Unique Sort problem – Implement this in 5 different ways.\n",
        "Take a string as input that accepts a comma separated sequence of words as input and\n",
        "prints the unique words in sorted form (alphanumerically).\n",
        "*Input*: orange, white, red, cyan, green, magenta, cyan, pink, white\n",
        "*Output*: cyan, green, magenta, orange, pink, red, white"
      ],
      "metadata": {
        "id": "7RC_k1zdMGWy"
      }
    },
    {
      "cell_type": "code",
      "execution_count": null,
      "metadata": {
        "id": "EKtMGVWlMBCm"
      },
      "outputs": [],
      "source": []
    },
    {
      "cell_type": "markdown",
      "source": [
        "2. SpaceTo Hyphen problem\n",
        "\n",
        "\n",
        "Take a string as input, and replaces spaces “ “ with hyphens “- ”, and returns a string.\n",
        "“This program converts spaces into hyphen” becomes\n",
        "“ This-program-converts-spaces-into-hyphen”"
      ],
      "metadata": {
        "id": "68lQ0lPTMqqW"
      }
    },
    {
      "cell_type": "code",
      "source": [
        "x = input()"
      ],
      "metadata": {
        "colab": {
          "base_uri": "https://localhost:8080/"
        },
        "id": "ZCyFBXdcMuyn",
        "outputId": "7ef6b06f-b69e-4e73-f569-c8e3c9a5702e"
      },
      "execution_count": 2,
      "outputs": [
        {
          "name": "stdout",
          "output_type": "stream",
          "text": [
            "This program converts spaces into hyphen\n"
          ]
        }
      ]
    },
    {
      "cell_type": "code",
      "source": [
        "print(x)\n",
        "y = x.replace(\" \",\"-\")\n",
        "print(y)\n"
      ],
      "metadata": {
        "colab": {
          "base_uri": "https://localhost:8080/"
        },
        "id": "sNlN6l41NK49",
        "outputId": "0f49f59d-b690-46ff-c16a-89d5f9544898"
      },
      "execution_count": 12,
      "outputs": [
        {
          "output_type": "stream",
          "name": "stdout",
          "text": [
            "This program converts spaces into hyphen\n",
            "This-program-converts-spaces-into-hyphen\n"
          ]
        }
      ]
    },
    {
      "cell_type": "markdown",
      "source": [
        "3. Python Program:\n",
        "\n",
        "Create a list with name statelist with five elements\n",
        "\n",
        "statelist = [\"Delhi\",\"Telangana\",\"Goa\",\"AP\",\"Kerala\"]\n",
        "\n",
        "Write a python program that extract first and last characters of each item\n",
        "print it in desired format\n",
        "o/p : dItAgAaPkA"
      ],
      "metadata": {
        "id": "PaYeUAA9OBRl"
      }
    },
    {
      "cell_type": "code",
      "source": [
        "statelist = [\"Delhi\",\"Telangana\",\"Goa\",\"AP\",\"Kerala\"]\n",
        "s=\"\"\n",
        "for i in statelist:\n",
        "  for j in range(len(i)):\n",
        "    if j == 0:\n",
        "      s += i[j].lower()\n",
        "    elif j == (len(i)-1):\n",
        "      s += i[j].upper()\n",
        "    else:\n",
        "      pass\n",
        "\n",
        "print(s)\n",
        "\n"
      ],
      "metadata": {
        "colab": {
          "base_uri": "https://localhost:8080/"
        },
        "id": "EUpBCvF4Omcm",
        "outputId": "2d66a21e-667a-4717-baa4-6b1cc28db945"
      },
      "execution_count": 17,
      "outputs": [
        {
          "output_type": "stream",
          "name": "stdout",
          "text": [
            "dItAgAaPkA\n"
          ]
        }
      ]
    },
    {
      "cell_type": "markdown",
      "source": [
        "4. Python Program:\n",
        "\n",
        "\n",
        "statelist = [\"Delhi\",\"Telangana\",\"Goa\",\"AP\",\"Kerala\"]\n",
        "\n",
        "Write a python program that extract middle characters of each item\n",
        "print if it is vowel"
      ],
      "metadata": {
        "id": "DlMwEilpRGg6"
      }
    },
    {
      "cell_type": "code",
      "source": [
        "statelist = [\"Delhi\",\"Telangana\",\"Goa\",\"AP\",\"Kerala\"]\n"
      ],
      "metadata": {
        "id": "it8KuBMiRbSt"
      },
      "execution_count": 18,
      "outputs": []
    }
  ]
}