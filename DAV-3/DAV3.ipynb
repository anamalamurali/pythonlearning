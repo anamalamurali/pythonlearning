{
  "nbformat": 4,
  "nbformat_minor": 0,
  "metadata": {
    "colab": {
      "provenance": [],
      "authorship_tag": "ABX9TyOlElSqdh8rId9Tc2kmojJq",
      "include_colab_link": true
    },
    "kernelspec": {
      "name": "python3",
      "display_name": "Python 3"
    },
    "language_info": {
      "name": "python"
    }
  },
  "cells": [
    {
      "cell_type": "markdown",
      "metadata": {
        "id": "view-in-github",
        "colab_type": "text"
      },
      "source": [
        "<a href=\"https://colab.research.google.com/github/muralianamala/pythonlearning/blob/main/DAV-3/DAV3.ipynb\" target=\"_parent\"><img src=\"https://colab.research.google.com/assets/colab-badge.svg\" alt=\"Open In Colab\"/></a>"
      ]
    },
    {
      "cell_type": "code",
      "execution_count": null,
      "metadata": {
        "id": "c2KO1o0q_aOc"
      },
      "outputs": [],
      "source": [
        "pop_avg = 65\n",
        "pop_stddev = 2.5\n",
        "sample_n = 20\n",
        "sample_avg = 64.5\n",
        "alpha = 0.05\n"
      ]
    },
    {
      "cell_type": "code",
      "source": [
        "#z = (sample_avg - pop_avg)/ (pop_stddev/sqrt(sample_n))"
      ],
      "metadata": {
        "id": "y6lFzjPsAY-M"
      },
      "execution_count": null,
      "outputs": []
    },
    {
      "cell_type": "code",
      "source": [
        "import math"
      ],
      "metadata": {
        "id": "VAs-n5MEAlVs"
      },
      "execution_count": null,
      "outputs": []
    },
    {
      "cell_type": "code",
      "source": [
        "z = (sample_avg - pop_avg) / (pop_stddev/math.sqrt(sample_n))\n",
        "z"
      ],
      "metadata": {
        "colab": {
          "base_uri": "https://localhost:8080/"
        },
        "id": "zAzQLo8iAnpw",
        "outputId": "097d8305-67d2-40bd-caa1-1615eff6fd0c"
      },
      "execution_count": null,
      "outputs": [
        {
          "output_type": "execute_result",
          "data": {
            "text/plain": [
              "-0.8944271909999159"
            ]
          },
          "metadata": {},
          "execution_count": 3
        }
      ]
    },
    {
      "cell_type": "code",
      "source": [
        "from scipy.stats import norm"
      ],
      "metadata": {
        "id": "ju2E4ph0BIV_"
      },
      "execution_count": null,
      "outputs": []
    },
    {
      "cell_type": "code",
      "source": [
        "p_value = 1 - norm.cdf(z)\n",
        "p_value"
      ],
      "metadata": {
        "colab": {
          "base_uri": "https://localhost:8080/"
        },
        "id": "bb6QuuwPBW0_",
        "outputId": "0753a04f-f5ee-4c71-f045-bc207b4caf49"
      },
      "execution_count": null,
      "outputs": [
        {
          "output_type": "execute_result",
          "data": {
            "text/plain": [
              "0.8144533152386513"
            ]
          },
          "metadata": {},
          "execution_count": 5
        }
      ]
    },
    {
      "cell_type": "code",
      "source": [
        "if p_value < alpha:\n",
        "  print('Reject H0')\n",
        "else:\n",
        "  print('Accept H0')"
      ],
      "metadata": {
        "colab": {
          "base_uri": "https://localhost:8080/"
        },
        "id": "NuNWoIUuBb9k",
        "outputId": "05c2ea21-662a-4a90-baac-e0cf5dcdb5af"
      },
      "execution_count": null,
      "outputs": [
        {
          "output_type": "stream",
          "name": "stdout",
          "text": [
            "Accept H0\n"
          ]
        }
      ]
    },
    {
      "cell_type": "code",
      "source": [
        "# Hypothesis framework\n",
        "'''\n",
        "1. Setup Null and alternate hypothesis\n",
        "2. choose test statistics\n",
        "3. select left/right/two tailed test\n",
        "4. compute p-value\n",
        "5. compare p-value with significance level (alpha) and Fail to reject or reject null hypothesis\n",
        "   a. if alpha = 5% (significance level)\n",
        "   b. 95% confidence level\n",
        "'''"
      ],
      "metadata": {
        "id": "8LtNmKzaXYIn"
      },
      "execution_count": null,
      "outputs": []
    },
    {
      "cell_type": "code",
      "source": [
        "# recap of CLT (Central limit theorem)\n",
        "'''\n",
        "mu - avg\n",
        "se = sd/sqrt(n)\n",
        "sigma(sample) = singma(population)/sqrt(no#)\n",
        "'''"
      ],
      "metadata": {
        "id": "Sn_LYvIXYFOo"
      },
      "execution_count": null,
      "outputs": []
    },
    {
      "cell_type": "code",
      "source": [
        "import numpy as np\n",
        "import pandas as pd\n",
        "import seaborn as sns\n",
        "import matplotlib.pyplot as plt\n",
        "from scipy.stats import binom, norm, poisson, expon"
      ],
      "metadata": {
        "id": "eSpmOczbYq1_"
      },
      "execution_count": 2,
      "outputs": []
    },
    {
      "cell_type": "code",
      "source": [
        "mu = 65\n",
        "sd = 2.5\n",
        "n = 50\n",
        "se_50 = sd/np.sqrt(n)\n",
        "se_5 = sd/np.sqrt(5)\n",
        "se_50, se_5"
      ],
      "metadata": {
        "id": "zB1WnPfrYi_G",
        "outputId": "117abd6f-4e36-4bf5-ae8f-3feb2baa664b",
        "colab": {
          "base_uri": "https://localhost:8080/"
        }
      },
      "execution_count": 3,
      "outputs": [
        {
          "output_type": "execute_result",
          "data": {
            "text/plain": [
              "(0.35355339059327373, 1.118033988749895)"
            ]
          },
          "metadata": {},
          "execution_count": 3
        }
      ]
    },
    {
      "cell_type": "markdown",
      "source": [
        "# **Marketing case study**"
      ],
      "metadata": {
        "id": "vodi8PMBZakC"
      }
    },
    {
      "cell_type": "markdown",
      "source": [
        "#### <font color='purple'>Suppose there is a Retail Store Chain that sells Shampoo bottles</font>\n",
        "\n",
        "This chain has **2000 stores** across India.\n",
        "\n",
        "The parameters for weekly sales of the shampoo bottle were reported as:\n",
        "- Mean: 1800\n",
        "- Standard deviation: 100\n",
        "\n",
        "This was calculated by analyzing a lot of historical data\n",
        "\n",
        "<br>\n",
        "\n",
        "As a Manager / Owner / Data Scientist, you want to increase these sales, to generate more revenue.\n",
        "\n",
        "> <font color='purple'>**Q1. What are the techniques at your disposal?**</font>\n",
        "- Hire a marketing team\n",
        "\n",
        "But there is an important factor to consider. These marketing teams/firms are not cheap, and would add a significant cost.\n",
        "\n",
        "It stands to reason that you would not straightaway hand over all 2000 stores to them.\n",
        "\n",
        "You would want an assurance that their work actually does impact the sales, and generate enough revenue that it is feasible to hire them.\n",
        "\n",
        "> <font color='purple'>**Q2. How would you get that assurance?**</font>\n",
        "\n",
        "Perhaps you can allot them a few stores, and analyze the sale parameters (Mean and Standard deviation).\n",
        "\n",
        "If results are good in a couple of weeks, then hire for all 2000 stores.\n"
      ],
      "metadata": {
        "id": "m6wTyWEnZg5E"
      }
    },
    {
      "cell_type": "code",
      "source": [
        "'''\n",
        "mu = 1800\n",
        "sd = 100\n",
        "Firm A:\n",
        "  50 stores\n",
        "  sold --> avg - 1850\n",
        "\n",
        "Firm B:\n",
        "  5 stores\n",
        "  sold --> avg 1950\n",
        "'''"
      ],
      "metadata": {
        "id": "Djz5BOrMZeJ_"
      },
      "execution_count": null,
      "outputs": []
    },
    {
      "cell_type": "code",
      "source": [
        "# Firm A\n",
        "mu = 1800\n",
        "sd = 100\n",
        "# Step 1\n",
        "# H0 = 1800\n",
        "# Ha > 1800\n",
        "\n",
        "# step 2\n",
        "# distribution - Gaussian\n",
        "se = sd/np.sqrt(50)\n",
        "mu_abs = 1850\n",
        "\n",
        "z= (1850 - 1800)/se\n",
        "\n",
        "pval = 1 - norm.cdf(z)\n",
        "pval"
      ],
      "metadata": {
        "id": "-9Cc1uu3aSTd",
        "outputId": "2acebdf9-7631-4ee2-ccc5-4d980ec8914a",
        "colab": {
          "base_uri": "https://localhost:8080/"
        }
      },
      "execution_count": 5,
      "outputs": [
        {
          "output_type": "execute_result",
          "data": {
            "text/plain": [
              "0.00020347600872250293"
            ]
          },
          "metadata": {},
          "execution_count": 5
        }
      ]
    },
    {
      "cell_type": "code",
      "source": [
        "alpha = 0.01\n",
        "if pval < alpha:\n",
        "  print(\"Reject the null hypothesis\")\n",
        "else:\n",
        "  print(\"Fail to reject the null hypothesis\")"
      ],
      "metadata": {
        "id": "lHzmJentbU54",
        "outputId": "445d4e0e-ef20-4c39-ec8d-831e42f59d3c",
        "colab": {
          "base_uri": "https://localhost:8080/"
        }
      },
      "execution_count": 6,
      "outputs": [
        {
          "output_type": "stream",
          "name": "stdout",
          "text": [
            "Reject the null hypothesis\n"
          ]
        }
      ]
    },
    {
      "cell_type": "code",
      "source": [
        "# Firm B\n",
        "# step 1\n",
        "# H0 = 1800\n",
        "# Ha > 1800\n",
        "n_5 = 5\n",
        "mu_b = 1800\n",
        "sd_5 = 100\n",
        "se_5 = sd_5/np.sqrt(n_5)\n",
        "\n",
        "z = (1900 - 1800)/se_5\n",
        "pval_5 = 1 - norm.cdf(z)\n",
        "\n",
        "pval_5"
      ],
      "metadata": {
        "id": "GSf4xs9kbmfH",
        "outputId": "53870b0d-f7ba-4a2e-9b8e-19bb5147394a",
        "colab": {
          "base_uri": "https://localhost:8080/"
        }
      },
      "execution_count": 9,
      "outputs": [
        {
          "output_type": "execute_result",
          "data": {
            "text/plain": [
              "0.0126736593387341"
            ]
          },
          "metadata": {},
          "execution_count": 9
        }
      ]
    },
    {
      "cell_type": "code",
      "source": [
        "alpha = 0.01\n",
        "if pval_5 < alpha:\n",
        "  print(\"Reject the null hypothesis\")\n",
        "else:\n",
        "  print(\"Fail to reject the null hypothesis\")"
      ],
      "metadata": {
        "id": "mA2CH1BqcYNf",
        "outputId": "1bc9156a-06ce-4249-a522-ea0693bc192f",
        "colab": {
          "base_uri": "https://localhost:8080/"
        }
      },
      "execution_count": 10,
      "outputs": [
        {
          "output_type": "stream",
          "name": "stdout",
          "text": [
            "Fail to reject the null hypothesis\n"
          ]
        }
      ]
    },
    {
      "cell_type": "markdown",
      "source": [
        "# **CRITICAL VALUE**"
      ],
      "metadata": {
        "id": "g9u1oPbPdxy6"
      }
    },
    {
      "cell_type": "code",
      "source": [
        "mu = 1800\n",
        "sd = 100\n",
        "n = 50\n",
        "se = sd/np.sqrt(n)\n",
        "\n",
        "pval = 0.01\n",
        "\n",
        "#pval = 1 - norm.cdf(z)\n",
        "z = norm.ppf(0.99)\n",
        "\n",
        "# z = (x - 1800)/se\n",
        "# x = (se * z) + 1800\n",
        "\n",
        "x = (se * z) + 1800\n",
        "x"
      ],
      "metadata": {
        "id": "wZQwoc-ZdxRd",
        "outputId": "50c96b39-75b5-42c2-a882-e0e26d1c1c79",
        "colab": {
          "base_uri": "https://localhost:8080/"
        }
      },
      "execution_count": 11,
      "outputs": [
        {
          "output_type": "execute_result",
          "data": {
            "text/plain": [
              "1832.8995271426638"
            ]
          },
          "metadata": {},
          "execution_count": 11
        }
      ]
    },
    {
      "cell_type": "code",
      "source": [
        "# Firm B\n",
        "mu = 1800\n",
        "se_5 = sd/np.sqrt(5)\n",
        "\n",
        "pval_5 = 1 - 0.01\n",
        "z = norm.ppf(pval_5)\n",
        "\n",
        "x_5 = (z * se_5) + 1900\n",
        "x_5"
      ],
      "metadata": {
        "id": "nbC-duERe5ms",
        "outputId": "1adf257f-f660-4521-b045-6c277af5a679",
        "colab": {
          "base_uri": "https://localhost:8080/"
        }
      },
      "execution_count": 15,
      "outputs": [
        {
          "output_type": "execute_result",
          "data": {
            "text/plain": [
              "2004.0374397133487"
            ]
          },
          "metadata": {},
          "execution_count": 15
        }
      ]
    },
    {
      "cell_type": "markdown",
      "source": [
        "# **CONFIDENCE INTERVAL**"
      ],
      "metadata": {
        "id": "jwFl9pOxgU56"
      }
    },
    {
      "cell_type": "code",
      "source": [
        "# Given data\n",
        "population_mean = 1800\n",
        "sample_mean = 1850\n",
        "population_stddev = 100\n",
        "sample_size = np.sqrt(50)\n",
        "aplha = 0.01 # significance level\n",
        "\n",
        "# calculate critical value (Z) for a right tailed test at a given alpha level\n",
        "z_critical = norm.ppf(1 - alpha)\n",
        "\n",
        "# calculate margin error\n",
        "margin_of_error = z_critical * (population_stddev / sample_size)\n",
        "\n",
        "# calculate the confidence level\n",
        "confidence_interval = (sample_mean - margin_of_error, sample_mean + margin_of_error)\n",
        "\n",
        "print(\"Confidence interval: \", confidence_interval)\n",
        "\n",
        "# Check if the population mean (1800) falls within the confidence interval\n",
        "\n",
        "if confidence_interval[0] <= population_mean <= confidence_interval[1]:\n",
        "    print(\"The population mean falls within the confidence interval. Then we fail to reject the null hypothesis\")\n",
        "else:\n",
        "    print(\"The population mean does not fall within the confidence interval. Then we reject the null hypothesis\")"
      ],
      "metadata": {
        "id": "M22AC_4igYYD",
        "outputId": "88d1ff13-5b90-412b-a0d2-640acab2a42b",
        "colab": {
          "base_uri": "https://localhost:8080/"
        }
      },
      "execution_count": 16,
      "outputs": [
        {
          "output_type": "stream",
          "name": "stdout",
          "text": [
            "Confidence interval:  (1817.1004728573362, 1882.8995271426638)\n",
            "The population mean does not fall within the confidence interval. Then we reject the null hypothesis\n"
          ]
        }
      ]
    },
    {
      "cell_type": "code",
      "source": [
        "import numpy as np\n",
        "from scipy.stats import norm\n",
        "\n",
        "# Given data\n",
        "population_mean = 1800\n",
        "sample_mean = 1900\n",
        "population_stddev = 100\n",
        "sample_size = np.sqrt(5)\n",
        "alpha = 0.01  # Significance level (1 - alpha will give us the confidence level)\n",
        "\n",
        "# Calculate the critical value (Z) for a right-tailed test at the given alpha level\n",
        "z_critical = norm.ppf(1 - alpha)\n",
        "\n",
        "# Calculate the margin of error\n",
        "margin_of_error = z_critical * (population_stddev / sample_size)\n",
        "\n",
        "# Calculate the confidence interval\n",
        "confidence_interval = (sample_mean - margin_of_error, sample_mean + margin_of_error)\n",
        "\n",
        "print(\"Confidence Interval:\", confidence_interval)\n",
        "\n",
        "# Check if the population mean (1800) falls within the confidence interval\n",
        "\n",
        "if confidence_interval[0] <= population_mean <= confidence_interval[1]:\n",
        "    print(\"The population mean falls within the confidence interval. Then we fail to reject the null hypothesis\")\n",
        "else:\n",
        "    print(\"The population mean does not fall within the confidence interval. Then we reject the null hypothesis\")"
      ],
      "metadata": {
        "id": "_UDU1N8hh4vM",
        "outputId": "c91ace25-cbfd-44cb-c3ed-2c8dfd1c468f",
        "colab": {
          "base_uri": "https://localhost:8080/"
        }
      },
      "execution_count": 18,
      "outputs": [
        {
          "output_type": "stream",
          "name": "stdout",
          "text": [
            "Confidence Interval: (1795.9625602866513, 2004.0374397133487)\n",
            "The population mean falls within the confidence interval. Then we fail to reject the null hypothesis\n"
          ]
        }
      ]
    },
    {
      "cell_type": "code",
      "source": [
        "import numpy as np\n",
        "from scipy import stats\n",
        "from statsmodels.stats import power\n",
        "\n",
        "# Given data\n",
        "alpha = 0.05  # Significance level (for a two-tailed test)\n",
        "confidence_level = 1 - (alpha / 2)  # 95% confidence level\n",
        "sample_size = 30  # Number of chocolate bars in the sample\n",
        "\n",
        "# Calculate the z-critical value for a 5% significance level (as you did previously)\n",
        "z_critical = np.abs(round(stats.norm.ppf(1 - alpha/2), 4))\n",
        "\n",
        "# Calculate the sample mean (average weight of the chocolate bars)\n",
        "data = [55, 45, 52, 48, 55, 52, 52, 53, 48, 52, 53, 47, 54, 51, 52, 51, 48, 52, 53, 54, 51, 51, 52, 54, 47, 52, 53, 48, 51, 54]\n",
        "samp_mean = np.mean(data)\n",
        "samp_std = np.std(data)\n",
        "\n",
        "# Null hypothesis value (standard weight)\n",
        "hypo_mean = 50\n",
        "\n",
        "# Calculate the effect size (difference between sample mean and hypothesized mean)\n",
        "effect_size = (samp_mean - hypo_mean) / samp_std\n",
        "print(\"Effect size:\",effect_size)\n",
        "\n",
        "# Use 'zt_ind_solve_power()' to calculate the power of the z-test\n",
        "# ratio=0 it implies that the function assumes equal sample sizes in both groups.\n",
        "# In other words, it assumes that the number of observations in the two groups being compared is the same.\n",
        "power = power.zt_ind_solve_power(effect_size=effect_size,\n",
        "                                 nobs1=sample_size,\n",
        "                                 alpha=alpha,\n",
        "                                 ratio=0,\n",
        "                                 alternative='two-sided')\n",
        "\n",
        "print('Power of the test:', power)"
      ],
      "metadata": {
        "id": "y5elrF7AlJKc",
        "outputId": "7086d41c-1eee-4064-9cc3-d6433caefa5b",
        "colab": {
          "base_uri": "https://localhost:8080/"
        }
      },
      "execution_count": 26,
      "outputs": [
        {
          "output_type": "stream",
          "name": "stdout",
          "text": [
            "Effect size: 0.5261336417646574\n",
            "Power of the test: 0.8216812302268112\n"
          ]
        }
      ]
    },
    {
      "cell_type": "markdown",
      "source": [
        "A country has a population average height of 65 inches with a standard deviation of 2.5. A person feels people from his state are shorter. He takes the average of 20 people and sees that it is 64.5.\n",
        "\n",
        "At a 5% significance level (or 95% confidence level), can we conclude that people from his state are shorter, using the Z-test? What is the p-value?"
      ],
      "metadata": {
        "id": "iOhK-PR9oLQO"
      }
    },
    {
      "cell_type": "code",
      "source": [
        "mu = 65\n",
        "sd = 2.5\n",
        "n = 20\n",
        "se = sd/np.sqrt(n)\n",
        "z = (64.5 - 65)/se\n",
        "p = norm.cdf(z)\n",
        "print(se, z, norm.cdf(z))\n",
        "\n",
        "if p < 0.05:\n",
        "  print(\"reject\")\n",
        "else:\n",
        "  print(\"accept\")"
      ],
      "metadata": {
        "id": "L-wEj5iroMBr",
        "outputId": "c75259c8-6615-4c72-d50f-a4905c9524cf",
        "colab": {
          "base_uri": "https://localhost:8080/"
        }
      },
      "execution_count": 35,
      "outputs": [
        {
          "output_type": "stream",
          "name": "stdout",
          "text": [
            "0.5590169943749475 -0.8944271909999159 0.18554668476134878\n",
            "accept\n"
          ]
        }
      ]
    },
    {
      "cell_type": "markdown",
      "source": [
        "A French cafe has historically maintained that their average daily pastry production is at most 500.\n",
        "\n",
        "With the installation of a new machine, they assert that the average daily pastry production has increased. The average number of pastries produced per day over a 70-day period was found to be 530.\n",
        "\n",
        "Assume that the population standard deviation for the pastries produced per day is 125.\n",
        "\n",
        "Perform a z-test with the critical z-value = 1.64 at the alpha (significance level) = 0.05 to evaluate if there's sufficient evidence to support their claim of the new machine producing more than 500 pastries daily.\n",
        "\n",
        "Note: Round off the z-score to two decimal places."
      ],
      "metadata": {
        "id": "pMjWTsOkpkTP"
      }
    },
    {
      "cell_type": "code",
      "source": [
        "mu = 500\n",
        "n = 70\n",
        "sd = 125\n",
        "se = sd/np.sqrt(n)\n",
        "z_critical = 1.64\n",
        "\n",
        "z = (530 - 500)/se\n",
        "z\n",
        "\n",
        "if z > z_critical:\n",
        "  print(\"reject\")\n",
        "else:\n",
        "  print(\"accept\")"
      ],
      "metadata": {
        "id": "TyNCSj-JplCl",
        "outputId": "22b7fa64-a40c-415c-eab5-ce520d55b0d8",
        "colab": {
          "base_uri": "https://localhost:8080/"
        }
      },
      "execution_count": 39,
      "outputs": [
        {
          "output_type": "stream",
          "name": "stdout",
          "text": [
            "reject\n"
          ]
        }
      ]
    },
    {
      "cell_type": "markdown",
      "source": [
        "The Chai Point stall at Bengaluru airport estimates that each person visiting the store drinks an average of 1.7 small cups of tea.\n",
        "\n",
        "Assume a population standard deviation of 0.5 small cups. A sample of 30 customers collected over a few days averaged 1.85 small cups of tea per person.\n",
        "\n",
        "Test the claim using an appropriate test at an alpha = 0.05 significance value, with a critical z-score value of ±1.96.\n",
        "\n",
        "Note: Round off the z-score to two decimal places."
      ],
      "metadata": {
        "id": "9gzlMJHJq8p6"
      }
    },
    {
      "cell_type": "code",
      "source": [
        "mu = 1.7\n",
        "sd = 0.5\n",
        "n = 30\n",
        "mu_new = 1.85\n",
        "alpha = 0.05\n",
        "z_critical = 1.96\n",
        "se = sd/np.sqrt(n)\n",
        "z = (1.85 - 1.7)/se\n",
        "print(z)\n",
        "\n",
        "if z > z_critical:\n",
        "  print(\"reject\")\n",
        "else:\n",
        "  print(\"accept\")"
      ],
      "metadata": {
        "id": "A1yUeizbrHK5",
        "outputId": "7d695b7c-acb5-4ad3-f13d-48995f2b44ed",
        "colab": {
          "base_uri": "https://localhost:8080/"
        }
      },
      "execution_count": 41,
      "outputs": [
        {
          "output_type": "stream",
          "name": "stdout",
          "text": [
            "1.6431676725155\n",
            "accept\n"
          ]
        }
      ]
    },
    {
      "cell_type": "markdown",
      "source": [
        "A data scientist is looking at how a web application responds, with an average response time of 250 milliseconds and a standard deviation of 30 milliseconds.\n",
        "\n",
        "Find the critical value for a 96% confidence level."
      ],
      "metadata": {
        "id": "bfFJIYVxsMcC"
      }
    },
    {
      "cell_type": "code",
      "source": [
        "mu = 250\n",
        "sd = 30\n",
        "\n",
        "print((1 - 0.96)/2)\n",
        "\n",
        "z_critical = norm.ppf(1 - ((1 - 0.96)/2))\n",
        "print(z_critical)\n",
        "\n",
        "mu + (sd * z_critical)\n"
      ],
      "metadata": {
        "id": "5t_uR2_fsLyh",
        "outputId": "c9d12090-e408-4f2b-e440-dc9ca0edeac6",
        "colab": {
          "base_uri": "https://localhost:8080/"
        }
      },
      "execution_count": 59,
      "outputs": [
        {
          "output_type": "stream",
          "name": "stdout",
          "text": [
            "0.020000000000000018\n",
            "2.0537489106318225\n"
          ]
        },
        {
          "output_type": "execute_result",
          "data": {
            "text/plain": [
              "311.61246731895466"
            ]
          },
          "metadata": {},
          "execution_count": 59
        }
      ]
    },
    {
      "cell_type": "markdown",
      "source": [
        "It is known that the mean IQ of high school students is 100, and the standard deviation is 15.\n",
        "\n",
        "A coaching institute claims that candidates who study there have more IQ than an average high school student. When the IQ of 50 candidates was calculated, the average turned out to be 110\n",
        "\n",
        "Conduct an appropriate hypothesis test to test the institute’s claim, with a significance level of 5%"
      ],
      "metadata": {
        "id": "_vcmZDmCu3kb"
      }
    },
    {
      "cell_type": "code",
      "source": [
        "mu = 100\n",
        "sd = 15\n",
        "n = 50\n",
        "se = sd/np.sqrt(n)\n",
        "z = (110 - 100)/se\n",
        "print(z)\n",
        "alpha = 0.05\n",
        "p = 1 - norm.cdf(z)\n",
        "print(p)\n",
        "\n",
        "if p < alpha:\n",
        "  print('reject H0')\n",
        "else:\n",
        "  print(\"accept\")"
      ],
      "metadata": {
        "id": "B0-vIJ_Su4SD",
        "outputId": "9cc68053-b387-4be8-d6e6-056a4a25a817",
        "colab": {
          "base_uri": "https://localhost:8080/"
        }
      },
      "execution_count": 64,
      "outputs": [
        {
          "output_type": "stream",
          "name": "stdout",
          "text": [
            "4.714045207910317\n",
            "1.2142337364462463e-06\n",
            "reject H0\n"
          ]
        }
      ]
    },
    {
      "cell_type": "markdown",
      "source": [
        "When smokers smoke, nicotine is transformed into cotinine, which can be tested.\n",
        "\n",
        "The average cotinine level in a group of 50 smokers was 243.5 ng ml.\n",
        "\n",
        "Assuming that the standard deviation is known to be 229.5 ng ml.\n",
        "\n",
        "Test the assertion that the mean cotinine level of all smokers is equal to 300.0 ng ml, at 95% confidence."
      ],
      "metadata": {
        "id": "iiaAp1TDwVcV"
      }
    },
    {
      "cell_type": "code",
      "source": [
        "print(norm.ppf(0.05/2))\n",
        "\n",
        "z = (243.5 - 300)/(229.5/np.sqrt(50))\n",
        "print(z)\n",
        "\n",
        "print(norm.cdf(z))"
      ],
      "metadata": {
        "id": "Dip0takLwWfV",
        "outputId": "f66b7795-16a7-4ace-bfc6-a5080be2f4be",
        "colab": {
          "base_uri": "https://localhost:8080/"
        }
      },
      "execution_count": 69,
      "outputs": [
        {
          "output_type": "stream",
          "name": "stdout",
          "text": [
            "-1.9599639845400545\n",
            "-1.7408075440976007\n",
            "0.04085865957574815\n"
          ]
        }
      ]
    },
    {
      "cell_type": "code",
      "source": [
        "# Null Hypothesis (H0): The mean cotinine level of all smokers is equal to 300.0 ng/ml. (µ = 300.0 ng)\n",
        "# Alternative Hypothesis (Ha): The mean cotinine level of all smokers is not equal to 300.0 ng/ml. (µ ≠ 300.0 ng)\n",
        "\n",
        "import scipy.stats as stats\n",
        "\n",
        "# Given values\n",
        "sample_mean = 243.5  # Sample mean cotinine level\n",
        "population_std = 229.5  # Known population standard deviation\n",
        "population_mean = 300.0  # Hypothesized population mean\n",
        "sample_size = 50  # Sample size\n",
        "confidence_level = 0.95  # 95% confidence level\n",
        "\n",
        "# Calculate the Z-score\n",
        "standard_error = population_std / (sample_size**0.5)\n",
        "Z = (sample_mean - population_mean) / standard_error\n",
        "\n",
        "# Calculate the p-value for a two-tailed test\n",
        "p_value = 2 * (1 - stats.norm.cdf(abs(Z)))\n",
        "\n",
        "# Determine whether to reject the null hypothesis\n",
        "alpha = 1 - confidence_level\n",
        "if p_value < alpha:\n",
        "    conclusion = \"Reject the null hypothesis which means the mean cotinine level of all smokers is not equal to 300.0 ng/ml \"\n",
        "else:\n",
        "    conclusion = \"Fail to reject the null hypothesis which means the mean cotinine level of all smokers is equal to 300.0 ng/ml. \"\n",
        "\n",
        "print(f\"Z-score: {Z}\")\n",
        "print(f\"P-value: {p_value}\")\n",
        "print(f\"Conclusion: {conclusion}\")\n"
      ],
      "metadata": {
        "id": "pOoYZcaYyLps",
        "outputId": "2d332d34-74fc-4ce6-cc00-ce3ab41d5a24",
        "colab": {
          "base_uri": "https://localhost:8080/"
        }
      },
      "execution_count": 71,
      "outputs": [
        {
          "output_type": "stream",
          "name": "stdout",
          "text": [
            "Z-score: -1.7408075440976007\n",
            "P-value: 0.08171731915149638\n",
            "Conclusion: Fail to reject the null hypothesis which means the mean cotinine level of all smokers is equal to 300.0 ng/ml. \n"
          ]
        }
      ]
    },
    {
      "cell_type": "markdown",
      "source": [
        "For a quality control analysis, a factory assesses the tensile strength of a sample of steel rods.\n",
        "\n",
        "The sample exhibits a mean tensile strength of 750 MPa with a sample standard deviation of 50 MPa, while the known population mean is 800 MPa.\n",
        "\n",
        "Calculate Cohen's d for this quality control study."
      ],
      "metadata": {
        "id": "kmVm-mjQypmA"
      }
    },
    {
      "cell_type": "code",
      "source": [],
      "metadata": {
        "id": "fINspL92yqSp"
      },
      "execution_count": null,
      "outputs": []
    },
    {
      "cell_type": "markdown",
      "source": [
        "## **CLASS 3**"
      ],
      "metadata": {
        "id": "E6IgK2JnB7bQ"
      }
    },
    {
      "cell_type": "code",
      "source": [],
      "metadata": {
        "id": "-LIEgSluB-uV"
      },
      "execution_count": null,
      "outputs": []
    }
  ]
}