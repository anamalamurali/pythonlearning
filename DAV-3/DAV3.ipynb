{
  "nbformat": 4,
  "nbformat_minor": 0,
  "metadata": {
    "colab": {
      "provenance": [],
      "authorship_tag": "ABX9TyMHO8upAf0Z8/ekbSZIXOEd",
      "include_colab_link": true
    },
    "kernelspec": {
      "name": "python3",
      "display_name": "Python 3"
    },
    "language_info": {
      "name": "python"
    }
  },
  "cells": [
    {
      "cell_type": "markdown",
      "metadata": {
        "id": "view-in-github",
        "colab_type": "text"
      },
      "source": [
        "<a href=\"https://colab.research.google.com/github/muralianamala/pythonlearning/blob/main/DAV-3/DAV3.ipynb\" target=\"_parent\"><img src=\"https://colab.research.google.com/assets/colab-badge.svg\" alt=\"Open In Colab\"/></a>"
      ]
    },
    {
      "cell_type": "code",
      "execution_count": 1,
      "metadata": {
        "id": "c2KO1o0q_aOc"
      },
      "outputs": [],
      "source": [
        "pop_avg = 65\n",
        "pop_stddev = 2.5\n",
        "sample_n = 20\n",
        "sample_avg = 64.5\n",
        "alpha = 0.05\n"
      ]
    },
    {
      "cell_type": "code",
      "source": [
        "#z = (sample_avg - pop_avg)/ (pop_stddev/sqrt(sample_n))"
      ],
      "metadata": {
        "id": "y6lFzjPsAY-M"
      },
      "execution_count": null,
      "outputs": []
    },
    {
      "cell_type": "code",
      "source": [
        "import math"
      ],
      "metadata": {
        "id": "VAs-n5MEAlVs"
      },
      "execution_count": 2,
      "outputs": []
    },
    {
      "cell_type": "code",
      "source": [
        "z = (sample_avg - pop_avg) / (pop_stddev/math.sqrt(sample_n))\n",
        "z"
      ],
      "metadata": {
        "colab": {
          "base_uri": "https://localhost:8080/"
        },
        "id": "zAzQLo8iAnpw",
        "outputId": "097d8305-67d2-40bd-caa1-1615eff6fd0c"
      },
      "execution_count": 3,
      "outputs": [
        {
          "output_type": "execute_result",
          "data": {
            "text/plain": [
              "-0.8944271909999159"
            ]
          },
          "metadata": {},
          "execution_count": 3
        }
      ]
    },
    {
      "cell_type": "code",
      "source": [
        "from scipy.stats import norm"
      ],
      "metadata": {
        "id": "ju2E4ph0BIV_"
      },
      "execution_count": 4,
      "outputs": []
    },
    {
      "cell_type": "code",
      "source": [
        "p_value = 1 - norm.cdf(z)\n",
        "p_value"
      ],
      "metadata": {
        "colab": {
          "base_uri": "https://localhost:8080/"
        },
        "id": "bb6QuuwPBW0_",
        "outputId": "0753a04f-f5ee-4c71-f045-bc207b4caf49"
      },
      "execution_count": 5,
      "outputs": [
        {
          "output_type": "execute_result",
          "data": {
            "text/plain": [
              "0.8144533152386513"
            ]
          },
          "metadata": {},
          "execution_count": 5
        }
      ]
    },
    {
      "cell_type": "code",
      "source": [
        "if p_value < alpha:\n",
        "  print('Reject H0')\n",
        "else:\n",
        "  print('Accept H0')"
      ],
      "metadata": {
        "colab": {
          "base_uri": "https://localhost:8080/"
        },
        "id": "NuNWoIUuBb9k",
        "outputId": "05c2ea21-662a-4a90-baac-e0cf5dcdb5af"
      },
      "execution_count": 6,
      "outputs": [
        {
          "output_type": "stream",
          "name": "stdout",
          "text": [
            "Accept H0\n"
          ]
        }
      ]
    },
    {
      "cell_type": "markdown",
      "source": [
        "## **CLASS 3**"
      ],
      "metadata": {
        "id": "E6IgK2JnB7bQ"
      }
    },
    {
      "cell_type": "code",
      "source": [],
      "metadata": {
        "id": "-LIEgSluB-uV"
      },
      "execution_count": null,
      "outputs": []
    }
  ]
}