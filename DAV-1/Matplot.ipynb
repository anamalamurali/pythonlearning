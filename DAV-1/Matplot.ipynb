{
  "nbformat": 4,
  "nbformat_minor": 0,
  "metadata": {
    "colab": {
      "provenance": [],
      "authorship_tag": "ABX9TyPm+L/cXv/knclbTvEz8vRG",
      "include_colab_link": true
    },
    "kernelspec": {
      "name": "python3",
      "display_name": "Python 3"
    },
    "language_info": {
      "name": "python"
    }
  },
  "cells": [
    {
      "cell_type": "markdown",
      "metadata": {
        "id": "view-in-github",
        "colab_type": "text"
      },
      "source": [
        "<a href=\"https://colab.research.google.com/github/muralianamala/pythonlearning/blob/main/Matplot.ipynb\" target=\"_parent\"><img src=\"https://colab.research.google.com/assets/colab-badge.svg\" alt=\"Open In Colab\"/></a>"
      ]
    },
    {
      "cell_type": "markdown",
      "source": [
        "# **Following are the topics we shall be covering in the upcoming class.**\n",
        "\n",
        "Topic 1: Introduction\n",
        "\n",
        "Topic 2: Libraries for data visualization\n",
        "\n",
        "Topic 3: Video Game Data Intro\n",
        "\n",
        "Topic 4: Intro to matplotlib\n",
        "\n",
        "Topic 5: Univariate Data Visualization of categorical data\n",
        "\n",
        "Topic 6: univariate data visualisation of Numerical Data\n",
        "\n",
        "Topic 7: univariate data viz of Num Data (contd.)\n",
        "\n",
        "Topic 8: Quiz-3 Explanation\n",
        "\n",
        "Topic 9: Quiz-4 Explanation\n",
        "\n",
        "Topic 10: Doubt Resolution"
      ],
      "metadata": {
        "id": "tD8OTx9VDdEr"
      }
    },
    {
      "cell_type": "code",
      "execution_count": 2,
      "metadata": {
        "id": "RV5wscgEDF38"
      },
      "outputs": [],
      "source": [
        "import numpy as np\n",
        "import pandas as pd\n",
        "\n",
        "import matplotlib.pyplot as plt\n",
        "import seaborn as sns"
      ]
    },
    {
      "cell_type": "code",
      "source": [],
      "metadata": {
        "id": "xlrCBGa7D062"
      },
      "execution_count": null,
      "outputs": []
    }
  ]
}
