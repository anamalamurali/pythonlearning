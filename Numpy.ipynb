{
  "nbformat": 4,
  "nbformat_minor": 0,
  "metadata": {
    "colab": {
      "provenance": [],
      "authorship_tag": "ABX9TyNBfSKWVqLM8EBPsEBvSOG1",
      "include_colab_link": true
    },
    "kernelspec": {
      "name": "python3",
      "display_name": "Python 3"
    },
    "language_info": {
      "name": "python"
    }
  },
  "cells": [
    {
      "cell_type": "markdown",
      "metadata": {
        "id": "view-in-github",
        "colab_type": "text"
      },
      "source": [
        "<a href=\"https://colab.research.google.com/github/muralianamala/pythonlearning/blob/main/Numpy.ipynb\" target=\"_parent\"><img src=\"https://colab.research.google.com/assets/colab-badge.svg\" alt=\"Open In Colab\"/></a>"
      ]
    },
    {
      "cell_type": "code",
      "execution_count": null,
      "metadata": {
        "id": "yd20C5T1uZiu"
      },
      "outputs": [],
      "source": [
        "import numpy as np"
      ]
    },
    {
      "cell_type": "code",
      "source": [
        "# supports element-wise operation and vectorization"
      ],
      "metadata": {
        "id": "AYTegmsxuir_"
      },
      "execution_count": null,
      "outputs": []
    },
    {
      "cell_type": "code",
      "source": [
        "arr = np.arange(1,5)\n",
        "arr"
      ],
      "metadata": {
        "colab": {
          "base_uri": "https://localhost:8080/"
        },
        "id": "nf7nPZldunHY",
        "outputId": "2d728fbf-1073-4448-807b-fc7cd4f848be"
      },
      "execution_count": null,
      "outputs": [
        {
          "output_type": "execute_result",
          "data": {
            "text/plain": [
              "array([1, 2, 3, 4])"
            ]
          },
          "metadata": {},
          "execution_count": 2
        }
      ]
    },
    {
      "cell_type": "code",
      "source": [
        "arr*2"
      ],
      "metadata": {
        "colab": {
          "base_uri": "https://localhost:8080/"
        },
        "id": "kq3aBerDusMl",
        "outputId": "93a5ed43-2f68-469e-a4a7-e5db7e12e636"
      },
      "execution_count": null,
      "outputs": [
        {
          "output_type": "execute_result",
          "data": {
            "text/plain": [
              "array([2, 4, 6, 8])"
            ]
          },
          "metadata": {},
          "execution_count": 3
        }
      ]
    },
    {
      "cell_type": "code",
      "source": [
        "#faster execution speed"
      ],
      "metadata": {
        "id": "ou2d1TruuvHM"
      },
      "execution_count": null,
      "outputs": []
    },
    {
      "cell_type": "markdown",
      "source": [
        "# **Initializing Array**"
      ],
      "metadata": {
        "id": "p4CZzHOJu1Lf"
      }
    },
    {
      "cell_type": "code",
      "source": [
        "#1. initializing array using python list\n",
        "arr1 = np.array([1,2,3,4])\n",
        "type(arr1)"
      ],
      "metadata": {
        "colab": {
          "base_uri": "https://localhost:8080/"
        },
        "id": "dXsePkZvu5bb",
        "outputId": "83ceb1e2-eea1-42b9-eb24-7284addb8c89"
      },
      "execution_count": null,
      "outputs": [
        {
          "output_type": "execute_result",
          "data": {
            "text/plain": [
              "numpy.ndarray"
            ]
          },
          "metadata": {},
          "execution_count": 4
        }
      ]
    },
    {
      "cell_type": "code",
      "source": [
        "#creates 2-D array of float datatype array\n",
        "arr2 = np.array([[1,2,3,4],[2,3,4,5]],dtype=\"float\")\n",
        "type(arr2)\n",
        "arr2"
      ],
      "metadata": {
        "colab": {
          "base_uri": "https://localhost:8080/"
        },
        "id": "lBdL0SppvMwz",
        "outputId": "e1ef09d8-93ed-4045-ab44-78e2b2cf6438"
      },
      "execution_count": null,
      "outputs": [
        {
          "output_type": "execute_result",
          "data": {
            "text/plain": [
              "array([[1., 2., 3., 4.],\n",
              "       [2., 3., 4., 5.]])"
            ]
          },
          "metadata": {},
          "execution_count": 6
        }
      ]
    },
    {
      "cell_type": "code",
      "source": [
        "#initializing numpy array by using arange\n",
        "#step size can be float\n",
        "arr3 = np.arange(10).reshape(2,5)\n",
        "print(arr3.ndim)\n",
        "print(arr3.shape)\n",
        "print(arr3)\n",
        "print(len(arr3))\n",
        "row, col = arr3.shape\n",
        "print(row, col)\n",
        "arr4 = np.arange(2,5,0.5)\n",
        "arr4"
      ],
      "metadata": {
        "colab": {
          "base_uri": "https://localhost:8080/"
        },
        "id": "5tJrDKd9vsfw",
        "outputId": "db12f65d-f38a-4e3f-e6f2-82436ab7864e"
      },
      "execution_count": null,
      "outputs": [
        {
          "output_type": "stream",
          "name": "stdout",
          "text": [
            "2\n",
            "(2, 5)\n",
            "[[0 1 2 3 4]\n",
            " [5 6 7 8 9]]\n",
            "2\n",
            "2 5\n"
          ]
        },
        {
          "output_type": "execute_result",
          "data": {
            "text/plain": [
              "array([2. , 2.5, 3. , 3.5, 4. , 4.5])"
            ]
          },
          "metadata": {},
          "execution_count": 3
        }
      ]
    },
    {
      "cell_type": "code",
      "source": [
        "#Returns evenly spaced numbers over specified interval\n",
        "print(np.linspace(0,100,5))\n",
        "print(np.linspace(0,100,4))\n",
        "print(np.linspace(0,10,5))\n",
        "print(np.linspace(1,11,4))"
      ],
      "metadata": {
        "colab": {
          "base_uri": "https://localhost:8080/"
        },
        "id": "A2IzG9eL0EtY",
        "outputId": "c3cf5e67-58a2-4d03-887b-d249911559bd"
      },
      "execution_count": null,
      "outputs": [
        {
          "output_type": "stream",
          "name": "stdout",
          "text": [
            "[  0.  25.  50.  75. 100.]\n",
            "[  0.          33.33333333  66.66666667 100.        ]\n",
            "[ 0.   2.5  5.   7.5 10. ]\n",
            "[ 1.          4.33333333  7.66666667 11.        ]\n"
          ]
        }
      ]
    },
    {
      "cell_type": "code",
      "source": [
        "np.linspace?"
      ],
      "metadata": {
        "id": "K3uQvQB6rfVP"
      },
      "execution_count": null,
      "outputs": []
    },
    {
      "cell_type": "code",
      "source": [
        "#Creates an array with all elements 0\n",
        "zer_arr = np.zeros(6)\n",
        "zer_arr"
      ],
      "metadata": {
        "colab": {
          "base_uri": "https://localhost:8080/"
        },
        "id": "gzCZO9sr3OFP",
        "outputId": "971be31d-544e-47d1-b31e-10b85a26e800"
      },
      "execution_count": null,
      "outputs": [
        {
          "output_type": "execute_result",
          "data": {
            "text/plain": [
              "array([0., 0., 0., 0., 0., 0.])"
            ]
          },
          "metadata": {},
          "execution_count": 17
        }
      ]
    },
    {
      "cell_type": "code",
      "source": [
        "#creates an array with all elements to 1\n",
        "ones_arr = np.ones(6)\n",
        "ones_arr"
      ],
      "metadata": {
        "colab": {
          "base_uri": "https://localhost:8080/"
        },
        "id": "h7DBgKAp3Y3j",
        "outputId": "61cceac0-e082-4f8a-f61d-f72ade2040c3"
      },
      "execution_count": null,
      "outputs": [
        {
          "output_type": "execute_result",
          "data": {
            "text/plain": [
              "array([1., 1., 1., 1., 1., 1.])"
            ]
          },
          "metadata": {},
          "execution_count": 18
        }
      ]
    },
    {
      "cell_type": "code",
      "source": [
        "#Generates an array with elements belonging to continuous uniform distribution\n",
        "np.random.rand(3,2)"
      ],
      "metadata": {
        "colab": {
          "base_uri": "https://localhost:8080/"
        },
        "id": "sBQshwD13k6q",
        "outputId": "49505f0b-137f-4ab9-990b-a8cb8f4d9cf2"
      },
      "execution_count": null,
      "outputs": [
        {
          "output_type": "execute_result",
          "data": {
            "text/plain": [
              "array([[0.62965812, 0.72484013],\n",
              "       [0.24756577, 0.57165282],\n",
              "       [0.58384876, 0.97479013]])"
            ]
          },
          "metadata": {},
          "execution_count": 24
        }
      ]
    },
    {
      "cell_type": "markdown",
      "source": [
        "## **Properties of an Array**"
      ],
      "metadata": {
        "id": "VyVJ86PM397i"
      }
    },
    {
      "cell_type": "code",
      "source": [
        "#no of dimensions\n",
        "arr.ndim"
      ],
      "metadata": {
        "colab": {
          "base_uri": "https://localhost:8080/"
        },
        "id": "deFdacHI4BPr",
        "outputId": "19830b0a-c44b-4e4b-d091-e3661a446429"
      },
      "execution_count": null,
      "outputs": [
        {
          "output_type": "execute_result",
          "data": {
            "text/plain": [
              "1"
            ]
          },
          "metadata": {},
          "execution_count": 25
        }
      ]
    },
    {
      "cell_type": "code",
      "source": [
        "#shape of an array\n",
        "arr.shape"
      ],
      "metadata": {
        "colab": {
          "base_uri": "https://localhost:8080/"
        },
        "id": "Dl8gIdAy4GvE",
        "outputId": "ea99f9e9-d329-4081-c09e-bc37f3755bfc"
      },
      "execution_count": null,
      "outputs": [
        {
          "output_type": "execute_result",
          "data": {
            "text/plain": [
              "(4,)"
            ]
          },
          "metadata": {},
          "execution_count": 26
        }
      ]
    },
    {
      "cell_type": "code",
      "source": [
        "arr.dtype"
      ],
      "metadata": {
        "colab": {
          "base_uri": "https://localhost:8080/"
        },
        "id": "Is-itQI84KTc",
        "outputId": "75badf36-6aa8-4adc-91b9-5af5cee4b596"
      },
      "execution_count": null,
      "outputs": [
        {
          "output_type": "execute_result",
          "data": {
            "text/plain": [
              "dtype('int64')"
            ]
          },
          "metadata": {},
          "execution_count": 27
        }
      ]
    },
    {
      "cell_type": "markdown",
      "source": [
        "## **Accessing Elements**"
      ],
      "metadata": {
        "id": "833_rZ-d4QlY"
      }
    },
    {
      "cell_type": "code",
      "source": [
        "# single-element indexing\n",
        "print(arr1)\n",
        "print(arr1[2])\n",
        "print(arr1[3])"
      ],
      "metadata": {
        "colab": {
          "base_uri": "https://localhost:8080/"
        },
        "id": "9X8GzDcO4Tds",
        "outputId": "2fd7fbf4-d412-40ef-9c48-52980be5c0a6"
      },
      "execution_count": null,
      "outputs": [
        {
          "output_type": "stream",
          "name": "stdout",
          "text": [
            "[1 2 3 4]\n",
            "3\n",
            "4\n"
          ]
        }
      ]
    },
    {
      "cell_type": "code",
      "source": [
        "arr = np.arange(1,10)\n",
        "print(arr)\n",
        "print(arr[[2,3]]) # multi indexing"
      ],
      "metadata": {
        "colab": {
          "base_uri": "https://localhost:8080/"
        },
        "id": "9fYXysOV4gfd",
        "outputId": "2a3e84bb-7073-4e29-d035-f10b50a47020"
      },
      "execution_count": null,
      "outputs": [
        {
          "output_type": "stream",
          "name": "stdout",
          "text": [
            "[1 2 3 4 5 6 7 8 9]\n",
            "[3 4]\n"
          ]
        }
      ]
    },
    {
      "cell_type": "code",
      "source": [
        "arr1 = np.arange(1,11).reshape(2,5)\n",
        "arr1"
      ],
      "metadata": {
        "colab": {
          "base_uri": "https://localhost:8080/"
        },
        "id": "NWlcxTKD42YX",
        "outputId": "c384d7dc-2164-4702-9f6b-f2fabf7850c3"
      },
      "execution_count": null,
      "outputs": [
        {
          "output_type": "execute_result",
          "data": {
            "text/plain": [
              "array([[ 1,  2,  3,  4,  5],\n",
              "       [ 6,  7,  8,  9, 10]])"
            ]
          },
          "metadata": {},
          "execution_count": 64
        }
      ]
    },
    {
      "cell_type": "code",
      "source": [
        "arr1[1,4]"
      ],
      "metadata": {
        "colab": {
          "base_uri": "https://localhost:8080/"
        },
        "id": "xmPLmIX14-1e",
        "outputId": "36a23175-0406-40a0-9026-9855fd49abfd"
      },
      "execution_count": null,
      "outputs": [
        {
          "output_type": "execute_result",
          "data": {
            "text/plain": [
              "10"
            ]
          },
          "metadata": {},
          "execution_count": 33
        }
      ]
    },
    {
      "cell_type": "code",
      "source": [
        "arr1 [[0,0],[1,4]] # arr[[rows][cols]] # multi indexing in 2-D"
      ],
      "metadata": {
        "colab": {
          "base_uri": "https://localhost:8080/"
        },
        "id": "O9pGLZGl5EVq",
        "outputId": "047c1c24-2328-48ec-d322-da28dae40844"
      },
      "execution_count": null,
      "outputs": [
        {
          "output_type": "execute_result",
          "data": {
            "text/plain": [
              "array([2, 5])"
            ]
          },
          "metadata": {},
          "execution_count": 37
        }
      ]
    },
    {
      "cell_type": "code",
      "source": [
        "#negative indexing\n",
        "print(arr)\n",
        "print(arr[-1])"
      ],
      "metadata": {
        "colab": {
          "base_uri": "https://localhost:8080/"
        },
        "id": "Euo2IlMT5a7-",
        "outputId": "d7a04012-ec17-40e8-e804-e3a86ec1ab77"
      },
      "execution_count": null,
      "outputs": [
        {
          "output_type": "stream",
          "name": "stdout",
          "text": [
            "[1 2 3 4 5 6 7 8 9]\n",
            "9\n"
          ]
        }
      ]
    },
    {
      "cell_type": "markdown",
      "source": [
        "## **SLICING**"
      ],
      "metadata": {
        "id": "C7tjjDz55l1t"
      }
    },
    {
      "cell_type": "code",
      "source": [
        "print(arr)\n",
        "print(arr[:3])\n",
        "print(arr[2:6])\n",
        "print(arr[::2]) # odd\n",
        "print(arr[1::2]) # even\n",
        "print(arr[-4:-1])\n",
        "print(arr[::-1]) # reverse an array"
      ],
      "metadata": {
        "colab": {
          "base_uri": "https://localhost:8080/"
        },
        "id": "_7xooeZq5nxU",
        "outputId": "89b6cbec-1dcb-4f6f-9ea2-57c9670ec971"
      },
      "execution_count": null,
      "outputs": [
        {
          "output_type": "stream",
          "name": "stdout",
          "text": [
            "[1 2 3 4 5 6 7 8 9]\n",
            "[1 2 3]\n",
            "[3 4 5 6]\n",
            "[1 3 5 7 9]\n",
            "[2 4 6 8]\n",
            "[6 7 8]\n",
            "[9 8 7 6 5 4 3 2 1]\n"
          ]
        }
      ]
    },
    {
      "cell_type": "code",
      "source": [
        "print(arr1)\n",
        "print(arr1[:,1:])\n",
        "print(arr1[:1,1:])\n",
        "\n",
        "#Slicing returns view not a copy\n",
        "#.view() -- shallow copy\n",
        "#.copy() -- deep copy"
      ],
      "metadata": {
        "colab": {
          "base_uri": "https://localhost:8080/"
        },
        "id": "iMouU-jY6HJx",
        "outputId": "e5fd06d7-ca34-4356-876a-0e0c49f7b471"
      },
      "execution_count": null,
      "outputs": [
        {
          "output_type": "stream",
          "name": "stdout",
          "text": [
            "[[ 1  2  3  4  5]\n",
            " [ 6  7  8  9 10]]\n",
            "[[ 2  3  4  5]\n",
            " [ 7  8  9 10]]\n",
            "[[2 3 4 5]]\n"
          ]
        }
      ]
    },
    {
      "cell_type": "markdown",
      "source": [
        "## **MASKING**\n",
        "\n",
        "- Fancy Indexing"
      ],
      "metadata": {
        "id": "fVd-rrPj7Eza"
      }
    },
    {
      "cell_type": "code",
      "source": [
        "# Indexing based on condition. Masking creates a copy of the array not the view\n",
        "print(arr1)\n",
        "print(arr1[0,1])\n",
        "a = arr1[arr1>5]\n",
        "arr1[0,1]=10\n",
        "print(a)\n",
        "print(arr1)"
      ],
      "metadata": {
        "colab": {
          "base_uri": "https://localhost:8080/"
        },
        "id": "bozGMTiw7LFl",
        "outputId": "1c1dfdd5-cb83-4b43-804e-7a39e48235a9"
      },
      "execution_count": null,
      "outputs": [
        {
          "output_type": "stream",
          "name": "stdout",
          "text": [
            "[[ 1  2  3  4  5]\n",
            " [ 6  7  8  9 10]]\n",
            "2\n",
            "[ 6  7  8  9 10]\n",
            "[[ 1 10  3  4  5]\n",
            " [ 6  7  8  9 10]]\n"
          ]
        }
      ]
    },
    {
      "cell_type": "markdown",
      "source": [
        "## **Operations**"
      ],
      "metadata": {
        "id": "11fu0T7E8ms4"
      }
    },
    {
      "cell_type": "markdown",
      "source": [
        "### **Arithmetic**"
      ],
      "metadata": {
        "id": "Xh2HKbdQ8rzg"
      }
    },
    {
      "cell_type": "code",
      "source": [
        "a = np.array([1,2,3,4])\n",
        "b = np.array([1,1,2,2])\n"
      ],
      "metadata": {
        "id": "r8o7My1x8pVl"
      },
      "execution_count": null,
      "outputs": []
    },
    {
      "cell_type": "code",
      "source": [
        "print(a+b)\n",
        "print(np.add(a,b))"
      ],
      "metadata": {
        "colab": {
          "base_uri": "https://localhost:8080/"
        },
        "id": "QpAzM6tj86M0",
        "outputId": "372a9f74-0779-443f-d3b4-03b9ba366127"
      },
      "execution_count": null,
      "outputs": [
        {
          "output_type": "stream",
          "name": "stdout",
          "text": [
            "[2 3 5 6]\n",
            "[2 3 5 6]\n"
          ]
        }
      ]
    },
    {
      "cell_type": "code",
      "source": [
        "print(a-b)\n",
        "print(np.subtract(a,b))"
      ],
      "metadata": {
        "colab": {
          "base_uri": "https://localhost:8080/"
        },
        "id": "nU0kU__s87_K",
        "outputId": "eba03e17-d324-4651-f002-ab164330a1c0"
      },
      "execution_count": null,
      "outputs": [
        {
          "output_type": "stream",
          "name": "stdout",
          "text": [
            "[0 1 1 2]\n",
            "[0 1 1 2]\n"
          ]
        }
      ]
    },
    {
      "cell_type": "code",
      "source": [
        "print(a*b)\n",
        "print(np.multiply(a,b))"
      ],
      "metadata": {
        "colab": {
          "base_uri": "https://localhost:8080/"
        },
        "id": "dSBpvkgs8-BD",
        "outputId": "1fe243ad-60ca-4aac-9cb7-ffe994385686"
      },
      "execution_count": null,
      "outputs": [
        {
          "output_type": "stream",
          "name": "stdout",
          "text": [
            "[1 2 6 8]\n",
            "[1 2 6 8]\n"
          ]
        }
      ]
    },
    {
      "cell_type": "code",
      "source": [
        "print(a/b)\n",
        "print(np.divide(a,b))"
      ],
      "metadata": {
        "colab": {
          "base_uri": "https://localhost:8080/"
        },
        "id": "ql-wquHu8_u6",
        "outputId": "556e31d7-c3f6-4535-8892-b14217157df1"
      },
      "execution_count": null,
      "outputs": [
        {
          "output_type": "stream",
          "name": "stdout",
          "text": [
            "[1.  2.  1.5 2. ]\n",
            "[1.  2.  1.5 2. ]\n"
          ]
        }
      ]
    },
    {
      "cell_type": "markdown",
      "source": [
        "### **Comparision**"
      ],
      "metadata": {
        "id": "OfkLuFjE9cbK"
      }
    },
    {
      "cell_type": "code",
      "source": [
        "a==b"
      ],
      "metadata": {
        "colab": {
          "base_uri": "https://localhost:8080/"
        },
        "id": "kDpE14LG9gFR",
        "outputId": "9beae330-2f49-4b12-dbc8-c467d90520c3"
      },
      "execution_count": null,
      "outputs": [
        {
          "output_type": "execute_result",
          "data": {
            "text/plain": [
              "array([ True, False, False, False])"
            ]
          },
          "metadata": {},
          "execution_count": 76
        }
      ]
    },
    {
      "cell_type": "code",
      "source": [
        "a>=b"
      ],
      "metadata": {
        "colab": {
          "base_uri": "https://localhost:8080/"
        },
        "id": "FMx5xQJ49ku4",
        "outputId": "6c929e04-5335-479a-96ae-af80b3b0a2e7"
      },
      "execution_count": null,
      "outputs": [
        {
          "output_type": "execute_result",
          "data": {
            "text/plain": [
              "array([ True,  True,  True,  True])"
            ]
          },
          "metadata": {},
          "execution_count": 77
        }
      ]
    },
    {
      "cell_type": "code",
      "source": [
        "a<=b"
      ],
      "metadata": {
        "colab": {
          "base_uri": "https://localhost:8080/"
        },
        "id": "Y1yZ2aII9m83",
        "outputId": "6d4362d0-abac-4e64-b480-a012525a5667"
      },
      "execution_count": null,
      "outputs": [
        {
          "output_type": "execute_result",
          "data": {
            "text/plain": [
              "array([ True, False, False, False])"
            ]
          },
          "metadata": {},
          "execution_count": 78
        }
      ]
    },
    {
      "cell_type": "code",
      "source": [
        "print(np.all(a==b))\n",
        "print(np.any(a==b))\n",
        "print(np.all(a>=b))\n",
        "print(np.any(a>=b))"
      ],
      "metadata": {
        "colab": {
          "base_uri": "https://localhost:8080/"
        },
        "id": "yS_VWxln9rpR",
        "outputId": "6671ac2a-f1be-4196-c765-eca7d14ade66"
      },
      "execution_count": null,
      "outputs": [
        {
          "output_type": "stream",
          "name": "stdout",
          "text": [
            "False\n",
            "True\n",
            "True\n",
            "True\n"
          ]
        }
      ]
    },
    {
      "cell_type": "markdown",
      "source": [
        "### **Matrix multiplication**"
      ],
      "metadata": {
        "id": "_Xh-Nlp295xG"
      }
    },
    {
      "cell_type": "code",
      "source": [
        "mat1 = np.array([[2],[1]])\n",
        "mat2 = np.array([[2,4]])"
      ],
      "metadata": {
        "id": "lUQgrv2599CZ"
      },
      "execution_count": null,
      "outputs": []
    },
    {
      "cell_type": "code",
      "source": [
        "mat1@mat2"
      ],
      "metadata": {
        "colab": {
          "base_uri": "https://localhost:8080/"
        },
        "id": "fj6VLSuy-IE4",
        "outputId": "74be7af4-c408-4edf-f0fd-d112d7b9bb1b"
      },
      "execution_count": null,
      "outputs": [
        {
          "output_type": "execute_result",
          "data": {
            "text/plain": [
              "array([[4, 8],\n",
              "       [2, 4]])"
            ]
          },
          "metadata": {},
          "execution_count": 83
        }
      ]
    },
    {
      "cell_type": "code",
      "source": [
        "np.matmul(mat1,mat2)"
      ],
      "metadata": {
        "colab": {
          "base_uri": "https://localhost:8080/"
        },
        "id": "9TRh_jmD-LZP",
        "outputId": "42d5d5b8-6cba-4fcf-fb16-1c2f50a99c19"
      },
      "execution_count": null,
      "outputs": [
        {
          "output_type": "execute_result",
          "data": {
            "text/plain": [
              "array([[4, 8],\n",
              "       [2, 4]])"
            ]
          },
          "metadata": {},
          "execution_count": 84
        }
      ]
    },
    {
      "cell_type": "code",
      "source": [
        "np.dot(mat1,mat2)"
      ],
      "metadata": {
        "colab": {
          "base_uri": "https://localhost:8080/"
        },
        "id": "D_DVUneO-RQt",
        "outputId": "e9cb5e60-8f8d-4959-e5f4-72ed4138d87f"
      },
      "execution_count": null,
      "outputs": [
        {
          "output_type": "execute_result",
          "data": {
            "text/plain": [
              "array([[4, 8],\n",
              "       [2, 4]])"
            ]
          },
          "metadata": {},
          "execution_count": 85
        }
      ]
    },
    {
      "cell_type": "markdown",
      "source": [
        "## **AXIS**\n",
        "\n",
        "- axis = 0 --> vertical axis (column wise)\n",
        "- axis = 1 --> horizontal axis (row wise)"
      ],
      "metadata": {
        "id": "VZr3namqDH5X"
      }
    },
    {
      "cell_type": "code",
      "source": [],
      "metadata": {
        "id": "ocO4_ObnDVS5"
      },
      "execution_count": null,
      "outputs": []
    },
    {
      "cell_type": "markdown",
      "source": [
        "## **BROAD CASTING**\n",
        "\n",
        "- For each dimensions (going from right sied)\n",
        "-- The size of each dimension should be same OR\n",
        "-- The size of one dimension should be 1\n",
        "\n",
        "- RULE1:  If two arrays differ in the number of dimensions, the\n",
        "shape of one with fewer dimensions is padded with ones on\n",
        "its leading( Left Side).\n",
        "\n",
        "- RULE2 :  If the shape of two arrays does not match in any\n",
        "dimensions, the array with shape equal to 1 is stretched to\n",
        "match the other shape i.e. broadcasted.\n",
        "\n",
        "- RULE3 :  If in any dimension the sizes disagree and neither\n",
        "equal to 1 , then Error is raised."
      ],
      "metadata": {
        "id": "urIa814CDY6h"
      }
    },
    {
      "cell_type": "code",
      "source": [
        "arr1 = np.array([[0],[1]])\n",
        "arr2 = np.array([[10,10],[20,20]])\n",
        "print(arr1.shape)\n",
        "print(arr2.shape)\n",
        "print(arr1)\n",
        "print(arr2)\n",
        "print(arr1+arr2)"
      ],
      "metadata": {
        "colab": {
          "base_uri": "https://localhost:8080/"
        },
        "id": "g560TKnbDcMM",
        "outputId": "eb593a6d-5f19-4ec7-f0ec-ef8b76f10cf0"
      },
      "execution_count": null,
      "outputs": [
        {
          "output_type": "stream",
          "name": "stdout",
          "text": [
            "(2, 1)\n",
            "(2, 2)\n",
            "[[0]\n",
            " [1]]\n",
            "[[10 10]\n",
            " [20 20]]\n",
            "[[10 10]\n",
            " [21 21]]\n"
          ]
        }
      ]
    },
    {
      "cell_type": "code",
      "source": [
        "a3 = np.array([[0,1]])\n",
        "a4 = np.array([[10,10],[20,20]])\n",
        "print(a3)\n",
        "print(a4)\n",
        "print(a3.shape)\n",
        "print(a4.shape)\n",
        "print(a3+a4)"
      ],
      "metadata": {
        "colab": {
          "base_uri": "https://localhost:8080/"
        },
        "id": "fQifpHuuFJkZ",
        "outputId": "ac8a93a1-a6df-4c88-caea-7c975b445eca"
      },
      "execution_count": null,
      "outputs": [
        {
          "output_type": "stream",
          "name": "stdout",
          "text": [
            "[[0 1]]\n",
            "[[10 10]\n",
            " [20 20]]\n",
            "(1, 2)\n",
            "(2, 2)\n",
            "[[10 11]\n",
            " [20 21]]\n"
          ]
        }
      ]
    },
    {
      "cell_type": "code",
      "source": [
        "#EG 3\n",
        "#a1 shape = (2,4)\n",
        "# a2 shape = (4,4)\n",
        "# a1 + a2 --> Error --> RULE3 - niether of dimension is 1"
      ],
      "metadata": {
        "id": "WmcNzwbkFsT5"
      },
      "execution_count": null,
      "outputs": []
    },
    {
      "cell_type": "code",
      "source": [
        "# EG 4\n",
        "# a1 shape = (5, 2, 3)\n",
        "# a2 shape = (2, 1)\n",
        "\n",
        "# a1 + a2 = (5, 2, 3) --> RULE1 + RULE2 applies\n",
        "\n",
        "a1 = np.arange(1,31).reshape(5,2,3)\n",
        "print(a1)\n",
        "print(a1.shape)\n",
        "a2 = np.arange(1,3).reshape(2,1)\n",
        "print(a2)\n",
        "print(a2.shape)\n",
        "print(a1 + a2)\n",
        "print((a1 + a2).shape)"
      ],
      "metadata": {
        "colab": {
          "base_uri": "https://localhost:8080/"
        },
        "id": "umFGQBBgGFbt",
        "outputId": "bd5d320b-71b4-4e80-d739-007508601afd"
      },
      "execution_count": null,
      "outputs": [
        {
          "output_type": "stream",
          "name": "stdout",
          "text": [
            "[[[ 1  2  3]\n",
            "  [ 4  5  6]]\n",
            "\n",
            " [[ 7  8  9]\n",
            "  [10 11 12]]\n",
            "\n",
            " [[13 14 15]\n",
            "  [16 17 18]]\n",
            "\n",
            " [[19 20 21]\n",
            "  [22 23 24]]\n",
            "\n",
            " [[25 26 27]\n",
            "  [28 29 30]]]\n",
            "(5, 2, 3)\n",
            "[[1]\n",
            " [2]]\n",
            "(2, 1)\n",
            "[[[ 2  3  4]\n",
            "  [ 6  7  8]]\n",
            "\n",
            " [[ 8  9 10]\n",
            "  [12 13 14]]\n",
            "\n",
            " [[14 15 16]\n",
            "  [18 19 20]]\n",
            "\n",
            " [[20 21 22]\n",
            "  [24 25 26]]\n",
            "\n",
            " [[26 27 28]\n",
            "  [30 31 32]]]\n",
            "(5, 2, 3)\n"
          ]
        }
      ]
    },
    {
      "cell_type": "code",
      "source": [
        "a1 = np.arange(1,31).reshape(5,2,3)\n",
        "print(a1)\n",
        "print(a1.shape)\n",
        "a2 = np.arange(1,3).reshape(1,2)\n",
        "print(a2)\n",
        "print(a2.shape)\n",
        "# print(a1 + a2)\n",
        "# print((a1 + a2).shape)"
      ],
      "metadata": {
        "colab": {
          "base_uri": "https://localhost:8080/"
        },
        "id": "05cdGbmZHhOd",
        "outputId": "a1e4f306-1d21-44b3-8026-5f32c2eb4524"
      },
      "execution_count": null,
      "outputs": [
        {
          "output_type": "stream",
          "name": "stdout",
          "text": [
            "[[[ 1  2  3]\n",
            "  [ 4  5  6]]\n",
            "\n",
            " [[ 7  8  9]\n",
            "  [10 11 12]]\n",
            "\n",
            " [[13 14 15]\n",
            "  [16 17 18]]\n",
            "\n",
            " [[19 20 21]\n",
            "  [22 23 24]]\n",
            "\n",
            " [[25 26 27]\n",
            "  [28 29 30]]]\n",
            "(5, 2, 3)\n",
            "[[1 2]]\n",
            "(1, 2)\n"
          ]
        }
      ]
    },
    {
      "cell_type": "markdown",
      "source": [
        "## **ARRAY MANIPULATION**"
      ],
      "metadata": {
        "id": "lJykiEfQHulS"
      }
    },
    {
      "cell_type": "markdown",
      "source": [
        "### **RESHAPING**"
      ],
      "metadata": {
        "id": "v_ixmwE6Hzfh"
      }
    },
    {
      "cell_type": "code",
      "source": [
        "array3d = np.array([[[1,2] ],[[5,6]] ])\n",
        "print(array3d, array3d.ndim, array3d.shape)\n",
        "\n",
        "print(array3d.reshape(2,2))\n",
        "print(array3d.reshape(2,-1))\n",
        "print(array3d.reshape(-1,2))\n",
        "print(array3d.flatten()) # returns 1-d copy of array  --> deep copy"
      ],
      "metadata": {
        "colab": {
          "base_uri": "https://localhost:8080/"
        },
        "id": "_Hgy999AHxWS",
        "outputId": "c545a9e7-d447-49de-f5cc-fe17e74d903b"
      },
      "execution_count": null,
      "outputs": [
        {
          "output_type": "stream",
          "name": "stdout",
          "text": [
            "[[[1 2]]\n",
            "\n",
            " [[5 6]]] 3 (2, 1, 2)\n",
            "[[1 2]\n",
            " [5 6]]\n",
            "[[1 2]\n",
            " [5 6]]\n",
            "[[1 2]\n",
            " [5 6]]\n",
            "[1 2 5 6]\n"
          ]
        }
      ]
    },
    {
      "cell_type": "code",
      "source": [
        "print(array3d.ravel()) # returns 1-d view of array --> shallow copy\n",
        "# Shallow copy  --> Reshaping, slicing, assigning\n",
        "# Deep copy --> masking, arithmatic operation"
      ],
      "metadata": {
        "colab": {
          "base_uri": "https://localhost:8080/"
        },
        "id": "wHTup_UOI7iL",
        "outputId": "f1444bdb-e31a-4dcd-ac93-d264fee74879"
      },
      "execution_count": null,
      "outputs": [
        {
          "output_type": "stream",
          "name": "stdout",
          "text": [
            "[1 2 5 6]\n"
          ]
        }
      ]
    },
    {
      "cell_type": "code",
      "source": [
        "print(array3d, array3d.shape)"
      ],
      "metadata": {
        "colab": {
          "base_uri": "https://localhost:8080/"
        },
        "id": "hExBKxrfJZx9",
        "outputId": "7d058902-e30d-42ee-9955-1afd5aa41393"
      },
      "execution_count": null,
      "outputs": [
        {
          "output_type": "stream",
          "name": "stdout",
          "text": [
            "[[[1 2]]\n",
            "\n",
            " [[5 6]]] (2, 1, 2)\n"
          ]
        }
      ]
    },
    {
      "cell_type": "code",
      "source": [
        "\n",
        "print(np.transpose(array3d, (2,1,0)))\n",
        "print(array3d.T)\n",
        "print(array3d.T.shape)"
      ],
      "metadata": {
        "colab": {
          "base_uri": "https://localhost:8080/"
        },
        "id": "JzQxi44uJcAG",
        "outputId": "bc841d1b-3b25-4702-c49b-390b8b5ef6d1"
      },
      "execution_count": null,
      "outputs": [
        {
          "output_type": "stream",
          "name": "stdout",
          "text": [
            "[[[1 5]]\n",
            "\n",
            " [[2 6]]]\n",
            "[[[1 5]]\n",
            "\n",
            " [[2 6]]]\n",
            "(2, 1, 2)\n"
          ]
        }
      ]
    },
    {
      "cell_type": "markdown",
      "source": [
        "## **SORT**"
      ],
      "metadata": {
        "id": "gS6_suSFKjK_"
      }
    },
    {
      "cell_type": "code",
      "source": [
        "arr2 = np.arange(1,11).reshape(2,5)\n",
        "print(arr2)\n",
        "a= arr2.sort()\n",
        "print(a)\n",
        "np.sort(arr2.T)\n",
        "print(np.sort(arr2, axis=0))\n",
        "print(np.sort(arr2, axis=1))"
      ],
      "metadata": {
        "colab": {
          "base_uri": "https://localhost:8080/"
        },
        "id": "Qexvim8dKlrN",
        "outputId": "2da74842-90e3-4a2b-e83c-fdf50b19fc78"
      },
      "execution_count": null,
      "outputs": [
        {
          "output_type": "stream",
          "name": "stdout",
          "text": [
            "[[ 1  2  3  4  5]\n",
            " [ 6  7  8  9 10]]\n",
            "None\n",
            "[[ 1  2  3  4  5]\n",
            " [ 6  7  8  9 10]]\n",
            "[[ 1  2  3  4  5]\n",
            " [ 6  7  8  9 10]]\n"
          ]
        }
      ]
    },
    {
      "cell_type": "code",
      "source": [
        "a = np.array([[23,4,43],\n",
        "             [12,89,3],\n",
        "             [69,420,0]])\n",
        "print(a)\n",
        "print(np.sort(a,axis=1)) # horizontally (row wise)\n",
        "print(np.sort(a,axis=0)) # vertically (column wise)\n",
        "print(np.argsort(a)) # default horizontally (row-wise)\n",
        "print(np.argsort(a,axis=0))"
      ],
      "metadata": {
        "colab": {
          "base_uri": "https://localhost:8080/"
        },
        "id": "nUxZ_BZHNTsQ",
        "outputId": "32e9bd04-9223-487a-aa70-57e2c69a5cba"
      },
      "execution_count": null,
      "outputs": [
        {
          "output_type": "stream",
          "name": "stdout",
          "text": [
            "[[ 23   4  43]\n",
            " [ 12  89   3]\n",
            " [ 69 420   0]]\n",
            "[[  4  23  43]\n",
            " [  3  12  89]\n",
            " [  0  69 420]]\n",
            "[[ 12   4   0]\n",
            " [ 23  89   3]\n",
            " [ 69 420  43]]\n",
            "[[1 0 2]\n",
            " [2 0 1]\n",
            " [2 0 1]]\n",
            "[[1 0 2]\n",
            " [0 1 1]\n",
            " [2 2 0]]\n"
          ]
        }
      ]
    },
    {
      "cell_type": "markdown",
      "source": [
        "## **SPLITTING**"
      ],
      "metadata": {
        "id": "IGznhmieOG3v"
      }
    },
    {
      "cell_type": "code",
      "source": [
        "#np.split() --> split array into multiple sub arrays"
      ],
      "metadata": {
        "id": "FmF-J153OI9H"
      },
      "execution_count": null,
      "outputs": []
    },
    {
      "cell_type": "code",
      "source": [
        "np.vectorize?"
      ],
      "metadata": {
        "id": "lxzqKue6O9q3"
      },
      "execution_count": null,
      "outputs": []
    },
    {
      "cell_type": "code",
      "source": [
        "def mypolyval(p,x):\n",
        "  _p = list(p)\n",
        "  print(_p)\n",
        "  res = _p.pop(0)\n",
        "  print(res)\n",
        "  print(_p)\n",
        "  while _p:\n",
        "    res = res*x + _p.pop(0)\n",
        "    print(res)\n",
        "  return res\n",
        "\n",
        "vpolyval = np.vectorize(mypolyval, excluded=['p'])\n",
        "vpolyval(p=[1,2,3],x=[0,1])"
      ],
      "metadata": {
        "colab": {
          "base_uri": "https://localhost:8080/"
        },
        "id": "cfq0XeYeQNry",
        "outputId": "fc6aa8c1-aa7a-4370-9b7f-c7f6a92de80d"
      },
      "execution_count": null,
      "outputs": [
        {
          "output_type": "stream",
          "name": "stdout",
          "text": [
            "[1, 2, 3]\n",
            "1\n",
            "[2, 3]\n",
            "2\n",
            "3\n",
            "[1, 2, 3]\n",
            "1\n",
            "[2, 3]\n",
            "2\n",
            "3\n",
            "[1, 2, 3]\n",
            "1\n",
            "[2, 3]\n",
            "3\n",
            "6\n"
          ]
        },
        {
          "output_type": "execute_result",
          "data": {
            "text/plain": [
              "array([3, 6])"
            ]
          },
          "metadata": {},
          "execution_count": 131
        }
      ]
    },
    {
      "cell_type": "code",
      "source": [
        "a = np.arange(1,7)\n",
        "a"
      ],
      "metadata": {
        "colab": {
          "base_uri": "https://localhost:8080/"
        },
        "id": "60EuIRT9Rz2Z",
        "outputId": "daa0784a-0d96-4a79-831a-822c5817c761"
      },
      "execution_count": null,
      "outputs": [
        {
          "output_type": "execute_result",
          "data": {
            "text/plain": [
              "array([1, 2, 3, 4, 5, 6])"
            ]
          },
          "metadata": {},
          "execution_count": 136
        }
      ]
    },
    {
      "cell_type": "code",
      "source": [
        "print(np.split(a,2))\n",
        "print(np.split(a,3))\n",
        "print(np.split(a,[2]))\n",
        "print(np.split(a, [2,3]))"
      ],
      "metadata": {
        "colab": {
          "base_uri": "https://localhost:8080/"
        },
        "id": "K4YIHwQoR-ss",
        "outputId": "9f4e3dfc-be8f-4434-c35d-266c14769463"
      },
      "execution_count": null,
      "outputs": [
        {
          "output_type": "stream",
          "name": "stdout",
          "text": [
            "[array([1, 2, 3]), array([4, 5, 6])]\n",
            "[array([1, 2]), array([3, 4]), array([5, 6])]\n",
            "[array([1, 2]), array([3, 4, 5, 6])]\n",
            "[array([1, 2]), array([3]), array([4, 5, 6])]\n"
          ]
        }
      ]
    },
    {
      "cell_type": "code",
      "source": [
        "# hsplit - splits horizontally - column wise\n",
        "b = np.arange(1,16).reshape(3,5)\n",
        "print(b)\n",
        "print(np.hsplit(b,[1,2]))"
      ],
      "metadata": {
        "colab": {
          "base_uri": "https://localhost:8080/"
        },
        "id": "evrOcipoStCd",
        "outputId": "854b5e29-3401-4de8-dabf-1d6d43fb6b75"
      },
      "execution_count": null,
      "outputs": [
        {
          "output_type": "stream",
          "name": "stdout",
          "text": [
            "[[ 1  2  3  4  5]\n",
            " [ 6  7  8  9 10]\n",
            " [11 12 13 14 15]]\n",
            "[array([[ 1],\n",
            "       [ 6],\n",
            "       [11]]), array([[ 2],\n",
            "       [ 7],\n",
            "       [12]]), array([[ 3,  4,  5],\n",
            "       [ 8,  9, 10],\n",
            "       [13, 14, 15]])]\n"
          ]
        }
      ]
    },
    {
      "cell_type": "code",
      "source": [
        "# vsplit --> splits vertically - row wise\n",
        "print(b)\n",
        "print(np.vsplit(b,[1,2]))\n",
        "print(np.vsplit(b,[1]))"
      ],
      "metadata": {
        "colab": {
          "base_uri": "https://localhost:8080/"
        },
        "id": "0pqHJCWMTgZG",
        "outputId": "e6ac16c6-d4bf-4e28-ba1a-03e7e3bf8c58"
      },
      "execution_count": null,
      "outputs": [
        {
          "output_type": "stream",
          "name": "stdout",
          "text": [
            "[[ 1  2  3  4  5]\n",
            " [ 6  7  8  9 10]\n",
            " [11 12 13 14 15]]\n",
            "[array([[1, 2, 3, 4, 5]]), array([[ 6,  7,  8,  9, 10]]), array([[11, 12, 13, 14, 15]])]\n",
            "[array([[1, 2, 3, 4, 5]]), array([[ 6,  7,  8,  9, 10],\n",
            "       [11, 12, 13, 14, 15]])]\n"
          ]
        }
      ]
    },
    {
      "cell_type": "markdown",
      "source": [
        "## **MERGING**"
      ],
      "metadata": {
        "id": "3RlIfkUnUhyI"
      }
    },
    {
      "cell_type": "code",
      "source": [
        "# np.vstack() --> Stacks array vertically\n",
        "a = np.arange(5)\n",
        "b = np.arange(5,10)\n",
        "print(a)\n",
        "print(b)"
      ],
      "metadata": {
        "colab": {
          "base_uri": "https://localhost:8080/"
        },
        "id": "Ejb4cMBXUj5r",
        "outputId": "51db8d70-c944-4e33-f67e-74b4286962af"
      },
      "execution_count": null,
      "outputs": [
        {
          "output_type": "stream",
          "name": "stdout",
          "text": [
            "[0 1 2 3 4]\n",
            "[5 6 7 8 9]\n"
          ]
        }
      ]
    },
    {
      "cell_type": "code",
      "source": [
        "print(np.vstack((a,b)))\n",
        "print(np.hstack((a,b)))"
      ],
      "metadata": {
        "colab": {
          "base_uri": "https://localhost:8080/"
        },
        "id": "aRG3064yW0uk",
        "outputId": "22918e7d-e85a-452f-e490-129ae17de091"
      },
      "execution_count": null,
      "outputs": [
        {
          "output_type": "stream",
          "name": "stdout",
          "text": [
            "[[0 1 2 3 4]\n",
            " [5 6 7 8 9]]\n",
            "[0 1 2 3 4 5 6 7 8 9]\n"
          ]
        }
      ]
    },
    {
      "cell_type": "code",
      "source": [
        "arr = np.arange(1,5)\n",
        "print(arr)\n",
        "\n",
        "print(np.hstack((arr,arr,arr)))\n",
        "print(np.vstack((arr,arr,arr)))"
      ],
      "metadata": {
        "colab": {
          "base_uri": "https://localhost:8080/"
        },
        "id": "jJsfLDAgXowo",
        "outputId": "279dd492-56ea-4683-82e3-6ec2f5635230"
      },
      "execution_count": null,
      "outputs": [
        {
          "output_type": "stream",
          "name": "stdout",
          "text": [
            "[1 2 3 4]\n",
            "[1 2 3 4 1 2 3 4 1 2 3 4]\n",
            "[[1 2 3 4]\n",
            " [1 2 3 4]\n",
            " [1 2 3 4]]\n"
          ]
        }
      ]
    },
    {
      "cell_type": "code",
      "source": [
        "c = np.arange(2,12).reshape(2,5)\n",
        "print(c)\n",
        "d = np.arange(3,13).reshape(5,2)\n",
        "print(d)"
      ],
      "metadata": {
        "colab": {
          "base_uri": "https://localhost:8080/"
        },
        "id": "zXt23R3cY_ur",
        "outputId": "e6695d93-4cf0-466a-cdae-871495b5c5bc"
      },
      "execution_count": null,
      "outputs": [
        {
          "output_type": "stream",
          "name": "stdout",
          "text": [
            "[[ 2  3  4  5  6]\n",
            " [ 7  8  9 10 11]]\n",
            "[[ 3  4]\n",
            " [ 5  6]\n",
            " [ 7  8]\n",
            " [ 9 10]\n",
            " [11 12]]\n"
          ]
        }
      ]
    },
    {
      "cell_type": "markdown",
      "source": [
        "## **CONCATENATE**"
      ],
      "metadata": {
        "id": "YChlCqcWZ9Pb"
      }
    },
    {
      "cell_type": "code",
      "source": [
        "# concatenate 2 or more arrays along the given axis\n",
        "print(arr)\n",
        "print(np.concatenate([arr,arr]))\n",
        "print(np.concatenate([arr,arr], axis=0))"
      ],
      "metadata": {
        "colab": {
          "base_uri": "https://localhost:8080/"
        },
        "id": "j7Ob7VB5ZuTg",
        "outputId": "00e51b63-0198-4832-ec8d-fc9455cf3407"
      },
      "execution_count": null,
      "outputs": [
        {
          "output_type": "stream",
          "name": "stdout",
          "text": [
            "[1 2 3 4]\n",
            "[1 2 3 4 1 2 3 4]\n",
            "[1 2 3 4 1 2 3 4]\n"
          ]
        }
      ]
    },
    {
      "cell_type": "code",
      "source": [
        "a = np.arange(1,5).reshape(2,2)\n",
        "b = np.arange(5,9).reshape(2,2)\n",
        "print(a)\n",
        "print(b)"
      ],
      "metadata": {
        "colab": {
          "base_uri": "https://localhost:8080/"
        },
        "id": "brIUrTICacdm",
        "outputId": "a762da03-7a97-49f9-a686-f6d7d4134cd9"
      },
      "execution_count": null,
      "outputs": [
        {
          "output_type": "stream",
          "name": "stdout",
          "text": [
            "[[1 2]\n",
            " [3 4]]\n",
            "[[5 6]\n",
            " [7 8]]\n"
          ]
        }
      ]
    },
    {
      "cell_type": "code",
      "source": [
        "print(np.concatenate([a,b], axis = 0))\n",
        "print(np.concatenate([a,b], axis = 1))\n",
        "\n"
      ],
      "metadata": {
        "colab": {
          "base_uri": "https://localhost:8080/"
        },
        "id": "xXAv2fojal-o",
        "outputId": "e225efcb-aa26-4e42-c0ed-2c171c586874"
      },
      "execution_count": null,
      "outputs": [
        {
          "output_type": "stream",
          "name": "stdout",
          "text": [
            "[[1 2]\n",
            " [3 4]\n",
            " [5 6]\n",
            " [7 8]]\n",
            "[[1 2 5 6]\n",
            " [3 4 7 8]]\n"
          ]
        }
      ]
    },
    {
      "cell_type": "code",
      "source": [
        "print(np.argmin(a))\n",
        "print(np.argmax(a))\n",
        "print(np.argsort(a))"
      ],
      "metadata": {
        "colab": {
          "base_uri": "https://localhost:8080/"
        },
        "id": "yIa3mTrLcdO3",
        "outputId": "5eb1f7c6-0e11-41ca-ef82-549c3704918c"
      },
      "execution_count": null,
      "outputs": [
        {
          "output_type": "stream",
          "name": "stdout",
          "text": [
            "0\n",
            "3\n",
            "[[0 1]\n",
            " [0 1]]\n"
          ]
        }
      ]
    }
  ]
}