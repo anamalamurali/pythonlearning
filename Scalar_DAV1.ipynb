{
  "nbformat": 4,
  "nbformat_minor": 0,
  "metadata": {
    "colab": {
      "provenance": [],
      "authorship_tag": "ABX9TyPMMEnZ1HAdCkOrgkRh373I",
      "include_colab_link": true
    },
    "kernelspec": {
      "name": "python3",
      "display_name": "Python 3"
    },
    "language_info": {
      "name": "python"
    }
  },
  "cells": [
    {
      "cell_type": "markdown",
      "metadata": {
        "id": "view-in-github",
        "colab_type": "text"
      },
      "source": [
        "<a href=\"https://colab.research.google.com/github/muralianamala/pythonlearning/blob/main/Scalar_DAV1.ipynb\" target=\"_parent\"><img src=\"https://colab.research.google.com/assets/colab-badge.svg\" alt=\"Open In Colab\"/></a>"
      ]
    },
    {
      "cell_type": "code",
      "execution_count": null,
      "metadata": {
        "id": "9XDw8o8klLcf"
      },
      "outputs": [],
      "source": [
        "'''\n",
        "Day1 -> Python libraries: Numpy, Pandas, Matplotlib, Seaborn\n",
        "Day2 -> Probability and Statistics\n",
        "Day3 -> Hypothesis testing\n",
        "'''"
      ]
    },
    {
      "cell_type": "markdown",
      "source": [
        "**Numpy**"
      ],
      "metadata": {
        "id": "oqC-t_i3lmsZ"
      }
    },
    {
      "cell_type": "code",
      "source": [
        "import numpy as np"
      ],
      "metadata": {
        "id": "2yAq5eGKlpgR"
      },
      "execution_count": 1,
      "outputs": []
    },
    {
      "cell_type": "code",
      "source": [
        "# Numerical in python - numpy means\n",
        "# Speed comparision\n",
        "# Numpy is useful wherever numerical operations needed"
      ],
      "metadata": {
        "id": "49bhcSPOlxI4"
      },
      "execution_count": null,
      "outputs": []
    },
    {
      "cell_type": "code",
      "source": [
        "l = list(range(10000000))\n",
        "len(l)"
      ],
      "metadata": {
        "colab": {
          "base_uri": "https://localhost:8080/"
        },
        "id": "vTrglJHEmB6l",
        "outputId": "d146fe56-1da3-4ba6-bc8c-7a896cb40377"
      },
      "execution_count": 2,
      "outputs": [
        {
          "output_type": "execute_result",
          "data": {
            "text/plain": [
              "10000000"
            ]
          },
          "metadata": {},
          "execution_count": 2
        }
      ]
    },
    {
      "cell_type": "code",
      "source": [
        "%timeit [i**2 for i in l]"
      ],
      "metadata": {
        "colab": {
          "base_uri": "https://localhost:8080/"
        },
        "id": "cxeIsYKwmIxP",
        "outputId": "1bda3dae-2b75-444f-bb73-98dcc1927a4a"
      },
      "execution_count": 4,
      "outputs": [
        {
          "output_type": "stream",
          "name": "stdout",
          "text": [
            "3.59 s ± 570 ms per loop (mean ± std. dev. of 7 runs, 1 loop each)\n"
          ]
        }
      ]
    },
    {
      "cell_type": "code",
      "source": [
        "b = np.array(l)"
      ],
      "metadata": {
        "id": "EIw74VOYmlCh"
      },
      "execution_count": 5,
      "outputs": []
    },
    {
      "cell_type": "code",
      "source": [
        "type(b)"
      ],
      "metadata": {
        "colab": {
          "base_uri": "https://localhost:8080/"
        },
        "id": "l_8sYC2smy4M",
        "outputId": "7aee6a12-7939-4d62-dfec-5bd97cc15408"
      },
      "execution_count": 6,
      "outputs": [
        {
          "output_type": "execute_result",
          "data": {
            "text/plain": [
              "numpy.ndarray"
            ]
          },
          "metadata": {},
          "execution_count": 6
        }
      ]
    },
    {
      "cell_type": "code",
      "source": [
        "#element-wise operation\n",
        "#ndarray - n dimensional array"
      ],
      "metadata": {
        "id": "az7r5JCxm1Oa"
      },
      "execution_count": null,
      "outputs": []
    },
    {
      "cell_type": "code",
      "source": [
        "%timeit b**2"
      ],
      "metadata": {
        "colab": {
          "base_uri": "https://localhost:8080/"
        },
        "id": "qvOGmJifm8YH",
        "outputId": "1d1c70e8-7520-4903-c457-3c8449fa04d1"
      },
      "execution_count": 7,
      "outputs": [
        {
          "output_type": "stream",
          "name": "stdout",
          "text": [
            "27.1 ms ± 464 µs per loop (mean ± std. dev. of 7 runs, 10 loops each)\n"
          ]
        }
      ]
    },
    {
      "cell_type": "code",
      "source": [
        "a = np.array((5,7,3,6))\n",
        "print(a**2)"
      ],
      "metadata": {
        "colab": {
          "base_uri": "https://localhost:8080/"
        },
        "id": "PUwOwCbMnHWM",
        "outputId": "79929ce7-14b8-4d88-b429-7d3db4105123"
      },
      "execution_count": 8,
      "outputs": [
        {
          "output_type": "stream",
          "name": "stdout",
          "text": [
            "[25 49  9 36]\n"
          ]
        }
      ]
    },
    {
      "cell_type": "code",
      "source": [
        "%timeit a**2"
      ],
      "metadata": {
        "colab": {
          "base_uri": "https://localhost:8080/"
        },
        "id": "Ku_FxKJ9nVCj",
        "outputId": "7aa8b1dd-ac0a-47fa-eb3c-4ba4db61b163"
      },
      "execution_count": 9,
      "outputs": [
        {
          "output_type": "stream",
          "name": "stdout",
          "text": [
            "563 ns ± 5.97 ns per loop (mean ± std. dev. of 7 runs, 1000000 loops each)\n"
          ]
        }
      ]
    },
    {
      "cell_type": "code",
      "source": [
        "b.ndim"
      ],
      "metadata": {
        "colab": {
          "base_uri": "https://localhost:8080/"
        },
        "id": "cgK4VLGgnZb-",
        "outputId": "aa8b2600-6c52-4410-a142-e7f494000218"
      },
      "execution_count": 10,
      "outputs": [
        {
          "output_type": "execute_result",
          "data": {
            "text/plain": [
              "1"
            ]
          },
          "metadata": {},
          "execution_count": 10
        }
      ]
    },
    {
      "cell_type": "code",
      "source": [
        "len(b)"
      ],
      "metadata": {
        "colab": {
          "base_uri": "https://localhost:8080/"
        },
        "id": "ddD7SVcMoFYe",
        "outputId": "4ac495f3-61db-4932-ef1a-b2227d26f8c0"
      },
      "execution_count": 11,
      "outputs": [
        {
          "output_type": "execute_result",
          "data": {
            "text/plain": [
              "10000000"
            ]
          },
          "metadata": {},
          "execution_count": 11
        }
      ]
    },
    {
      "cell_type": "code",
      "source": [
        "# it tells me the whole shape of array, if its multi dimensional\n",
        "b.shape"
      ],
      "metadata": {
        "colab": {
          "base_uri": "https://localhost:8080/"
        },
        "id": "WvxRjRWroKy0",
        "outputId": "8fd36264-e422-4f9f-ff5e-71bc4c9be944"
      },
      "execution_count": 12,
      "outputs": [
        {
          "output_type": "execute_result",
          "data": {
            "text/plain": [
              "(10000000,)"
            ]
          },
          "metadata": {},
          "execution_count": 12
        }
      ]
    },
    {
      "cell_type": "code",
      "source": [
        "#numpy are arrays, which they can store only same datatypes\n",
        "#Lists are storing as references in memory\n",
        "# Arrays are storing actual elements in memory"
      ],
      "metadata": {
        "id": "jpu5SrgBoZJL"
      },
      "execution_count": null,
      "outputs": []
    },
    {
      "cell_type": "code",
      "source": [
        "c = list(range(1,10))\n",
        "type(c)\n",
        "print(c)"
      ],
      "metadata": {
        "colab": {
          "base_uri": "https://localhost:8080/"
        },
        "id": "W1bZ-IwDpVeW",
        "outputId": "60748b19-d5ff-40d0-a505-4e4339aaaf85"
      },
      "execution_count": 17,
      "outputs": [
        {
          "output_type": "stream",
          "name": "stdout",
          "text": [
            "[1, 2, 3, 4, 5, 6, 7, 8, 9]\n"
          ]
        }
      ]
    },
    {
      "cell_type": "code",
      "source": [
        "c= np.arange(1,10)\n",
        "print(c)"
      ],
      "metadata": {
        "colab": {
          "base_uri": "https://localhost:8080/"
        },
        "id": "r1k4o3Zophfi",
        "outputId": "aa0ccedf-e56a-4f40-cc58-32ce7126c5d4"
      },
      "execution_count": 18,
      "outputs": [
        {
          "output_type": "stream",
          "name": "stdout",
          "text": [
            "[1 2 3 4 5 6 7 8 9]\n"
          ]
        }
      ]
    },
    {
      "cell_type": "code",
      "source": [
        "type(c)"
      ],
      "metadata": {
        "colab": {
          "base_uri": "https://localhost:8080/"
        },
        "id": "1WRUH0vSpr3T",
        "outputId": "eaa33252-42f9-4d21-a400-8cc5257d87d9"
      },
      "execution_count": 19,
      "outputs": [
        {
          "output_type": "execute_result",
          "data": {
            "text/plain": [
              "numpy.ndarray"
            ]
          },
          "metadata": {},
          "execution_count": 19
        }
      ]
    },
    {
      "cell_type": "code",
      "source": [
        "# stepping count can be a float in numpy\n",
        "c = np.arange(1,5,0.5)\n",
        "print(c)"
      ],
      "metadata": {
        "colab": {
          "base_uri": "https://localhost:8080/"
        },
        "id": "tyFMKIcMp7KT",
        "outputId": "e3eb236a-d3f8-4b80-c41f-c143ea985896"
      },
      "execution_count": 20,
      "outputs": [
        {
          "output_type": "stream",
          "name": "stdout",
          "text": [
            "[1.  1.5 2.  2.5 3.  3.5 4.  4.5]\n"
          ]
        }
      ]
    },
    {
      "cell_type": "code",
      "source": [
        "len(c)"
      ],
      "metadata": {
        "colab": {
          "base_uri": "https://localhost:8080/"
        },
        "id": "ZeovhES2qcEU",
        "outputId": "a3e88cf8-a8d8-4a0b-b3e0-fce22465e2a3"
      },
      "execution_count": 21,
      "outputs": [
        {
          "output_type": "execute_result",
          "data": {
            "text/plain": [
              "8"
            ]
          },
          "metadata": {},
          "execution_count": 21
        }
      ]
    },
    {
      "cell_type": "code",
      "source": [
        "a = [1,3,\"MA\"]\n",
        "b = np.array(a)\n",
        "print(b)\n",
        "# converted everything to String , which same datatype"
      ],
      "metadata": {
        "colab": {
          "base_uri": "https://localhost:8080/"
        },
        "id": "aFRAW6WEqdt7",
        "outputId": "90cf8676-80f7-4487-c4c5-8f94ac0ee822"
      },
      "execution_count": 22,
      "outputs": [
        {
          "output_type": "stream",
          "name": "stdout",
          "text": [
            "['1' '3' 'MA']\n"
          ]
        }
      ]
    },
    {
      "cell_type": "code",
      "source": [],
      "metadata": {
        "id": "xgNhO_wKq5SB"
      },
      "execution_count": null,
      "outputs": []
    }
  ]
}