{
  "nbformat": 4,
  "nbformat_minor": 0,
  "metadata": {
    "colab": {
      "provenance": [],
      "authorship_tag": "ABX9TyPg8i52yjAZXaWG4OBTpvCT",
      "include_colab_link": true
    },
    "kernelspec": {
      "name": "python3",
      "display_name": "Python 3"
    },
    "language_info": {
      "name": "python"
    }
  },
  "cells": [
    {
      "cell_type": "markdown",
      "metadata": {
        "id": "view-in-github",
        "colab_type": "text"
      },
      "source": [
        "<a href=\"https://colab.research.google.com/github/muralianamala/pythonlearning/blob/main/Scalar_DAV1.ipynb\" target=\"_parent\"><img src=\"https://colab.research.google.com/assets/colab-badge.svg\" alt=\"Open In Colab\"/></a>"
      ]
    },
    {
      "cell_type": "code",
      "execution_count": null,
      "metadata": {
        "id": "9XDw8o8klLcf"
      },
      "outputs": [],
      "source": [
        "'''\n",
        "Day1 -> Python libraries: Numpy, Pandas, Matplotlib, Seaborn\n",
        "Day2 -> Probability and Statistics\n",
        "Day3 -> Hypothesis testing\n",
        "'''"
      ]
    },
    {
      "cell_type": "markdown",
      "source": [
        "# **Numpy**"
      ],
      "metadata": {
        "id": "oqC-t_i3lmsZ"
      }
    },
    {
      "cell_type": "code",
      "source": [
        "import numpy as np"
      ],
      "metadata": {
        "id": "2yAq5eGKlpgR"
      },
      "execution_count": null,
      "outputs": []
    },
    {
      "cell_type": "code",
      "source": [
        "# Numerical in python - numpy means\n",
        "# Speed comparision\n",
        "# Numpy is useful wherever numerical operations needed"
      ],
      "metadata": {
        "id": "49bhcSPOlxI4"
      },
      "execution_count": null,
      "outputs": []
    },
    {
      "cell_type": "code",
      "source": [
        "l = list(range(10000000))\n",
        "len(l)"
      ],
      "metadata": {
        "colab": {
          "base_uri": "https://localhost:8080/"
        },
        "id": "vTrglJHEmB6l",
        "outputId": "d146fe56-1da3-4ba6-bc8c-7a896cb40377"
      },
      "execution_count": null,
      "outputs": [
        {
          "output_type": "execute_result",
          "data": {
            "text/plain": [
              "10000000"
            ]
          },
          "metadata": {},
          "execution_count": 2
        }
      ]
    },
    {
      "cell_type": "code",
      "source": [
        "%timeit [i**2 for i in l]"
      ],
      "metadata": {
        "colab": {
          "base_uri": "https://localhost:8080/"
        },
        "id": "cxeIsYKwmIxP",
        "outputId": "1bda3dae-2b75-444f-bb73-98dcc1927a4a"
      },
      "execution_count": null,
      "outputs": [
        {
          "output_type": "stream",
          "name": "stdout",
          "text": [
            "3.59 s ± 570 ms per loop (mean ± std. dev. of 7 runs, 1 loop each)\n"
          ]
        }
      ]
    },
    {
      "cell_type": "code",
      "source": [
        "b = np.array(l)"
      ],
      "metadata": {
        "id": "EIw74VOYmlCh"
      },
      "execution_count": null,
      "outputs": []
    },
    {
      "cell_type": "code",
      "source": [
        "type(b)"
      ],
      "metadata": {
        "colab": {
          "base_uri": "https://localhost:8080/"
        },
        "id": "l_8sYC2smy4M",
        "outputId": "7aee6a12-7939-4d62-dfec-5bd97cc15408"
      },
      "execution_count": null,
      "outputs": [
        {
          "output_type": "execute_result",
          "data": {
            "text/plain": [
              "numpy.ndarray"
            ]
          },
          "metadata": {},
          "execution_count": 6
        }
      ]
    },
    {
      "cell_type": "code",
      "source": [
        "#element-wise operation\n",
        "#ndarray - n dimensional array"
      ],
      "metadata": {
        "id": "az7r5JCxm1Oa"
      },
      "execution_count": null,
      "outputs": []
    },
    {
      "cell_type": "code",
      "source": [
        "%timeit b**2"
      ],
      "metadata": {
        "colab": {
          "base_uri": "https://localhost:8080/"
        },
        "id": "qvOGmJifm8YH",
        "outputId": "1d1c70e8-7520-4903-c457-3c8449fa04d1"
      },
      "execution_count": null,
      "outputs": [
        {
          "output_type": "stream",
          "name": "stdout",
          "text": [
            "27.1 ms ± 464 µs per loop (mean ± std. dev. of 7 runs, 10 loops each)\n"
          ]
        }
      ]
    },
    {
      "cell_type": "code",
      "source": [
        "a = np.array((5,7,3,6))\n",
        "print(a**2)"
      ],
      "metadata": {
        "colab": {
          "base_uri": "https://localhost:8080/"
        },
        "id": "PUwOwCbMnHWM",
        "outputId": "79929ce7-14b8-4d88-b429-7d3db4105123"
      },
      "execution_count": null,
      "outputs": [
        {
          "output_type": "stream",
          "name": "stdout",
          "text": [
            "[25 49  9 36]\n"
          ]
        }
      ]
    },
    {
      "cell_type": "code",
      "source": [
        "%timeit a**2"
      ],
      "metadata": {
        "colab": {
          "base_uri": "https://localhost:8080/"
        },
        "id": "Ku_FxKJ9nVCj",
        "outputId": "7aa8b1dd-ac0a-47fa-eb3c-4ba4db61b163"
      },
      "execution_count": null,
      "outputs": [
        {
          "output_type": "stream",
          "name": "stdout",
          "text": [
            "563 ns ± 5.97 ns per loop (mean ± std. dev. of 7 runs, 1000000 loops each)\n"
          ]
        }
      ]
    },
    {
      "cell_type": "code",
      "source": [
        "b.ndim"
      ],
      "metadata": {
        "colab": {
          "base_uri": "https://localhost:8080/"
        },
        "id": "cgK4VLGgnZb-",
        "outputId": "aa8b2600-6c52-4410-a142-e7f494000218"
      },
      "execution_count": null,
      "outputs": [
        {
          "output_type": "execute_result",
          "data": {
            "text/plain": [
              "1"
            ]
          },
          "metadata": {},
          "execution_count": 10
        }
      ]
    },
    {
      "cell_type": "code",
      "source": [
        "len(b)"
      ],
      "metadata": {
        "colab": {
          "base_uri": "https://localhost:8080/"
        },
        "id": "ddD7SVcMoFYe",
        "outputId": "4ac495f3-61db-4932-ef1a-b2227d26f8c0"
      },
      "execution_count": null,
      "outputs": [
        {
          "output_type": "execute_result",
          "data": {
            "text/plain": [
              "10000000"
            ]
          },
          "metadata": {},
          "execution_count": 11
        }
      ]
    },
    {
      "cell_type": "code",
      "source": [
        "# it tells me the whole shape of array, if its multi dimensional\n",
        "b.shape"
      ],
      "metadata": {
        "colab": {
          "base_uri": "https://localhost:8080/"
        },
        "id": "WvxRjRWroKy0",
        "outputId": "8fd36264-e422-4f9f-ff5e-71bc4c9be944"
      },
      "execution_count": null,
      "outputs": [
        {
          "output_type": "execute_result",
          "data": {
            "text/plain": [
              "(10000000,)"
            ]
          },
          "metadata": {},
          "execution_count": 12
        }
      ]
    },
    {
      "cell_type": "code",
      "source": [
        "#numpy are arrays, which they can store only same datatypes\n",
        "#Lists are storing as references in memory\n",
        "# Arrays are storing actual elements in memory"
      ],
      "metadata": {
        "id": "jpu5SrgBoZJL"
      },
      "execution_count": null,
      "outputs": []
    },
    {
      "cell_type": "code",
      "source": [
        "c = list(range(1,10))\n",
        "type(c)\n",
        "print(c)"
      ],
      "metadata": {
        "colab": {
          "base_uri": "https://localhost:8080/"
        },
        "id": "W1bZ-IwDpVeW",
        "outputId": "60748b19-d5ff-40d0-a505-4e4339aaaf85"
      },
      "execution_count": null,
      "outputs": [
        {
          "output_type": "stream",
          "name": "stdout",
          "text": [
            "[1, 2, 3, 4, 5, 6, 7, 8, 9]\n"
          ]
        }
      ]
    },
    {
      "cell_type": "code",
      "source": [
        "c= np.arange(1,10)\n",
        "print(c)"
      ],
      "metadata": {
        "colab": {
          "base_uri": "https://localhost:8080/"
        },
        "id": "r1k4o3Zophfi",
        "outputId": "aa0ccedf-e56a-4f40-cc58-32ce7126c5d4"
      },
      "execution_count": null,
      "outputs": [
        {
          "output_type": "stream",
          "name": "stdout",
          "text": [
            "[1 2 3 4 5 6 7 8 9]\n"
          ]
        }
      ]
    },
    {
      "cell_type": "code",
      "source": [
        "type(c)"
      ],
      "metadata": {
        "colab": {
          "base_uri": "https://localhost:8080/"
        },
        "id": "1WRUH0vSpr3T",
        "outputId": "eaa33252-42f9-4d21-a400-8cc5257d87d9"
      },
      "execution_count": null,
      "outputs": [
        {
          "output_type": "execute_result",
          "data": {
            "text/plain": [
              "numpy.ndarray"
            ]
          },
          "metadata": {},
          "execution_count": 19
        }
      ]
    },
    {
      "cell_type": "code",
      "source": [
        "# stepping count can be a float in numpy\n",
        "c = np.arange(1,5,0.5)\n",
        "print(c)"
      ],
      "metadata": {
        "colab": {
          "base_uri": "https://localhost:8080/"
        },
        "id": "tyFMKIcMp7KT",
        "outputId": "e3eb236a-d3f8-4b80-c41f-c143ea985896"
      },
      "execution_count": null,
      "outputs": [
        {
          "output_type": "stream",
          "name": "stdout",
          "text": [
            "[1.  1.5 2.  2.5 3.  3.5 4.  4.5]\n"
          ]
        }
      ]
    },
    {
      "cell_type": "code",
      "source": [
        "len(c)"
      ],
      "metadata": {
        "colab": {
          "base_uri": "https://localhost:8080/"
        },
        "id": "ZeovhES2qcEU",
        "outputId": "a3e88cf8-a8d8-4a0b-b3e0-fce22465e2a3"
      },
      "execution_count": null,
      "outputs": [
        {
          "output_type": "execute_result",
          "data": {
            "text/plain": [
              "8"
            ]
          },
          "metadata": {},
          "execution_count": 21
        }
      ]
    },
    {
      "cell_type": "code",
      "source": [
        "a = [1,3,\"MA\"]\n",
        "b = np.array(a)\n",
        "print(b)\n",
        "# converted everything to String , which same datatype"
      ],
      "metadata": {
        "colab": {
          "base_uri": "https://localhost:8080/"
        },
        "id": "aFRAW6WEqdt7",
        "outputId": "90cf8676-80f7-4487-c4c5-8f94ac0ee822"
      },
      "execution_count": null,
      "outputs": [
        {
          "output_type": "stream",
          "name": "stdout",
          "text": [
            "['1' '3' 'MA']\n"
          ]
        }
      ]
    },
    {
      "cell_type": "code",
      "source": [
        "a = [1,2,3,4]\n",
        "b = np.array(a)\n",
        "print(b)"
      ],
      "metadata": {
        "colab": {
          "base_uri": "https://localhost:8080/"
        },
        "id": "xgNhO_wKq5SB",
        "outputId": "e6603695-e293-4f2e-be40-49d0dcb577cd"
      },
      "execution_count": null,
      "outputs": [
        {
          "output_type": "stream",
          "name": "stdout",
          "text": [
            "[1 2 3 4]\n"
          ]
        }
      ]
    },
    {
      "cell_type": "code",
      "source": [
        "c = np.array(a, dtype=\"float\")\n",
        "print(c)"
      ],
      "metadata": {
        "colab": {
          "base_uri": "https://localhost:8080/"
        },
        "id": "bDQx0-RcrJ4o",
        "outputId": "b93bb976-32f8-4cb4-c300-6620ec50557c"
      },
      "execution_count": null,
      "outputs": [
        {
          "output_type": "stream",
          "name": "stdout",
          "text": [
            "[1. 2. 3. 4.]\n"
          ]
        }
      ]
    },
    {
      "cell_type": "code",
      "source": [
        "a = [1,3,\"MA\"]\n",
        "b = np.array(a,dtype=\"float\")\n",
        "print(b)"
      ],
      "metadata": {
        "colab": {
          "base_uri": "https://localhost:8080/",
          "height": 211
        },
        "id": "_BAtUsgGrYJI",
        "outputId": "9c54e8ca-8f18-4299-b98e-f09d15b84ea7"
      },
      "execution_count": null,
      "outputs": [
        {
          "output_type": "error",
          "ename": "ValueError",
          "evalue": "ignored",
          "traceback": [
            "\u001b[0;31m---------------------------------------------------------------------------\u001b[0m",
            "\u001b[0;31mValueError\u001b[0m                                Traceback (most recent call last)",
            "\u001b[0;32m<ipython-input-25-0cce735012e3>\u001b[0m in \u001b[0;36m<cell line: 2>\u001b[0;34m()\u001b[0m\n\u001b[1;32m      1\u001b[0m \u001b[0ma\u001b[0m \u001b[0;34m=\u001b[0m \u001b[0;34m[\u001b[0m\u001b[0;36m1\u001b[0m\u001b[0;34m,\u001b[0m\u001b[0;36m3\u001b[0m\u001b[0;34m,\u001b[0m\u001b[0;34m\"MA\"\u001b[0m\u001b[0;34m]\u001b[0m\u001b[0;34m\u001b[0m\u001b[0;34m\u001b[0m\u001b[0m\n\u001b[0;32m----> 2\u001b[0;31m \u001b[0mb\u001b[0m \u001b[0;34m=\u001b[0m \u001b[0mnp\u001b[0m\u001b[0;34m.\u001b[0m\u001b[0marray\u001b[0m\u001b[0;34m(\u001b[0m\u001b[0ma\u001b[0m\u001b[0;34m,\u001b[0m\u001b[0mdtype\u001b[0m\u001b[0;34m=\u001b[0m\u001b[0;34m\"float\"\u001b[0m\u001b[0;34m)\u001b[0m\u001b[0;34m\u001b[0m\u001b[0;34m\u001b[0m\u001b[0m\n\u001b[0m\u001b[1;32m      3\u001b[0m \u001b[0mprint\u001b[0m\u001b[0;34m(\u001b[0m\u001b[0mb\u001b[0m\u001b[0;34m)\u001b[0m\u001b[0;34m\u001b[0m\u001b[0;34m\u001b[0m\u001b[0m\n",
            "\u001b[0;31mValueError\u001b[0m: could not convert string to float: 'MA'"
          ]
        }
      ]
    },
    {
      "cell_type": "code",
      "source": [
        "a = np.array([1,2,3,4,5,6,7,8])\n",
        "a.ndim"
      ],
      "metadata": {
        "colab": {
          "base_uri": "https://localhost:8080/"
        },
        "id": "_S9fnyMsrna2",
        "outputId": "938ea218-42af-46af-f939-9d88f06170b0"
      },
      "execution_count": null,
      "outputs": [
        {
          "output_type": "execute_result",
          "data": {
            "text/plain": [
              "1"
            ]
          },
          "metadata": {},
          "execution_count": 27
        }
      ]
    },
    {
      "cell_type": "code",
      "source": [
        "a.shape"
      ],
      "metadata": {
        "colab": {
          "base_uri": "https://localhost:8080/"
        },
        "id": "1Ntv72SzsK52",
        "outputId": "acc9e34d-9b8d-400e-f7f3-7677a76019f3"
      },
      "execution_count": null,
      "outputs": [
        {
          "output_type": "execute_result",
          "data": {
            "text/plain": [
              "(8,)"
            ]
          },
          "metadata": {},
          "execution_count": 28
        }
      ]
    },
    {
      "cell_type": "code",
      "source": [
        "b = a.astype(\"float\")\n",
        "print(b)"
      ],
      "metadata": {
        "colab": {
          "base_uri": "https://localhost:8080/"
        },
        "id": "wv15WupssQLA",
        "outputId": "47019d88-2a69-4ebe-d89a-f9e08290d584"
      },
      "execution_count": null,
      "outputs": [
        {
          "output_type": "stream",
          "name": "stdout",
          "text": [
            "[1. 2. 3. 4. 5. 6. 7. 8.]\n"
          ]
        }
      ]
    },
    {
      "cell_type": "code",
      "source": [
        "b= np.arange(12)\n",
        "print(b)"
      ],
      "metadata": {
        "colab": {
          "base_uri": "https://localhost:8080/"
        },
        "id": "K5CBPf-UtnS2",
        "outputId": "a4306aba-37fa-4ef1-a21f-124ca5f1d84a"
      },
      "execution_count": null,
      "outputs": [
        {
          "output_type": "stream",
          "name": "stdout",
          "text": [
            "[ 0  1  2  3  4  5  6  7  8  9 10 11]\n"
          ]
        }
      ]
    },
    {
      "cell_type": "code",
      "source": [
        "b= np.arange(1,12)\n",
        "print(b)"
      ],
      "metadata": {
        "colab": {
          "base_uri": "https://localhost:8080/"
        },
        "id": "O_aUuSJlt4f7",
        "outputId": "fb93f587-8869-40ef-add0-789b30990105"
      },
      "execution_count": null,
      "outputs": [
        {
          "output_type": "stream",
          "name": "stdout",
          "text": [
            "[ 1  2  3  4  5  6  7  8  9 10 11]\n"
          ]
        }
      ]
    },
    {
      "cell_type": "code",
      "source": [
        "b= np.arange(1,12,2)\n",
        "print(b)"
      ],
      "metadata": {
        "colab": {
          "base_uri": "https://localhost:8080/"
        },
        "id": "tso4wiRwt6XF",
        "outputId": "ef4b0424-8830-430b-e4af-26c8547a9dd7"
      },
      "execution_count": null,
      "outputs": [
        {
          "output_type": "stream",
          "name": "stdout",
          "text": [
            "[ 1  3  5  7  9 11]\n"
          ]
        }
      ]
    },
    {
      "cell_type": "code",
      "source": [
        "# indexing is same as list\n",
        "b= np.arange(12)\n",
        "print(b)"
      ],
      "metadata": {
        "colab": {
          "base_uri": "https://localhost:8080/"
        },
        "id": "y-dFgtUpt_Cv",
        "outputId": "f66c1461-c6aa-4a4e-cb60-c21b1a644024"
      },
      "execution_count": null,
      "outputs": [
        {
          "output_type": "stream",
          "name": "stdout",
          "text": [
            "[ 0  1  2  3  4  5  6  7  8  9 10 11]\n"
          ]
        }
      ]
    },
    {
      "cell_type": "code",
      "source": [
        "b[3]\n",
        "b[::-2]"
      ],
      "metadata": {
        "colab": {
          "base_uri": "https://localhost:8080/"
        },
        "id": "JvWBeTpkuHk8",
        "outputId": "8c90e888-a81e-45c8-ef7d-4a7c5da35918"
      },
      "execution_count": null,
      "outputs": [
        {
          "output_type": "execute_result",
          "data": {
            "text/plain": [
              "array([11,  9,  7,  5,  3,  1])"
            ]
          },
          "metadata": {},
          "execution_count": 90
        }
      ]
    },
    {
      "cell_type": "code",
      "source": [
        "b[-1]"
      ],
      "metadata": {
        "colab": {
          "base_uri": "https://localhost:8080/"
        },
        "id": "2xkXczshuOft",
        "outputId": "7e2cc276-b8b5-4e51-b694-9dd524c44a57"
      },
      "execution_count": null,
      "outputs": [
        {
          "output_type": "execute_result",
          "data": {
            "text/plain": [
              "11"
            ]
          },
          "metadata": {},
          "execution_count": 40
        }
      ]
    },
    {
      "cell_type": "code",
      "source": [
        "b[-2]"
      ],
      "metadata": {
        "colab": {
          "base_uri": "https://localhost:8080/"
        },
        "id": "BEihlMu7uR37",
        "outputId": "44954c2d-e2a2-4872-aac6-b1af764d6328"
      },
      "execution_count": null,
      "outputs": [
        {
          "output_type": "execute_result",
          "data": {
            "text/plain": [
              "10"
            ]
          },
          "metadata": {},
          "execution_count": 41
        }
      ]
    },
    {
      "cell_type": "code",
      "source": [
        "b[-4]"
      ],
      "metadata": {
        "colab": {
          "base_uri": "https://localhost:8080/"
        },
        "id": "Z48BeTkBuVCO",
        "outputId": "21d16f41-11b5-485d-a98f-9089702b0c8a"
      },
      "execution_count": null,
      "outputs": [
        {
          "output_type": "execute_result",
          "data": {
            "text/plain": [
              "8"
            ]
          },
          "metadata": {},
          "execution_count": 42
        }
      ]
    },
    {
      "cell_type": "code",
      "source": [
        "b"
      ],
      "metadata": {
        "colab": {
          "base_uri": "https://localhost:8080/"
        },
        "id": "U-L7EhCwuYkQ",
        "outputId": "021d3934-ce6b-4e1b-bf1d-720548617e4c"
      },
      "execution_count": null,
      "outputs": [
        {
          "output_type": "execute_result",
          "data": {
            "text/plain": [
              "[8, 7, 6]"
            ]
          },
          "metadata": {},
          "execution_count": 88
        }
      ]
    },
    {
      "cell_type": "code",
      "source": [
        "b[1:5]"
      ],
      "metadata": {
        "colab": {
          "base_uri": "https://localhost:8080/"
        },
        "id": "TJ1f2LjXuatP",
        "outputId": "53f9a8cb-49c1-4060-fb20-d543da61030f"
      },
      "execution_count": null,
      "outputs": [
        {
          "output_type": "execute_result",
          "data": {
            "text/plain": [
              "array([1, 2, 3, 4])"
            ]
          },
          "metadata": {},
          "execution_count": 46
        }
      ]
    },
    {
      "cell_type": "code",
      "source": [
        "b[3:]"
      ],
      "metadata": {
        "colab": {
          "base_uri": "https://localhost:8080/"
        },
        "id": "bPpKqDeMul3p",
        "outputId": "cf72551f-f445-4b50-b904-5d40edb11fa1"
      },
      "execution_count": null,
      "outputs": [
        {
          "output_type": "execute_result",
          "data": {
            "text/plain": [
              "array([ 3,  4,  5,  6,  7,  8,  9, 10, 11])"
            ]
          },
          "metadata": {},
          "execution_count": 47
        }
      ]
    },
    {
      "cell_type": "code",
      "source": [
        "b[:2:-1]"
      ],
      "metadata": {
        "colab": {
          "base_uri": "https://localhost:8080/"
        },
        "id": "h_73rzb1u_FS",
        "outputId": "b2d397ae-a268-421b-ff3b-fc4f93aaafc8"
      },
      "execution_count": null,
      "outputs": [
        {
          "output_type": "execute_result",
          "data": {
            "text/plain": [
              "array([11, 10,  9,  8,  7,  6,  5,  4,  3])"
            ]
          },
          "metadata": {},
          "execution_count": 48
        }
      ]
    },
    {
      "cell_type": "code",
      "source": [
        "b[::-1]"
      ],
      "metadata": {
        "colab": {
          "base_uri": "https://localhost:8080/"
        },
        "id": "sndnlj5ovE6q",
        "outputId": "afba0a01-9a75-47cb-87fe-006b253f4c1b"
      },
      "execution_count": null,
      "outputs": [
        {
          "output_type": "execute_result",
          "data": {
            "text/plain": [
              "array([11, 10,  9,  8,  7,  6,  5,  4,  3,  2,  1,  0])"
            ]
          },
          "metadata": {},
          "execution_count": 51
        }
      ]
    },
    {
      "cell_type": "code",
      "source": [
        "b[:10:-1]"
      ],
      "metadata": {
        "colab": {
          "base_uri": "https://localhost:8080/"
        },
        "id": "pCCFQgUzvMRR",
        "outputId": "b19e501b-ecc4-4265-f38e-a1c6b2da7c90"
      },
      "execution_count": null,
      "outputs": [
        {
          "output_type": "execute_result",
          "data": {
            "text/plain": [
              "array([11])"
            ]
          },
          "metadata": {},
          "execution_count": 53
        }
      ]
    },
    {
      "cell_type": "code",
      "source": [
        "b[-5:11:]"
      ],
      "metadata": {
        "colab": {
          "base_uri": "https://localhost:8080/"
        },
        "id": "shmQGvhMxANj",
        "outputId": "f087cf2d-26fe-4b71-81d7-56244eb83d97"
      },
      "execution_count": null,
      "outputs": [
        {
          "output_type": "execute_result",
          "data": {
            "text/plain": [
              "array([ 7,  8,  9, 10])"
            ]
          },
          "metadata": {},
          "execution_count": 71
        }
      ]
    },
    {
      "cell_type": "code",
      "source": [
        "arr = np.arange(5)\n",
        "print(arr)"
      ],
      "metadata": {
        "colab": {
          "base_uri": "https://localhost:8080/"
        },
        "id": "bjUE-iimyqy-",
        "outputId": "d9cf688c-5709-4537-b4c6-16814b55a743"
      },
      "execution_count": null,
      "outputs": [
        {
          "output_type": "stream",
          "name": "stdout",
          "text": [
            "[0 1 2 3 4]\n"
          ]
        }
      ]
    },
    {
      "cell_type": "code",
      "source": [
        "arr[2:4] = 0\n",
        "arr"
      ],
      "metadata": {
        "colab": {
          "base_uri": "https://localhost:8080/"
        },
        "id": "uouqkALtyvv-",
        "outputId": "37435874-0d79-42cf-bfc0-e0a224843df0"
      },
      "execution_count": null,
      "outputs": [
        {
          "output_type": "execute_result",
          "data": {
            "text/plain": [
              "array([0, 1, 0, 0, 4])"
            ]
          },
          "metadata": {},
          "execution_count": 73
        }
      ]
    },
    {
      "cell_type": "code",
      "source": [],
      "metadata": {
        "id": "-jufdXqsy5Jz"
      },
      "execution_count": null,
      "outputs": []
    },
    {
      "cell_type": "markdown",
      "source": [
        "# **MULTIINDEXING**"
      ],
      "metadata": {
        "id": "kjmn_JkPzTT9"
      }
    },
    {
      "cell_type": "code",
      "source": [
        "b = np.arange(1,15,2)\n",
        "print(b)"
      ],
      "metadata": {
        "colab": {
          "base_uri": "https://localhost:8080/"
        },
        "id": "omEwub06zW87",
        "outputId": "5c5d2190-6135-4978-edb8-542e3f28b01f"
      },
      "execution_count": null,
      "outputs": [
        {
          "output_type": "stream",
          "name": "stdout",
          "text": [
            "[ 1  3  5  7  9 11 13]\n"
          ]
        }
      ]
    },
    {
      "cell_type": "code",
      "source": [
        "b[2]"
      ],
      "metadata": {
        "colab": {
          "base_uri": "https://localhost:8080/"
        },
        "id": "FNE2e9a9zknW",
        "outputId": "975f867c-6629-4d46-a0d2-e3b0e7b6d7ce"
      },
      "execution_count": null,
      "outputs": [
        {
          "output_type": "execute_result",
          "data": {
            "text/plain": [
              "5"
            ]
          },
          "metadata": {},
          "execution_count": 75
        }
      ]
    },
    {
      "cell_type": "code",
      "source": [
        "b[6]"
      ],
      "metadata": {
        "colab": {
          "base_uri": "https://localhost:8080/"
        },
        "id": "yKDbRnwgzms4",
        "outputId": "05348514-a5d7-44cb-a30b-af0ac7ae22c0"
      },
      "execution_count": null,
      "outputs": [
        {
          "output_type": "execute_result",
          "data": {
            "text/plain": [
              "13"
            ]
          },
          "metadata": {},
          "execution_count": 76
        }
      ]
    },
    {
      "cell_type": "code",
      "source": [
        "b[[2,6]]"
      ],
      "metadata": {
        "colab": {
          "base_uri": "https://localhost:8080/"
        },
        "id": "7AJJKdAyz85D",
        "outputId": "fdaafacb-f87d-48ca-f4bf-bd3b5726e285"
      },
      "execution_count": null,
      "outputs": [
        {
          "output_type": "execute_result",
          "data": {
            "text/plain": [
              "array([ 5, 13])"
            ]
          },
          "metadata": {},
          "execution_count": 77
        }
      ]
    },
    {
      "cell_type": "code",
      "source": [
        "b[[5,2,4]]"
      ],
      "metadata": {
        "colab": {
          "base_uri": "https://localhost:8080/"
        },
        "id": "VKa8dgoD0AEL",
        "outputId": "9edfd133-e1ad-4ba2-e0e2-205ada1d8e0f"
      },
      "execution_count": null,
      "outputs": [
        {
          "output_type": "execute_result",
          "data": {
            "text/plain": [
              "array([11,  5,  9])"
            ]
          },
          "metadata": {},
          "execution_count": 78
        }
      ]
    },
    {
      "cell_type": "code",
      "source": [],
      "metadata": {
        "id": "uxL7vku80G9I"
      },
      "execution_count": null,
      "outputs": []
    },
    {
      "cell_type": "markdown",
      "source": [
        "# **Fancy Indexing -> Masking**"
      ],
      "metadata": {
        "id": "1V1Dz_fH06iT"
      }
    },
    {
      "cell_type": "code",
      "source": [
        "a = np.array([6,9,3,5,7,2,8,1])\n"
      ],
      "metadata": {
        "id": "iUUQVzBk090V"
      },
      "execution_count": null,
      "outputs": []
    },
    {
      "cell_type": "code",
      "source": [
        "# element-wise operator\n",
        "a < 6"
      ],
      "metadata": {
        "colab": {
          "base_uri": "https://localhost:8080/"
        },
        "id": "q-XBFCc01Mi5",
        "outputId": "61729e2f-7733-4ea5-a3fe-bbcb27e78883"
      },
      "execution_count": null,
      "outputs": [
        {
          "output_type": "execute_result",
          "data": {
            "text/plain": [
              "array([False, False,  True,  True, False,  True, False,  True])"
            ]
          },
          "metadata": {},
          "execution_count": 80
        }
      ]
    },
    {
      "cell_type": "code",
      "source": [
        "a [ a<6 ]"
      ],
      "metadata": {
        "colab": {
          "base_uri": "https://localhost:8080/"
        },
        "id": "yVw9v2DH1T5_",
        "outputId": "e0621105-1d74-4335-fc0a-465c1b017741"
      },
      "execution_count": null,
      "outputs": [
        {
          "output_type": "execute_result",
          "data": {
            "text/plain": [
              "array([3, 5, 2, 1])"
            ]
          },
          "metadata": {},
          "execution_count": 81
        }
      ]
    },
    {
      "cell_type": "code",
      "source": [
        "# Fliter all the even elements from a, using fancy indexing\n",
        "a[ a%2==0 ]"
      ],
      "metadata": {
        "colab": {
          "base_uri": "https://localhost:8080/"
        },
        "id": "sr-yvPkR2MGN",
        "outputId": "97d34226-c5f1-48c1-a2a0-fce6c2e48a7f"
      },
      "execution_count": null,
      "outputs": [
        {
          "output_type": "execute_result",
          "data": {
            "text/plain": [
              "array([6, 2, 8])"
            ]
          },
          "metadata": {},
          "execution_count": 82
        }
      ]
    },
    {
      "cell_type": "code",
      "source": [
        "a = [1,2,3,4,5]\n",
        "b = [8,7,6]\n",
        "b[::-2]"
      ],
      "metadata": {
        "colab": {
          "base_uri": "https://localhost:8080/"
        },
        "id": "CWuwbwzj2Y6b",
        "outputId": "d056c00d-0d77-46e7-e405-3f04b63b1366"
      },
      "execution_count": null,
      "outputs": [
        {
          "output_type": "execute_result",
          "data": {
            "text/plain": [
              "[6, 8]"
            ]
          },
          "metadata": {},
          "execution_count": 83
        }
      ]
    },
    {
      "cell_type": "code",
      "source": [
        "a[3:] = b[::-2]\n",
        "print(a)"
      ],
      "metadata": {
        "colab": {
          "base_uri": "https://localhost:8080/"
        },
        "id": "-_fewsRs3RYk",
        "outputId": "34b4c8e4-b153-420a-9461-603b407386ef"
      },
      "execution_count": null,
      "outputs": [
        {
          "output_type": "stream",
          "name": "stdout",
          "text": [
            "[1, 2, 3, 6, 8]\n"
          ]
        }
      ]
    },
    {
      "cell_type": "code",
      "source": [
        "a[ a%2 != 0]"
      ],
      "metadata": {
        "colab": {
          "base_uri": "https://localhost:8080/"
        },
        "id": "GdlhOWey3XSP",
        "outputId": "f210d544-dc33-41a1-aa8b-32dff7466663"
      },
      "execution_count": null,
      "outputs": [
        {
          "output_type": "execute_result",
          "data": {
            "text/plain": [
              "array([9, 3, 5, 7, 1])"
            ]
          },
          "metadata": {},
          "execution_count": 87
        }
      ]
    },
    {
      "cell_type": "markdown",
      "source": [
        "# **NPS Case Study**"
      ],
      "metadata": {
        "id": "hqyIIMuR3yVz"
      }
    },
    {
      "cell_type": "code",
      "source": [
        "#NPS - Net promoter score\n",
        "# NPS = %promoters - %Detractors"
      ],
      "metadata": {
        "id": "ypHnGpPr31ZA"
      },
      "execution_count": null,
      "outputs": []
    },
    {
      "cell_type": "code",
      "source": [
        "'''\n",
        "%promoters = #of promoters/total users\n",
        "'''"
      ],
      "metadata": {
        "id": "GE0crPGN4z80"
      },
      "execution_count": null,
      "outputs": []
    },
    {
      "cell_type": "code",
      "source": [
        "score = np.loadtxt(\"survey.txt\", dtype = \"int\")"
      ],
      "metadata": {
        "id": "9Xx2ubVm8Dkp"
      },
      "execution_count": null,
      "outputs": []
    },
    {
      "cell_type": "code",
      "source": [
        "p_rating = score[score > 8]\n",
        "print(p_rating)"
      ],
      "metadata": {
        "id": "CiyQfLp08EH0"
      },
      "execution_count": null,
      "outputs": []
    },
    {
      "cell_type": "code",
      "source": [
        "no_promoters = len(p_rating)\n",
        "print(no_promoters)"
      ],
      "metadata": {
        "id": "tYrTjAIT8Guc"
      },
      "execution_count": null,
      "outputs": []
    },
    {
      "cell_type": "code",
      "source": [
        "total = len(score)"
      ],
      "metadata": {
        "id": "wqQNNzRq8KCH"
      },
      "execution_count": null,
      "outputs": []
    },
    {
      "cell_type": "code",
      "source": [
        "perc_promoters = no_promoters*100/total\n",
        "print(perc_promoters)"
      ],
      "metadata": {
        "id": "34wHrApj8KjQ"
      },
      "execution_count": null,
      "outputs": []
    },
    {
      "cell_type": "code",
      "source": [
        "d_rating = score[score < 7]\n",
        "no_detractors = len(d_rating)\n",
        "print(no_detractors)"
      ],
      "metadata": {
        "id": "pyKOPW0v8L04"
      },
      "execution_count": null,
      "outputs": []
    },
    {
      "cell_type": "code",
      "source": [
        "perc_detractors = no_detractors*100/total"
      ],
      "metadata": {
        "id": "UeYYqbqS8S2i"
      },
      "execution_count": null,
      "outputs": []
    },
    {
      "cell_type": "code",
      "source": [
        "nps = perc_promoters - perc_detractors"
      ],
      "metadata": {
        "id": "Dl_LSLLB8aQC"
      },
      "execution_count": null,
      "outputs": []
    },
    {
      "cell_type": "code",
      "source": [
        "nps= np.round(nps,2)"
      ],
      "metadata": {
        "id": "CXuayT5c8lF7"
      },
      "execution_count": null,
      "outputs": []
    },
    {
      "cell_type": "markdown",
      "source": [
        "# **NPS CASE Study**"
      ],
      "metadata": {
        "id": "wLUV9fdnNeax"
      }
    },
    {
      "cell_type": "code",
      "source": [
        "import numpy as np"
      ],
      "metadata": {
        "id": "tHaaP1hwNiM9"
      },
      "execution_count": 1,
      "outputs": []
    },
    {
      "cell_type": "code",
      "source": [
        "data = np.loadtxt(\"survey.txt\", dtype=\"int\")\n",
        "total = len(data)"
      ],
      "metadata": {
        "id": "MK1BEVKANzvC"
      },
      "execution_count": 7,
      "outputs": []
    },
    {
      "cell_type": "code",
      "source": [
        "promoters = data[data>8]\n",
        "promoters"
      ],
      "metadata": {
        "colab": {
          "base_uri": "https://localhost:8080/"
        },
        "id": "k1vj0WY4OTpD",
        "outputId": "b7220be5-41bd-4307-8d57-4577a403ca41"
      },
      "execution_count": 5,
      "outputs": [
        {
          "output_type": "execute_result",
          "data": {
            "text/plain": [
              "array([10,  9,  9,  9,  9,  9, 10,  9,  9, 10,  9,  9,  9,  9,  9,  9,  9,\n",
              "       10, 10,  9, 10,  9, 10,  9,  9, 10, 10,  9, 10,  9, 10, 10, 10,  9,\n",
              "        9, 10, 10, 10,  9, 10,  9, 10,  9,  9,  9, 10,  9,  9,  9,  9,  9,\n",
              "        9, 10,  9,  9,  9, 10,  9, 10,  9,  9,  9,  9,  9, 10, 10,  9, 10,\n",
              "        9,  9, 10,  9,  9, 10,  9,  9,  9,  9,  9,  9,  9,  9,  9,  9,  9,\n",
              "       10,  9,  9,  9,  9,  9,  9,  9,  9, 10,  9,  9,  9,  9,  9, 10, 10,\n",
              "        9, 10, 10, 10, 10,  9, 10,  9,  9,  9,  9,  9,  9,  9, 10,  9, 10,\n",
              "        9, 10,  9, 10, 10, 10,  9,  9, 10, 10,  9,  9,  9,  9, 10,  9,  9,\n",
              "        9,  9, 10, 10,  9,  9,  9, 10,  9,  9,  9,  9,  9, 10,  9,  9,  9,\n",
              "       10,  9, 10, 10,  9,  9,  9,  9, 10,  9, 10,  9,  9,  9,  9, 10,  9,\n",
              "       10,  9,  9,  9,  9,  9,  9,  9,  9,  9,  9,  9, 10, 10,  9,  9,  9,\n",
              "       10,  9, 10, 10, 10, 10, 10,  9,  9,  9,  9, 10, 10, 10,  9,  9, 10,\n",
              "        9, 10, 10, 10, 10,  9, 10, 10,  9, 10,  9,  9,  9,  9, 10,  9, 10,\n",
              "        9, 10,  9,  9,  9,  9, 10,  9,  9,  9,  9,  9, 10,  9, 10, 10,  9,\n",
              "       10, 10, 10,  9,  9,  9,  9,  9,  9, 10,  9,  9, 10,  9, 10, 10,  9,\n",
              "        9,  9, 10, 10, 10, 10,  9,  9,  9, 10, 10,  9, 10,  9,  9,  9, 10,\n",
              "        9,  9,  9,  9,  9,  9,  9,  9,  9,  9, 10,  9,  9,  9, 10,  9, 10,\n",
              "        9, 10,  9, 10,  9,  9, 10, 10,  9,  9,  9, 10,  9,  9, 10,  9,  9,\n",
              "        9,  9,  9,  9, 10, 10,  9, 10,  9,  9,  9,  9, 10,  9,  9,  9,  9,\n",
              "       10,  9, 10,  9, 10,  9, 10, 10,  9, 10, 10,  9, 10,  9,  9,  9,  9,\n",
              "        9, 10,  9, 10, 10,  9, 10, 10,  9,  9, 10,  9, 10, 10,  9, 10, 10,\n",
              "       10,  9,  9,  9, 10,  9,  9,  9, 10,  9,  9,  9,  9,  9, 10,  9,  9,\n",
              "        9, 10,  9,  9,  9,  9,  9, 10,  9, 10,  9,  9, 10,  9,  9,  9,  9,\n",
              "        9,  9, 10,  9,  9,  9,  9,  9,  9,  9,  9,  9,  9, 10,  9, 10,  9,\n",
              "        9,  9,  9,  9,  9,  9,  9,  9,  9,  9,  9,  9,  9, 10, 10,  9,  9,\n",
              "        9,  9, 10,  9, 10,  9, 10, 10,  9,  9, 10,  9, 10, 10, 10,  9,  9,\n",
              "        9, 10, 10,  9,  9,  9, 10,  9,  9,  9,  9, 10,  9, 10,  9,  9, 10,\n",
              "        9,  9,  9, 10,  9,  9,  9,  9, 10,  9,  9,  9,  9,  9,  9, 10,  9,\n",
              "       10, 10,  9,  9,  9, 10, 10, 10, 10,  9,  9, 10, 10,  9, 10,  9, 10,\n",
              "        9, 10,  9,  9, 10,  9, 10, 10,  9,  9,  9,  9,  9,  9,  9,  9,  9,\n",
              "        9,  9,  9,  9,  9,  9,  9,  9,  9,  9,  9,  9,  9,  9,  9,  9,  9,\n",
              "       10, 10,  9,  9,  9,  9, 10, 10,  9, 10, 10,  9, 10, 10,  9, 10, 10,\n",
              "       10,  9,  9, 10, 10, 10,  9,  9, 10, 10,  9,  9,  9,  9,  9,  9, 10,\n",
              "       10, 10, 10, 10, 10,  9,  9,  9,  9, 10, 10,  9,  9,  9,  9,  9, 10,\n",
              "       10,  9, 10, 10,  9, 10, 10,  9, 10, 10,  9, 10,  9, 10, 10,  9, 10,\n",
              "       10,  9,  9,  9,  9, 10,  9,  9, 10, 10, 10, 10,  9, 10])"
            ]
          },
          "metadata": {},
          "execution_count": 5
        }
      ]
    },
    {
      "cell_type": "code",
      "source": [
        "#no_promoters = promoters.size\n",
        "no_promoters = len(promoters)\n",
        "perc_promoters = (no_promoters * 100)/total\n",
        "print(perc_promoters)"
      ],
      "metadata": {
        "colab": {
          "base_uri": "https://localhost:8080/"
        },
        "id": "J5858vm6Omct",
        "outputId": "5adbe07e-169b-4d84-9148-b1a9e0f4b3ce"
      },
      "execution_count": 8,
      "outputs": [
        {
          "output_type": "stream",
          "name": "stdout",
          "text": [
            "52.18508997429306\n"
          ]
        }
      ]
    },
    {
      "cell_type": "code",
      "source": [
        "destructors = data[ data<7]\n",
        "destructors"
      ],
      "metadata": {
        "colab": {
          "base_uri": "https://localhost:8080/"
        },
        "id": "vbUxC9llPEXi",
        "outputId": "2291e60c-4704-4a4a-dc02-b814b379d36a"
      },
      "execution_count": 9,
      "outputs": [
        {
          "output_type": "execute_result",
          "data": {
            "text/plain": [
              "array([5, 4, 4, 5, 1, 5, 5, 1, 4, 5, 4, 4, 4, 5, 1, 4, 1, 4, 1, 5, 5, 1,\n",
              "       1, 4, 1, 5, 4, 1, 1, 4, 1, 5, 1, 4, 4, 1, 1, 1, 1, 1, 1, 1, 4, 1,\n",
              "       1, 5, 5, 5, 4, 4, 1, 4, 1, 4, 1, 5, 1, 1, 5, 4, 4, 4, 4, 1, 4, 5,\n",
              "       4, 4, 1, 1, 5, 5, 1, 5, 1, 5, 5, 4, 5, 4, 1, 1, 1, 1, 4, 1, 4, 4,\n",
              "       5, 4, 1, 1, 1, 1, 5, 4, 5, 5, 4, 1, 5, 1, 4, 4, 1, 1, 1, 4, 4, 5,\n",
              "       5, 4, 5, 5, 5, 1, 4, 1, 5, 5, 1, 5, 1, 1, 5, 5, 4, 4, 1, 4, 4, 4,\n",
              "       1, 1, 4, 4, 4, 5, 5, 1, 1, 4, 1, 4, 1, 4, 1, 4, 1, 4, 1, 5, 4, 4,\n",
              "       5, 1, 4, 5, 5, 5, 1, 5, 4, 1, 1, 5, 5, 5, 4, 5, 4, 4, 1, 4, 4, 4,\n",
              "       4, 5, 1, 5, 5, 1, 4, 4, 5, 1, 1, 4, 5, 5, 5, 1, 4, 5, 5, 4, 1, 5,\n",
              "       5, 5, 1, 1, 5, 5, 1, 1, 1, 4, 5, 5, 4, 4, 4, 5, 1, 4, 1, 4, 5, 4,\n",
              "       5, 5, 1, 5, 1, 5, 5, 1, 4, 5, 5, 4, 1, 5, 1, 4, 1, 4, 1, 1, 1, 1,\n",
              "       1, 1, 4, 1, 5, 4, 5, 1, 5, 1, 5, 4, 4, 4, 4, 5, 5, 1, 4, 1, 5, 5,\n",
              "       1, 4, 1, 1, 4, 4, 4, 4, 1, 4, 1, 1, 4, 1, 5, 4, 1, 1, 5, 4, 5, 4,\n",
              "       4, 4, 1, 5, 5, 1, 4, 5, 4, 4, 4, 1, 4, 1, 4, 4, 4, 5, 1, 1, 1, 4,\n",
              "       5, 5, 1, 5, 4, 5, 5, 4, 1, 1, 5, 5, 5, 1, 4, 5, 4, 5, 5, 5, 1, 4,\n",
              "       1, 5])"
            ]
          },
          "metadata": {},
          "execution_count": 9
        }
      ]
    },
    {
      "cell_type": "code",
      "source": [
        "no_dest = len(destructors)\n",
        "print(no_dest)"
      ],
      "metadata": {
        "colab": {
          "base_uri": "https://localhost:8080/"
        },
        "id": "Z9w9kFd_PSrZ",
        "outputId": "aae7f019-4dbe-45dc-d082-cee9ca423894"
      },
      "execution_count": 10,
      "outputs": [
        {
          "output_type": "stream",
          "name": "stdout",
          "text": [
            "332\n"
          ]
        }
      ]
    },
    {
      "cell_type": "code",
      "source": [
        "perc_dest = (no_dest * 100)/total\n",
        "perc_dest"
      ],
      "metadata": {
        "colab": {
          "base_uri": "https://localhost:8080/"
        },
        "id": "pu82H777PYB3",
        "outputId": "9f763749-3365-4a29-bfe0-b523c232ee60"
      },
      "execution_count": 11,
      "outputs": [
        {
          "output_type": "execute_result",
          "data": {
            "text/plain": [
              "28.449014567266495"
            ]
          },
          "metadata": {},
          "execution_count": 11
        }
      ]
    },
    {
      "cell_type": "code",
      "source": [
        "nps = perc_promoters - perc_dest\n",
        "print(np.round(nps,2))"
      ],
      "metadata": {
        "colab": {
          "base_uri": "https://localhost:8080/"
        },
        "id": "0bBDFJM-Pf82",
        "outputId": "a2c03378-d0f6-47fe-e515-ad1ca5486558"
      },
      "execution_count": 12,
      "outputs": [
        {
          "output_type": "stream",
          "name": "stdout",
          "text": [
            "23.74\n"
          ]
        }
      ]
    }
  ]
}