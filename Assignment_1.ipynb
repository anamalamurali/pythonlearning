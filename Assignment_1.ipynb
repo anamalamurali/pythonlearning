{
  "nbformat": 4,
  "nbformat_minor": 0,
  "metadata": {
    "colab": {
      "provenance": [],
      "authorship_tag": "ABX9TyMfQuvyBiq8J51D659mQQPS",
      "include_colab_link": true
    },
    "kernelspec": {
      "name": "python3",
      "display_name": "Python 3"
    },
    "language_info": {
      "name": "python"
    }
  },
  "cells": [
    {
      "cell_type": "markdown",
      "metadata": {
        "id": "view-in-github",
        "colab_type": "text"
      },
      "source": [
        "<a href=\"https://colab.research.google.com/github/muralianamala/pythonlearning/blob/main/Assignment_1.ipynb\" target=\"_parent\"><img src=\"https://colab.research.google.com/assets/colab-badge.svg\" alt=\"Open In Colab\"/></a>"
      ]
    },
    {
      "cell_type": "markdown",
      "source": [
        "# **String Methods**"
      ],
      "metadata": {
        "id": "1cTdFcBQBEpR"
      }
    },
    {
      "cell_type": "code",
      "execution_count": 2,
      "metadata": {
        "id": "9kL-OisLA-55",
        "outputId": "ce22bfc1-7ec2-4496-ee4b-85a728eaeb43",
        "colab": {
          "base_uri": "https://localhost:8080/"
        }
      },
      "outputs": [
        {
          "output_type": "stream",
          "name": "stdout",
          "text": [
            "original string :  James\n",
            "Jms\n"
          ]
        }
      ],
      "source": [
        "#Create a string made of the first, middle and last character\n",
        "#Write a program to create a new string made of an input string’s first, middle, and last character.\n",
        "#i/p str1 = \"James\"\n",
        "#o/p Jms\n",
        "\n",
        "str1 = \"James\"\n",
        "print(\"original string : \", str1)\n",
        "res = str1[0]\n",
        "\n",
        "l = len(str1)\n",
        "mi = int(l/2)\n",
        "\n",
        "res = res + str1[mi]\n",
        "\n",
        "res = res + str1[l-1]\n",
        "\n",
        "print(res)"
      ]
    },
    {
      "cell_type": "markdown",
      "source": [
        "# **LISTs METHODS**"
      ],
      "metadata": {
        "id": "VsqdXdcjBSSR"
      }
    },
    {
      "cell_type": "code",
      "source": [
        "2."
      ],
      "metadata": {
        "id": "5Isd_rzuBN52"
      },
      "execution_count": null,
      "outputs": []
    },
    {
      "cell_type": "markdown",
      "source": [
        "# **TUPLES METHODS**"
      ],
      "metadata": {
        "id": "5MLoZFhtBcvW"
      }
    },
    {
      "cell_type": "code",
      "source": [],
      "metadata": {
        "id": "6_Fp1ZZCBcSc"
      },
      "execution_count": null,
      "outputs": []
    },
    {
      "cell_type": "markdown",
      "source": [
        "# **DICTIONARIES METHODS**"
      ],
      "metadata": {
        "id": "1spHA-9PBkHb"
      }
    },
    {
      "cell_type": "code",
      "source": [],
      "metadata": {
        "id": "2WLmyBkkBjjP"
      },
      "execution_count": null,
      "outputs": []
    },
    {
      "cell_type": "markdown",
      "source": [
        "# **SET METHODS**"
      ],
      "metadata": {
        "id": "OSInG29jBpUu"
      }
    },
    {
      "cell_type": "code",
      "source": [],
      "metadata": {
        "id": "tZ7Rn5-DBu2G"
      },
      "execution_count": null,
      "outputs": []
    },
    {
      "cell_type": "markdown",
      "source": [
        "# **Convert Decimal to Binary, Octal and Hexdecimal with direct method**"
      ],
      "metadata": {
        "id": "jKNGzUdQBvU9"
      }
    },
    {
      "cell_type": "code",
      "source": [
        "# Python program to convert decimal into other number systems\n",
        "dec = 344\n",
        "\n",
        "print(\"The decimal value of\", dec, \"is:\")\n",
        "print(bin(dec), \"in binary.\")\n",
        "print(oct(dec), \"in octal.\")\n",
        "print(hex(dec), \"in hexadecimal.\")"
      ],
      "metadata": {
        "id": "OuILaLWxB5Y2",
        "colab": {
          "base_uri": "https://localhost:8080/"
        },
        "outputId": "0976ff27-a40f-4061-cf07-299c4549d910"
      },
      "execution_count": null,
      "outputs": [
        {
          "output_type": "stream",
          "name": "stdout",
          "text": [
            "The decimal value of 344 is:\n",
            "0b101011000 in binary.\n",
            "0o530 in octal.\n",
            "0x158 in hexadecimal.\n"
          ]
        }
      ]
    },
    {
      "cell_type": "markdown",
      "source": [
        "# **Arithmetic operators with examples**"
      ],
      "metadata": {
        "id": "9Kk64UorB5y_"
      }
    },
    {
      "cell_type": "code",
      "source": [],
      "metadata": {
        "id": "oO3hhEzNB9lw"
      },
      "execution_count": null,
      "outputs": []
    },
    {
      "cell_type": "markdown",
      "source": [
        "# **Assignment operators with examples**"
      ],
      "metadata": {
        "id": "HBh58gOrB-FR"
      }
    },
    {
      "cell_type": "markdown",
      "source": [
        "# **Comparison operators with examples.**"
      ],
      "metadata": {
        "id": "HNj-Q0CtCA6k"
      }
    },
    {
      "cell_type": "markdown",
      "source": [
        "# **Logical operators with examples.**"
      ],
      "metadata": {
        "id": "-3UoGF1bCDwi"
      }
    },
    {
      "cell_type": "markdown",
      "source": [
        "# **Bitwise operators with examples.**"
      ],
      "metadata": {
        "id": "65oeQoMvCGww"
      }
    },
    {
      "cell_type": "markdown",
      "source": [
        "# **Membership operators with examples.**"
      ],
      "metadata": {
        "id": "Me-gTcJ1CPV4"
      }
    },
    {
      "cell_type": "markdown",
      "source": [
        "# **Identity operators with examples**"
      ],
      "metadata": {
        "id": "I-7LuR4ICSWn"
      }
    },
    {
      "cell_type": "markdown",
      "source": [
        "# **Demonstrate Negative indexing for List and apply slicing.**"
      ],
      "metadata": {
        "id": "Yoh_XlIsCVIa"
      }
    },
    {
      "cell_type": "markdown",
      "source": [
        "# **Predict the output for the given code snippet and justify the result.**\n",
        "\n",
        "\n",
        "\n",
        "*   print(\"A series of characters designated as one object known as a string\"[::-1][4::3])\n",
        "*   print(\"------------\")\n",
        "*   print(\"welcome to Python training program\"[3:10][::-1])\n",
        "\n",
        "\n",
        "\n",
        "\n",
        "\n",
        "\n"
      ],
      "metadata": {
        "id": "yMY0hOb5CY1C"
      }
    },
    {
      "cell_type": "code",
      "source": [
        "print(\"A series of characters designated as one object known as a string\"[::-1][4::3])"
      ],
      "metadata": {
        "colab": {
          "base_uri": "https://localhost:8080/"
        },
        "id": "zf6Upqxdcka1",
        "outputId": "24d5a2aa-526b-4a23-d230-53069bbdc93f"
      },
      "execution_count": null,
      "outputs": [
        {
          "output_type": "stream",
          "name": "stdout",
          "text": [
            "taawkcbe  tgestrcoeeA\n"
          ]
        }
      ]
    },
    {
      "cell_type": "code",
      "source": [
        "print(\"welcome to Python training program\"[3:10][::-1])"
      ],
      "metadata": {
        "colab": {
          "base_uri": "https://localhost:8080/"
        },
        "id": "v8qrrRgacysh",
        "outputId": "f02e32ac-e1dd-443b-aa71-78d38e661413"
      },
      "execution_count": null,
      "outputs": [
        {
          "output_type": "stream",
          "name": "stdout",
          "text": [
            "ot emoc\n"
          ]
        }
      ]
    },
    {
      "cell_type": "markdown",
      "source": [
        "# **Write a python code to get desired output**\n",
        "\n",
        "\n",
        "\n",
        "*   input_string: p_phrase=\"was it a car or a cat I saw\"\n",
        "*   output : WAS I TAC A RO RAC A TI SAW\n",
        "\n"
      ],
      "metadata": {
        "id": "11NM0ct6C7mI"
      }
    },
    {
      "cell_type": "code",
      "source": [
        "s1 = \"was it a car or a cat I saw\"\n",
        "print(s1[::-1].upper())\n"
      ],
      "metadata": {
        "id": "qHxOL43olrtv",
        "colab": {
          "base_uri": "https://localhost:8080/"
        },
        "outputId": "5ab87498-bee7-4733-fe88-a214c002ec73"
      },
      "execution_count": null,
      "outputs": [
        {
          "output_type": "stream",
          "name": "stdout",
          "text": [
            "WAS I TAC A RO RAC A TI SAW\n"
          ]
        }
      ]
    },
    {
      "cell_type": "markdown",
      "source": [
        "You are required to generate a word similar to ZOO, X and Y that denote the number of Zs and Os respectively.\n",
        "The generated word similar to ZOO where Y= 2 * X.\n",
        "\n",
        "*   Input X= 2 Output ZZOOOO\n",
        "*   Input X= 5 Output ZZZZZOOOOOOOOOO\n",
        "\n"
      ],
      "metadata": {
        "id": "INW5M4LlD0uj"
      }
    },
    {
      "cell_type": "code",
      "source": [
        "S = \"ZOO\"\n",
        "X = int(input())\n",
        "\n",
        "for i in S:\n",
        "  print(i * X,end=\"\")"
      ],
      "metadata": {
        "colab": {
          "base_uri": "https://localhost:8080/"
        },
        "id": "HZrMnvO-nAGm",
        "outputId": "b8ace1ad-4220-4756-ccc3-cf952d5c734b"
      },
      "execution_count": null,
      "outputs": [
        {
          "output_type": "stream",
          "name": "stdout",
          "text": [
            "5\n",
            "ZZZZZOOOOOOOOOO"
          ]
        }
      ]
    },
    {
      "cell_type": "markdown",
      "source": [
        "# **Matrix Subtraction, Addition, Multiplication**"
      ],
      "metadata": {
        "id": "OLQBRxOdEMmo"
      }
    }
  ]
}