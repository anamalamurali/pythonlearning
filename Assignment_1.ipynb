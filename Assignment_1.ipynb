{
  "nbformat": 4,
  "nbformat_minor": 0,
  "metadata": {
    "colab": {
      "provenance": [],
      "authorship_tag": "ABX9TyPpYKsMgHBw3jqKixuOS0/n",
      "include_colab_link": true
    },
    "kernelspec": {
      "name": "python3",
      "display_name": "Python 3"
    },
    "language_info": {
      "name": "python"
    }
  },
  "cells": [
    {
      "cell_type": "markdown",
      "metadata": {
        "id": "view-in-github",
        "colab_type": "text"
      },
      "source": [
        "<a href=\"https://colab.research.google.com/github/muralianamala/pythonlearning/blob/main/Assignment_1.ipynb\" target=\"_parent\"><img src=\"https://colab.research.google.com/assets/colab-badge.svg\" alt=\"Open In Colab\"/></a>"
      ]
    },
    {
      "cell_type": "markdown",
      "source": [
        "# **String Methods**"
      ],
      "metadata": {
        "id": "1cTdFcBQBEpR"
      }
    },
    {
      "cell_type": "code",
      "execution_count": null,
      "metadata": {
        "id": "9kL-OisLA-55"
      },
      "outputs": [],
      "source": []
    },
    {
      "cell_type": "markdown",
      "source": [
        "# **LISTs METHODS**"
      ],
      "metadata": {
        "id": "VsqdXdcjBSSR"
      }
    },
    {
      "cell_type": "code",
      "source": [
        "2."
      ],
      "metadata": {
        "id": "5Isd_rzuBN52"
      },
      "execution_count": null,
      "outputs": []
    },
    {
      "cell_type": "markdown",
      "source": [
        "# **TUPLES METHODS**"
      ],
      "metadata": {
        "id": "5MLoZFhtBcvW"
      }
    },
    {
      "cell_type": "code",
      "source": [],
      "metadata": {
        "id": "6_Fp1ZZCBcSc"
      },
      "execution_count": null,
      "outputs": []
    },
    {
      "cell_type": "markdown",
      "source": [
        "# **DICTIONARIES METHODS**"
      ],
      "metadata": {
        "id": "1spHA-9PBkHb"
      }
    },
    {
      "cell_type": "code",
      "source": [],
      "metadata": {
        "id": "2WLmyBkkBjjP"
      },
      "execution_count": null,
      "outputs": []
    },
    {
      "cell_type": "markdown",
      "source": [
        "# **SET METHODS**"
      ],
      "metadata": {
        "id": "OSInG29jBpUu"
      }
    },
    {
      "cell_type": "code",
      "source": [],
      "metadata": {
        "id": "tZ7Rn5-DBu2G"
      },
      "execution_count": null,
      "outputs": []
    },
    {
      "cell_type": "markdown",
      "source": [
        "# **Convert Decimal to Binary, Octal and Hexdecimal with direct method**"
      ],
      "metadata": {
        "id": "jKNGzUdQBvU9"
      }
    },
    {
      "cell_type": "code",
      "source": [],
      "metadata": {
        "id": "OuILaLWxB5Y2"
      },
      "execution_count": null,
      "outputs": []
    },
    {
      "cell_type": "markdown",
      "source": [
        "# **Arithmetic operators with examples**"
      ],
      "metadata": {
        "id": "9Kk64UorB5y_"
      }
    },
    {
      "cell_type": "code",
      "source": [],
      "metadata": {
        "id": "oO3hhEzNB9lw"
      },
      "execution_count": null,
      "outputs": []
    },
    {
      "cell_type": "markdown",
      "source": [
        "# **Assignment operators with examples**"
      ],
      "metadata": {
        "id": "HBh58gOrB-FR"
      }
    },
    {
      "cell_type": "markdown",
      "source": [
        "# **Comparison operators with examples.**"
      ],
      "metadata": {
        "id": "HNj-Q0CtCA6k"
      }
    },
    {
      "cell_type": "markdown",
      "source": [
        "# **Logical operators with examples.**"
      ],
      "metadata": {
        "id": "-3UoGF1bCDwi"
      }
    },
    {
      "cell_type": "markdown",
      "source": [
        "# **Bitwise operators with examples.**"
      ],
      "metadata": {
        "id": "65oeQoMvCGww"
      }
    },
    {
      "cell_type": "markdown",
      "source": [
        "# **Membership operators with examples.**"
      ],
      "metadata": {
        "id": "Me-gTcJ1CPV4"
      }
    },
    {
      "cell_type": "markdown",
      "source": [
        "# **Identity operators with examples**"
      ],
      "metadata": {
        "id": "I-7LuR4ICSWn"
      }
    },
    {
      "cell_type": "markdown",
      "source": [
        "# **Demonstrate Negative indexing for List and apply slicing.**"
      ],
      "metadata": {
        "id": "Yoh_XlIsCVIa"
      }
    },
    {
      "cell_type": "markdown",
      "source": [
        "# **Predict the output for the given code snippet and justify the result.**\n",
        "\n",
        "\n",
        "\n",
        "*   print(\"A series of characters designated as one object known as a string\"[::-1][4::3])\n",
        "*   print(\"------------\")\n",
        "*   print(\"welcome to Python training program\"[3:10][::-1])\n",
        "\n",
        "\n",
        "\n",
        "\n",
        "\n",
        "\n"
      ],
      "metadata": {
        "id": "yMY0hOb5CY1C"
      }
    },
    {
      "cell_type": "markdown",
      "source": [
        "# **Write a python code to get desired output**\n",
        "\n",
        "\n",
        "\n",
        "*   input_string: p_phrase=\"was it a car or a cat I saw\"\n",
        "*   output : WAS I TAC A RO RAC A TI SAW\n",
        "\n"
      ],
      "metadata": {
        "id": "11NM0ct6C7mI"
      }
    },
    {
      "cell_type": "markdown",
      "source": [
        "You are required to generate a word similar to ZOO, X and Y that denote the number of Zs and Os respectively.\n",
        "The generated word similar to ZOO where Y= 2 * X.\n",
        "\n",
        "*   Input X= 2 Output ZZOOOO\n",
        "*   Input X= 5 Output ZZZZZOOOOOOOOOO\n",
        "\n"
      ],
      "metadata": {
        "id": "INW5M4LlD0uj"
      }
    },
    {
      "cell_type": "markdown",
      "source": [
        "# **Matrix Subtraction, Addition, Multiplication**"
      ],
      "metadata": {
        "id": "OLQBRxOdEMmo"
      }
    }
  ]
}