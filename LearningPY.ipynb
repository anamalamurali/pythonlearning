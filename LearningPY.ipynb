{
  "nbformat": 4,
  "nbformat_minor": 0,
  "metadata": {
    "colab": {
      "provenance": [],
      "authorship_tag": "ABX9TyPHfAXp2mPCQn4kYWdDYNkS",
      "include_colab_link": true
    },
    "kernelspec": {
      "name": "python3",
      "display_name": "Python 3"
    },
    "language_info": {
      "name": "python"
    }
  },
  "cells": [
    {
      "cell_type": "markdown",
      "metadata": {
        "id": "view-in-github",
        "colab_type": "text"
      },
      "source": [
        "<a href=\"https://colab.research.google.com/github/muralianamala/pythonlearning/blob/main/LearningPY.ipynb\" target=\"_parent\"><img src=\"https://colab.research.google.com/assets/colab-badge.svg\" alt=\"Open In Colab\"/></a>"
      ]
    },
    {
      "cell_type": "markdown",
      "source": [
        "#INTRO TO PYTHON"
      ],
      "metadata": {
        "id": "WL5zJyW38i6v"
      }
    },
    {
      "cell_type": "code",
      "execution_count": null,
      "metadata": {
        "id": "jHx-UMnYycoR"
      },
      "outputs": [],
      "source": [
        "#easy to understand, general purpose programming language\n",
        "# Guido van Rossum in 1993\n",
        "#advantages\n",
        "#1. easy to code, 2. improve productivity, 3. vast library support, 4. lot of carrer options, 5. used almost everywhere\n",
        "# google, youtube, netflix, instgram\n",
        "#ai and ml, data analytics, programming applications, web development, game development and more\n"
      ]
    },
    {
      "cell_type": "code",
      "source": [
        "#overall structure\n",
        "print(\"hello world\")"
      ],
      "metadata": {
        "colab": {
          "base_uri": "https://localhost:8080/"
        },
        "id": "oN1OQwDT5K6Y",
        "outputId": "992aed86-5a4b-4d77-c19f-315526543d81"
      },
      "execution_count": null,
      "outputs": [
        {
          "output_type": "stream",
          "name": "stdout",
          "text": [
            "hello world\n"
          ]
        }
      ]
    },
    {
      "cell_type": "code",
      "source": [
        "#variables\n",
        "#variables are place holders to store the data\n",
        "#variable_name(identifier) (assign operator =) value to be assigned\n",
        "#variable must start with a letter or underscore\n",
        "#variable can not start with number\n",
        "#can contain alpha numeric and underscore (A-z,0-9, _)\n",
        "#case sensitive\n",
        "#inbuild keywords should not be used as identifier\n",
        "a=5\n",
        "print(a)\n",
        "murali_12 = \"Murali\"\n",
        "print(murali_12)"
      ],
      "metadata": {
        "colab": {
          "base_uri": "https://localhost:8080/"
        },
        "id": "NNBvznps53J9",
        "outputId": "ecdefe9d-ffd5-4fff-aad0-f54625e6d9d8"
      },
      "execution_count": null,
      "outputs": [
        {
          "output_type": "stream",
          "name": "stdout",
          "text": [
            "5\n",
            "Murali\n"
          ]
        }
      ]
    },
    {
      "cell_type": "code",
      "source": [
        "help(\"keywords\")"
      ],
      "metadata": {
        "colab": {
          "base_uri": "https://localhost:8080/"
        },
        "id": "xF0v71g166gZ",
        "outputId": "7d4096b1-5842-4ed0-bf89-b81e1a0a0c1c"
      },
      "execution_count": null,
      "outputs": [
        {
          "output_type": "stream",
          "name": "stdout",
          "text": [
            "\n",
            "Here is a list of the Python keywords.  Enter any keyword to get more help.\n",
            "\n",
            "False               class               from                or\n",
            "None                continue            global              pass\n",
            "True                def                 if                  raise\n",
            "and                 del                 import              return\n",
            "as                  elif                in                  try\n",
            "assert              else                is                  while\n",
            "async               except              lambda              with\n",
            "await               finally             nonlocal            yield\n",
            "break               for                 not                 \n",
            "\n"
          ]
        }
      ]
    },
    {
      "cell_type": "code",
      "source": [
        "help(\"elif\")"
      ],
      "metadata": {
        "colab": {
          "base_uri": "https://localhost:8080/"
        },
        "id": "61xwcjac7Mt6",
        "outputId": "04e9e2ec-bf9a-4c87-95d8-73447d87fd35"
      },
      "execution_count": null,
      "outputs": [
        {
          "output_type": "stream",
          "name": "stdout",
          "text": [
            "The \"if\" statement\n",
            "******************\n",
            "\n",
            "The \"if\" statement is used for conditional execution:\n",
            "\n",
            "   if_stmt ::= \"if\" assignment_expression \":\" suite\n",
            "               (\"elif\" assignment_expression \":\" suite)*\n",
            "               [\"else\" \":\" suite]\n",
            "\n",
            "It selects exactly one of the suites by evaluating the expressions one\n",
            "by one until one is found to be true (see section Boolean operations\n",
            "for the definition of true and false); then that suite is executed\n",
            "(and no other part of the \"if\" statement is executed or evaluated).\n",
            "If all expressions are false, the suite of the \"else\" clause, if\n",
            "present, is executed.\n",
            "\n",
            "Related help topics: TRUTHVALUE\n",
            "\n"
          ]
        }
      ]
    },
    {
      "cell_type": "code",
      "source": [],
      "metadata": {
        "id": "JXHwRk4I7SFT"
      },
      "execution_count": null,
      "outputs": []
    },
    {
      "cell_type": "markdown",
      "source": [
        "# **Memory Allocation**"
      ],
      "metadata": {
        "id": "U4K6aLME8sqr"
      }
    },
    {
      "cell_type": "code",
      "source": [
        "#memory allocation\n",
        "x=5\n",
        "y=6\n",
        "#variables store STACK memory\n",
        "#values store in HEAP memory\n",
        "#both stored in memory\n",
        "#reference\n",
        "#Id functions\n",
        "id(x)\n",
        "print(id(x))"
      ],
      "metadata": {
        "colab": {
          "base_uri": "https://localhost:8080/"
        },
        "id": "J26ua5nN7V_Z",
        "outputId": "09c91589-bfa1-49c5-e146-e4b56e3a612e"
      },
      "execution_count": null,
      "outputs": [
        {
          "output_type": "stream",
          "name": "stdout",
          "text": [
            "137396557562224\n"
          ]
        }
      ]
    },
    {
      "cell_type": "code",
      "source": [
        "x= 45\n",
        "print(id(x))"
      ],
      "metadata": {
        "colab": {
          "base_uri": "https://localhost:8080/"
        },
        "id": "GvtQrlPv74R4",
        "outputId": "13dd0039-f0d5-452e-9902-a5dd803b6a4e"
      },
      "execution_count": null,
      "outputs": [
        {
          "output_type": "stream",
          "name": "stdout",
          "text": [
            "137396557563504\n"
          ]
        }
      ]
    },
    {
      "cell_type": "code",
      "source": [
        "print(137396557562224)"
      ],
      "metadata": {
        "colab": {
          "base_uri": "https://localhost:8080/"
        },
        "id": "1TIcdgm78nDA",
        "outputId": "1c721810-1065-4e7c-b965-cf407f4c3615"
      },
      "execution_count": null,
      "outputs": [
        {
          "output_type": "stream",
          "name": "stdout",
          "text": [
            "137396557562224\n"
          ]
        }
      ]
    },
    {
      "cell_type": "code",
      "source": [
        "name = \"Murali\"\n",
        "print(id(name))"
      ],
      "metadata": {
        "colab": {
          "base_uri": "https://localhost:8080/"
        },
        "id": "3t42Et2T8vBb",
        "outputId": "6ffeab72-efbe-4cc4-8486-cbf8bda7c86f"
      },
      "execution_count": null,
      "outputs": [
        {
          "output_type": "stream",
          "name": "stdout",
          "text": [
            "137395510420336\n"
          ]
        }
      ]
    },
    {
      "cell_type": "markdown",
      "source": [
        "# **COMMENTS**"
      ],
      "metadata": {
        "id": "uXrF5L8N8zBo"
      }
    },
    {
      "cell_type": "code",
      "source": [
        "#comments\n",
        "# -- comment of single line\n"
      ],
      "metadata": {
        "id": "5yR0ALCD86Bb"
      },
      "execution_count": null,
      "outputs": []
    },
    {
      "cell_type": "markdown",
      "source": [
        "# **DATATYPES**"
      ],
      "metadata": {
        "id": "KaHEom-G83gU"
      }
    },
    {
      "cell_type": "code",
      "source": [
        "#data types\n",
        "#int, float,boolean, strings and none\n",
        "n1 = 24\n",
        "print(n1)\n",
        "# type\n",
        "print(type(n1))\n",
        "print(\"a\")\n",
        "\n",
        "#float\n",
        "f=1.0\n",
        "print(type(f))\n",
        "\n",
        "f1 = 2.23\n",
        "print(type(f1))\n",
        "\n",
        "#Booleans (True & False)\n",
        "b= True\n",
        "print(type(b))\n",
        "\n",
        "b1= False\n",
        "print(type(b1))\n",
        "\n",
        "#b2 = true\n",
        "\n",
        "#Strings\n",
        "# should contain within quotes (',\",\"\"\",''')\n",
        "a=\"Murali 1234 learning python 2023\"\n",
        "print(type(a))\n",
        "#multi line comments\n",
        "m= \"\"\" multi line string\n",
        "\n",
        "\"\"\"\n",
        "print(m)\n",
        "print(type(m))\n",
        "\n",
        "\n",
        "# None ( no value nothing)\n",
        "n = None\n",
        "print(type(n))\n",
        "print(n)"
      ],
      "metadata": {
        "colab": {
          "base_uri": "https://localhost:8080/"
        },
        "id": "KzzUvGHB9NhT",
        "outputId": "7afdf91a-ab09-4d84-fe3d-db62eccedc0e"
      },
      "execution_count": null,
      "outputs": [
        {
          "output_type": "stream",
          "name": "stdout",
          "text": [
            "24\n",
            "<class 'int'>\n",
            "a\n",
            "<class 'float'>\n",
            "<class 'float'>\n",
            "<class 'bool'>\n",
            "<class 'bool'>\n",
            "<class 'str'>\n",
            " multi line string \n",
            "\n",
            "\n",
            "<class 'str'>\n",
            "<class 'NoneType'>\n",
            "None\n"
          ]
        }
      ]
    },
    {
      "cell_type": "markdown",
      "source": [
        "# **INPUT FUNCTION**"
      ],
      "metadata": {
        "id": "KtQa-VVt872C"
      }
    },
    {
      "cell_type": "code",
      "source": [
        "#input functions\n",
        "name=input()\n",
        "print(name)\n",
        "print(type(name))"
      ],
      "metadata": {
        "colab": {
          "base_uri": "https://localhost:8080/"
        },
        "id": "P0y0prjhYks5",
        "outputId": "14088b89-ff93-4ee3-a181-a59b340c72e6"
      },
      "execution_count": null,
      "outputs": [
        {
          "output_type": "stream",
          "name": "stdout",
          "text": [
            "murali\n",
            "murali\n",
            "<class 'str'>\n"
          ]
        }
      ]
    },
    {
      "cell_type": "code",
      "source": [
        "# number as input\n",
        "x=int(input())"
      ],
      "metadata": {
        "colab": {
          "base_uri": "https://localhost:8080/"
        },
        "id": "ifWS1IOFZ0pj",
        "outputId": "3a7c7ffa-7eef-41f9-f8e9-ce808ae991b2"
      },
      "execution_count": null,
      "outputs": [
        {
          "name": "stdout",
          "output_type": "stream",
          "text": [
            "6\n"
          ]
        }
      ]
    },
    {
      "cell_type": "code",
      "source": [
        "print(x)\n",
        "print(type(x))"
      ],
      "metadata": {
        "colab": {
          "base_uri": "https://localhost:8080/"
        },
        "id": "-Lb1a3VLaOiE",
        "outputId": "854f277b-3813-431a-91f6-5286772b7d4e"
      },
      "execution_count": null,
      "outputs": [
        {
          "output_type": "stream",
          "name": "stdout",
          "text": [
            "6\n",
            "<class 'int'>\n"
          ]
        }
      ]
    },
    {
      "cell_type": "code",
      "source": [
        "#type conversion\n",
        "x\n",
        "y = float(x)\n",
        "print(type(y))\n",
        "\n",
        "c =float(\"1.5\")\n",
        "type(c)\n",
        "print(type(int(c)))"
      ],
      "metadata": {
        "colab": {
          "base_uri": "https://localhost:8080/"
        },
        "id": "toPpSYOJaSO0",
        "outputId": "7c812ea6-e96d-4255-d5e7-dec21d331af1"
      },
      "execution_count": null,
      "outputs": [
        {
          "output_type": "stream",
          "name": "stdout",
          "text": [
            "<class 'float'>\n",
            "<class 'int'>\n"
          ]
        }
      ]
    },
    {
      "cell_type": "markdown",
      "source": [
        "# **PRINT FUNCTION**"
      ],
      "metadata": {
        "id": "jo9yXG349D9A"
      }
    },
    {
      "cell_type": "code",
      "source": [
        "#print function\n",
        "print(\"murali\")\n",
        "print(\"murali\",\"manogna\",\"sabitha\",12,3,2234,end='\\t')"
      ],
      "metadata": {
        "colab": {
          "base_uri": "https://localhost:8080/"
        },
        "id": "Ogb6w0xadHd9",
        "outputId": "6e5ba3a7-657e-4d3f-b562-848dfe8e9958"
      },
      "execution_count": null,
      "outputs": [
        {
          "output_type": "stream",
          "name": "stdout",
          "text": [
            "murali\n",
            "murali manogna sabitha 12 3 2234\t"
          ]
        }
      ]
    },
    {
      "cell_type": "code",
      "source": [
        "#changing default seperator and end\n",
        "\n",
        "print(\"murali\",\"manogna\",\"sabitha\",12,3,2234,sep='',end='\\t')\n",
        "print(\"murali\",\"manogna\",\"sabitha\",12,3,2234,sep=',',end='\\t')\n",
        "print(\"murali\",\"manogna\",\"sabitha\",12,3,2234,sep='\\n',end='\\t')"
      ],
      "metadata": {
        "colab": {
          "base_uri": "https://localhost:8080/"
        },
        "id": "cFCGgZ2lun2R",
        "outputId": "16f321c2-f7ec-4a4e-b410-f8d55dbb8b82"
      },
      "execution_count": null,
      "outputs": [
        {
          "output_type": "stream",
          "name": "stdout",
          "text": [
            "muralimanognasabitha1232234\tmurali,manogna,sabitha,12,3,2234\tmurali\n",
            "manogna\n",
            "sabitha\n",
            "12\n",
            "3\n",
            "2234\t"
          ]
        }
      ]
    },
    {
      "cell_type": "code",
      "source": [
        "def con(str1,str2):\n",
        "  return print(str1,str2,sep=\"\")\n",
        "\n",
        "con(\"murali\",\"manogna\")"
      ],
      "metadata": {
        "colab": {
          "base_uri": "https://localhost:8080/"
        },
        "id": "zP2opQ2CwOcF",
        "outputId": "de6d3fd4-3d23-489e-a39c-6082855b9593"
      },
      "execution_count": null,
      "outputs": [
        {
          "output_type": "stream",
          "name": "stdout",
          "text": [
            "muralimanogna\n"
          ]
        }
      ]
    },
    {
      "cell_type": "markdown",
      "source": [
        "# **OPERATORS**"
      ],
      "metadata": {
        "id": "aL9t1jol9JF_"
      }
    },
    {
      "cell_type": "code",
      "source": [
        "#python operators\n",
        "#operators\n",
        "#operand\n",
        "#arithmatic operators\n",
        "\n",
        "#addition\n",
        "print(10+5)\n",
        "#substraction\n",
        "print(10-5)\n",
        "#division\n",
        "print(10/5)\n",
        "#mod (%)\n",
        "print(10 % 5)\n",
        "#multiplication\n",
        "print(10* 5)\n",
        "#floor division (//)\n",
        "print(10//5)\n",
        "#to the power (**)\n",
        "print(10 ** 5)\n"
      ],
      "metadata": {
        "colab": {
          "base_uri": "https://localhost:8080/"
        },
        "id": "yeQaFK_iwl0z",
        "outputId": "b5fe3e91-a17e-4901-a7bc-2c6256312312"
      },
      "execution_count": null,
      "outputs": [
        {
          "output_type": "stream",
          "name": "stdout",
          "text": [
            "15\n",
            "5\n",
            "2.0\n",
            "0\n",
            "50\n",
            "2\n",
            "100000\n"
          ]
        }
      ]
    },
    {
      "cell_type": "code",
      "source": [
        "print(1.5+1)\n",
        "#string concatenation\n",
        "print(\"murali\"+\"anamala\")\n",
        "print(\"murali\" * 3)"
      ],
      "metadata": {
        "colab": {
          "base_uri": "https://localhost:8080/"
        },
        "id": "AcN9Sb2Uy1c5",
        "outputId": "f472f525-ac4c-4c47-ae69-3ff3195e5a5a"
      },
      "execution_count": null,
      "outputs": [
        {
          "output_type": "stream",
          "name": "stdout",
          "text": [
            "2.5\n",
            "muralianamala\n",
            "muralimuralimurali\n"
          ]
        }
      ]
    },
    {
      "cell_type": "code",
      "source": [
        "#modulus operators (%)\n",
        "\n",
        "print(5%3)\n",
        "print(10%10)\n",
        "#floor division -- nearest small integer\n",
        "print(5 // 3)\n",
        "print(-3//2)"
      ],
      "metadata": {
        "colab": {
          "base_uri": "https://localhost:8080/"
        },
        "id": "b9R_xWET0AG9",
        "outputId": "cde2f57c-ba66-441a-b5aa-a4e1cad59073"
      },
      "execution_count": null,
      "outputs": [
        {
          "output_type": "stream",
          "name": "stdout",
          "text": [
            "2\n",
            "0\n",
            "1\n",
            "-2\n"
          ]
        }
      ]
    },
    {
      "cell_type": "markdown",
      "source": [
        "# **LOGICAL OPERATORS**"
      ],
      "metadata": {
        "id": "_yG4SsGw9Pi1"
      }
    },
    {
      "cell_type": "code",
      "source": [
        "#logical comparision operators\n",
        "\"\"\"\n",
        "== equal\n",
        "!= not equal\n",
        "< less than\n",
        "> greater than\n",
        "<= less than or equal to\n",
        ">= greater than equal to\n",
        "\"\"\"\n"
      ],
      "metadata": {
        "colab": {
          "base_uri": "https://localhost:8080/",
          "height": 35
        },
        "id": "bZ00gA-F0kTI",
        "outputId": "31bdfcd6-6e5e-4200-bf17-a4812eb036a3"
      },
      "execution_count": null,
      "outputs": [
        {
          "output_type": "execute_result",
          "data": {
            "text/plain": [
              "'\\n== equal\\n!= not equal\\n< less than\\n> greater than\\n<= less than or equal to\\n>= greater than equal to\\n'"
            ],
            "application/vnd.google.colaboratory.intrinsic+json": {
              "type": "string"
            }
          },
          "metadata": {},
          "execution_count": 59
        }
      ]
    },
    {
      "cell_type": "markdown",
      "source": [
        "# **ASSIGNMENT OPERATORS**"
      ],
      "metadata": {
        "id": "jtYoB8Mt9T3O"
      }
    },
    {
      "cell_type": "code",
      "source": [
        "#assignment operators\n",
        "\"\"\"\n",
        "=\n",
        "-=\n",
        "+=\n",
        "/=\n",
        "*=\n",
        "\"\"\""
      ],
      "metadata": {
        "id": "vufbpWRX1EMs"
      },
      "execution_count": null,
      "outputs": []
    },
    {
      "cell_type": "markdown",
      "source": [
        "# **SPECIAL OPERATORS**"
      ],
      "metadata": {
        "id": "2YS7x3PA9Zen"
      }
    },
    {
      "cell_type": "code",
      "source": [
        "#logical operator\n",
        "\"\"\"\n",
        "and\n",
        "or\n",
        "not\n",
        "\"\"\"\n",
        "\n",
        "#special operators\n",
        "\"\"\"\n",
        "in\n",
        "is\n",
        "operators\n",
        "\"\"\"\n",
        "\n",
        "name=\"murali\"\n",
        "\"r\" in name\n",
        "\"R\" in name\n",
        "\"ila\" in name\n",
        "\n",
        "#is operator tells you if both the object are at same memory location\n",
        "a=5\n",
        "b=5\n",
        "print(id(a),id(b))\n",
        "a is b\n",
        "\n",
        "a= 34\n",
        "b= 45\n",
        "\n",
        "print(id(a), id(b))\n",
        "\n",
        "a is b"
      ],
      "metadata": {
        "colab": {
          "base_uri": "https://localhost:8080/"
        },
        "id": "IgcxNOqTT5qw",
        "outputId": "ed76f4bd-d9e6-4803-ab11-4366baab8fdd"
      },
      "execution_count": null,
      "outputs": [
        {
          "output_type": "stream",
          "name": "stdout",
          "text": [
            "136970031497584 136970031497584\n",
            "136970031498512 136970031498864\n"
          ]
        },
        {
          "output_type": "execute_result",
          "data": {
            "text/plain": [
              "False"
            ]
          },
          "metadata": {},
          "execution_count": 8
        }
      ]
    },
    {
      "cell_type": "code",
      "source": [
        "print(0 or 1)"
      ],
      "metadata": {
        "colab": {
          "base_uri": "https://localhost:8080/"
        },
        "id": "ofbULhm0bUt6",
        "outputId": "62de391c-1498-4731-f1c9-8928bd1ba454"
      },
      "execution_count": null,
      "outputs": [
        {
          "output_type": "stream",
          "name": "stdout",
          "text": [
            "1\n"
          ]
        }
      ]
    },
    {
      "cell_type": "markdown",
      "source": [
        "# **IF-ELSE**"
      ],
      "metadata": {
        "id": "EA9kuQTL9ec2"
      }
    },
    {
      "cell_type": "code",
      "source": [
        "#control flow statement\n",
        "#if-else\n",
        "#indentation\n",
        "age=int(input())\n",
        "\n",
        "if age>18:\n",
        "  print(f\"you can drive\")\n",
        "else:\n",
        "  print(f\"wait till you turn 18\")"
      ],
      "metadata": {
        "colab": {
          "base_uri": "https://localhost:8080/"
        },
        "id": "Opgiskdvbi-t",
        "outputId": "718c2dfc-ea74-4361-9210-0b5877a92220"
      },
      "execution_count": null,
      "outputs": [
        {
          "output_type": "stream",
          "name": "stdout",
          "text": [
            "20\n",
            "you can drive\n"
          ]
        }
      ]
    },
    {
      "cell_type": "markdown",
      "source": [
        "# **NESTED IF**"
      ],
      "metadata": {
        "id": "TfaQZVtz9h83"
      }
    },
    {
      "cell_type": "code",
      "source": [
        "#nested if\n",
        "age=int(input())\n",
        "if age > 18:\n",
        "  if age>=65:\n",
        "    print(f\"Take care\")\n",
        "  else:\n",
        "      print(f\"you are elgible\")\n",
        "else:\n",
        "  print(f\"wait till turn 18\")\n",
        "\n"
      ],
      "metadata": {
        "colab": {
          "base_uri": "https://localhost:8080/"
        },
        "id": "oEgGhpu7hFY7",
        "outputId": "f693e81c-36d6-486b-c8f9-e9063581bb63"
      },
      "execution_count": null,
      "outputs": [
        {
          "output_type": "stream",
          "name": "stdout",
          "text": [
            "18\n",
            "wait till turn 18\n"
          ]
        }
      ]
    },
    {
      "cell_type": "code",
      "source": [
        "#if, elif, else\n",
        "num=int(input())\n",
        "if num>0:\n",
        "  print(f\"+ve\")\n",
        "if num == 0:\n",
        "  print(f\"zero\")\n",
        "else:\n",
        "  print(f\"-ve\")"
      ],
      "metadata": {
        "colab": {
          "base_uri": "https://localhost:8080/"
        },
        "id": "-bJuy_8npf-7",
        "outputId": "6114f010-821a-4e9c-bb81-b9319863b49b"
      },
      "execution_count": null,
      "outputs": [
        {
          "output_type": "stream",
          "name": "stdout",
          "text": [
            "12\n",
            "+ve\n",
            "-ve\n"
          ]
        }
      ]
    },
    {
      "cell_type": "code",
      "source": [
        "num=int(input())\n",
        "if num>0:\n",
        "  print(f\"+ve\")\n",
        "elif num == 0:\n",
        "  print(f\"zero\")\n",
        "else:\n",
        "  print(f\"-ve\")"
      ],
      "metadata": {
        "colab": {
          "base_uri": "https://localhost:8080/"
        },
        "id": "QmDhdWSTqb9x",
        "outputId": "16921f49-4620-48ab-d6b5-92f7d829b7f3"
      },
      "execution_count": null,
      "outputs": [
        {
          "output_type": "stream",
          "name": "stdout",
          "text": [
            "-1\n",
            "-ve\n"
          ]
        }
      ]
    },
    {
      "cell_type": "code",
      "source": [
        "marks=[90,30,100,50,80,95]\n",
        "highest=marks[0]\n",
        "for i in marks:\n",
        "  #print(i)\n",
        "  if i > highest:\n",
        "    highest = i\n",
        "\n",
        "print(highest)"
      ],
      "metadata": {
        "colab": {
          "base_uri": "https://localhost:8080/"
        },
        "id": "_MeGMhHOqsVg",
        "outputId": "bf662127-ed2c-4236-8025-89532d533ca8"
      },
      "execution_count": null,
      "outputs": [
        {
          "output_type": "stream",
          "name": "stdout",
          "text": [
            "100\n"
          ]
        }
      ]
    },
    {
      "cell_type": "code",
      "source": [
        "#max function\n",
        "max(marks)\n",
        "min(marks)"
      ],
      "metadata": {
        "colab": {
          "base_uri": "https://localhost:8080/"
        },
        "id": "5ShxSB-XrmIx",
        "outputId": "457493d4-7259-4292-f7fb-4b0400e2ccc7"
      },
      "execution_count": null,
      "outputs": [
        {
          "output_type": "execute_result",
          "data": {
            "text/plain": [
              "30"
            ]
          },
          "metadata": {},
          "execution_count": 23
        }
      ]
    },
    {
      "cell_type": "code",
      "source": [
        "#grading system\n",
        "\"\"\"\n",
        "A: >= 90\n",
        "B: =80 and <90\n",
        "C: =70 and <80\n",
        "D: =60 and <70\n",
        "E: <60\n",
        "\"\"\"\n",
        "#marks=[90,30,100,50,80,95]\n",
        "marks = int(input())\n",
        "if marks>=90 and marks<=100:\n",
        "  print(f\"grade A\")\n",
        "elif marks>=80 and marks<90:\n",
        "  print(f\"grade B\")\n",
        "elif marks>=70 and marks<80:\n",
        "  print(f\"grade C\")\n",
        "elif marks>=60 and marks<70:\n",
        "  print(f\"grade D\")\n",
        "elif marks<60:\n",
        "  print(f\"grade E\")\n",
        "else:\n",
        "  print(f\"invalid\")"
      ],
      "metadata": {
        "colab": {
          "base_uri": "https://localhost:8080/"
        },
        "id": "wiw0f3YArwuK",
        "outputId": "f799c2cf-6472-495b-9fe1-edc7b81ac249"
      },
      "execution_count": null,
      "outputs": [
        {
          "output_type": "stream",
          "name": "stdout",
          "text": [
            "120\n",
            "invalid\n"
          ]
        }
      ]
    },
    {
      "cell_type": "code",
      "source": [
        "#leap year\n",
        "def solve(A):\n",
        "    if (A%400 ==0 ) and (A%100  == 0):\n",
        "      return 1\n",
        "    elif (A%4 == 0) and (A%100 != 0):\n",
        "      return 1\n",
        "    else: return 0\n",
        "\n",
        "solve(2000)\n",
        "solve(2040)\n",
        "solve(2023)"
      ],
      "metadata": {
        "colab": {
          "base_uri": "https://localhost:8080/"
        },
        "id": "EslGzn0StH6X",
        "outputId": "cd7d875a-3309-405a-903d-72f4554cf760"
      },
      "execution_count": null,
      "outputs": [
        {
          "output_type": "execute_result",
          "data": {
            "text/plain": [
              "0"
            ]
          },
          "metadata": {},
          "execution_count": 33
        }
      ]
    },
    {
      "cell_type": "code",
      "source": [
        "#Given a positive integer A, return an array of strings with all the integers from 1 to N.\n",
        "#But for multiples of 3 the array should have “Fizz” instead of the number.\n",
        "#For the multiples of 5, the array should have “Buzz” instead of the number.\n",
        "#For numbers which are multiple of 3 and 5 both, the array should have \"FizzBuzz\" instead of the number.\n",
        "\n",
        "def fizzBuzz(A):\n",
        "  result = []\n",
        "  for i in range(1, A+1):\n",
        "    if i%3==0 and i%5 ==0:\n",
        "      result.append(\"FizzBuzz\")\n",
        "    elif i%3 ==0:\n",
        "      result.append(\"Fizz\")\n",
        "    elif i%5 == 0:\n",
        "      result.append(\"Buzz\")\n",
        "    else:\n",
        "      result.append(str(i))\n",
        "  return result\n",
        "\n",
        "fizzBuzz(15)"
      ],
      "metadata": {
        "colab": {
          "base_uri": "https://localhost:8080/"
        },
        "id": "nAjqRaK4upS4",
        "outputId": "55909072-12e6-44a7-ee7b-dc56b67736bf"
      },
      "execution_count": null,
      "outputs": [
        {
          "output_type": "execute_result",
          "data": {
            "text/plain": [
              "['1',\n",
              " '2',\n",
              " 'Fizz',\n",
              " '4',\n",
              " 'Buzz',\n",
              " 'Fizz',\n",
              " '7',\n",
              " '8',\n",
              " 'Fizz',\n",
              " 'Buzz',\n",
              " '11',\n",
              " 'Fizz',\n",
              " '13',\n",
              " '14',\n",
              " 'FizzBuzz']"
            ]
          },
          "metadata": {},
          "execution_count": 38
        }
      ]
    },
    {
      "cell_type": "markdown",
      "source": [
        "# **LOOPS**"
      ],
      "metadata": {
        "id": "7SH2NFwE9pQL"
      }
    },
    {
      "cell_type": "code",
      "source": [
        "#Loops\n",
        "##for\n",
        "#while\n",
        "i =1\n",
        "while i <= 6:\n",
        "  print(f\"hey\")\n",
        "  i+=1"
      ],
      "metadata": {
        "colab": {
          "base_uri": "https://localhost:8080/"
        },
        "id": "qsoVNQTs0AWv",
        "outputId": "06d1c99b-d684-4104-e7d3-777f3cad1e00"
      },
      "execution_count": null,
      "outputs": [
        {
          "output_type": "stream",
          "name": "stdout",
          "text": [
            "hey\n",
            "hey\n",
            "hey\n",
            "hey\n",
            "hey\n",
            "hey\n"
          ]
        }
      ]
    },
    {
      "cell_type": "code",
      "source": [
        "#print numbers 1 to 10\n",
        "i = 1\n",
        "while i<=10:\n",
        "  print(i, end=\" \")\n",
        "  i+=1\n",
        "\n",
        "#print all even numbers from 1 to 10\n",
        "i = 0\n",
        "while i<= 10:\n",
        "  if i%2 == 0:\n",
        "    print(i,end=\" \")\n",
        "  i+=1\n",
        "\n",
        "#print sum all numbers 1 to 10\n",
        "i = 0\n",
        "sum = 0\n",
        "while i <= 10:\n",
        "  sum += i\n",
        "  i += 1\n",
        "print(sum)\n"
      ],
      "metadata": {
        "colab": {
          "base_uri": "https://localhost:8080/"
        },
        "id": "slQ-e4030Mo2",
        "outputId": "4d1a68c4-4f48-4a10-e54f-beeb66123643"
      },
      "execution_count": null,
      "outputs": [
        {
          "output_type": "stream",
          "name": "stdout",
          "text": [
            "1 2 3 4 5 6 7 8 9 10 0 2 4 6 8 10 55\n"
          ]
        }
      ]
    },
    {
      "cell_type": "markdown",
      "source": [
        "# **RANGE FUNCTION**"
      ],
      "metadata": {
        "id": "VdNG8pMc9uKe"
      }
    },
    {
      "cell_type": "code",
      "source": [
        "#range function\n",
        "#range function allows users to generate series of numbers\n",
        "#it is iterable as well\n",
        "print(list(range(0,5,2)))\n",
        "print(list(range(10,50,10)))\n",
        "print(list(range(1,5)))\n",
        "#start is included and end is excluded\n",
        "print(list(range(3,5)))"
      ],
      "metadata": {
        "colab": {
          "base_uri": "https://localhost:8080/"
        },
        "id": "28Cqfbs11m4E",
        "outputId": "bd2785cc-aacb-4206-9f98-cc5eda8f3e57"
      },
      "execution_count": null,
      "outputs": [
        {
          "output_type": "stream",
          "name": "stdout",
          "text": [
            "[0, 2, 4]\n",
            "[10, 20, 30, 40]\n",
            "[1, 2, 3, 4]\n",
            "[3, 4]\n"
          ]
        }
      ]
    },
    {
      "cell_type": "code",
      "source": [
        "print(list(range(10,0,-1)))\n",
        "print(list(range(-1,10)))\n"
      ],
      "metadata": {
        "colab": {
          "base_uri": "https://localhost:8080/"
        },
        "id": "frxrMLp43INe",
        "outputId": "01ddb11e-1874-49e2-afed-8e9a91bbeba6"
      },
      "execution_count": null,
      "outputs": [
        {
          "output_type": "stream",
          "name": "stdout",
          "text": [
            "[10, 9, 8, 7, 6, 5, 4, 3, 2, 1]\n",
            "[-1, 0, 1, 2, 3, 4, 5, 6, 7, 8, 9]\n"
          ]
        }
      ]
    },
    {
      "cell_type": "code",
      "source": [
        "#iterable iterator and iteration\n",
        "#for loop\n",
        "#for iterator in iterable:\n",
        "#---- body\n",
        "#range is iterable\n",
        "sum=0\n",
        "for i in range(1,11):\n",
        "  print(i,end=\" \")\n",
        "  sum+=i\n",
        "print(sum)"
      ],
      "metadata": {
        "colab": {
          "base_uri": "https://localhost:8080/"
        },
        "id": "V2F1b1VP8BNo",
        "outputId": "45d1ec11-c1f9-4a13-81c7-cd501e0d6e6a"
      },
      "execution_count": null,
      "outputs": [
        {
          "output_type": "stream",
          "name": "stdout",
          "text": [
            "1 2 3 4 5 6 7 8 9 10 55\n"
          ]
        }
      ]
    },
    {
      "cell_type": "code",
      "source": [
        "#multiplication table of 5\n",
        "num = int(input())\n",
        "for i in range(1,11):\n",
        "  print(num*i, end=\" \")"
      ],
      "metadata": {
        "colab": {
          "base_uri": "https://localhost:8080/"
        },
        "id": "9Oo5VvRZ9FmJ",
        "outputId": "100eb270-b5d9-4af3-be15-7ef459a64c42"
      },
      "execution_count": null,
      "outputs": [
        {
          "output_type": "stream",
          "name": "stdout",
          "text": [
            "5\n",
            "5 10 15 20 25 30 35 40 45 50 "
          ]
        }
      ]
    },
    {
      "cell_type": "code",
      "source": [
        "#pattern\n",
        "#n=4\n",
        "# # # #\n",
        "# # # #\n",
        "# # # #\n",
        "# # # #\n",
        "\n",
        "n = int(input())\n",
        "for i in range(1,n+1):\n",
        "  for j in range(1,n+1):\n",
        "    print('#', end= \" \")\n",
        "  print()"
      ],
      "metadata": {
        "colab": {
          "base_uri": "https://localhost:8080/"
        },
        "id": "DI7G7Vkv9flq",
        "outputId": "72681325-5e14-4134-e8f9-83fd8c9f5ddb"
      },
      "execution_count": null,
      "outputs": [
        {
          "output_type": "stream",
          "name": "stdout",
          "text": [
            "5\n",
            "# # # # # \n",
            "# # # # # \n",
            "# # # # # \n",
            "# # # # # \n",
            "# # # # # \n"
          ]
        }
      ]
    },
    {
      "cell_type": "code",
      "source": [
        "#n=4\n",
        "#\n",
        "# #\n",
        "# # #\n",
        "# # # #\n",
        "n = int(input())\n",
        "for i in range(1,n+1):\n",
        "  for j in range(i):\n",
        "    print(\"#\", end=\" \")\n",
        "  print()"
      ],
      "metadata": {
        "colab": {
          "base_uri": "https://localhost:8080/"
        },
        "id": "00hv6o8B-8Lh",
        "outputId": "5c115c07-cd47-461d-9617-ae5be0295557"
      },
      "execution_count": null,
      "outputs": [
        {
          "output_type": "stream",
          "name": "stdout",
          "text": [
            "4\n",
            "# \n",
            "# # \n",
            "# # # \n",
            "# # # # \n"
          ]
        }
      ]
    },
    {
      "cell_type": "markdown",
      "source": [
        "# **BREAK, CONTINUE and PASS**"
      ],
      "metadata": {
        "id": "p2nCUo_e_qWy"
      }
    },
    {
      "cell_type": "code",
      "source": [
        "#Break: breaks the folow of program once this condition is hit\n",
        "#continue: it skips that particular section\n",
        "#pass: to avoid syntax erros\n",
        "for i in range(1,11):\n",
        "  pass\n",
        "\n",
        "def func():\n",
        "  pass\n",
        "\n",
        "# Continue\n",
        "for i in range(1,11):\n",
        "  if i==5:\n",
        "    continue\n",
        "  print(i)"
      ],
      "metadata": {
        "colab": {
          "base_uri": "https://localhost:8080/"
        },
        "id": "T8BQfmcm_wVF",
        "outputId": "1a111db2-c232-49a1-b791-09a303313674"
      },
      "execution_count": null,
      "outputs": [
        {
          "output_type": "stream",
          "name": "stdout",
          "text": [
            "1\n",
            "2\n",
            "3\n",
            "4\n",
            "6\n",
            "7\n",
            "8\n",
            "9\n",
            "10\n"
          ]
        }
      ]
    },
    {
      "cell_type": "code",
      "source": [
        "#break\n",
        "for i in range(1,11):\n",
        "  if i==5:\n",
        "    break\n",
        "  print(i)\n",
        "\n",
        "i = 1\n",
        "while i < 10:\n",
        "  if i == 5:\n",
        "    break\n",
        "  print(i)\n",
        "  i+=1"
      ],
      "metadata": {
        "colab": {
          "base_uri": "https://localhost:8080/"
        },
        "id": "Z0UokVHYArgU",
        "outputId": "0bb22187-994b-4d92-dbbc-439ae786843d"
      },
      "execution_count": null,
      "outputs": [
        {
          "output_type": "stream",
          "name": "stdout",
          "text": [
            "1\n",
            "2\n",
            "3\n",
            "4\n",
            "1\n",
            "2\n",
            "3\n",
            "4\n"
          ]
        }
      ]
    },
    {
      "cell_type": "code",
      "source": [
        "n = int(input())\n",
        "\n",
        "for i in range(1,n+1):\n",
        "  for j in range(1,(n-i+1)):\n",
        "    print(\"\",end=\" \")\n",
        "  print(\"*\" * (i+(i-1)))"
      ],
      "metadata": {
        "colab": {
          "base_uri": "https://localhost:8080/"
        },
        "id": "fFfAxiexBm8m",
        "outputId": "aab2c23d-cd1d-49fe-dfaf-63abab979614"
      },
      "execution_count": null,
      "outputs": [
        {
          "output_type": "stream",
          "name": "stdout",
          "text": [
            "7\n",
            "      *\n",
            "     ***\n",
            "    *****\n",
            "   *******\n",
            "  *********\n",
            " ***********\n",
            "*************\n"
          ]
        }
      ]
    },
    {
      "cell_type": "code",
      "source": [
        "#prime number\n",
        "n = int(input())\n",
        "a = False\n",
        "if n == 1:\n",
        "  print(a)\n",
        "elif n > 1:\n",
        "  for i in range(2,n):\n",
        "    if (n % i) == 0:\n",
        "      a = True\n",
        "      break\n",
        "  if a:\n",
        "    print(False)\n",
        "  else:\n",
        "    print(True)"
      ],
      "metadata": {
        "colab": {
          "base_uri": "https://localhost:8080/"
        },
        "id": "BuKYJwMfEyfh",
        "outputId": "878b90d8-5211-4044-cfa9-65aa95d7159a"
      },
      "execution_count": null,
      "outputs": [
        {
          "output_type": "stream",
          "name": "stdout",
          "text": [
            "1\n",
            "False\n"
          ]
        }
      ]
    },
    {
      "cell_type": "markdown",
      "source": [
        "# **Strings**"
      ],
      "metadata": {
        "id": "oM775IpHGO_D"
      }
    },
    {
      "cell_type": "code",
      "source": [
        "#string is a sequence of characters\n",
        "#ord and chr\n",
        "ord(\"1\")\n",
        "chr(49)\n",
        "chr(2325)"
      ],
      "metadata": {
        "colab": {
          "base_uri": "https://localhost:8080/",
          "height": 35
        },
        "id": "qMO1s-KoGSDe",
        "outputId": "fa4c4d2f-c0da-4073-b58d-6697951f7b77"
      },
      "execution_count": null,
      "outputs": [
        {
          "output_type": "execute_result",
          "data": {
            "text/plain": [
              "'क'"
            ],
            "application/vnd.google.colaboratory.intrinsic+json": {
              "type": "string"
            }
          },
          "metadata": {},
          "execution_count": 30
        }
      ]
    },
    {
      "cell_type": "markdown",
      "source": [
        "## **INDEXING**"
      ],
      "metadata": {
        "id": "Fy3P4QNu-EmZ"
      }
    },
    {
      "cell_type": "code",
      "source": [
        "#indexing in strings\n",
        "name=\"murali anamala\"\n",
        "#indexing ---> 0---     --,-1 <--\n",
        "name[0]\n"
      ],
      "metadata": {
        "colab": {
          "base_uri": "https://localhost:8080/",
          "height": 35
        },
        "id": "d3YxxZRtHpRr",
        "outputId": "b3ee2b1a-918f-4e1d-8c48-558dbf5c6c92"
      },
      "execution_count": null,
      "outputs": [
        {
          "output_type": "execute_result",
          "data": {
            "text/plain": [
              "'m'"
            ],
            "application/vnd.google.colaboratory.intrinsic+json": {
              "type": "string"
            }
          },
          "metadata": {},
          "execution_count": 31
        }
      ]
    },
    {
      "cell_type": "code",
      "source": [
        "\n",
        "name[:-1]\n",
        "#reverse the string\n",
        "name[::-1]\n",
        "len(name)\n",
        "print(name[-len(name)])"
      ],
      "metadata": {
        "colab": {
          "base_uri": "https://localhost:8080/"
        },
        "id": "ZmNKr0r-IKOB",
        "outputId": "ace5ee41-5e5a-4a6f-ba3a-5cef683de5e6"
      },
      "execution_count": null,
      "outputs": [
        {
          "output_type": "stream",
          "name": "stdout",
          "text": [
            "m\n"
          ]
        }
      ]
    },
    {
      "cell_type": "markdown",
      "source": [
        "## **SLICING**"
      ],
      "metadata": {
        "id": "oGCHDo8M-LNV"
      }
    },
    {
      "cell_type": "code",
      "source": [
        "#string slicing [start:end:jump]\n",
        "name=\"murali anamala\"\n",
        "name[3::1]\n",
        "print(name[-1:-(len(name) + 1):-1])\n",
        "print(name[::-1])"
      ],
      "metadata": {
        "colab": {
          "base_uri": "https://localhost:8080/"
        },
        "id": "-73l7f4wIsbB",
        "outputId": "2fcf1583-b4fc-43fb-8b80-bf284a2667b2"
      },
      "execution_count": null,
      "outputs": [
        {
          "output_type": "stream",
          "name": "stdout",
          "text": [
            "alamana ilarum\n",
            "alamana ilarum\n"
          ]
        }
      ]
    },
    {
      "cell_type": "markdown",
      "source": [
        "## **String Methods**"
      ],
      "metadata": {
        "id": "gUNkY4eiV3wP"
      }
    },
    {
      "cell_type": "code",
      "source": [
        "#capitalize\n",
        "\"\"\"\n",
        "capitalize\n",
        "title\n",
        "upper\n",
        "lower\n",
        "find\n",
        "count\n",
        "index\n",
        "replace\n",
        "split\n",
        "islower\n",
        "isupper\n",
        "isnumeric\n",
        "isalpha\n",
        "\"\"\"\n",
        "name\n"
      ],
      "metadata": {
        "colab": {
          "base_uri": "https://localhost:8080/"
        },
        "id": "gRQ7WFp4V8bH",
        "outputId": "7dd50870-1bde-40cf-c977-bd0d69b95387"
      },
      "execution_count": null,
      "outputs": [
        {
          "output_type": "stream",
          "name": "stdout",
          "text": [
            "<built-in method capitalize of str object at 0x7b587dc62ab0>\n",
            "<built-in method lower of str object at 0x7b587dc62ab0>\n",
            "<built-in method count of str object at 0x7b587dc62ab0>\n"
          ]
        }
      ]
    },
    {
      "cell_type": "code",
      "source": [
        "\"\"\"print(name.capitalize)\n",
        "print(name.lower)\n",
        "print(name.count)\"\"\"\n",
        "name.capitalize()\n",
        "a=1\n",
        "print(name.capitalize())\n",
        "print(name.lower())\n",
        "print(name.count(\"a\"))\n",
        "print(name.find(\"a\"))\n",
        "print(name.index(\"a\"))\n",
        "print(name.replace(\"a\",\"z\"))\n",
        "print(name.split(\"a\"))\n",
        "print(name.split())\n",
        "print(name.upper().isupper())\n",
        "print(name.lower().islower())\n",
        "print(name.isnumeric())\n",
        "\"1\".isnumeric()\n",
        "\"1a23\".isalpha()\n",
        "#\"1\".isaplha()"
      ],
      "metadata": {
        "colab": {
          "base_uri": "https://localhost:8080/"
        },
        "id": "Z4ntW1jcWuf1",
        "outputId": "18f7100c-955a-49d3-f343-55fa0623f10a"
      },
      "execution_count": null,
      "outputs": [
        {
          "output_type": "stream",
          "name": "stdout",
          "text": [
            "Murali anamala\n",
            "murali anamala\n",
            "5\n",
            "3\n",
            "3\n",
            "murzli znzmzlz\n",
            "['mur', 'li ', 'n', 'm', 'l', '']\n",
            "['murali', 'anamala']\n",
            "True\n",
            "True\n",
            "False\n"
          ]
        },
        {
          "output_type": "execute_result",
          "data": {
            "text/plain": [
              "False"
            ]
          },
          "metadata": {},
          "execution_count": 27
        }
      ]
    },
    {
      "cell_type": "markdown",
      "source": [
        "## **FORMAT**"
      ],
      "metadata": {
        "id": "ngNginBH-TAp"
      }
    },
    {
      "cell_type": "code",
      "source": [
        "#string format\n",
        "name=input()\n",
        "age=input()\n",
        "\n",
        "print(f\"my name is {name} and age is {age}\")"
      ],
      "metadata": {
        "colab": {
          "base_uri": "https://localhost:8080/"
        },
        "id": "pbmApytrY0yi",
        "outputId": "5bbad516-e5ac-443d-c4b8-fe73bee9ce92"
      },
      "execution_count": null,
      "outputs": [
        {
          "output_type": "stream",
          "name": "stdout",
          "text": [
            "murali\n",
            "39\n",
            "my name is murali and age is 39\n"
          ]
        }
      ]
    },
    {
      "cell_type": "code",
      "source": [
        "#string concatenation\n",
        "first=input()\n",
        "second=input()\n",
        "\n",
        "print(first +\" \"+ second)"
      ],
      "metadata": {
        "colab": {
          "base_uri": "https://localhost:8080/"
        },
        "id": "dYIlvJkiZ-63",
        "outputId": "51493dec-d1b3-4d17-a1e5-75f94832e005"
      },
      "execution_count": null,
      "outputs": [
        {
          "output_type": "stream",
          "name": "stdout",
          "text": [
            "murali\n",
            "anamala\n",
            "murali anamala\n"
          ]
        }
      ]
    },
    {
      "cell_type": "code",
      "source": [
        "#print vowels\n",
        "text=\"The quick brown fox jumps over the lazy dog\"\n",
        "for i in text:\n",
        "  if i in ('a','e','i','o','u','A','E','I','O','U'):\n",
        "    print(i, end=\" \")"
      ],
      "metadata": {
        "colab": {
          "base_uri": "https://localhost:8080/"
        },
        "id": "4Yq40SqgaVlq",
        "outputId": "fc5124d8-e5cb-420a-9ec9-763cb29799e8"
      },
      "execution_count": null,
      "outputs": [
        {
          "output_type": "stream",
          "name": "stdout",
          "text": [
            "e u i o o u o e e a o "
          ]
        }
      ]
    },
    {
      "cell_type": "code",
      "source": [
        "#palandrom\n",
        "s = input()\n",
        "\n",
        "# rev is-> s[::-1] is reversal\n",
        "if s == s[::-1]:\n",
        "  print(True)\n",
        "else: print(False)\n"
      ],
      "metadata": {
        "colab": {
          "base_uri": "https://localhost:8080/"
        },
        "id": "fdZRTIM8bG2n",
        "outputId": "b9ac0a50-0bba-40c3-9f6c-7677e2cc8d6f"
      },
      "execution_count": null,
      "outputs": [
        {
          "output_type": "stream",
          "name": "stdout",
          "text": [
            "mom\n",
            "True\n"
          ]
        }
      ]
    },
    {
      "cell_type": "code",
      "source": [
        "n1 = input()\n",
        "n2 = input()\n",
        "\n",
        "u_n1 = set(n1.lower().split())\n",
        "u_n2 = set(n2.lower().split())\n",
        "a = len(u_n1) + len(u_n2)\n",
        "print(a)\n"
      ],
      "metadata": {
        "colab": {
          "base_uri": "https://localhost:8080/"
        },
        "id": "TLikl1RCcadn",
        "outputId": "4c64967d-1e45-42d1-e1e0-61892ed91fc0"
      },
      "execution_count": null,
      "outputs": [
        {
          "output_type": "stream",
          "name": "stdout",
          "text": [
            "in data analysis we use data and process it further to create better interpreted data\n",
            "more and more data will be passively collected\n",
            "20\n"
          ]
        }
      ]
    },
    {
      "cell_type": "markdown",
      "source": [
        "# **LISTS**"
      ],
      "metadata": {
        "id": "hZkxZOouohhL"
      }
    },
    {
      "cell_type": "code",
      "source": [
        "#Data Structures\n",
        "# A DS is specialized format for organizing, processing, retrieving and stroring data\n",
        "#lists\n",
        "#dictionaries\n",
        "#sets\n",
        "# tuples\n",
        "\n",
        "#LISTS\n",
        "\"\"\"\n",
        "Ordered collection of data\n",
        "mutalble types\n",
        "can contian multiple type of data\n",
        "changable\n",
        "iterable\n",
        "supports indexing\n",
        "\"\"\"\n",
        "l =list()\n",
        "print(type(l))\n",
        "\n",
        "l1=[1,2,3,4,5]\n",
        "print(type(l1))\n",
        "print(l1)\n",
        "len(l1)\n",
        "print(l1[::-1])\n",
        "print(l1[-1::])\n",
        "print(l1[:-1:])\n",
        "\n",
        "#mutability\n",
        "l1.append(6)\n",
        "print(l1)\n",
        "print(id(l1))\n",
        "l1[0] = 9\n",
        "print(l1)\n",
        "print(id(l1))\n",
        "for i in l1:\n",
        "  print(i)"
      ],
      "metadata": {
        "colab": {
          "base_uri": "https://localhost:8080/"
        },
        "id": "M0AWHMLVjXSh",
        "outputId": "1d13ecbd-c0b6-438f-9a02-782c1ec41866"
      },
      "execution_count": null,
      "outputs": [
        {
          "output_type": "stream",
          "name": "stdout",
          "text": [
            "<class 'list'>\n",
            "<class 'list'>\n",
            "[1, 2, 3, 4, 5]\n",
            "[5, 4, 3, 2, 1]\n",
            "[5]\n",
            "[1, 2, 3, 4]\n",
            "[1, 2, 3, 4, 5, 6]\n",
            "135619997295872\n",
            "[9, 2, 3, 4, 5, 6]\n",
            "135619997295872\n",
            "9\n",
            "2\n",
            "3\n",
            "4\n",
            "5\n",
            "6\n"
          ]
        }
      ]
    },
    {
      "cell_type": "markdown",
      "source": [
        "## **SLICING**"
      ],
      "metadata": {
        "id": "Fo3YIPSL-b23"
      }
    },
    {
      "cell_type": "code",
      "source": [
        "#list slicing\n",
        "l1\n",
        "len(l1)\n",
        "l1[0:3]\n",
        "l1[::-1]\n",
        "l1[-1:]\n",
        "l1[:-1:2]\n",
        "l1[::-1]\n",
        "l1[5]\n",
        "l1[5:0:-1]"
      ],
      "metadata": {
        "colab": {
          "base_uri": "https://localhost:8080/"
        },
        "id": "gvncKtrVqZdO",
        "outputId": "94f5866f-b19c-44ac-cd93-463f39437c99"
      },
      "execution_count": null,
      "outputs": [
        {
          "output_type": "execute_result",
          "data": {
            "text/plain": [
              "[6, 5, 4, 3, 2]"
            ]
          },
          "metadata": {},
          "execution_count": 74
        }
      ]
    },
    {
      "cell_type": "markdown",
      "source": [
        "## **LIST OPERATIONS**"
      ],
      "metadata": {
        "id": "YkHFCNV8-gLB"
      }
    },
    {
      "cell_type": "code",
      "source": [
        "#list operations\n",
        "\"\"\"\n",
        "count\n",
        "index\n",
        "pop\n",
        "remove\n",
        "sort\n",
        "insert\n",
        "append\n",
        "extend\n",
        "\"\"\"\n",
        "b=[100,200,150,500,100]\n",
        "#count of value in a list\n",
        "b.count(100)\n",
        "#position of a value\n",
        "b.index(500)\n",
        "#removes the last element in a list\n",
        "#a = b.pop()\n",
        "print(b)\n",
        "#print(a)\n",
        "#removes from first element\n",
        "#b.remove(100)\n",
        "print(b)\n",
        "#sorting in asc order\n",
        "b.sort()\n",
        "print(b)\n",
        "#insert will work with index and value\n",
        "b.insert(1,300)\n",
        "print(b)\n"
      ],
      "metadata": {
        "colab": {
          "base_uri": "https://localhost:8080/"
        },
        "id": "XxmD-Du1rTRo",
        "outputId": "d927bdda-bbad-418c-9502-d6b69083c5c1"
      },
      "execution_count": null,
      "outputs": [
        {
          "output_type": "stream",
          "name": "stdout",
          "text": [
            "[100, 200, 150, 500, 100]\n",
            "[100, 200, 150, 500, 100]\n",
            "[100, 100, 150, 200, 500]\n",
            "[100, 300, 100, 150, 200, 500]\n"
          ]
        }
      ]
    },
    {
      "cell_type": "code",
      "source": [
        "#append and extend\n",
        "l =[1,2,3,4,5]\n",
        "l.append(\"murali\")\n",
        "l\n",
        "l.append(2)\n",
        "l1 = [2,3,4]\n",
        "#l.append(l1)\n",
        "l\n",
        "\n",
        "#extend\n",
        "l.extend(l1)\n",
        "l\n",
        "\n",
        "#for i in l:\n",
        "#  print(i, end=\" \")\n",
        "\n",
        "l\n",
        "s = \"murali\"\n",
        "l.extend(s)\n",
        "l"
      ],
      "metadata": {
        "colab": {
          "base_uri": "https://localhost:8080/"
        },
        "id": "d5BsH2KbtP6p",
        "outputId": "d9a8da79-2e0b-4f64-f026-41bb9b5c1b2d"
      },
      "execution_count": null,
      "outputs": [
        {
          "output_type": "execute_result",
          "data": {
            "text/plain": [
              "[1, 2, 3, 4, 5, 'murali', 2, 2, 3, 4, 'm', 'u', 'r', 'a', 'l', 'i']"
            ]
          },
          "metadata": {},
          "execution_count": 98
        }
      ]
    },
    {
      "cell_type": "code",
      "source": [
        "#Heterogenous list\n",
        "#different datatypes in the list\n",
        "l= [1, \"murali\", 2.5, True]\n",
        "l\n",
        "type(l)\n",
        "print(type(l[0]))\n",
        "print(type(l[1]))\n",
        "print(type(l[2]))\n",
        "print(type(l[3]))\n",
        "print(type(l))"
      ],
      "metadata": {
        "colab": {
          "base_uri": "https://localhost:8080/"
        },
        "id": "q9m3MQQDvml-",
        "outputId": "d7cfda19-5f1b-4a55-ee8f-86756409b50b"
      },
      "execution_count": null,
      "outputs": [
        {
          "output_type": "stream",
          "name": "stdout",
          "text": [
            "<class 'int'>\n",
            "<class 'str'>\n",
            "<class 'float'>\n",
            "<class 'bool'>\n",
            "<class 'list'>\n"
          ]
        }
      ]
    },
    {
      "cell_type": "code",
      "source": [
        "#2-D list\n",
        "l1 = [1,2,3]\n",
        "l2 = [4,5,6]\n",
        "l3 = [7,8,9]\n",
        "\n",
        "l= [l1,l2,l3]\n",
        "print(l)\n",
        "\n",
        "#indexing\n",
        "l[1][::-1]"
      ],
      "metadata": {
        "colab": {
          "base_uri": "https://localhost:8080/"
        },
        "id": "Pogirq_lwIL3",
        "outputId": "2d008e2b-dbf5-47aa-cdd1-d52930589bcf"
      },
      "execution_count": null,
      "outputs": [
        {
          "output_type": "stream",
          "name": "stdout",
          "text": [
            "[[1, 2, 3], [4, 5, 6], [7, 8, 9]]\n"
          ]
        },
        {
          "output_type": "execute_result",
          "data": {
            "text/plain": [
              "[6, 5, 4]"
            ]
          },
          "metadata": {},
          "execution_count": 2
        }
      ]
    },
    {
      "cell_type": "code",
      "source": [
        "#iteration on 2-d list\n",
        "for i in l:\n",
        "  #print(i)\n",
        "  for j in i:\n",
        "    print(j,end=\" \")"
      ],
      "metadata": {
        "colab": {
          "base_uri": "https://localhost:8080/"
        },
        "id": "hyVOOYjZojyM",
        "outputId": "e24a9de6-177d-4d6d-c4eb-a17d67daf215"
      },
      "execution_count": null,
      "outputs": [
        {
          "output_type": "stream",
          "name": "stdout",
          "text": [
            "1 2 3 4 5 6 7 8 9 "
          ]
        }
      ]
    },
    {
      "cell_type": "markdown",
      "source": [
        "## **COMPREHENSION**"
      ],
      "metadata": {
        "id": "sXvozspu-nPw"
      }
    },
    {
      "cell_type": "code",
      "source": [
        "#list comprehension\n",
        "l=[]\n",
        "for i in range(10):\n",
        "  l.append(i)\n",
        "print(l)\n",
        "\n",
        "l = [i**2 for i in range(10)]\n",
        "print(l)\n",
        "\n",
        "x = [i*i for i in range(1,11)]\n",
        "print(x)"
      ],
      "metadata": {
        "colab": {
          "base_uri": "https://localhost:8080/"
        },
        "id": "beiM8mCxpLhB",
        "outputId": "55048abe-efc2-480a-d239-308bfc3670d1"
      },
      "execution_count": null,
      "outputs": [
        {
          "output_type": "stream",
          "name": "stdout",
          "text": [
            "[0, 1, 2, 3, 4, 5, 6, 7, 8, 9]\n",
            "[0, 1, 4, 9, 16, 25, 36, 49, 64, 81]\n",
            "[1, 4, 9, 16, 25, 36, 49, 64, 81, 100]\n"
          ]
        }
      ]
    },
    {
      "cell_type": "code",
      "source": [
        "I =[4,6,5,8,9,3,2,4,5,4,3,2,3,4]\n",
        "sum=0\n",
        "for i in I:\n",
        "  sum+=i\n",
        "\n",
        "print(sum)"
      ],
      "metadata": {
        "colab": {
          "base_uri": "https://localhost:8080/"
        },
        "id": "T7klh1CKwdPv",
        "outputId": "240b2895-c158-4992-b9b8-4287846ac6a7"
      },
      "execution_count": null,
      "outputs": [
        {
          "output_type": "stream",
          "name": "stdout",
          "text": [
            "62\n"
          ]
        }
      ]
    },
    {
      "cell_type": "code",
      "source": [
        "'''\n",
        "Write a program to input N numbers array, A from the user and an integer X and print the array by deleting element at specified position X.\n",
        "\n",
        "Note: The first element is located at position 1, the second element is located at position 2, and so on.\n",
        "\n",
        "\n",
        "Problem Constraints\n",
        "2 <= N <= 100\n",
        "1 <= A[i] <= 1000\n",
        "1 <= X <= N\n",
        "\n",
        "\n",
        "Input Format\n",
        "First line is N which means number of elements.\n",
        "Second line contains N space separated integers.\n",
        "Third line is X position which has to be deleted.\n",
        "\n",
        "\n",
        "Output Format\n",
        "N-1 space separated integers of the input array after deleting the element at required position.\n",
        "\n",
        "\n",
        "Example Input\n",
        "Input 1:\n",
        "5\n",
        "2 3 1 4 2\n",
        "3\n",
        "Input 2:\n",
        "2\n",
        "4 5\n",
        "2\n",
        "\n",
        "\n",
        "Example Output\n",
        "Output 1:\n",
        "2 3 4 2\n",
        "Output 2:\n",
        "4\n",
        "'''\n",
        "N = int(input())\n",
        "l=[]\n",
        "for i in range(N):\n",
        "  x = int(input())\n",
        "  l.append(x)\n",
        "\n",
        "print(l)\n",
        "\n",
        "y= int(input())\n",
        "l.pop(y-1)\n",
        "print(l)"
      ],
      "metadata": {
        "colab": {
          "base_uri": "https://localhost:8080/"
        },
        "id": "BB9eYtUmw5gv",
        "outputId": "45941def-4c2d-4f94-deb8-52ba66e11c8f"
      },
      "execution_count": null,
      "outputs": [
        {
          "output_type": "stream",
          "name": "stdout",
          "text": [
            "5\n",
            "3\n",
            "4\n",
            "5\n",
            "2\n",
            "1\n",
            "[3, 4, 5, 2, 1]\n",
            "3\n",
            "[3, 4, 2, 1]\n"
          ]
        }
      ]
    },
    {
      "cell_type": "code",
      "source": [
        "#find out second largest element in a list\n",
        "A=[1,2,3,4,6]\n",
        "a=A[0]\n",
        "if len(A) == 1:\n",
        "  a = -1\n",
        "else:\n",
        "  for i in A:\n",
        "    if a > i:\n",
        "      a = i\n",
        "    else:\n",
        "      continue\n",
        "\n",
        "print(a)"
      ],
      "metadata": {
        "colab": {
          "base_uri": "https://localhost:8080/"
        },
        "id": "LlnVr8zw0LZR",
        "outputId": "06f608b0-06e4-48a8-e928-23e53edcf86e"
      },
      "execution_count": null,
      "outputs": [
        {
          "output_type": "stream",
          "name": "stdout",
          "text": [
            "1\n"
          ]
        }
      ]
    },
    {
      "cell_type": "code",
      "source": [
        "A = [[1,0],[0,1]]\n",
        "B = [[0,0,1],[0,1,0],[1,0,0]]\n",
        "#print(A[0][0])\n",
        "n = len(B)\n",
        "\n",
        "def is_identity_matrix(B):\n",
        "  for i in range(n):\n",
        "    for j in range(n):\n",
        "      if (i == j and B[i][j] == 1):\n",
        "        return\n",
        "      elif i != j and B[i][j] !=0:\n",
        "        print(\"0\")\n"
      ],
      "metadata": {
        "colab": {
          "base_uri": "https://localhost:8080/"
        },
        "id": "k1LZH6ZgB4AY",
        "outputId": "81b08ad2-b4af-4535-fa78-d5528ed145a3"
      },
      "execution_count": null,
      "outputs": [
        {
          "output_type": "stream",
          "name": "stdout",
          "text": [
            "0\n",
            "0\n",
            "0\n",
            "0\n",
            "1\n"
          ]
        }
      ]
    },
    {
      "cell_type": "code",
      "source": [
        "word = \"Scaler Data Science Course\"\n",
        "word_list = list(word.split())\n",
        "print(word_list[1:3])"
      ],
      "metadata": {
        "colab": {
          "base_uri": "https://localhost:8080/"
        },
        "id": "2fnHSNzFGyHi",
        "outputId": "b3f0edc3-dcf9-4eb1-c0b0-c7a6546fb19a"
      },
      "execution_count": null,
      "outputs": [
        {
          "output_type": "stream",
          "name": "stdout",
          "text": [
            "['Data', 'Science']\n"
          ]
        }
      ]
    },
    {
      "cell_type": "markdown",
      "source": [
        "# **TUPLES**"
      ],
      "metadata": {
        "id": "JbZslTdDHxQ_"
      }
    },
    {
      "cell_type": "code",
      "source": [
        "#like list tuples are also ordered collection of data\n",
        "#--- follow indexing\n",
        "#Unchangable -- immutable\n",
        "#Iterable\n",
        "#can be heterogenuos\n",
        "\n",
        "#\n",
        "planets =[\"Mercury\",\"Venus\",\"Earth\",\"Mars\",\"Jupiter\",\"Saturn\",\"uranus\"]\n",
        "\n",
        "print(planets)\n",
        "\n",
        "t = (\"Mercury\",\"Venus\",\"Earth\",\"Mars\",\"Jupiter\",\"Saturn\",\"uranus\")\n",
        "type(t)\n",
        "#indexing and slicing\n",
        "#tuplese are immutable (only the difference btwn lists and tuple)\n",
        "#once it creates dont change\n",
        "\n",
        "t=(\"Murali\",1,2.5,True)\n",
        "print(t)\n",
        "print(type(t[0]))\n",
        "type(t[1])\n",
        "type(t[2])\n",
        "type(t[3])"
      ],
      "metadata": {
        "colab": {
          "base_uri": "https://localhost:8080/"
        },
        "id": "nIf82Em3H1k3",
        "outputId": "1b99efd1-4f51-480a-ec2e-1ed47c348d9b"
      },
      "execution_count": null,
      "outputs": [
        {
          "output_type": "stream",
          "name": "stdout",
          "text": [
            "['Mercury', 'Venus', 'Earth', 'Mars', 'Jupiter', 'Saturn', 'uranus']\n",
            "('Murali', 1, 2.5, True)\n",
            "<class 'str'>\n"
          ]
        },
        {
          "output_type": "execute_result",
          "data": {
            "text/plain": [
              "bool"
            ]
          },
          "metadata": {},
          "execution_count": 51
        }
      ]
    },
    {
      "cell_type": "code",
      "source": [
        "#how to create a tuples\n",
        "t = ()\n",
        "type(t)\n",
        "t1 = tuple()\n",
        "type(t1)\n",
        "print(t,t1)\n",
        "\n",
        "#non empty tuple\n",
        "t = (2,)\n",
        "type(t)\n",
        "\n",
        "t5 = tuple(\"Murali\")\n",
        "t5"
      ],
      "metadata": {
        "colab": {
          "base_uri": "https://localhost:8080/"
        },
        "id": "P6gmqKnrJWdY",
        "outputId": "834318ad-75ec-4c76-dc60-af6ed18649e6"
      },
      "execution_count": null,
      "outputs": [
        {
          "output_type": "stream",
          "name": "stdout",
          "text": [
            "() ()\n"
          ]
        },
        {
          "output_type": "execute_result",
          "data": {
            "text/plain": [
              "('M', 'u', 'r', 'a', 'l', 'i')"
            ]
          },
          "metadata": {},
          "execution_count": 58
        }
      ]
    },
    {
      "cell_type": "markdown",
      "source": [
        "## **MUTABILITY**"
      ],
      "metadata": {
        "id": "jSPomAzj-2W7"
      }
    },
    {
      "cell_type": "code",
      "source": [
        "#Mutability in tuples\n",
        "t = (2,3,4)\n",
        "l = list(t)\n",
        "l[0] = 1\n",
        "print(l,t)\n",
        "\n",
        "t1 = ([1,2,3,4], \"Murali\")\n",
        "type(t1[0])\n",
        "t1[0][0] = 4\n",
        "print(t1)\n"
      ],
      "metadata": {
        "colab": {
          "base_uri": "https://localhost:8080/"
        },
        "id": "QYrW1IWTKciC",
        "outputId": "e90d3880-4b4d-45ae-ee7b-e64bb3160e2e"
      },
      "execution_count": null,
      "outputs": [
        {
          "output_type": "stream",
          "name": "stdout",
          "text": [
            "[1, 3, 4] (2, 3, 4)\n",
            "([4, 2, 3, 4], 'Murali')\n"
          ]
        }
      ]
    },
    {
      "cell_type": "markdown",
      "source": [
        "## **UNPACKING**"
      ],
      "metadata": {
        "id": "YaiGyfls-592"
      }
    },
    {
      "cell_type": "code",
      "source": [
        "#Unpacking tuple\n",
        "a=3\n",
        "b=4\n",
        "c=5\n",
        "d=1\n",
        "print(a,b,c,d)\n",
        "\n",
        "a,b,c,d = (1,2,3,4)\n",
        "\n",
        "print(a,b)\n",
        "\n",
        "t = (1,2,3,4)\n",
        "a,b,c,d = t\n",
        "print(a,b,c,d)\n",
        "\n",
        "# THIS PROCESS is know as UNPACKING\n"
      ],
      "metadata": {
        "colab": {
          "base_uri": "https://localhost:8080/"
        },
        "id": "YFEmJXfRLW53",
        "outputId": "e430945a-19e8-4420-9dde-3136bc7ab044"
      },
      "execution_count": null,
      "outputs": [
        {
          "output_type": "stream",
          "name": "stdout",
          "text": [
            "3 4 5 1\n",
            "1 2\n",
            "1 2 3 4\n"
          ]
        }
      ]
    },
    {
      "cell_type": "markdown",
      "source": [
        "## **OPERATIONS**"
      ],
      "metadata": {
        "id": "GLsPPm-L-86I"
      }
    },
    {
      "cell_type": "code",
      "source": [
        "#Tuple Operations\n",
        "t =(1,2,3)\n",
        "t.count(1)\n",
        "t.index(1)\n",
        "#t.index?\n",
        "\n",
        "#Iterations\n",
        "t\n",
        "len(t)\n",
        "for i in t:\n",
        "  print(i)\n",
        "#concatenation\n",
        "# +, *\n",
        "t1 = (5,6)\n",
        "t3 = t + t1\n",
        "print(t3)\n",
        "t4 = t * 2\n",
        "print(t4)\n",
        "\n",
        "# tuple to list and list to tuple\n",
        "lst = list(t)\n",
        "type(lst)\n",
        "\n",
        "t = tuple(lst)\n",
        "type(t)"
      ],
      "metadata": {
        "colab": {
          "base_uri": "https://localhost:8080/"
        },
        "id": "9b7bY9ceL1_T",
        "outputId": "4f35dae7-0e95-4328-ed92-cb0b4531883a"
      },
      "execution_count": null,
      "outputs": [
        {
          "output_type": "stream",
          "name": "stdout",
          "text": [
            "1\n",
            "2\n",
            "3\n",
            "(1, 2, 3, 5, 6)\n",
            "(1, 2, 3, 1, 2, 3)\n"
          ]
        },
        {
          "output_type": "execute_result",
          "data": {
            "text/plain": [
              "tuple"
            ]
          },
          "metadata": {},
          "execution_count": 81
        }
      ]
    },
    {
      "cell_type": "code",
      "source": [
        "def get_index(tup,elem):\n",
        "  if elem not in tup:\n",
        "    return -1\n",
        "  else:\n",
        "    return tup.index(elem)\n",
        "\n",
        "get_index((10, 20, 30, 40, 50),80)"
      ],
      "metadata": {
        "colab": {
          "base_uri": "https://localhost:8080/"
        },
        "id": "cvZfL8pkNEIR",
        "outputId": "5df94b03-11eb-4a67-c106-018d9b02d87e"
      },
      "execution_count": null,
      "outputs": [
        {
          "output_type": "execute_result",
          "data": {
            "text/plain": [
              "-1"
            ]
          },
          "metadata": {},
          "execution_count": 84
        }
      ]
    },
    {
      "cell_type": "code",
      "source": [
        "\"\"\"\n",
        "Write a program to divide a given tuple into two tuples that contain even and odd indexed elements of the original tuple. Print both these tuples in the given output format.\n",
        "\n",
        "Note: The input tuple follows 1-based indexing. This means the element at index 0  is treated as having index as 1.\n",
        "\n",
        "For example, (9,2,3). The 1-based index of 2 is 2.\n",
        "\n",
        "Input Format:\n",
        "\n",
        "The input contains a tuple as an argument to the function.\n",
        "Output Format:\n",
        "\n",
        "Print two tuples one for odd indexed elements and another for even indexed elements in the following format:\n",
        "Odd: (....)\n",
        "Even: (....)\n",
        "\"\"\"\n",
        "\n",
        "def odd_even_tuple(tup):\n",
        "  odd_tuple = tup[::2]\n",
        "  even_tuple = tup[1::2]\n",
        "\n",
        "  print(f\"odd: {odd_tuple}\")\n",
        "  print(f\"even: {even_tuple}\")\n",
        "\n",
        "odd_even_tuple((10, 8, 5, 2, 10, 15, 10, 8, 5, 8, 8, 2))"
      ],
      "metadata": {
        "colab": {
          "base_uri": "https://localhost:8080/"
        },
        "id": "0SSJTCRONo_D",
        "outputId": "3ff094b3-bcf3-4c5b-b24b-e13fb1f894dc"
      },
      "execution_count": null,
      "outputs": [
        {
          "output_type": "stream",
          "name": "stdout",
          "text": [
            "odd: (10, 5, 10, 10, 5, 8)\n",
            "even: (8, 2, 15, 8, 8, 2)\n"
          ]
        }
      ]
    },
    {
      "cell_type": "markdown",
      "source": [
        "# **DICTIONARY**"
      ],
      "metadata": {
        "id": "EbBDs_CF2OaT"
      }
    },
    {
      "cell_type": "code",
      "source": [
        "# it has key-value pairs\n",
        "# are ordered from 3.7 above\n",
        "#doent support indexing\n",
        "#can be accessed using key\n",
        "#creating a dict\n",
        "d = {}\n",
        "type(d)\n",
        "\n",
        "#a = dict()\n",
        "#type(a)\n",
        "\n",
        "fruits = {\n",
        "    \"Apple\" : 120,\n",
        "    \"Orange\" : 20,\n",
        "    \"pineapple\" : 90\n",
        "}\n",
        "\n",
        "type(fruits)\n",
        "fruits"
      ],
      "metadata": {
        "colab": {
          "base_uri": "https://localhost:8080/"
        },
        "id": "KAKrUGM72SXc",
        "outputId": "a3aee377-83e7-4d66-8c65-795668dd6a54"
      },
      "execution_count": null,
      "outputs": [
        {
          "output_type": "execute_result",
          "data": {
            "text/plain": [
              "{'Apple': 120, 'Orange': 20, 'pineapple': 90}"
            ]
          },
          "metadata": {},
          "execution_count": 8
        }
      ]
    },
    {
      "cell_type": "markdown",
      "source": [
        "## **ZIP**"
      ],
      "metadata": {
        "id": "hIiuqOzq_D75"
      }
    },
    {
      "cell_type": "code",
      "source": [
        "#zip method\n",
        "name = [\"apple\",\"manog\",\"pineapple\"]\n",
        "prices = [120,100,300]\n",
        "fruit = zip(name,prices)\n",
        "print(type(fruit))"
      ],
      "metadata": {
        "colab": {
          "base_uri": "https://localhost:8080/"
        },
        "id": "U0aEIQPJ3g0J",
        "outputId": "2b6b624b-9339-4d26-c1ea-0333496241a9"
      },
      "execution_count": null,
      "outputs": [
        {
          "output_type": "stream",
          "name": "stdout",
          "text": [
            "<class 'zip'>\n"
          ]
        }
      ]
    },
    {
      "cell_type": "markdown",
      "source": [
        "## **ACCESSING**"
      ],
      "metadata": {
        "id": "leQxvGms_IKe"
      }
    },
    {
      "cell_type": "code",
      "source": [
        "#Accessing elments\n",
        "fruits = {\n",
        "    \"Apple\" : 120,\n",
        "    \"Orange\" : 20,\n",
        "    \"pineapple\" : 90\n",
        "}\n",
        "\n",
        "fruits['Apple']\n",
        "fruits['Orange']\n",
        "#fruits[\"mango\"]\n",
        "fruits.get(\"Mango\")\n",
        "fruits.get(\"Apple\")\n",
        "fruits.get(\"Mango\",\"Not available\")"
      ],
      "metadata": {
        "colab": {
          "base_uri": "https://localhost:8080/",
          "height": 35
        },
        "id": "vOI_q3yh4Mue",
        "outputId": "6f786f21-7c57-425c-e31c-f5eaba429af2"
      },
      "execution_count": null,
      "outputs": [
        {
          "output_type": "execute_result",
          "data": {
            "text/plain": [
              "'Not available'"
            ],
            "application/vnd.google.colaboratory.intrinsic+json": {
              "type": "string"
            }
          },
          "metadata": {},
          "execution_count": 20
        }
      ]
    },
    {
      "cell_type": "markdown",
      "source": [
        "## **UPDATING DICT**"
      ],
      "metadata": {
        "id": "rdP38dkH_LgK"
      }
    },
    {
      "cell_type": "code",
      "source": [
        "#updating existing dictionary\n",
        "fruits = {\n",
        "    \"Apple\" : 120,\n",
        "    \"Orange\" : 20,\n",
        "    \"pineapple\" : 90\n",
        "}\n",
        "\n",
        "fruits[\"Apple\"]\n",
        "fruits[\"Apple\"] = {\"small\" : 90, \"large\" : 120}\n",
        "print(fruits)\n",
        "fruits[\"mango\"] = 80\n",
        "fruits"
      ],
      "metadata": {
        "colab": {
          "base_uri": "https://localhost:8080/"
        },
        "id": "AMWoHo3h44VC",
        "outputId": "35d5fb3e-fbee-4f50-a2af-1235411fd01d"
      },
      "execution_count": null,
      "outputs": [
        {
          "output_type": "stream",
          "name": "stdout",
          "text": [
            "{'Apple': {'small': 90, 'large': 120}, 'Orange': 20, 'pineapple': 90}\n"
          ]
        },
        {
          "output_type": "execute_result",
          "data": {
            "text/plain": [
              "{'Apple': {'small': 90, 'large': 120},\n",
              " 'Orange': 20,\n",
              " 'pineapple': 90,\n",
              " 'mango': 80}"
            ]
          },
          "metadata": {},
          "execution_count": 25
        }
      ]
    },
    {
      "cell_type": "code",
      "source": [
        "#update\n",
        "new = {\"grapes\" : 120, \"oranges\" : 60, \"berry\" :20}\n",
        "fruits\n",
        "fruits.update(new)\n",
        "print(fruits)"
      ],
      "metadata": {
        "colab": {
          "base_uri": "https://localhost:8080/"
        },
        "id": "rIHu883p5jIv",
        "outputId": "738752d1-966f-4e83-d545-b78816a24222"
      },
      "execution_count": null,
      "outputs": [
        {
          "output_type": "stream",
          "name": "stdout",
          "text": [
            "{'Apple': {'small': 90, 'large': 120}, 'Orange': 20, 'pineapple': 90, 'mango': 80, 'grapes': 120, 'oranges': 60, 'berry': 20}\n"
          ]
        }
      ]
    },
    {
      "cell_type": "code",
      "source": [
        "#deleting data from a dict\n",
        "fruits = {\n",
        "    \"Apple\" : 120,\n",
        "    \"Orange\" : 20,\n",
        "    \"pineapple\" : 90\n",
        "}\n",
        "\"apple\" in fruits\n",
        "\n",
        "#dict.popitem()\n",
        "\n",
        "fruits.popitem()\n",
        "fruits"
      ],
      "metadata": {
        "colab": {
          "base_uri": "https://localhost:8080/"
        },
        "id": "yPUudBum5_Es",
        "outputId": "21bacf31-2560-49ca-e697-93beb113c65c"
      },
      "execution_count": null,
      "outputs": [
        {
          "output_type": "execute_result",
          "data": {
            "text/plain": [
              "{'Apple': 120, 'Orange': 20}"
            ]
          },
          "metadata": {},
          "execution_count": 2
        }
      ]
    },
    {
      "cell_type": "code",
      "source": [
        "fruits.popitem()"
      ],
      "metadata": {
        "colab": {
          "base_uri": "https://localhost:8080/"
        },
        "id": "svzCYD3FPUeC",
        "outputId": "ca407986-951f-47c3-c5e6-60143332768b"
      },
      "execution_count": null,
      "outputs": [
        {
          "output_type": "execute_result",
          "data": {
            "text/plain": [
              "('Orange', 20)"
            ]
          },
          "metadata": {},
          "execution_count": 3
        }
      ]
    },
    {
      "cell_type": "code",
      "source": [
        "#del object\n",
        "fruits = {\n",
        "    \"Apple\" : 120,\n",
        "    \"Orange\" : 20,\n",
        "    \"pineapple\" : 90\n",
        "}\n",
        "\n",
        "fruits\n",
        "del fruits\n",
        "fruits"
      ],
      "metadata": {
        "colab": {
          "base_uri": "https://localhost:8080/",
          "height": 210
        },
        "id": "aHN8x3msPcMM",
        "outputId": "27c851b4-27c1-417d-c3ab-3a15b23a7e00"
      },
      "execution_count": null,
      "outputs": [
        {
          "output_type": "error",
          "ename": "NameError",
          "evalue": "ignored",
          "traceback": [
            "\u001b[0;31m---------------------------------------------------------------------------\u001b[0m",
            "\u001b[0;31mNameError\u001b[0m                                 Traceback (most recent call last)",
            "\u001b[0;32m<ipython-input-5-c79f36d5f6c2>\u001b[0m in \u001b[0;36m<cell line: 10>\u001b[0;34m()\u001b[0m\n\u001b[1;32m      8\u001b[0m \u001b[0mfruits\u001b[0m\u001b[0;34m\u001b[0m\u001b[0;34m\u001b[0m\u001b[0m\n\u001b[1;32m      9\u001b[0m \u001b[0;32mdel\u001b[0m \u001b[0mfruits\u001b[0m\u001b[0;34m\u001b[0m\u001b[0;34m\u001b[0m\u001b[0m\n\u001b[0;32m---> 10\u001b[0;31m \u001b[0mfruits\u001b[0m\u001b[0;34m\u001b[0m\u001b[0;34m\u001b[0m\u001b[0m\n\u001b[0m",
            "\u001b[0;31mNameError\u001b[0m: name 'fruits' is not defined"
          ]
        }
      ]
    },
    {
      "cell_type": "markdown",
      "source": [
        "## **ITERATING**"
      ],
      "metadata": {
        "id": "x1JcAPFJ_Qc2"
      }
    },
    {
      "cell_type": "code",
      "source": [
        "#iterating in a dict\n",
        "fruits = {\n",
        "    \"Apple\" : 120,\n",
        "    \"Orange\" : 20,\n",
        "    \"pineapple\" : 90\n",
        "}\n",
        "\n",
        "for i in fruits:\n",
        "  print(i)\n",
        "\n",
        "for i in fruits:\n",
        "  print(i, fruits[i])"
      ],
      "metadata": {
        "colab": {
          "base_uri": "https://localhost:8080/"
        },
        "id": "1IU-tKpPPpk4",
        "outputId": "6ef0de96-4308-45d9-9cd9-b8b9a52a9e97"
      },
      "execution_count": null,
      "outputs": [
        {
          "output_type": "stream",
          "name": "stdout",
          "text": [
            "Apple\n",
            "Orange\n",
            "pineapple\n",
            "Apple 120\n",
            "Orange 20\n",
            "pineapple 90\n"
          ]
        }
      ]
    },
    {
      "cell_type": "markdown",
      "source": [
        "## **USING DICT.ITEMS()**"
      ],
      "metadata": {
        "id": "sGxKzj5t_VDw"
      }
    },
    {
      "cell_type": "code",
      "source": [
        "#using dict.items\n",
        "for key,value in fruits.items():\n",
        "  print(key, value)"
      ],
      "metadata": {
        "colab": {
          "base_uri": "https://localhost:8080/"
        },
        "id": "9HS8TxolQH0o",
        "outputId": "4d15a1b1-beb2-4a84-a731-711bd23b2adf"
      },
      "execution_count": null,
      "outputs": [
        {
          "output_type": "stream",
          "name": "stdout",
          "text": [
            "Apple 120\n",
            "Orange 20\n",
            "pineapple 90\n"
          ]
        }
      ]
    },
    {
      "cell_type": "code",
      "source": [
        "#more methods of dict\n",
        "#keys,values, items\n",
        "fruits = {\n",
        "    \"Apple\" : 120,\n",
        "    \"Orange\" : 20,\n",
        "    \"pineapple\" : 90\n",
        "}\n"
      ],
      "metadata": {
        "id": "W0qmxJYTQbOT"
      },
      "execution_count": null,
      "outputs": []
    },
    {
      "cell_type": "code",
      "source": [
        "fruits.keys()"
      ],
      "metadata": {
        "colab": {
          "base_uri": "https://localhost:8080/"
        },
        "id": "4vQzSlF8QoZC",
        "outputId": "aa88c00d-65df-4e77-ef62-de95608f5384"
      },
      "execution_count": null,
      "outputs": [
        {
          "output_type": "execute_result",
          "data": {
            "text/plain": [
              "dict_keys(['Apple', 'Orange', 'pineapple'])"
            ]
          },
          "metadata": {},
          "execution_count": 11
        }
      ]
    },
    {
      "cell_type": "code",
      "source": [
        "fruits.values()"
      ],
      "metadata": {
        "colab": {
          "base_uri": "https://localhost:8080/"
        },
        "id": "vLZmijC6Qr0Q",
        "outputId": "e939c870-0985-4bbf-b6a9-45324999d2c3"
      },
      "execution_count": null,
      "outputs": [
        {
          "output_type": "execute_result",
          "data": {
            "text/plain": [
              "dict_values([120, 20, 90])"
            ]
          },
          "metadata": {},
          "execution_count": 12
        }
      ]
    },
    {
      "cell_type": "code",
      "source": [
        "fruits.items()"
      ],
      "metadata": {
        "colab": {
          "base_uri": "https://localhost:8080/"
        },
        "id": "C85yIZgYQuXH",
        "outputId": "f0d58b33-c61c-424d-faaa-255912ce7e61"
      },
      "execution_count": null,
      "outputs": [
        {
          "output_type": "execute_result",
          "data": {
            "text/plain": [
              "dict_items([('Apple', 120), ('Orange', 20), ('pineapple', 90)])"
            ]
          },
          "metadata": {},
          "execution_count": 13
        }
      ]
    },
    {
      "cell_type": "code",
      "source": [
        "#take an input and find the freq of each letter and return the letter and their freq\n",
        "n = input()\n",
        "d={}\n",
        "for i in n:\n",
        "  #check for presence\n",
        "  if i not in d:\n",
        "    d[i] = 1\n",
        "  #if present increment the freq by a factor 1\n",
        "  else:\n",
        "    d[i]+=1\n",
        "\n",
        "print(d)"
      ],
      "metadata": {
        "colab": {
          "base_uri": "https://localhost:8080/"
        },
        "id": "snmsBPnEQ1Vx",
        "outputId": "e70894be-9b21-404e-c432-6bb6fb0360a7"
      },
      "execution_count": null,
      "outputs": [
        {
          "output_type": "stream",
          "name": "stdout",
          "text": [
            "murali anamala\n",
            "{'m': 2, 'u': 1, 'r': 1, 'a': 5, 'l': 2, 'i': 1, ' ': 1, 'n': 1}\n"
          ]
        }
      ]
    },
    {
      "cell_type": "code",
      "source": [
        "\"\"\"\n",
        "Problem Description:\n",
        "\n",
        "Given a dictionary, find the sum of values of every key in the dictionary.\n",
        "\n",
        "Input Format:\n",
        "\n",
        "The input contains two lines.\n",
        "The first line has space-separated string values which are the keys of the dictionary.\n",
        "The second line has space-separated integer numbers which are the values of the dictionary.\n",
        "Output Format:\n",
        "\n",
        "Print the sum of the values of the items as an integer.\n",
        "\"\"\"\n",
        "#input\n",
        "keys = input().split()\n",
        "values = map(int,input().split())\n",
        "\n",
        "#create a dictionary\n",
        "my_dict = dict(zip(keys,values))\n",
        "\n",
        "#calculate the sum of values\n",
        "sum_of_values = sum(my_dict.values())\n",
        "\n",
        "#output\n",
        "print(sum_of_values)\n",
        "\n",
        "print(my_dict)"
      ],
      "metadata": {
        "colab": {
          "base_uri": "https://localhost:8080/"
        },
        "id": "1M8rNS7fSrdU",
        "outputId": "2fb6d4fb-8d1c-4b3a-8667-6ba65cfb4d0a"
      },
      "execution_count": null,
      "outputs": [
        {
          "output_type": "stream",
          "name": "stdout",
          "text": [
            "a b c\n",
            "10 20 30\n",
            "60\n",
            "{'a': 10, 'b': 20, 'c': 30}\n"
          ]
        }
      ]
    },
    {
      "cell_type": "code",
      "source": [
        "'''Problem Description:\n",
        "\n",
        "Given two dictionaries, write a program for creating a dictionary in such a way that it consists of all the keys that are common in both dictionaries.\n",
        "The values corresponding to the keys in this new dictionary are the sum of the values of those keys in the two dictionaries.\n",
        "\n",
        "Input Format:\n",
        "\n",
        "The input contains four lines.\n",
        "The first line is space-separated string values which are the keys of the first dictionary.\n",
        "The second line is space-separated integer numbers which are values of the first dictionary.\n",
        "The third line is space-separated string values which are the keys of the second dictionary.\n",
        "The second line is space-separated integer numbers which are values of the second dictionary.\n",
        "Output Format:\n",
        "\n",
        "Print the resultant dictionary containing added values for common keys.'''\n",
        "\n",
        "def commonKey(dict1,dict2):\n",
        "  dict3 = {}\n",
        "  k1 = [dict1.keys()]\n",
        "  v1 = [dict1.values()]\n",
        "  k2 = [dict2.keys()]\n",
        "  v2 = [dict2.values()]\n",
        "\n",
        "  print(k1,v1,k2,v2)\n",
        "\n",
        "commonKey({\"a\":1,\"b\":2,\"c\":3},{\"c\":4,\"d\":2,\"c\":3})"
      ],
      "metadata": {
        "colab": {
          "base_uri": "https://localhost:8080/"
        },
        "id": "Vz4sL06yZrKF",
        "outputId": "fe5918f3-3a53-48a2-b050-18d4957fd3cc"
      },
      "execution_count": null,
      "outputs": [
        {
          "output_type": "stream",
          "name": "stdout",
          "text": [
            "[dict_keys(['a', 'b', 'c'])] [dict_values([1, 2, 3])] [dict_keys(['c', 'd'])] [dict_values([3, 2])]\n"
          ]
        }
      ]
    },
    {
      "cell_type": "markdown",
      "source": [
        "# **SETS**"
      ],
      "metadata": {
        "id": "C-t4NIGFlm83"
      }
    },
    {
      "cell_type": "code",
      "source": [
        "#unique collection\n",
        "#unorders (cant do indexing)\n",
        "#unindexed\n",
        "#mutable\n",
        "l1 = [1,2,1,4,5,2,5,7,8]\n",
        "l1\n",
        "s1 = set(l1)\n",
        "s1\n",
        "\n",
        "# creating a set\n",
        "s1 = {}\n",
        "#set()\n",
        "#set(iterable)\n",
        "type(s1)\n",
        "s1 = set()\n",
        "type(s1)\n",
        "\n",
        "#different methods of sets\n",
        "\"\"\"\n",
        "1. remove - removes specified element from the set\n",
        "2. pop - removes any element randomly\n",
        "3. add - adds an element to the set - duplicates not considered\n",
        "4. update - add iterables (lists)  to the set\n",
        "5. clear - remove all the data inside the set\n",
        "6. copy - creates a carbon copy of set\n",
        "7. intersection\n",
        "8. intersetion_update\n",
        "9. difference\n",
        "10. difference_update\n",
        "11. discard\n",
        "12. issubset\n",
        "13. isdisjoint\n",
        "14. issuperset\n",
        "\"\"\""
      ],
      "metadata": {
        "colab": {
          "base_uri": "https://localhost:8080/"
        },
        "id": "V5s-0-ZHlq_Y",
        "outputId": "35d9c45d-bd8c-42fe-ceda-04dbfee0dd31"
      },
      "execution_count": 14,
      "outputs": [
        {
          "output_type": "execute_result",
          "data": {
            "text/plain": [
              "set"
            ]
          },
          "metadata": {},
          "execution_count": 14
        }
      ]
    },
    {
      "cell_type": "code",
      "source": [
        "#Non empty set\n",
        "s1 = {1,2,1,4,5,2,5,7,8}\n",
        "s1\n"
      ],
      "metadata": {
        "colab": {
          "base_uri": "https://localhost:8080/"
        },
        "id": "X0i5UJcgmj0J",
        "outputId": "92daba75-9d2e-48e4-d5f2-d959dc793aff"
      },
      "execution_count": 15,
      "outputs": [
        {
          "output_type": "execute_result",
          "data": {
            "text/plain": [
              "{1, 2, 4, 5, 7, 8}"
            ]
          },
          "metadata": {},
          "execution_count": 15
        }
      ]
    },
    {
      "cell_type": "code",
      "source": [
        "s = set(\"murali\")\n",
        "s"
      ],
      "metadata": {
        "colab": {
          "base_uri": "https://localhost:8080/"
        },
        "id": "i7HkmZ3_myJf",
        "outputId": "5b2cde6d-922d-47d8-d93b-a092eb8eda03"
      },
      "execution_count": 16,
      "outputs": [
        {
          "output_type": "execute_result",
          "data": {
            "text/plain": [
              "{'a', 'i', 'l', 'm', 'r', 'u'}"
            ]
          },
          "metadata": {},
          "execution_count": 16
        }
      ]
    },
    {
      "cell_type": "markdown",
      "source": [
        "## **UPDATE/DELETE**"
      ],
      "metadata": {
        "id": "TqsiX5A6_fcj"
      }
    },
    {
      "cell_type": "code",
      "source": [
        "#UPDATE and DELETE set\n",
        "#add - for single element\n",
        "#update(iterable)\n",
        "\n",
        "s = {1,2,3,3,4,5,6}\n",
        "s"
      ],
      "metadata": {
        "colab": {
          "base_uri": "https://localhost:8080/"
        },
        "id": "fygo4w9GsRc9",
        "outputId": "68b8c94d-e465-4a0b-ec2d-c73748a1fbfe"
      },
      "execution_count": 17,
      "outputs": [
        {
          "output_type": "execute_result",
          "data": {
            "text/plain": [
              "{1, 2, 3, 4, 5, 6}"
            ]
          },
          "metadata": {},
          "execution_count": 17
        }
      ]
    },
    {
      "cell_type": "code",
      "source": [
        "s.add(8)\n",
        "s\n",
        "s.add(8)\n",
        "s"
      ],
      "metadata": {
        "colab": {
          "base_uri": "https://localhost:8080/"
        },
        "id": "9_P9Mdvbsdlq",
        "outputId": "9fb7389b-0b54-4d51-e5df-471a4b8f0e05"
      },
      "execution_count": 19,
      "outputs": [
        {
          "output_type": "execute_result",
          "data": {
            "text/plain": [
              "{1, 2, 3, 4, 5, 6, 8}"
            ]
          },
          "metadata": {},
          "execution_count": 19
        }
      ]
    },
    {
      "cell_type": "code",
      "source": [
        "s\n",
        "name=\"Murali\"\n",
        "s.update(name)\n",
        "s"
      ],
      "metadata": {
        "colab": {
          "base_uri": "https://localhost:8080/"
        },
        "id": "NGpj0Hhgsjkq",
        "outputId": "9434b324-d319-4da9-df77-23365d6ccc38"
      },
      "execution_count": 22,
      "outputs": [
        {
          "output_type": "execute_result",
          "data": {
            "text/plain": [
              "{1, 2, 3, 4, 5, 6, 8, 'M', 'a', 'i', 'l', 'm', 'r', 'u'}"
            ]
          },
          "metadata": {},
          "execution_count": 22
        }
      ]
    },
    {
      "cell_type": "code",
      "source": [
        "#deleting an element\n",
        "s.pop()\n",
        "s"
      ],
      "metadata": {
        "colab": {
          "base_uri": "https://localhost:8080/"
        },
        "id": "UlVVKHQkszJO",
        "outputId": "601d4f8b-1584-4b1b-eea6-221f96659ec3"
      },
      "execution_count": 23,
      "outputs": [
        {
          "output_type": "execute_result",
          "data": {
            "text/plain": [
              "{2, 3, 4, 5, 6, 8, 'M', 'a', 'i', 'l', 'm', 'r', 'u'}"
            ]
          },
          "metadata": {},
          "execution_count": 23
        }
      ]
    },
    {
      "cell_type": "code",
      "source": [
        "s.pop()"
      ],
      "metadata": {
        "colab": {
          "base_uri": "https://localhost:8080/"
        },
        "id": "nokwcqQ9s6Ns",
        "outputId": "0c8d2a41-8603-4178-eef5-6299694b65be"
      },
      "execution_count": 24,
      "outputs": [
        {
          "output_type": "execute_result",
          "data": {
            "text/plain": [
              "2"
            ]
          },
          "metadata": {},
          "execution_count": 24
        }
      ]
    },
    {
      "cell_type": "code",
      "source": [
        "s"
      ],
      "metadata": {
        "colab": {
          "base_uri": "https://localhost:8080/"
        },
        "id": "nf9LNDk2s8Kw",
        "outputId": "6048f7f7-f28d-42b3-c3c7-48606681a107"
      },
      "execution_count": 25,
      "outputs": [
        {
          "output_type": "execute_result",
          "data": {
            "text/plain": [
              "{3, 4, 5, 6, 8, 'M', 'a', 'i', 'l', 'm', 'r', 'u'}"
            ]
          },
          "metadata": {},
          "execution_count": 25
        }
      ]
    },
    {
      "cell_type": "code",
      "source": [
        "s.remove(\"m\")\n",
        "s"
      ],
      "metadata": {
        "colab": {
          "base_uri": "https://localhost:8080/"
        },
        "id": "IXj6vzh8s9Ij",
        "outputId": "4465db78-a6bb-4683-8717-715ba0592fc3"
      },
      "execution_count": 27,
      "outputs": [
        {
          "output_type": "execute_result",
          "data": {
            "text/plain": [
              "{3, 4, 5, 6, 8, 'a', 'i', 'l', 'r', 'u'}"
            ]
          },
          "metadata": {},
          "execution_count": 27
        }
      ]
    },
    {
      "cell_type": "code",
      "source": [
        "a = s.pop()\n",
        "a"
      ],
      "metadata": {
        "colab": {
          "base_uri": "https://localhost:8080/"
        },
        "id": "IC6YFd61tSed",
        "outputId": "a228ebc6-b8ef-4419-85b3-1c40fd582e4d"
      },
      "execution_count": 28,
      "outputs": [
        {
          "output_type": "execute_result",
          "data": {
            "text/plain": [
              "3"
            ]
          },
          "metadata": {},
          "execution_count": 28
        }
      ]
    },
    {
      "cell_type": "code",
      "source": [
        "b = s.remove(6)\n",
        "b\n",
        "s"
      ],
      "metadata": {
        "colab": {
          "base_uri": "https://localhost:8080/"
        },
        "id": "zxlZpte0tVXN",
        "outputId": "dede6774-1af8-41c5-c7a0-fb029a3f6f62"
      },
      "execution_count": 31,
      "outputs": [
        {
          "output_type": "execute_result",
          "data": {
            "text/plain": [
              "{4, 5, 'a', 'i', 'l', 'r', 'u'}"
            ]
          },
          "metadata": {},
          "execution_count": 31
        }
      ]
    },
    {
      "cell_type": "markdown",
      "source": [
        "## **JOINS**\n",
        "INTERSECTION - INNER JOIN\n",
        "/UNION\n",
        "/DIFFERENCE - LEFT JOIN\n"
      ],
      "metadata": {
        "id": "H7OsZf3Y_k49"
      }
    },
    {
      "cell_type": "code",
      "source": [
        "#Intersection -- INNER JOIN\n",
        "'''\n",
        "returns common elements from 2 sets\n",
        "'''\n",
        "python = {\"murali\",\"manogna\",\"sabitha\"}\n",
        "java = {\"manogna\",\"murali\",\"taniksha\",\"hemansree\"}\n",
        "\n",
        "s = set.intersection(python,java)\n",
        "s\n",
        "t = python.intersection(java)\n",
        "t\n"
      ],
      "metadata": {
        "colab": {
          "base_uri": "https://localhost:8080/"
        },
        "id": "GL9TNiQstgXL",
        "outputId": "ea91ffe8-9a9b-41d8-a7dc-8ed4c11ee58b"
      },
      "execution_count": 35,
      "outputs": [
        {
          "output_type": "execute_result",
          "data": {
            "text/plain": [
              "{'manogna', 'murali'}"
            ]
          },
          "metadata": {},
          "execution_count": 35
        }
      ]
    },
    {
      "cell_type": "code",
      "source": [
        "java.intersection(python)"
      ],
      "metadata": {
        "colab": {
          "base_uri": "https://localhost:8080/"
        },
        "id": "DqUz2S4Ovbo7",
        "outputId": "5b13b902-3a4e-45de-95a1-47676850d6f2"
      },
      "execution_count": 37,
      "outputs": [
        {
          "output_type": "execute_result",
          "data": {
            "text/plain": [
              "{'manogna', 'murali'}"
            ]
          },
          "metadata": {},
          "execution_count": 37
        }
      ]
    },
    {
      "cell_type": "code",
      "source": [
        "#Union method -- UNION\n",
        "s = set.union(python,java)\n",
        "print(s)"
      ],
      "metadata": {
        "colab": {
          "base_uri": "https://localhost:8080/"
        },
        "id": "dVAGaZ7Cvhix",
        "outputId": "b96c1be9-2555-4c17-cb17-b324dea22ac2"
      },
      "execution_count": 38,
      "outputs": [
        {
          "output_type": "stream",
          "name": "stdout",
          "text": [
            "{'murali', 'manogna', 'sabitha', 'hemansree', 'taniksha'}\n"
          ]
        }
      ]
    },
    {
      "cell_type": "code",
      "source": [
        "python.union(java)"
      ],
      "metadata": {
        "colab": {
          "base_uri": "https://localhost:8080/"
        },
        "id": "-f3yNQkVvs9Q",
        "outputId": "5e92fc01-7b15-4b49-85ed-f845cba53d5a"
      },
      "execution_count": 39,
      "outputs": [
        {
          "output_type": "execute_result",
          "data": {
            "text/plain": [
              "{'hemansree', 'manogna', 'murali', 'sabitha', 'taniksha'}"
            ]
          },
          "metadata": {},
          "execution_count": 39
        }
      ]
    },
    {
      "cell_type": "code",
      "source": [
        "#Difference -- LEFT JOIN\n",
        "python.difference(java)\n",
        "java.difference(python)"
      ],
      "metadata": {
        "colab": {
          "base_uri": "https://localhost:8080/"
        },
        "id": "GJzVTkZrvwbF",
        "outputId": "72f8db39-e2d5-414c-c9f1-4f819189cdbd"
      },
      "execution_count": 41,
      "outputs": [
        {
          "output_type": "execute_result",
          "data": {
            "text/plain": [
              "{'hemansree', 'taniksha'}"
            ]
          },
          "metadata": {},
          "execution_count": 41
        }
      ]
    },
    {
      "cell_type": "code",
      "source": [
        "'''\n",
        "Challenge: count number of unique elements in a sentence\n",
        "'''\n",
        "sent = \"be the change you wish to see in the world\"\n",
        "#unique world list - converted using set with split method\n",
        "s = set(sent.split())\n",
        "#num = 0\n",
        "#for i in s:\n",
        "#  num+=1\n",
        "\n",
        "#print(num)\n",
        "len(s)"
      ],
      "metadata": {
        "colab": {
          "base_uri": "https://localhost:8080/"
        },
        "id": "8Wp5tzH5v99X",
        "outputId": "a3c816ee-f423-4a0e-8dbb-4a05a353a5da"
      },
      "execution_count": 44,
      "outputs": [
        {
          "output_type": "execute_result",
          "data": {
            "text/plain": [
              "9"
            ]
          },
          "metadata": {},
          "execution_count": 44
        }
      ]
    },
    {
      "cell_type": "code",
      "source": [
        "'''\n",
        "Frequency of unique elements\n",
        "Problem Description:\n",
        "\n",
        "Write a function to print out the frequency of all the unique elements present in a given tuple.\n",
        "\n",
        "Input Format:\n",
        "\n",
        "The one input line consists of a tuple.\n",
        "Output Format:\n",
        "\n",
        "Unique elements and their frequencies are expected to be printed as follows:\n",
        "unique_element1 : freq1\n",
        "unique_element2 : freq2\n",
        ".\n",
        ".\n",
        "Sample Input:\n",
        "\n",
        "(10, 8, 5, 2, 10, 15, 10, 8, 5, 8, 8, 2)\n",
        "Sample Output:\n",
        "\n",
        "10 : 3\n",
        "8 : 4\n",
        "5 : 2\n",
        "2 : 2\n",
        "15 : 1\n",
        "'''\n",
        "\n",
        "def unique_count(tup):\n",
        "  freq_dict = {}\n",
        "  for element in tup:\n",
        "    if isinstance(element,list):\n",
        "      element = tup(element)\n",
        "    if element in freq_dict:\n",
        "      freq_dict[element] += 1\n",
        "    else:\n",
        "      freq_dict[element] = 1\n",
        "\n",
        "  for element,freq in freq_dict.items():\n",
        "    print(f\"{element} : {freq}\") if not isinstance(element,tuple) else print(f\"{list(element)} : {freq}\")\n",
        "\n",
        "a = (10, 8, 5, 2, 10, 15, 10, 8, 5, 8, 8, 2)\n",
        "unique_count(a)"
      ],
      "metadata": {
        "colab": {
          "base_uri": "https://localhost:8080/"
        },
        "id": "AXZINiIox0IB",
        "outputId": "a1ddcc88-64bb-459b-c22c-2a4f1394cfb9"
      },
      "execution_count": 49,
      "outputs": [
        {
          "output_type": "stream",
          "name": "stdout",
          "text": [
            "10 : 3\n",
            "8 : 4\n",
            "5 : 2\n",
            "2 : 2\n",
            "15 : 1\n"
          ]
        }
      ]
    },
    {
      "cell_type": "markdown",
      "source": [
        "# **FUNCTIONS**"
      ],
      "metadata": {
        "id": "4SlDPqj28ZfT"
      }
    },
    {
      "cell_type": "code",
      "source": [
        "'''\n",
        "Function is user defined code. It works only when it's called by a user. It helps in reusability of code and helps in reducing errors in the code\n",
        "Ex: print,range etc\n",
        "\n",
        "- Helps in reusability\n",
        "- Make code manageable and organized\n",
        "\n",
        "Two types:\n",
        "- User defined\n",
        "- In-built\n",
        "'''"
      ],
      "metadata": {
        "id": "pF-iwD5q8eHa"
      },
      "execution_count": null,
      "outputs": []
    }
  ]
}