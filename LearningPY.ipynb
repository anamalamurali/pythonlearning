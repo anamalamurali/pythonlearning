{
  "nbformat": 4,
  "nbformat_minor": 0,
  "metadata": {
    "colab": {
      "provenance": [],
      "authorship_tag": "ABX9TyPcqZA+nB7lHhCApDcgTeVP",
      "include_colab_link": true
    },
    "kernelspec": {
      "name": "python3",
      "display_name": "Python 3"
    },
    "language_info": {
      "name": "python"
    }
  },
  "cells": [
    {
      "cell_type": "markdown",
      "metadata": {
        "id": "view-in-github",
        "colab_type": "text"
      },
      "source": [
        "<a href=\"https://colab.research.google.com/github/muralianamala/pythonlearning/blob/main/LearningPY.ipynb\" target=\"_parent\"><img src=\"https://colab.research.google.com/assets/colab-badge.svg\" alt=\"Open In Colab\"/></a>"
      ]
    },
    {
      "cell_type": "code",
      "execution_count": null,
      "metadata": {
        "id": "jHx-UMnYycoR"
      },
      "outputs": [],
      "source": [
        "#easy to understand, general purpose programming language\n",
        "# Guido van Rossum in 1993\n",
        "#advantages\n",
        "#1. easy to code, 2. improve productivity, 3. vast library support, 4. lot of carrer options, 5. used almost everywhere\n",
        "# google, youtube, netflix, instgram\n",
        "#ai and ml, data analytics, programming applications, web development, game development and more\n"
      ]
    },
    {
      "cell_type": "code",
      "source": [
        "#overall structure\n",
        "print(\"hello world\")"
      ],
      "metadata": {
        "colab": {
          "base_uri": "https://localhost:8080/"
        },
        "id": "oN1OQwDT5K6Y",
        "outputId": "992aed86-5a4b-4d77-c19f-315526543d81"
      },
      "execution_count": null,
      "outputs": [
        {
          "output_type": "stream",
          "name": "stdout",
          "text": [
            "hello world\n"
          ]
        }
      ]
    },
    {
      "cell_type": "code",
      "source": [
        "#variables\n",
        "#variables are place holders to store the data\n",
        "#variable_name(identifier) (assign operator =) value to be assigned\n",
        "#variable must start with a letter or underscore\n",
        "#variable can not start with number\n",
        "#can contain alpha numeric and underscore (A-z,0-9, _)\n",
        "#case sensitive\n",
        "#inbuild keywords should not be used as identifier\n",
        "a=5\n",
        "print(a)\n",
        "murali_12 = \"Murali\"\n",
        "print(murali_12)"
      ],
      "metadata": {
        "colab": {
          "base_uri": "https://localhost:8080/"
        },
        "id": "NNBvznps53J9",
        "outputId": "ecdefe9d-ffd5-4fff-aad0-f54625e6d9d8"
      },
      "execution_count": null,
      "outputs": [
        {
          "output_type": "stream",
          "name": "stdout",
          "text": [
            "5\n",
            "Murali\n"
          ]
        }
      ]
    },
    {
      "cell_type": "code",
      "source": [
        "help(\"keywords\")"
      ],
      "metadata": {
        "colab": {
          "base_uri": "https://localhost:8080/"
        },
        "id": "xF0v71g166gZ",
        "outputId": "7d4096b1-5842-4ed0-bf89-b81e1a0a0c1c"
      },
      "execution_count": null,
      "outputs": [
        {
          "output_type": "stream",
          "name": "stdout",
          "text": [
            "\n",
            "Here is a list of the Python keywords.  Enter any keyword to get more help.\n",
            "\n",
            "False               class               from                or\n",
            "None                continue            global              pass\n",
            "True                def                 if                  raise\n",
            "and                 del                 import              return\n",
            "as                  elif                in                  try\n",
            "assert              else                is                  while\n",
            "async               except              lambda              with\n",
            "await               finally             nonlocal            yield\n",
            "break               for                 not                 \n",
            "\n"
          ]
        }
      ]
    },
    {
      "cell_type": "code",
      "source": [
        "help(\"elif\")"
      ],
      "metadata": {
        "colab": {
          "base_uri": "https://localhost:8080/"
        },
        "id": "61xwcjac7Mt6",
        "outputId": "04e9e2ec-bf9a-4c87-95d8-73447d87fd35"
      },
      "execution_count": null,
      "outputs": [
        {
          "output_type": "stream",
          "name": "stdout",
          "text": [
            "The \"if\" statement\n",
            "******************\n",
            "\n",
            "The \"if\" statement is used for conditional execution:\n",
            "\n",
            "   if_stmt ::= \"if\" assignment_expression \":\" suite\n",
            "               (\"elif\" assignment_expression \":\" suite)*\n",
            "               [\"else\" \":\" suite]\n",
            "\n",
            "It selects exactly one of the suites by evaluating the expressions one\n",
            "by one until one is found to be true (see section Boolean operations\n",
            "for the definition of true and false); then that suite is executed\n",
            "(and no other part of the \"if\" statement is executed or evaluated).\n",
            "If all expressions are false, the suite of the \"else\" clause, if\n",
            "present, is executed.\n",
            "\n",
            "Related help topics: TRUTHVALUE\n",
            "\n"
          ]
        }
      ]
    },
    {
      "cell_type": "code",
      "source": [],
      "metadata": {
        "id": "JXHwRk4I7SFT"
      },
      "execution_count": null,
      "outputs": []
    },
    {
      "cell_type": "code",
      "source": [
        "#memory allocation\n",
        "x=5\n",
        "y=6\n",
        "#variables store STACK memory\n",
        "#values store in HEAP memory\n",
        "#both stored in memory\n",
        "#reference\n",
        "#Id functions\n",
        "id(x)\n",
        "print(id(x))"
      ],
      "metadata": {
        "colab": {
          "base_uri": "https://localhost:8080/"
        },
        "id": "J26ua5nN7V_Z",
        "outputId": "09c91589-bfa1-49c5-e146-e4b56e3a612e"
      },
      "execution_count": null,
      "outputs": [
        {
          "output_type": "stream",
          "name": "stdout",
          "text": [
            "137396557562224\n"
          ]
        }
      ]
    },
    {
      "cell_type": "code",
      "source": [
        "x= 45\n",
        "print(id(x))"
      ],
      "metadata": {
        "colab": {
          "base_uri": "https://localhost:8080/"
        },
        "id": "GvtQrlPv74R4",
        "outputId": "13dd0039-f0d5-452e-9902-a5dd803b6a4e"
      },
      "execution_count": null,
      "outputs": [
        {
          "output_type": "stream",
          "name": "stdout",
          "text": [
            "137396557563504\n"
          ]
        }
      ]
    },
    {
      "cell_type": "code",
      "source": [
        "print(137396557562224)"
      ],
      "metadata": {
        "colab": {
          "base_uri": "https://localhost:8080/"
        },
        "id": "1TIcdgm78nDA",
        "outputId": "1c721810-1065-4e7c-b965-cf407f4c3615"
      },
      "execution_count": null,
      "outputs": [
        {
          "output_type": "stream",
          "name": "stdout",
          "text": [
            "137396557562224\n"
          ]
        }
      ]
    },
    {
      "cell_type": "code",
      "source": [
        "name = \"Murali\"\n",
        "print(id(name))"
      ],
      "metadata": {
        "colab": {
          "base_uri": "https://localhost:8080/"
        },
        "id": "3t42Et2T8vBb",
        "outputId": "6ffeab72-efbe-4cc4-8486-cbf8bda7c86f"
      },
      "execution_count": null,
      "outputs": [
        {
          "output_type": "stream",
          "name": "stdout",
          "text": [
            "137395510420336\n"
          ]
        }
      ]
    },
    {
      "cell_type": "code",
      "source": [
        "#comments\n",
        "# -- comment of single line\n"
      ],
      "metadata": {
        "id": "5yR0ALCD86Bb"
      },
      "execution_count": null,
      "outputs": []
    },
    {
      "cell_type": "code",
      "source": [
        "#data types\n",
        "#int, float,boolean, strings and none\n",
        "n1 = 24\n",
        "print(n1)\n",
        "# type\n",
        "print(type(n1))\n",
        "print(\"a\")\n",
        "\n",
        "#float\n",
        "f=1.0\n",
        "print(type(f))\n",
        "\n",
        "f1 = 2.23\n",
        "print(type(f1))\n",
        "\n",
        "#Booleans (True & False)\n",
        "b= True\n",
        "print(type(b))\n",
        "\n",
        "b1= False\n",
        "print(type(b1))\n",
        "\n",
        "#b2 = true\n",
        "\n",
        "#Strings\n",
        "# should contain within quotes (',\",\"\"\",''')\n",
        "a=\"Murali 1234 learning python 2023\"\n",
        "print(type(a))\n",
        "#multi line comments\n",
        "m= \"\"\" multi line string\n",
        "\n",
        "\"\"\"\n",
        "print(m)\n",
        "print(type(m))\n",
        "\n",
        "\n",
        "# None ( no value nothing)\n",
        "n = None\n",
        "print(type(n))\n",
        "print(n)"
      ],
      "metadata": {
        "colab": {
          "base_uri": "https://localhost:8080/"
        },
        "id": "KzzUvGHB9NhT",
        "outputId": "7afdf91a-ab09-4d84-fe3d-db62eccedc0e"
      },
      "execution_count": null,
      "outputs": [
        {
          "output_type": "stream",
          "name": "stdout",
          "text": [
            "24\n",
            "<class 'int'>\n",
            "a\n",
            "<class 'float'>\n",
            "<class 'float'>\n",
            "<class 'bool'>\n",
            "<class 'bool'>\n",
            "<class 'str'>\n",
            " multi line string \n",
            "\n",
            "\n",
            "<class 'str'>\n",
            "<class 'NoneType'>\n",
            "None\n"
          ]
        }
      ]
    },
    {
      "cell_type": "code",
      "source": [
        "#input functions\n",
        "name=input()\n",
        "print(name)\n",
        "print(type(name))"
      ],
      "metadata": {
        "colab": {
          "base_uri": "https://localhost:8080/"
        },
        "id": "P0y0prjhYks5",
        "outputId": "14088b89-ff93-4ee3-a181-a59b340c72e6"
      },
      "execution_count": null,
      "outputs": [
        {
          "output_type": "stream",
          "name": "stdout",
          "text": [
            "murali\n",
            "murali\n",
            "<class 'str'>\n"
          ]
        }
      ]
    },
    {
      "cell_type": "code",
      "source": [
        "# number as input\n",
        "x=int(input())"
      ],
      "metadata": {
        "colab": {
          "base_uri": "https://localhost:8080/"
        },
        "id": "ifWS1IOFZ0pj",
        "outputId": "3a7c7ffa-7eef-41f9-f8e9-ce808ae991b2"
      },
      "execution_count": null,
      "outputs": [
        {
          "name": "stdout",
          "output_type": "stream",
          "text": [
            "6\n"
          ]
        }
      ]
    },
    {
      "cell_type": "code",
      "source": [
        "print(x)\n",
        "print(type(x))"
      ],
      "metadata": {
        "colab": {
          "base_uri": "https://localhost:8080/"
        },
        "id": "-Lb1a3VLaOiE",
        "outputId": "854f277b-3813-431a-91f6-5286772b7d4e"
      },
      "execution_count": null,
      "outputs": [
        {
          "output_type": "stream",
          "name": "stdout",
          "text": [
            "6\n",
            "<class 'int'>\n"
          ]
        }
      ]
    },
    {
      "cell_type": "code",
      "source": [
        "#type conversion\n",
        "x\n",
        "y = float(x)\n",
        "print(type(y))\n",
        "\n",
        "c =float(\"1.5\")\n",
        "type(c)\n",
        "print(type(int(c)))"
      ],
      "metadata": {
        "colab": {
          "base_uri": "https://localhost:8080/"
        },
        "id": "toPpSYOJaSO0",
        "outputId": "7c812ea6-e96d-4255-d5e7-dec21d331af1"
      },
      "execution_count": null,
      "outputs": [
        {
          "output_type": "stream",
          "name": "stdout",
          "text": [
            "<class 'float'>\n",
            "<class 'int'>\n"
          ]
        }
      ]
    },
    {
      "cell_type": "code",
      "source": [
        "#print function\n",
        "print(\"murali\")\n",
        "print(\"murali\",\"manogna\",\"sabitha\",12,3,2234,end='\\t')"
      ],
      "metadata": {
        "colab": {
          "base_uri": "https://localhost:8080/"
        },
        "id": "Ogb6w0xadHd9",
        "outputId": "6e5ba3a7-657e-4d3f-b562-848dfe8e9958"
      },
      "execution_count": null,
      "outputs": [
        {
          "output_type": "stream",
          "name": "stdout",
          "text": [
            "murali\n",
            "murali manogna sabitha 12 3 2234\t"
          ]
        }
      ]
    },
    {
      "cell_type": "code",
      "source": [
        "#changing default seperator and end\n",
        "\n",
        "print(\"murali\",\"manogna\",\"sabitha\",12,3,2234,sep='',end='\\t')\n",
        "print(\"murali\",\"manogna\",\"sabitha\",12,3,2234,sep=',',end='\\t')\n",
        "print(\"murali\",\"manogna\",\"sabitha\",12,3,2234,sep='\\n',end='\\t')"
      ],
      "metadata": {
        "colab": {
          "base_uri": "https://localhost:8080/"
        },
        "id": "cFCGgZ2lun2R",
        "outputId": "16f321c2-f7ec-4a4e-b410-f8d55dbb8b82"
      },
      "execution_count": null,
      "outputs": [
        {
          "output_type": "stream",
          "name": "stdout",
          "text": [
            "muralimanognasabitha1232234\tmurali,manogna,sabitha,12,3,2234\tmurali\n",
            "manogna\n",
            "sabitha\n",
            "12\n",
            "3\n",
            "2234\t"
          ]
        }
      ]
    },
    {
      "cell_type": "code",
      "source": [
        "def con(str1,str2):\n",
        "  return print(str1,str2,sep=\"\")\n",
        "\n",
        "con(\"murali\",\"manogna\")"
      ],
      "metadata": {
        "colab": {
          "base_uri": "https://localhost:8080/"
        },
        "id": "zP2opQ2CwOcF",
        "outputId": "de6d3fd4-3d23-489e-a39c-6082855b9593"
      },
      "execution_count": null,
      "outputs": [
        {
          "output_type": "stream",
          "name": "stdout",
          "text": [
            "muralimanogna\n"
          ]
        }
      ]
    },
    {
      "cell_type": "code",
      "source": [
        "#python operators\n",
        "#operators\n",
        "#operand\n",
        "#arithmatic operators\n",
        "\n",
        "#addition\n",
        "print(10+5)\n",
        "#substraction\n",
        "print(10-5)\n",
        "#division\n",
        "print(10/5)\n",
        "#mod (%)\n",
        "print(10 % 5)\n",
        "#multiplication\n",
        "print(10* 5)\n",
        "#floor division (//)\n",
        "print(10//5)\n",
        "#to the power (**)\n",
        "print(10 ** 5)\n"
      ],
      "metadata": {
        "colab": {
          "base_uri": "https://localhost:8080/"
        },
        "id": "yeQaFK_iwl0z",
        "outputId": "b5fe3e91-a17e-4901-a7bc-2c6256312312"
      },
      "execution_count": null,
      "outputs": [
        {
          "output_type": "stream",
          "name": "stdout",
          "text": [
            "15\n",
            "5\n",
            "2.0\n",
            "0\n",
            "50\n",
            "2\n",
            "100000\n"
          ]
        }
      ]
    },
    {
      "cell_type": "code",
      "source": [
        "print(1.5+1)\n",
        "#string concatenation\n",
        "print(\"murali\"+\"anamala\")\n",
        "print(\"murali\" * 3)"
      ],
      "metadata": {
        "colab": {
          "base_uri": "https://localhost:8080/"
        },
        "id": "AcN9Sb2Uy1c5",
        "outputId": "f472f525-ac4c-4c47-ae69-3ff3195e5a5a"
      },
      "execution_count": null,
      "outputs": [
        {
          "output_type": "stream",
          "name": "stdout",
          "text": [
            "2.5\n",
            "muralianamala\n",
            "muralimuralimurali\n"
          ]
        }
      ]
    },
    {
      "cell_type": "code",
      "source": [
        "#modulus operators (%)\n",
        "\n",
        "print(5%3)\n",
        "print(10%10)\n",
        "#floor division -- nearest small integer\n",
        "print(5 // 3)\n",
        "print(-3//2)"
      ],
      "metadata": {
        "colab": {
          "base_uri": "https://localhost:8080/"
        },
        "id": "b9R_xWET0AG9",
        "outputId": "cde2f57c-ba66-441a-b5aa-a4e1cad59073"
      },
      "execution_count": null,
      "outputs": [
        {
          "output_type": "stream",
          "name": "stdout",
          "text": [
            "2\n",
            "0\n",
            "1\n",
            "-2\n"
          ]
        }
      ]
    },
    {
      "cell_type": "code",
      "source": [
        "#logical comparision operators\n",
        "\"\"\"\n",
        "== equal\n",
        "!= not equal\n",
        "< less than\n",
        "> greater than\n",
        "<= less than or equal to\n",
        ">= greater than equal to\n",
        "\"\"\"\n"
      ],
      "metadata": {
        "colab": {
          "base_uri": "https://localhost:8080/",
          "height": 35
        },
        "id": "bZ00gA-F0kTI",
        "outputId": "31bdfcd6-6e5e-4200-bf17-a4812eb036a3"
      },
      "execution_count": null,
      "outputs": [
        {
          "output_type": "execute_result",
          "data": {
            "text/plain": [
              "'\\n== equal\\n!= not equal\\n< less than\\n> greater than\\n<= less than or equal to\\n>= greater than equal to\\n'"
            ],
            "application/vnd.google.colaboratory.intrinsic+json": {
              "type": "string"
            }
          },
          "metadata": {},
          "execution_count": 59
        }
      ]
    },
    {
      "cell_type": "code",
      "source": [
        "#assignment operators\n",
        "\"\"\"\n",
        "=\n",
        "-=\n",
        "+=\n",
        "/=\n",
        "*=\n",
        "\"\"\""
      ],
      "metadata": {
        "id": "vufbpWRX1EMs"
      },
      "execution_count": null,
      "outputs": []
    },
    {
      "cell_type": "code",
      "source": [
        "#logical operator\n",
        "\"\"\"\n",
        "and\n",
        "or\n",
        "not\n",
        "\"\"\"\n",
        "\n",
        "#special operators\n",
        "\"\"\"\n",
        "in\n",
        "is\n",
        "operators\n",
        "\"\"\"\n",
        "\n",
        "name=\"murali\"\n",
        "\"r\" in name\n",
        "\"R\" in name\n",
        "\"ila\" in name\n",
        "\n",
        "#is operator tells you if both the object are at same memory location\n",
        "a=5\n",
        "b=5\n",
        "print(id(a),id(b))\n",
        "a is b\n",
        "\n",
        "a= 34\n",
        "b= 45\n",
        "\n",
        "print(id(a), id(b))\n",
        "\n",
        "a is b"
      ],
      "metadata": {
        "colab": {
          "base_uri": "https://localhost:8080/"
        },
        "id": "IgcxNOqTT5qw",
        "outputId": "ed76f4bd-d9e6-4803-ab11-4366baab8fdd"
      },
      "execution_count": null,
      "outputs": [
        {
          "output_type": "stream",
          "name": "stdout",
          "text": [
            "136970031497584 136970031497584\n",
            "136970031498512 136970031498864\n"
          ]
        },
        {
          "output_type": "execute_result",
          "data": {
            "text/plain": [
              "False"
            ]
          },
          "metadata": {},
          "execution_count": 8
        }
      ]
    },
    {
      "cell_type": "code",
      "source": [
        "print(0 or 1)"
      ],
      "metadata": {
        "colab": {
          "base_uri": "https://localhost:8080/"
        },
        "id": "ofbULhm0bUt6",
        "outputId": "62de391c-1498-4731-f1c9-8928bd1ba454"
      },
      "execution_count": null,
      "outputs": [
        {
          "output_type": "stream",
          "name": "stdout",
          "text": [
            "1\n"
          ]
        }
      ]
    },
    {
      "cell_type": "code",
      "source": [
        "#control flow statement\n",
        "#if-else\n",
        "#indentation\n",
        "age=int(input())\n",
        "\n",
        "if age>18:\n",
        "  print(f\"you can drive\")\n",
        "else:\n",
        "  print(f\"wait till you turn 18\")"
      ],
      "metadata": {
        "colab": {
          "base_uri": "https://localhost:8080/"
        },
        "id": "Opgiskdvbi-t",
        "outputId": "718c2dfc-ea74-4361-9210-0b5877a92220"
      },
      "execution_count": null,
      "outputs": [
        {
          "output_type": "stream",
          "name": "stdout",
          "text": [
            "20\n",
            "you can drive\n"
          ]
        }
      ]
    },
    {
      "cell_type": "code",
      "source": [
        "#nested if\n",
        "age=int(input())\n",
        "if age > 18:\n",
        "  if age>=65:\n",
        "    print(f\"Take care\")\n",
        "  else:\n",
        "      print(f\"you are elgible\")\n",
        "else:\n",
        "  print(f\"wait till turn 18\")\n",
        "\n"
      ],
      "metadata": {
        "colab": {
          "base_uri": "https://localhost:8080/"
        },
        "id": "oEgGhpu7hFY7",
        "outputId": "f693e81c-36d6-486b-c8f9-e9063581bb63"
      },
      "execution_count": null,
      "outputs": [
        {
          "output_type": "stream",
          "name": "stdout",
          "text": [
            "18\n",
            "wait till turn 18\n"
          ]
        }
      ]
    },
    {
      "cell_type": "code",
      "source": [
        "#if, elif, else\n",
        "num=int(input())\n",
        "if num>0:\n",
        "  print(f\"+ve\")\n",
        "if num == 0:\n",
        "  print(f\"zero\")\n",
        "else:\n",
        "  print(f\"-ve\")"
      ],
      "metadata": {
        "colab": {
          "base_uri": "https://localhost:8080/"
        },
        "id": "-bJuy_8npf-7",
        "outputId": "6114f010-821a-4e9c-bb81-b9319863b49b"
      },
      "execution_count": null,
      "outputs": [
        {
          "output_type": "stream",
          "name": "stdout",
          "text": [
            "12\n",
            "+ve\n",
            "-ve\n"
          ]
        }
      ]
    },
    {
      "cell_type": "code",
      "source": [
        "num=int(input())\n",
        "if num>0:\n",
        "  print(f\"+ve\")\n",
        "elif num == 0:\n",
        "  print(f\"zero\")\n",
        "else:\n",
        "  print(f\"-ve\")"
      ],
      "metadata": {
        "colab": {
          "base_uri": "https://localhost:8080/"
        },
        "id": "QmDhdWSTqb9x",
        "outputId": "16921f49-4620-48ab-d6b5-92f7d829b7f3"
      },
      "execution_count": null,
      "outputs": [
        {
          "output_type": "stream",
          "name": "stdout",
          "text": [
            "-1\n",
            "-ve\n"
          ]
        }
      ]
    },
    {
      "cell_type": "code",
      "source": [
        "marks=[90,30,100,50,80,95]\n",
        "highest=marks[0]\n",
        "for i in marks:\n",
        "  #print(i)\n",
        "  if i > highest:\n",
        "    highest = i\n",
        "\n",
        "print(highest)"
      ],
      "metadata": {
        "colab": {
          "base_uri": "https://localhost:8080/"
        },
        "id": "_MeGMhHOqsVg",
        "outputId": "bf662127-ed2c-4236-8025-89532d533ca8"
      },
      "execution_count": null,
      "outputs": [
        {
          "output_type": "stream",
          "name": "stdout",
          "text": [
            "100\n"
          ]
        }
      ]
    },
    {
      "cell_type": "code",
      "source": [
        "#max function\n",
        "max(marks)\n",
        "min(marks)"
      ],
      "metadata": {
        "colab": {
          "base_uri": "https://localhost:8080/"
        },
        "id": "5ShxSB-XrmIx",
        "outputId": "457493d4-7259-4292-f7fb-4b0400e2ccc7"
      },
      "execution_count": null,
      "outputs": [
        {
          "output_type": "execute_result",
          "data": {
            "text/plain": [
              "30"
            ]
          },
          "metadata": {},
          "execution_count": 23
        }
      ]
    },
    {
      "cell_type": "code",
      "source": [
        "#grading system\n",
        "\"\"\"\n",
        "A: >= 90\n",
        "B: =80 and <90\n",
        "C: =70 and <80\n",
        "D: =60 and <70\n",
        "E: <60\n",
        "\"\"\"\n",
        "#marks=[90,30,100,50,80,95]\n",
        "marks = int(input())\n",
        "if marks>=90 and marks<=100:\n",
        "  print(f\"grade A\")\n",
        "elif marks>=80 and marks<90:\n",
        "  print(f\"grade B\")\n",
        "elif marks>=70 and marks<80:\n",
        "  print(f\"grade C\")\n",
        "elif marks>=60 and marks<70:\n",
        "  print(f\"grade D\")\n",
        "elif marks<60:\n",
        "  print(f\"grade E\")\n",
        "else:\n",
        "  print(f\"invalid\")"
      ],
      "metadata": {
        "colab": {
          "base_uri": "https://localhost:8080/"
        },
        "id": "wiw0f3YArwuK",
        "outputId": "f799c2cf-6472-495b-9fe1-edc7b81ac249"
      },
      "execution_count": null,
      "outputs": [
        {
          "output_type": "stream",
          "name": "stdout",
          "text": [
            "120\n",
            "invalid\n"
          ]
        }
      ]
    },
    {
      "cell_type": "code",
      "source": [
        "#leap year\n",
        "def solve(A):\n",
        "    if (A%400 ==0 ) and (A%100  == 0):\n",
        "      return 1\n",
        "    elif (A%4 == 0) and (A%100 != 0):\n",
        "      return 1\n",
        "    else: return 0\n",
        "\n",
        "solve(2000)\n",
        "solve(2040)\n",
        "solve(2023)"
      ],
      "metadata": {
        "colab": {
          "base_uri": "https://localhost:8080/"
        },
        "id": "EslGzn0StH6X",
        "outputId": "cd7d875a-3309-405a-903d-72f4554cf760"
      },
      "execution_count": null,
      "outputs": [
        {
          "output_type": "execute_result",
          "data": {
            "text/plain": [
              "0"
            ]
          },
          "metadata": {},
          "execution_count": 33
        }
      ]
    },
    {
      "cell_type": "code",
      "source": [
        "#Given a positive integer A, return an array of strings with all the integers from 1 to N.\n",
        "#But for multiples of 3 the array should have “Fizz” instead of the number.\n",
        "#For the multiples of 5, the array should have “Buzz” instead of the number.\n",
        "#For numbers which are multiple of 3 and 5 both, the array should have \"FizzBuzz\" instead of the number.\n",
        "\n",
        "def fizzBuzz(A):\n",
        "  result = []\n",
        "  for i in range(1, A+1):\n",
        "    if i%3==0 and i%5 ==0:\n",
        "      result.append(\"FizzBuzz\")\n",
        "    elif i%3 ==0:\n",
        "      result.append(\"Fizz\")\n",
        "    elif i%5 == 0:\n",
        "      result.append(\"Buzz\")\n",
        "    else:\n",
        "      result.append(str(i))\n",
        "  return result\n",
        "\n",
        "fizzBuzz(15)"
      ],
      "metadata": {
        "colab": {
          "base_uri": "https://localhost:8080/"
        },
        "id": "nAjqRaK4upS4",
        "outputId": "55909072-12e6-44a7-ee7b-dc56b67736bf"
      },
      "execution_count": null,
      "outputs": [
        {
          "output_type": "execute_result",
          "data": {
            "text/plain": [
              "['1',\n",
              " '2',\n",
              " 'Fizz',\n",
              " '4',\n",
              " 'Buzz',\n",
              " 'Fizz',\n",
              " '7',\n",
              " '8',\n",
              " 'Fizz',\n",
              " 'Buzz',\n",
              " '11',\n",
              " 'Fizz',\n",
              " '13',\n",
              " '14',\n",
              " 'FizzBuzz']"
            ]
          },
          "metadata": {},
          "execution_count": 38
        }
      ]
    },
    {
      "cell_type": "code",
      "source": [
        "#Loops\n",
        "##for\n",
        "#while\n",
        "i =1\n",
        "while i <= 6:\n",
        "  print(f\"hey\")\n",
        "  i+=1"
      ],
      "metadata": {
        "colab": {
          "base_uri": "https://localhost:8080/"
        },
        "id": "qsoVNQTs0AWv",
        "outputId": "06d1c99b-d684-4104-e7d3-777f3cad1e00"
      },
      "execution_count": null,
      "outputs": [
        {
          "output_type": "stream",
          "name": "stdout",
          "text": [
            "hey\n",
            "hey\n",
            "hey\n",
            "hey\n",
            "hey\n",
            "hey\n"
          ]
        }
      ]
    },
    {
      "cell_type": "code",
      "source": [
        "#print numbers 1 to 10\n",
        "i = 1\n",
        "while i<=10:\n",
        "  print(i, end=\" \")\n",
        "  i+=1\n",
        "\n",
        "#print all even numbers from 1 to 10\n",
        "i = 0\n",
        "while i<= 10:\n",
        "  if i%2 == 0:\n",
        "    print(i,end=\" \")\n",
        "  i+=1\n",
        "\n",
        "#print sum all numbers 1 to 10\n",
        "i = 0\n",
        "sum = 0\n",
        "while i <= 10:\n",
        "  sum += i\n",
        "  i += 1\n",
        "print(sum)\n"
      ],
      "metadata": {
        "colab": {
          "base_uri": "https://localhost:8080/"
        },
        "id": "slQ-e4030Mo2",
        "outputId": "4d1a68c4-4f48-4a10-e54f-beeb66123643"
      },
      "execution_count": null,
      "outputs": [
        {
          "output_type": "stream",
          "name": "stdout",
          "text": [
            "1 2 3 4 5 6 7 8 9 10 0 2 4 6 8 10 55\n"
          ]
        }
      ]
    },
    {
      "cell_type": "code",
      "source": [
        "#range function\n",
        "#range function allows users to generate series of numbers\n",
        "#it is iterable as well\n",
        "print(list(range(0,5,2)))\n",
        "print(list(range(10,50,10)))\n",
        "print(list(range(1,5)))\n",
        "#start is included and end is excluded\n",
        "print(list(range(3,5)))"
      ],
      "metadata": {
        "colab": {
          "base_uri": "https://localhost:8080/"
        },
        "id": "28Cqfbs11m4E",
        "outputId": "bd2785cc-aacb-4206-9f98-cc5eda8f3e57"
      },
      "execution_count": null,
      "outputs": [
        {
          "output_type": "stream",
          "name": "stdout",
          "text": [
            "[0, 2, 4]\n",
            "[10, 20, 30, 40]\n",
            "[1, 2, 3, 4]\n",
            "[3, 4]\n"
          ]
        }
      ]
    },
    {
      "cell_type": "code",
      "source": [
        "print(list(range(10,0,-1)))\n",
        "print(list(range(-1,10)))\n"
      ],
      "metadata": {
        "colab": {
          "base_uri": "https://localhost:8080/"
        },
        "id": "frxrMLp43INe",
        "outputId": "01ddb11e-1874-49e2-afed-8e9a91bbeba6"
      },
      "execution_count": null,
      "outputs": [
        {
          "output_type": "stream",
          "name": "stdout",
          "text": [
            "[10, 9, 8, 7, 6, 5, 4, 3, 2, 1]\n",
            "[-1, 0, 1, 2, 3, 4, 5, 6, 7, 8, 9]\n"
          ]
        }
      ]
    },
    {
      "cell_type": "code",
      "source": [
        "#iterable iterator and iteration\n",
        "#for loop\n",
        "#for iterator in iterable:\n",
        "#---- body\n",
        "#range is iterable\n",
        "sum=0\n",
        "for i in range(1,11):\n",
        "  print(i,end=\" \")\n",
        "  sum+=i\n",
        "print(sum)"
      ],
      "metadata": {
        "colab": {
          "base_uri": "https://localhost:8080/"
        },
        "id": "V2F1b1VP8BNo",
        "outputId": "45d1ec11-c1f9-4a13-81c7-cd501e0d6e6a"
      },
      "execution_count": 4,
      "outputs": [
        {
          "output_type": "stream",
          "name": "stdout",
          "text": [
            "1 2 3 4 5 6 7 8 9 10 55\n"
          ]
        }
      ]
    },
    {
      "cell_type": "code",
      "source": [
        "#multiplication table of 5\n",
        "num = int(input())\n",
        "for i in range(1,11):\n",
        "  print(num*i, end=\" \")"
      ],
      "metadata": {
        "colab": {
          "base_uri": "https://localhost:8080/"
        },
        "id": "9Oo5VvRZ9FmJ",
        "outputId": "100eb270-b5d9-4af3-be15-7ef459a64c42"
      },
      "execution_count": 5,
      "outputs": [
        {
          "output_type": "stream",
          "name": "stdout",
          "text": [
            "5\n",
            "5 10 15 20 25 30 35 40 45 50 "
          ]
        }
      ]
    },
    {
      "cell_type": "code",
      "source": [
        "#pattern\n",
        "#n=4\n",
        "# # # #\n",
        "# # # #\n",
        "# # # #\n",
        "# # # #\n",
        "\n",
        "n = int(input())\n",
        "for i in range(1,n+1):\n",
        "  for j in range(1,n+1):\n",
        "    print('#', end= \" \")\n",
        "  print()"
      ],
      "metadata": {
        "colab": {
          "base_uri": "https://localhost:8080/"
        },
        "id": "DI7G7Vkv9flq",
        "outputId": "72681325-5e14-4134-e8f9-83fd8c9f5ddb"
      },
      "execution_count": 8,
      "outputs": [
        {
          "output_type": "stream",
          "name": "stdout",
          "text": [
            "5\n",
            "# # # # # \n",
            "# # # # # \n",
            "# # # # # \n",
            "# # # # # \n",
            "# # # # # \n"
          ]
        }
      ]
    },
    {
      "cell_type": "code",
      "source": [
        "#n=4\n",
        "#\n",
        "# #\n",
        "# # #\n",
        "# # # #\n",
        "n = int(input())\n",
        "for i in range(1,n+1):\n",
        "  for j in range(i):\n",
        "    print(\"#\", end=\" \")\n",
        "  print()"
      ],
      "metadata": {
        "colab": {
          "base_uri": "https://localhost:8080/"
        },
        "id": "00hv6o8B-8Lh",
        "outputId": "5c115c07-cd47-461d-9617-ae5be0295557"
      },
      "execution_count": 11,
      "outputs": [
        {
          "output_type": "stream",
          "name": "stdout",
          "text": [
            "4\n",
            "# \n",
            "# # \n",
            "# # # \n",
            "# # # # \n"
          ]
        }
      ]
    },
    {
      "cell_type": "markdown",
      "source": [
        "BREAK, CONTINUE and PASS\n"
      ],
      "metadata": {
        "id": "p2nCUo_e_qWy"
      }
    },
    {
      "cell_type": "code",
      "source": [
        "#Break: breaks the folow of program once this condition is hit\n",
        "#continue: it skips that particular section\n",
        "#pass: to avoid syntax erros\n",
        "for i in range(1,11):\n",
        "  pass\n",
        "\n",
        "def func():\n",
        "  pass\n",
        "\n",
        "# Continue\n",
        "for i in range(1,11):\n",
        "  if i==5:\n",
        "    continue\n",
        "  print(i)"
      ],
      "metadata": {
        "colab": {
          "base_uri": "https://localhost:8080/"
        },
        "id": "T8BQfmcm_wVF",
        "outputId": "1a111db2-c232-49a1-b791-09a303313674"
      },
      "execution_count": 13,
      "outputs": [
        {
          "output_type": "stream",
          "name": "stdout",
          "text": [
            "1\n",
            "2\n",
            "3\n",
            "4\n",
            "6\n",
            "7\n",
            "8\n",
            "9\n",
            "10\n"
          ]
        }
      ]
    },
    {
      "cell_type": "code",
      "source": [
        "#break\n",
        "for i in range(1,11):\n",
        "  if i==5:\n",
        "    break\n",
        "  print(i)\n",
        "\n",
        "i = 1\n",
        "while i < 10:\n",
        "  if i == 5:\n",
        "    break\n",
        "  print(i)\n",
        "  i+=1"
      ],
      "metadata": {
        "colab": {
          "base_uri": "https://localhost:8080/"
        },
        "id": "Z0UokVHYArgU",
        "outputId": "0bb22187-994b-4d92-dbbc-439ae786843d"
      },
      "execution_count": 16,
      "outputs": [
        {
          "output_type": "stream",
          "name": "stdout",
          "text": [
            "1\n",
            "2\n",
            "3\n",
            "4\n",
            "1\n",
            "2\n",
            "3\n",
            "4\n"
          ]
        }
      ]
    },
    {
      "cell_type": "code",
      "source": [
        "n = int(input())\n",
        "\n",
        "for i in range(1,n+1):\n",
        "  for j in range(1,(n-i+1)):\n",
        "    print(\"\",end=\" \")\n",
        "  print(\"*\" * (i+(i-1)))"
      ],
      "metadata": {
        "colab": {
          "base_uri": "https://localhost:8080/"
        },
        "id": "fFfAxiexBm8m",
        "outputId": "aab2c23d-cd1d-49fe-dfaf-63abab979614"
      },
      "execution_count": 21,
      "outputs": [
        {
          "output_type": "stream",
          "name": "stdout",
          "text": [
            "7\n",
            "      *\n",
            "     ***\n",
            "    *****\n",
            "   *******\n",
            "  *********\n",
            " ***********\n",
            "*************\n"
          ]
        }
      ]
    },
    {
      "cell_type": "code",
      "source": [
        "#prime number\n",
        "n = int(input())\n",
        "a = False\n",
        "if n == 1:\n",
        "  print(a)\n",
        "elif n > 1:\n",
        "  for i in range(2,n):\n",
        "    if (n % i) == 0:\n",
        "      a = True\n",
        "      break\n",
        "  if a:\n",
        "    print(False)\n",
        "  else:\n",
        "    print(True)"
      ],
      "metadata": {
        "colab": {
          "base_uri": "https://localhost:8080/"
        },
        "id": "BuKYJwMfEyfh",
        "outputId": "878b90d8-5211-4044-cfa9-65aa95d7159a"
      },
      "execution_count": 23,
      "outputs": [
        {
          "output_type": "stream",
          "name": "stdout",
          "text": [
            "1\n",
            "False\n"
          ]
        }
      ]
    },
    {
      "cell_type": "markdown",
      "source": [
        " Strings"
      ],
      "metadata": {
        "id": "oM775IpHGO_D"
      }
    },
    {
      "cell_type": "code",
      "source": [
        "#string is a sequence of characters\n",
        "#ord and chr\n"
      ],
      "metadata": {
        "id": "qMO1s-KoGSDe"
      },
      "execution_count": null,
      "outputs": []
    }
  ]
}