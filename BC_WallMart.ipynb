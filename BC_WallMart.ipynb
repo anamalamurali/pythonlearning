{
  "nbformat": 4,
  "nbformat_minor": 0,
  "metadata": {
    "colab": {
      "provenance": [],
      "include_colab_link": true
    },
    "kernelspec": {
      "name": "python3",
      "display_name": "Python 3"
    },
    "language_info": {
      "name": "python"
    }
  },
  "cells": [
    {
      "cell_type": "markdown",
      "metadata": {
        "id": "view-in-github",
        "colab_type": "text"
      },
      "source": [
        "<a href=\"https://colab.research.google.com/github/muralianamalatibco/pythonlearning/blob/main/BC_WallMart.ipynb\" target=\"_parent\"><img src=\"https://colab.research.google.com/assets/colab-badge.svg\" alt=\"Open In Colab\"/></a>"
      ]
    },
    {
      "cell_type": "code",
      "execution_count": null,
      "metadata": {
        "id": "Tk2-aSpCw50X"
      },
      "outputs": [],
      "source": [
        "import pandas as pd\n",
        "import numpy as np\n",
        "import matplotlib.pyplot as plt\n",
        "import seaborn as sns"
      ]
    },
    {
      "cell_type": "code",
      "source": [
        "df = pd.read_csv(\"/content/walmart-data.csv.txt\")"
      ],
      "metadata": {
        "id": "7TkVKK8OxVva"
      },
      "execution_count": null,
      "outputs": []
    },
    {
      "cell_type": "code",
      "source": [
        "df.head()"
      ],
      "metadata": {
        "colab": {
          "base_uri": "https://localhost:8080/",
          "height": 295
        },
        "id": "enrg1w4GxZ6I",
        "outputId": "3629fb0d-c2f3-4075-d288-2f015ef9d4bb"
      },
      "execution_count": null,
      "outputs": [
        {
          "output_type": "execute_result",
          "data": {
            "text/plain": [
              "   User_ID Product_ID Gender   Age  Occupation City_Category  \\\n",
              "0  1000001  P00069042      F  0-17          10             A   \n",
              "1  1000001  P00248942      F  0-17          10             A   \n",
              "2  1000001  P00087842      F  0-17          10             A   \n",
              "3  1000001  P00085442      F  0-17          10             A   \n",
              "4  1000002  P00285442      M   55+          16             C   \n",
              "\n",
              "  Stay_In_Current_City_Years  Marital_Status  Product_Category  Purchase  \n",
              "0                          2               0                 3      8370  \n",
              "1                          2               0                 1     15200  \n",
              "2                          2               0                12      1422  \n",
              "3                          2               0                12      1057  \n",
              "4                         4+               0                 8      7969  "
            ],
            "text/html": [
              "\n",
              "  <div id=\"df-38f0736a-9009-484a-9588-b443d79468fb\" class=\"colab-df-container\">\n",
              "    <div>\n",
              "<style scoped>\n",
              "    .dataframe tbody tr th:only-of-type {\n",
              "        vertical-align: middle;\n",
              "    }\n",
              "\n",
              "    .dataframe tbody tr th {\n",
              "        vertical-align: top;\n",
              "    }\n",
              "\n",
              "    .dataframe thead th {\n",
              "        text-align: right;\n",
              "    }\n",
              "</style>\n",
              "<table border=\"1\" class=\"dataframe\">\n",
              "  <thead>\n",
              "    <tr style=\"text-align: right;\">\n",
              "      <th></th>\n",
              "      <th>User_ID</th>\n",
              "      <th>Product_ID</th>\n",
              "      <th>Gender</th>\n",
              "      <th>Age</th>\n",
              "      <th>Occupation</th>\n",
              "      <th>City_Category</th>\n",
              "      <th>Stay_In_Current_City_Years</th>\n",
              "      <th>Marital_Status</th>\n",
              "      <th>Product_Category</th>\n",
              "      <th>Purchase</th>\n",
              "    </tr>\n",
              "  </thead>\n",
              "  <tbody>\n",
              "    <tr>\n",
              "      <th>0</th>\n",
              "      <td>1000001</td>\n",
              "      <td>P00069042</td>\n",
              "      <td>F</td>\n",
              "      <td>0-17</td>\n",
              "      <td>10</td>\n",
              "      <td>A</td>\n",
              "      <td>2</td>\n",
              "      <td>0</td>\n",
              "      <td>3</td>\n",
              "      <td>8370</td>\n",
              "    </tr>\n",
              "    <tr>\n",
              "      <th>1</th>\n",
              "      <td>1000001</td>\n",
              "      <td>P00248942</td>\n",
              "      <td>F</td>\n",
              "      <td>0-17</td>\n",
              "      <td>10</td>\n",
              "      <td>A</td>\n",
              "      <td>2</td>\n",
              "      <td>0</td>\n",
              "      <td>1</td>\n",
              "      <td>15200</td>\n",
              "    </tr>\n",
              "    <tr>\n",
              "      <th>2</th>\n",
              "      <td>1000001</td>\n",
              "      <td>P00087842</td>\n",
              "      <td>F</td>\n",
              "      <td>0-17</td>\n",
              "      <td>10</td>\n",
              "      <td>A</td>\n",
              "      <td>2</td>\n",
              "      <td>0</td>\n",
              "      <td>12</td>\n",
              "      <td>1422</td>\n",
              "    </tr>\n",
              "    <tr>\n",
              "      <th>3</th>\n",
              "      <td>1000001</td>\n",
              "      <td>P00085442</td>\n",
              "      <td>F</td>\n",
              "      <td>0-17</td>\n",
              "      <td>10</td>\n",
              "      <td>A</td>\n",
              "      <td>2</td>\n",
              "      <td>0</td>\n",
              "      <td>12</td>\n",
              "      <td>1057</td>\n",
              "    </tr>\n",
              "    <tr>\n",
              "      <th>4</th>\n",
              "      <td>1000002</td>\n",
              "      <td>P00285442</td>\n",
              "      <td>M</td>\n",
              "      <td>55+</td>\n",
              "      <td>16</td>\n",
              "      <td>C</td>\n",
              "      <td>4+</td>\n",
              "      <td>0</td>\n",
              "      <td>8</td>\n",
              "      <td>7969</td>\n",
              "    </tr>\n",
              "  </tbody>\n",
              "</table>\n",
              "</div>\n",
              "    <div class=\"colab-df-buttons\">\n",
              "\n",
              "  <div class=\"colab-df-container\">\n",
              "    <button class=\"colab-df-convert\" onclick=\"convertToInteractive('df-38f0736a-9009-484a-9588-b443d79468fb')\"\n",
              "            title=\"Convert this dataframe to an interactive table.\"\n",
              "            style=\"display:none;\">\n",
              "\n",
              "  <svg xmlns=\"http://www.w3.org/2000/svg\" height=\"24px\" viewBox=\"0 -960 960 960\">\n",
              "    <path d=\"M120-120v-720h720v720H120Zm60-500h600v-160H180v160Zm220 220h160v-160H400v160Zm0 220h160v-160H400v160ZM180-400h160v-160H180v160Zm440 0h160v-160H620v160ZM180-180h160v-160H180v160Zm440 0h160v-160H620v160Z\"/>\n",
              "  </svg>\n",
              "    </button>\n",
              "\n",
              "  <style>\n",
              "    .colab-df-container {\n",
              "      display:flex;\n",
              "      gap: 12px;\n",
              "    }\n",
              "\n",
              "    .colab-df-convert {\n",
              "      background-color: #E8F0FE;\n",
              "      border: none;\n",
              "      border-radius: 50%;\n",
              "      cursor: pointer;\n",
              "      display: none;\n",
              "      fill: #1967D2;\n",
              "      height: 32px;\n",
              "      padding: 0 0 0 0;\n",
              "      width: 32px;\n",
              "    }\n",
              "\n",
              "    .colab-df-convert:hover {\n",
              "      background-color: #E2EBFA;\n",
              "      box-shadow: 0px 1px 2px rgba(60, 64, 67, 0.3), 0px 1px 3px 1px rgba(60, 64, 67, 0.15);\n",
              "      fill: #174EA6;\n",
              "    }\n",
              "\n",
              "    .colab-df-buttons div {\n",
              "      margin-bottom: 4px;\n",
              "    }\n",
              "\n",
              "    [theme=dark] .colab-df-convert {\n",
              "      background-color: #3B4455;\n",
              "      fill: #D2E3FC;\n",
              "    }\n",
              "\n",
              "    [theme=dark] .colab-df-convert:hover {\n",
              "      background-color: #434B5C;\n",
              "      box-shadow: 0px 1px 3px 1px rgba(0, 0, 0, 0.15);\n",
              "      filter: drop-shadow(0px 1px 2px rgba(0, 0, 0, 0.3));\n",
              "      fill: #FFFFFF;\n",
              "    }\n",
              "  </style>\n",
              "\n",
              "    <script>\n",
              "      const buttonEl =\n",
              "        document.querySelector('#df-38f0736a-9009-484a-9588-b443d79468fb button.colab-df-convert');\n",
              "      buttonEl.style.display =\n",
              "        google.colab.kernel.accessAllowed ? 'block' : 'none';\n",
              "\n",
              "      async function convertToInteractive(key) {\n",
              "        const element = document.querySelector('#df-38f0736a-9009-484a-9588-b443d79468fb');\n",
              "        const dataTable =\n",
              "          await google.colab.kernel.invokeFunction('convertToInteractive',\n",
              "                                                    [key], {});\n",
              "        if (!dataTable) return;\n",
              "\n",
              "        const docLinkHtml = 'Like what you see? Visit the ' +\n",
              "          '<a target=\"_blank\" href=https://colab.research.google.com/notebooks/data_table.ipynb>data table notebook</a>'\n",
              "          + ' to learn more about interactive tables.';\n",
              "        element.innerHTML = '';\n",
              "        dataTable['output_type'] = 'display_data';\n",
              "        await google.colab.output.renderOutput(dataTable, element);\n",
              "        const docLink = document.createElement('div');\n",
              "        docLink.innerHTML = docLinkHtml;\n",
              "        element.appendChild(docLink);\n",
              "      }\n",
              "    </script>\n",
              "  </div>\n",
              "\n",
              "\n",
              "<div id=\"df-fdc1bb83-7459-46b5-8572-7c45d7ceda85\">\n",
              "  <button class=\"colab-df-quickchart\" onclick=\"quickchart('df-fdc1bb83-7459-46b5-8572-7c45d7ceda85')\"\n",
              "            title=\"Suggest charts\"\n",
              "            style=\"display:none;\">\n",
              "\n",
              "<svg xmlns=\"http://www.w3.org/2000/svg\" height=\"24px\"viewBox=\"0 0 24 24\"\n",
              "     width=\"24px\">\n",
              "    <g>\n",
              "        <path d=\"M19 3H5c-1.1 0-2 .9-2 2v14c0 1.1.9 2 2 2h14c1.1 0 2-.9 2-2V5c0-1.1-.9-2-2-2zM9 17H7v-7h2v7zm4 0h-2V7h2v10zm4 0h-2v-4h2v4z\"/>\n",
              "    </g>\n",
              "</svg>\n",
              "  </button>\n",
              "\n",
              "<style>\n",
              "  .colab-df-quickchart {\n",
              "      --bg-color: #E8F0FE;\n",
              "      --fill-color: #1967D2;\n",
              "      --hover-bg-color: #E2EBFA;\n",
              "      --hover-fill-color: #174EA6;\n",
              "      --disabled-fill-color: #AAA;\n",
              "      --disabled-bg-color: #DDD;\n",
              "  }\n",
              "\n",
              "  [theme=dark] .colab-df-quickchart {\n",
              "      --bg-color: #3B4455;\n",
              "      --fill-color: #D2E3FC;\n",
              "      --hover-bg-color: #434B5C;\n",
              "      --hover-fill-color: #FFFFFF;\n",
              "      --disabled-bg-color: #3B4455;\n",
              "      --disabled-fill-color: #666;\n",
              "  }\n",
              "\n",
              "  .colab-df-quickchart {\n",
              "    background-color: var(--bg-color);\n",
              "    border: none;\n",
              "    border-radius: 50%;\n",
              "    cursor: pointer;\n",
              "    display: none;\n",
              "    fill: var(--fill-color);\n",
              "    height: 32px;\n",
              "    padding: 0;\n",
              "    width: 32px;\n",
              "  }\n",
              "\n",
              "  .colab-df-quickchart:hover {\n",
              "    background-color: var(--hover-bg-color);\n",
              "    box-shadow: 0 1px 2px rgba(60, 64, 67, 0.3), 0 1px 3px 1px rgba(60, 64, 67, 0.15);\n",
              "    fill: var(--button-hover-fill-color);\n",
              "  }\n",
              "\n",
              "  .colab-df-quickchart-complete:disabled,\n",
              "  .colab-df-quickchart-complete:disabled:hover {\n",
              "    background-color: var(--disabled-bg-color);\n",
              "    fill: var(--disabled-fill-color);\n",
              "    box-shadow: none;\n",
              "  }\n",
              "\n",
              "  .colab-df-spinner {\n",
              "    border: 2px solid var(--fill-color);\n",
              "    border-color: transparent;\n",
              "    border-bottom-color: var(--fill-color);\n",
              "    animation:\n",
              "      spin 1s steps(1) infinite;\n",
              "  }\n",
              "\n",
              "  @keyframes spin {\n",
              "    0% {\n",
              "      border-color: transparent;\n",
              "      border-bottom-color: var(--fill-color);\n",
              "      border-left-color: var(--fill-color);\n",
              "    }\n",
              "    20% {\n",
              "      border-color: transparent;\n",
              "      border-left-color: var(--fill-color);\n",
              "      border-top-color: var(--fill-color);\n",
              "    }\n",
              "    30% {\n",
              "      border-color: transparent;\n",
              "      border-left-color: var(--fill-color);\n",
              "      border-top-color: var(--fill-color);\n",
              "      border-right-color: var(--fill-color);\n",
              "    }\n",
              "    40% {\n",
              "      border-color: transparent;\n",
              "      border-right-color: var(--fill-color);\n",
              "      border-top-color: var(--fill-color);\n",
              "    }\n",
              "    60% {\n",
              "      border-color: transparent;\n",
              "      border-right-color: var(--fill-color);\n",
              "    }\n",
              "    80% {\n",
              "      border-color: transparent;\n",
              "      border-right-color: var(--fill-color);\n",
              "      border-bottom-color: var(--fill-color);\n",
              "    }\n",
              "    90% {\n",
              "      border-color: transparent;\n",
              "      border-bottom-color: var(--fill-color);\n",
              "    }\n",
              "  }\n",
              "</style>\n",
              "\n",
              "  <script>\n",
              "    async function quickchart(key) {\n",
              "      const quickchartButtonEl =\n",
              "        document.querySelector('#' + key + ' button');\n",
              "      quickchartButtonEl.disabled = true;  // To prevent multiple clicks.\n",
              "      quickchartButtonEl.classList.add('colab-df-spinner');\n",
              "      try {\n",
              "        const charts = await google.colab.kernel.invokeFunction(\n",
              "            'suggestCharts', [key], {});\n",
              "      } catch (error) {\n",
              "        console.error('Error during call to suggestCharts:', error);\n",
              "      }\n",
              "      quickchartButtonEl.classList.remove('colab-df-spinner');\n",
              "      quickchartButtonEl.classList.add('colab-df-quickchart-complete');\n",
              "    }\n",
              "    (() => {\n",
              "      let quickchartButtonEl =\n",
              "        document.querySelector('#df-fdc1bb83-7459-46b5-8572-7c45d7ceda85 button');\n",
              "      quickchartButtonEl.style.display =\n",
              "        google.colab.kernel.accessAllowed ? 'block' : 'none';\n",
              "    })();\n",
              "  </script>\n",
              "</div>\n",
              "    </div>\n",
              "  </div>\n"
            ],
            "application/vnd.google.colaboratory.intrinsic+json": {
              "type": "dataframe",
              "variable_name": "df"
            }
          },
          "metadata": {},
          "execution_count": 12
        }
      ]
    },
    {
      "cell_type": "code",
      "source": [
        "df.isnull().sum()"
      ],
      "metadata": {
        "colab": {
          "base_uri": "https://localhost:8080/"
        },
        "id": "t__c9UmWxgeI",
        "outputId": "208548d3-4ec6-435b-d416-7ec01ada25c2"
      },
      "execution_count": null,
      "outputs": [
        {
          "output_type": "execute_result",
          "data": {
            "text/plain": [
              "User_ID                       0\n",
              "Product_ID                    0\n",
              "Gender                        0\n",
              "Age                           0\n",
              "Occupation                    0\n",
              "City_Category                 0\n",
              "Stay_In_Current_City_Years    0\n",
              "Marital_Status                0\n",
              "Product_Category              0\n",
              "Purchase                      0\n",
              "dtype: int64"
            ]
          },
          "metadata": {},
          "execution_count": 8
        }
      ]
    },
    {
      "cell_type": "code",
      "source": [
        "df.shape"
      ],
      "metadata": {
        "colab": {
          "base_uri": "https://localhost:8080/"
        },
        "id": "J34hw8-rxlpm",
        "outputId": "bd436f30-a4c0-40b1-eb5f-f422875ec8a6"
      },
      "execution_count": null,
      "outputs": [
        {
          "output_type": "execute_result",
          "data": {
            "text/plain": [
              "(550068, 10)"
            ]
          },
          "metadata": {},
          "execution_count": 9
        }
      ]
    },
    {
      "cell_type": "code",
      "source": [
        "sns.displot( x = 'Purchase', data=df, kde = True)"
      ],
      "metadata": {
        "colab": {
          "base_uri": "https://localhost:8080/",
          "height": 523
        },
        "id": "dAAmDg6Y-NFT",
        "outputId": "6b48b5af-a35a-435a-ce76-b483fbe2a684"
      },
      "execution_count": null,
      "outputs": [
        {
          "output_type": "execute_result",
          "data": {
            "text/plain": [
              "<seaborn.axisgrid.FacetGrid at 0x7b75a88e0cd0>"
            ]
          },
          "metadata": {},
          "execution_count": 15
        },
        {
          "output_type": "display_data",
          "data": {
            "text/plain": [
              "<Figure size 500x500 with 1 Axes>"
            ],
            "image/png": "[encoded data removed]"
          },
          "metadata": {}
        }
      ]
    },
    {
      "cell_type": "code",
      "source": [
        "m = df[df['Gender'] =='M']['Purchase']\n",
        "f = df[df['Gender'] =='F']['Purchase']"
      ],
      "metadata": {
        "id": "r0qTjpZi-wN4"
      },
      "execution_count": null,
      "outputs": []
    },
    {
      "cell_type": "code",
      "source": [
        "m.mean() ## population data - mean 9500, std 1000"
      ],
      "metadata": {
        "colab": {
          "base_uri": "https://localhost:8080/"
        },
        "id": "VSH3bqc4-_3a",
        "outputId": "94115b25-3d3d-4e5c-827b-0c68fa33f3b3"
      },
      "execution_count": null,
      "outputs": [
        {
          "output_type": "execute_result",
          "data": {
            "text/plain": [
              "9437.526040472265"
            ]
          },
          "metadata": {},
          "execution_count": 17
        }
      ]
    },
    {
      "cell_type": "code",
      "source": [
        "f.mean()"
      ],
      "metadata": {
        "colab": {
          "base_uri": "https://localhost:8080/"
        },
        "id": "pJkNN4rS_XeJ",
        "outputId": "4e084adb-389e-4b43-d576-6dc3e11978ef"
      },
      "execution_count": null,
      "outputs": [
        {
          "output_type": "execute_result",
          "data": {
            "text/plain": [
              "8734.565765155476"
            ]
          },
          "metadata": {},
          "execution_count": 18
        }
      ]
    },
    {
      "cell_type": "code",
      "source": [
        "np.mean(m.sample(1000))"
      ],
      "metadata": {
        "colab": {
          "base_uri": "https://localhost:8080/"
        },
        "id": "2iyJQHKq_duT",
        "outputId": "9328e69c-68a9-45f1-c3c1-72994bdd4b51"
      },
      "execution_count": null,
      "outputs": [
        {
          "output_type": "execute_result",
          "data": {
            "text/plain": [
              "9584.29"
            ]
          },
          "metadata": {},
          "execution_count": 19
        }
      ]
    },
    {
      "cell_type": "code",
      "source": [
        "## implement the clt\n",
        "\n",
        "m_s =[np.mean(m.sample(1000)) for i in range(1000)]"
      ],
      "metadata": {
        "id": "ndETETcS_q7m"
      },
      "execution_count": null,
      "outputs": []
    },
    {
      "cell_type": "code",
      "source": [
        "len(m_s)"
      ],
      "metadata": {
        "colab": {
          "base_uri": "https://localhost:8080/"
        },
        "id": "mgUbF6z0AHAi",
        "outputId": "69c76a19-a899-41ea-e193-4751788478a7"
      },
      "execution_count": null,
      "outputs": [
        {
          "output_type": "execute_result",
          "data": {
            "text/plain": [
              "1000"
            ]
          },
          "metadata": {},
          "execution_count": 23
        }
      ]
    },
    {
      "cell_type": "code",
      "source": [
        "print(m_s)"
      ],
      "metadata": {
        "colab": {
          "base_uri": "https://localhost:8080/"
        },
        "id": "uDFmFPXfAR4E",
        "outputId": "0de4cd21-b13e-42ea-ef9f-1707bdf9d723"
      },
      "execution_count": null,
      "outputs": [
        {
          "output_type": "stream",
          "name": "stdout",
          "text": [
            "[9484.913, 9344.896, 9130.604, 9434.269, 9378.907, 9293.9, 9393.996, 9480.446, 9597.646, 9314.58, 9448.013, 9767.381, 9500.968, 9389.265, 9415.46, 9301.872, 9579.077, 9301.834, 9225.071, 9520.14, 9430.196, 9280.309, 9261.224, 9732.769, 9351.474, 9185.146, 9297.162, 9362.765, 9518.295, 9259.915, 9624.909, 9349.487, 9183.804, 9373.13, 9375.081, 9207.954, 9625.394, 9613.701, 9513.313, 9226.425, 9333.302, 9653.37, 9589.379, 9328.731, 9699.025, 9412.938, 9191.759, 9395.763, 9513.255, 9499.324, 9379.141, 9327.165, 9386.467, 9257.931, 9569.725, 9484.684, 9337.583, 9632.918, 9422.337, 9452.605, 9489.008, 9593.251, 9332.775, 9409.501, 9490.805, 9213.841, 9292.552, 9434.907, 9381.631, 9387.15, 9408.928, 9470.191, 9324.494, 9387.807, 9583.074, 9721.837, 9301.001, 9392.089, 9051.85, 9519.203, 9481.483, 9468.775, 9627.399, 9604.653, 9586.468, 9545.321, 9197.858, 9356.405, 9310.518, 9562.281, 9602.589, 9187.039, 9350.119, 9462.515, 9305.421, 9278.403, 9495.097, 9732.201, 9357.25, 9247.613, 9321.701, 8969.448, 9491.875, 9354.677, 9650.37, 9631.819, 9285.612, 9159.91, 9162.036, 9663.398, 9609.172, 9571.083, 9391.33, 9302.886, 9834.208, 9169.867, 9309.755, 9346.626, 9624.578, 9726.506, 9433.124, 9236.567, 9667.176, 9272.443, 9467.423, 9406.893, 9029.092, 9448.829, 9474.148, 9607.89, 9436.948, 9326.882, 9224.731, 9366.021, 9504.871, 9596.284, 9461.458, 9119.21, 9357.596, 9409.989, 9419.234, 9806.761, 9334.876, 9687.518, 9454.094, 9420.883, 9392.877, 9569.25, 9130.622, 9388.568, 9432.704, 9298.655, 9629.87, 9462.736, 9488.393, 9763.128, 9217.965, 9279.495, 9517.205, 9849.536, 9451.344, 9773.767, 9255.536, 9794.425, 9214.343, 9437.948, 9652.325, 9306.009, 9705.882, 9547.662, 9078.093, 9206.071, 9224.822, 9637.916, 9370.681, 9386.069, 9463.31, 9259.279, 9282.9, 9518.88, 9299.074, 9497.548, 9565.77, 9481.909, 9434.825, 9427.173, 9561.684, 9258.407, 9342.159, 9350.35, 9307.848, 9613.899, 9702.264, 9572.682, 9356.592, 9475.834, 9403.408, 9571.286, 9419.469, 9287.442, 9468.874, 9502.173, 9405.78, 9508.203, 9589.383, 9676.599, 9295.655, 9699.158, 9412.79, 9253.125, 9447.247, 9402.975, 9638.763, 9315.476, 9564.314, 9237.286, 9439.875, 9351.29, 9361.095, 9483.502, 9401.42, 9583.911, 9386.621, 9310.221, 9376.53, 9660.075, 9449.966, 9533.993, 9495.694, 9140.259, 9531.043, 9468.352, 9396.015, 9414.366, 9324.698, 9295.1, 9956.664, 9364.167, 9612.814, 9362.257, 9579.553, 9429.036, 9172.169, 9030.678, 9392.46, 9821.85, 9397.117, 9356.186, 9316.543, 9534.946, 9419.702, 9229.854, 9357.678, 9355.256, 9438.928, 9606.178, 9482.588, 9162.102, 9504.406, 9206.568, 9394.595, 9606.797, 9380.89, 9408.062, 9512.046, 9267.964, 9661.054, 9209.064, 9593.135, 9081.241, 9515.303, 9356.973, 9550.253, 9649.631, 9584.089, 9686.61, 9689.261, 9776.761, 9208.178, 9392.356, 9289.264, 9606.919, 9274.239, 9357.102, 9481.719, 9549.551, 9593.327, 9338.763, 9440.049, 9241.733, 9644.569, 9694.801, 9638.45, 9388.467, 9546.87, 9585.066, 9422.181, 9746.611, 9543.976, 9306.516, 9396.023, 9459.135, 9210.021, 9377.915, 9351.63, 9418.476, 9419.373, 9467.174, 9463.206, 9387.888, 9486.807, 9579.592, 9374.251, 9390.631, 9156.702, 9625.786, 9319.832, 9427.012, 9553.77, 9526.81, 9489.716, 9283.917, 9571.833, 9277.735, 9154.75, 9338.773, 9428.503, 9549.759, 9351.285, 9544.628, 9154.14, 9606.322, 9480.357, 9447.19, 9371.855, 9209.974, 9305.247, 9406.175, 9509.547, 9518.227, 9458.318, 9526.064, 9636.737, 9474.805, 9522.884, 9641.768, 9263.816, 9569.702, 9390.506, 9613.842, 9773.828, 9412.294, 9447.084, 9440.575, 9552.578, 9428.654, 9377.755, 9484.239, 9843.008, 9303.752, 9405.207, 9196.721, 9269.908, 9481.506, 9280.083, 9233.114, 9533.872, 9297.799, 9521.764, 9532.725, 9218.051, 9253.534, 9537.361, 9444.775, 9131.695, 9612.406, 9533.312, 9317.011, 9447.772, 9231.647, 9438.281, 9444.491, 9575.504, 9594.777, 9597.566, 9575.701, 9535.901, 9303.976, 9305.485, 9393.731, 9524.202, 9402.32, 9445.373, 9581.663, 9555.378, 9684.087, 9281.381, 9685.97, 9211.331, 9344.695, 9270.044, 9397.147, 9612.028, 9426.876, 9265.484, 9370.485, 9408.278, 9315.482, 9115.038, 9534.629, 9257.513, 9358.885, 9194.193, 9239.776, 9680.548, 9726.319, 9372.924, 9563.822, 9525.627, 9457.092, 9361.934, 9351.42, 9337.548, 9365.105, 9333.964, 9466.9, 9675.771, 9414.926, 9465.311, 8944.275, 9399.026, 9646.742, 9367.895, 9295.217, 9362.688, 9423.373, 9575.998, 9389.861, 9336.805, 9670.52, 9476.692, 9682.057, 9507.401, 9219.304, 9656.35, 9467.842, 9523.156, 9524.202, 9597.717, 9475.727, 9299.062, 9334.512, 9544.983, 9490.066, 9619.437, 9307.704, 9091.668, 9466.259, 9482.08, 9125.42, 9510.623, 9491.153, 9521.732, 9368.725, 9481.97, 9378.11, 9275.47, 9737.521, 9660.121, 9340.322, 9606.693, 9508.4, 9537.656, 9538.765, 9482.851, 9663.023, 9411.267, 9255.071, 9213.523, 9358.12, 9580.479, 9361.967, 9255.053, 9479.604, 9286.42, 9305.08, 9447.794, 9447.73, 9274.073, 9160.823, 9104.6, 9491.407, 9346.125, 9541.778, 9193.425, 9612.209, 9549.647, 9400.944, 9357.882, 9307.453, 9638.819, 9547.657, 9801.269, 9504.814, 9202.988, 9153.642, 9397.007, 9652.655, 9467.398, 9396.378, 9277.341, 9287.677, 9429.389, 9566.849, 9706.992, 9365.431, 9334.526, 9538.712, 9670.48, 9453.571, 9327.203, 9320.426, 9354.645, 9375.832, 9493.488, 9524.189, 9396.06, 9525.411, 9661.266, 9376.258, 9441.99, 9045.464, 9488.0, 9457.619, 9213.306, 9309.866, 9514.392, 9262.199, 9332.656, 9218.545, 9399.103, 9331.544, 9868.204, 9727.035, 9511.49, 9277.13, 9242.326, 9238.373, 9520.69, 9302.688, 9414.479, 9422.549, 9406.171, 9361.454, 9358.201, 9588.88, 9494.301, 9295.763, 9275.251, 9425.956, 9307.162, 9814.697, 9460.701, 9502.171, 9395.569, 9477.126, 9384.406, 9368.237, 9738.19, 9075.31, 9559.605, 9577.029, 9615.342, 9335.953, 9315.725, 9516.724, 9778.541, 9486.445, 9741.809, 9268.278, 9518.803, 9275.794, 9479.642, 9463.739, 9689.105, 9350.475, 9317.228, 9559.142, 9398.632, 9425.101, 9376.54, 9461.838, 9220.689, 9353.228, 9410.67, 9437.588, 9505.723, 9236.557, 9340.387, 9453.428, 9561.472, 9161.444, 9304.68, 9379.786, 9382.58, 9402.38, 9457.824, 9206.262, 9385.763, 9524.631, 9729.973, 9151.777, 9576.788, 9321.84, 9130.22, 9319.207, 9792.532, 9360.769, 9452.891, 9285.365, 9090.442, 9511.669, 9430.518, 9459.961, 9452.328, 9300.348, 9514.86, 9542.136, 9367.46, 9595.724, 9607.025, 9388.884, 9295.889, 9730.535, 9632.511, 9302.458, 9315.704, 9380.134, 9380.291, 9388.285, 9285.921, 9543.444, 9488.387, 9518.452, 9385.239, 9404.356, 9145.312, 9275.587, 9371.75, 9427.97, 9650.588, 9362.99, 9465.023, 9310.331, 9158.407, 9728.17, 9484.717, 9364.533, 9033.519, 9496.688, 9630.542, 9318.583, 9599.656, 9654.769, 9313.174, 9503.082, 9551.408, 9638.528, 9562.582, 9568.017, 9471.072, 9414.412, 9546.114, 9489.205, 9537.903, 9312.326, 9220.608, 9666.338, 9185.616, 9631.1, 9342.22, 9527.378, 9410.551, 9743.64, 9527.41, 9183.868, 9419.092, 9373.028, 9862.829, 9337.158, 9432.093, 9535.969, 9393.533, 9663.95, 9290.625, 9529.676, 9334.196, 9685.804, 9652.645, 9221.377, 9527.509, 9348.237, 9173.934, 9570.561, 9356.642, 9284.087, 9731.17, 9460.111, 9638.367, 9318.693, 9269.555, 9428.92, 9448.033, 9408.371, 9531.632, 9563.756, 9368.366, 9555.61, 9513.082, 9471.54, 9453.622, 9744.094, 9448.418, 9490.425, 9660.332, 9662.18, 9657.174, 9651.725, 9491.935, 9245.467, 9410.872, 9149.235, 9361.346, 9463.626, 9211.222, 9624.008, 9550.735, 9033.712, 9367.148, 9205.382, 9221.302, 9694.769, 9195.212, 9290.764, 9354.885, 9643.974, 8963.19, 9306.352, 9669.958, 9288.006, 9421.785, 9261.83, 9501.834, 9590.286, 9826.745, 9351.864, 9236.022, 9574.472, 9350.713, 9751.724, 9517.532, 9537.321, 9688.48, 9213.806, 9547.716, 9422.418, 9184.775, 9553.566, 9496.218, 9559.305, 9488.744, 9224.606, 9331.575, 9247.215, 9345.35, 9542.527, 9680.924, 9397.736, 9353.121, 9388.355, 9477.149, 9630.712, 9343.637, 9497.158, 9447.64, 9273.94, 9196.68, 9315.643, 9508.154, 9249.796, 9460.498, 9177.128, 9200.755, 9264.967, 9402.505, 9676.169, 9536.291, 9715.349, 9664.704, 9377.975, 9341.697, 9540.49, 9566.917, 9367.413, 9549.977, 9322.393, 9184.093, 9425.078, 9187.509, 9258.25, 9442.549, 9558.817, 9601.422, 9429.591, 9570.132, 9640.017, 9378.524, 9408.952, 9258.88, 9381.89, 9684.835, 9428.281, 9630.46, 9317.097, 9495.251, 9313.376, 9451.803, 9543.697, 9597.616, 9454.121, 9329.705, 9655.231, 9417.67, 9835.31, 9652.93, 9408.794, 9466.479, 9259.239, 9286.136, 9408.756, 9299.484, 9274.223, 9454.308, 9285.093, 9516.939, 9355.952, 9344.127, 9269.616, 9705.069, 9374.972, 9473.016, 9609.94, 9482.182, 9783.025, 9742.354, 9407.764, 9485.745, 9231.475, 9343.239, 9357.333, 9237.637, 9388.644, 9331.818, 9832.956, 9558.159, 9689.811, 9304.046, 9190.548, 9414.646, 9548.163, 9332.361, 9580.782, 9206.442, 9563.365, 9476.955, 9362.004, 9414.222, 9633.079, 9836.921, 8991.445, 9383.0, 9465.388, 9680.465, 9479.259, 9505.03, 9440.828, 9187.544, 9392.433, 9518.657, 9454.631, 9200.835, 9359.09, 9455.003, 9374.246, 9411.987, 9327.172, 9754.289, 9391.808, 9326.772, 9447.091, 9394.503, 9548.548, 9684.042, 9268.353, 9474.852, 9431.989, 9410.541, 9648.719, 9237.421, 9402.411, 9215.979, 9381.806, 9542.825, 9092.247, 9426.507, 9250.148, 9760.132, 9646.277, 9403.625, 9061.562, 9261.272, 9354.134, 9534.134, 9344.957, 9611.528, 9343.519, 9320.795, 9567.994, 9341.907, 9386.7, 9334.366, 9230.813, 9586.427, 9392.144, 9456.611, 9580.543, 9493.679, 9183.402, 9260.309, 9172.595, 9430.597, 9362.459, 9464.346, 9544.202, 9328.123, 9498.351, 9384.67, 9579.965, 9467.926, 9468.87, 9220.841, 9253.466, 9279.181, 9507.037, 9343.302, 9533.106, 9133.124, 9720.686, 9405.303, 9217.202, 9570.327, 9430.749, 9393.08, 9497.072, 9475.513, 9473.509, 9441.234, 9140.959, 9340.238, 9248.651, 9698.104, 9463.025, 9766.61, 9483.661, 9557.203, 9413.412, 9480.894, 9828.44, 9416.755, 9196.547, 9686.046, 9499.735, 9481.923, 9404.768, 9231.158, 9488.772, 9614.995, 9248.132, 9376.902, 9153.086, 9634.559, 9445.455, 9375.983, 9333.836, 9608.694, 9469.294, 9598.93, 9505.744, 9700.218, 9010.318]\n"
          ]
        }
      ]
    },
    {
      "cell_type": "code",
      "source": [
        "sns.histplot(x =m_s, kde = True)"
      ],
      "metadata": {
        "colab": {
          "base_uri": "https://localhost:8080/",
          "height": 447
        },
        "id": "AYfgNR0MAaNj",
        "outputId": "12356f88-0412-4048-a789-574f134c15ed"
      },
      "execution_count": null,
      "outputs": [
        {
          "output_type": "execute_result",
          "data": {
            "text/plain": [
              "<Axes: ylabel='Count'>"
            ]
          },
          "metadata": {},
          "execution_count": 25
        },
        {
          "output_type": "display_data",
          "data": {
            "text/plain": [
              "<Figure size 640x480 with 1 Axes>"
            ],
            "image/png": "[encoded data removed]"
          },
          "metadata": {}
        }
      ]
    },
    {
      "cell_type": "code",
      "source": [
        "f_s =[np.mean(f.sample(1000)) for i in range(1000)]"
      ],
      "metadata": {
        "id": "H0XPpATAArJA"
      },
      "execution_count": null,
      "outputs": []
    },
    {
      "cell_type": "code",
      "source": [
        "print(f_s)"
      ],
      "metadata": {
        "colab": {
          "base_uri": "https://localhost:8080/"
        },
        "id": "569HTz-1AxP2",
        "outputId": "e6e09aac-d183-4393-ef3e-2edbc6dd1ccc"
      },
      "execution_count": null,
      "outputs": [
        {
          "output_type": "stream",
          "name": "stdout",
          "text": [
            "[8562.028, 8536.097, 8702.277, 8572.429, 8591.676, 8739.213, 8568.382, 8508.719, 8725.519, 8611.338, 8681.058, 8653.275, 8533.917, 8839.254, 8949.249, 8634.435, 8983.98, 8735.229, 8884.451, 8981.567, 8636.1, 8871.616, 8670.839, 8672.06, 8840.331, 8680.384, 8345.105, 9044.532, 8901.48, 8859.089, 8996.64, 8860.593, 8770.386, 8979.644, 8787.908, 8735.998, 8584.932, 8968.484, 8885.447, 8661.92, 8612.702, 8614.747, 8751.982, 8860.385, 8677.653, 8522.491, 8577.298, 8827.413, 8595.657, 8781.185, 8999.371, 8566.391, 8706.823, 8739.157, 8770.934, 8930.807, 8861.909, 8789.383, 8931.017, 8722.258, 8686.424, 8706.751, 8470.443, 8737.072, 8705.621, 8524.758, 8791.661, 8909.653, 8836.706, 8938.39, 8667.171, 8705.779, 8535.992, 8784.591, 8664.108, 8759.021, 8542.933, 8508.342, 8792.662, 8569.462, 8657.028, 8760.233, 8598.779, 8612.498, 8987.243, 8782.154, 8616.676, 8788.212, 8720.936, 8821.776, 8931.707, 8641.913, 8463.874, 8661.277, 8718.494, 8540.152, 8804.265, 8591.27, 8528.935, 8770.505, 8643.033, 8708.198, 8700.602, 8720.01, 8834.619, 8892.956, 8763.654, 8842.181, 8438.624, 8799.249, 8548.297, 8674.039, 8847.105, 8822.416, 8814.524, 8767.772, 8631.994, 8739.873, 8676.055, 8837.624, 8981.174, 8697.897, 8693.897, 8725.622, 8794.381, 8581.796, 8781.345, 8790.96, 8656.869, 8933.065, 8594.814, 8875.045, 8767.175, 8653.493, 8642.93, 8826.085, 8638.82, 8522.072, 8437.941, 8837.565, 8563.872, 8771.455, 8738.102, 8761.431, 8812.875, 8621.706, 8462.96, 8758.523, 8812.585, 9005.088, 8409.206, 8630.55, 8738.679, 8747.791, 8594.08, 8566.962, 8837.11, 8590.66, 8763.451, 9011.105, 8709.527, 8787.201, 8784.64, 8648.171, 8650.954, 8587.957, 8796.338, 8624.769, 8685.85, 8963.436, 8952.014, 8726.031, 8421.72, 8809.608, 8626.783, 8981.401, 8778.809, 8455.367, 8686.99, 8687.717, 8860.531, 8772.576, 8658.111, 8739.442, 8637.973, 8600.067, 8644.769, 8646.703, 8869.722, 8535.451, 8596.239, 8621.76, 8582.706, 8786.532, 8900.069, 8670.962, 8685.926, 8554.521, 8710.612, 8830.212, 8595.867, 8750.188, 8780.744, 8783.688, 9069.223, 8432.49, 8905.384, 8806.426, 8572.993, 8902.32, 8515.282, 8930.48, 8633.348, 8721.292, 9082.292, 8897.623, 8619.76, 8664.403, 8537.158, 8682.765, 8621.127, 8714.768, 8601.667, 8515.123, 9133.483, 8780.676, 8763.979, 8962.807, 8977.559, 8617.626, 8598.389, 8937.986, 8797.005, 8727.988, 8634.495, 8643.838, 8597.802, 8979.084, 8600.239, 8474.169, 8674.053, 8789.773, 8819.62, 8763.639, 8583.285, 8534.651, 8541.167, 8721.316, 8572.639, 8593.189, 8807.602, 8829.009, 8852.789, 8903.893, 8924.975, 8760.973, 8783.049, 8722.545, 8919.117, 8893.822, 8406.236, 8592.149, 8578.974, 8749.264, 8636.466, 8611.85, 8704.931, 8935.843, 8662.973, 8753.891, 8821.053, 8681.294, 8650.082, 8778.608, 9000.159, 8903.352, 8842.669, 8770.115, 9017.129, 8884.691, 8544.303, 8770.026, 8662.788, 8854.998, 8684.713, 8731.232, 8806.743, 8777.587, 8659.104, 8581.903, 8690.364, 8571.514, 8680.811, 8607.599, 8649.473, 9009.966, 8651.231, 8557.451, 8768.758, 8598.503, 8787.848, 8972.532, 8789.919, 9185.232, 8739.657, 8710.874, 8644.905, 8646.16, 9000.183, 8745.237, 8908.801, 8812.218, 8832.913, 8794.825, 9029.308, 8780.903, 8329.667, 8492.069, 8848.091, 8813.34, 8661.023, 8849.634, 8668.713, 8796.116, 8834.012, 8655.962, 8565.908, 8411.408, 9086.536, 8943.322, 8688.802, 8854.849, 8687.898, 8719.399, 8513.549, 8956.45, 8653.028, 8613.071, 8851.603, 8595.609, 8698.023, 8795.999, 8637.842, 8736.443, 8793.251, 8725.384, 8793.197, 8649.143, 8875.989, 9104.334, 8584.99, 8732.112, 8754.866, 8643.999, 8715.94, 8928.775, 8902.923, 9012.103, 8756.726, 8658.59, 8585.652, 8855.8, 8624.189, 8535.579, 8583.041, 8842.72, 8632.315, 8740.511, 8683.264, 8925.085, 8949.774, 8567.719, 8725.244, 8652.486, 8752.105, 8691.369, 8954.979, 8850.895, 8754.029, 8569.271, 8496.914, 8451.955, 8525.254, 8693.079, 8777.938, 8528.794, 8694.835, 8684.72, 8749.692, 8820.699, 8642.085, 8658.235, 8733.354, 9140.065, 8730.978, 8958.766, 8721.092, 8502.474, 8566.394, 8652.022, 9013.942, 8782.769, 8930.271, 8784.526, 8427.475, 8857.28, 8755.524, 8705.734, 8444.905, 8738.682, 8576.183, 8716.095, 8721.07, 8896.329, 9000.346, 8632.093, 8739.177, 9026.386, 9048.007, 8929.255, 8807.638, 8686.873, 8787.294, 8621.723, 8808.634, 8990.703, 8584.725, 8841.511, 8567.982, 8833.229, 8793.865, 8612.805, 8783.585, 8368.384, 8822.596, 8647.829, 8866.354, 8500.431, 8640.339, 8696.247, 8785.393, 8604.492, 8707.049, 8847.611, 8926.237, 8748.407, 8579.367, 8713.87, 8716.219, 8862.742, 8706.081, 8735.272, 8506.872, 8680.657, 8855.528, 8984.9, 8769.839, 8753.537, 8567.192, 8619.108, 8694.494, 8927.458, 8487.723, 8635.027, 8597.956, 8610.452, 8702.046, 8942.478, 8685.926, 8879.167, 8722.362, 8549.678, 8661.028, 8439.564, 8610.454, 8728.798, 8656.382, 8769.068, 8949.942, 8605.1, 8810.247, 8665.165, 8621.885, 8898.209, 8806.083, 8836.242, 8452.48, 8760.033, 8558.399, 8754.706, 8651.761, 8411.249, 8674.129, 8853.091, 8829.96, 8420.587, 8708.381, 8723.159, 8450.464, 8440.279, 8761.592, 8420.546, 8912.289, 8657.849, 8579.416, 8832.558, 8563.985, 8645.873, 8592.94, 8844.952, 8984.049, 8892.738, 8767.419, 8618.832, 8792.888, 9001.379, 8999.27, 8753.109, 8459.41, 8721.197, 8766.886, 8754.175, 8470.949, 8800.019, 8820.421, 8739.53, 8897.409, 8932.593, 8660.952, 8791.519, 8828.226, 8705.307, 8695.577, 8599.745, 8534.299, 8639.946, 8727.707, 8802.697, 8840.996, 8670.642, 8668.007, 8628.852, 8748.484, 9205.301, 8499.216, 8466.987, 8544.583, 8590.1, 8715.102, 8957.269, 8921.709, 8943.079, 8541.404, 8446.038, 8631.608, 8620.448, 8859.623, 8720.487, 8512.527, 8803.03, 8778.551, 8740.106, 8726.018, 8803.518, 8846.864, 8556.471, 8780.046, 8718.097, 8715.989, 8331.295, 8793.133, 8601.058, 8481.477, 8758.354, 8711.429, 8843.606, 9011.199, 8836.37, 8712.987, 8494.838, 8750.562, 8650.581, 8781.264, 8842.646, 8600.013, 8368.24, 8719.323, 8679.964, 8940.028, 8602.442, 8913.924, 8644.433, 9026.076, 8774.886, 8646.404, 8759.544, 8675.242, 8641.38, 8578.932, 8801.986, 8694.093, 8465.967, 8572.988, 8632.668, 8620.011, 8944.697, 8931.594, 8690.774, 8816.412, 8871.716, 8788.633, 8937.534, 8698.276, 8783.638, 8592.728, 8712.718, 8395.222, 8763.352, 8618.405, 8549.75, 8671.549, 8576.466, 8622.834, 8664.167, 8900.067, 8812.279, 8774.566, 8858.931, 9005.416, 8863.39, 8932.876, 8597.793, 8858.764, 8696.933, 8760.829, 8746.184, 8525.032, 8795.279, 8873.633, 8784.862, 9000.84, 8924.378, 8742.294, 8823.36, 8519.748, 8531.417, 8730.453, 8943.367, 8474.579, 8668.202, 8797.697, 8879.855, 8797.881, 8834.086, 8841.928, 8876.116, 8614.057, 8777.46, 8889.778, 8688.189, 8867.152, 8756.113, 8853.584, 8897.974, 8703.125, 8951.168, 8608.619, 8883.228, 8572.489, 8609.425, 8709.638, 8937.636, 8838.608, 8810.724, 8494.777, 8898.885, 8686.827, 8508.64, 8691.508, 8991.965, 8536.238, 8916.204, 8707.596, 8818.008, 8820.353, 8749.296, 8509.886, 8858.061, 8730.35, 8815.002, 8901.625, 8695.777, 8872.801, 8668.033, 8763.153, 8559.992, 8592.452, 8802.794, 8863.453, 8492.081, 8604.939, 8606.919, 8801.443, 8554.663, 8975.673, 8509.064, 8995.475, 8820.628, 8486.215, 8861.305, 8755.294, 8666.185, 8861.516, 8858.151, 8452.357, 8556.517, 8758.872, 8786.157, 8722.109, 8657.962, 8959.39, 8819.234, 8797.234, 8487.913, 8626.422, 8592.347, 8730.523, 8907.963, 8875.933, 8790.603, 8705.796, 8716.631, 8559.102, 8712.19, 8966.107, 8945.486, 8614.278, 8573.063, 8662.837, 8442.622, 8486.559, 8616.226, 8568.17, 8662.533, 8840.804, 8801.941, 8802.157, 8773.887, 8676.239, 8855.211, 8638.651, 8932.57, 8516.168, 8789.006, 8854.507, 8811.825, 8899.351, 8469.227, 9002.802, 8835.13, 8959.782, 8951.485, 8793.09, 8775.372, 8676.943, 8687.677, 8636.591, 8693.087, 8594.798, 8673.235, 8895.717, 8831.087, 8515.733, 8603.219, 8877.975, 8617.951, 8759.813, 8740.331, 8667.074, 8484.67, 8884.958, 8648.056, 8679.34, 8768.614, 8714.061, 8963.561, 8823.169, 8723.529, 8541.836, 8724.991, 8564.782, 8766.682, 8879.266, 8846.093, 8522.208, 8639.276, 8518.481, 8603.711, 8606.383, 8703.14, 8777.147, 8759.274, 8927.592, 8421.477, 8669.869, 9054.962, 8732.077, 8702.777, 8801.271, 8728.138, 8471.602, 8852.747, 8870.58, 8499.644, 8463.041, 8716.138, 8794.531, 8773.017, 8835.359, 8719.672, 8599.17, 8659.217, 8865.384, 8692.558, 8846.867, 8920.585, 8720.613, 8588.298, 8934.918, 8670.767, 8630.471, 8593.666, 8838.068, 8936.062, 8868.205, 8811.995, 8905.947, 8847.363, 8745.392, 8671.135, 8659.842, 8677.573, 8726.101, 9018.243, 8623.646, 8881.96, 8555.634, 8812.805, 8829.13, 8456.06, 8832.538, 8694.324, 8843.977, 8959.198, 8730.327, 8627.585, 8659.356, 8663.323, 8886.176, 8671.636, 8788.25, 8567.091, 8800.796, 8772.707, 8671.087, 9002.762, 8927.047, 8935.127, 8693.471, 8813.012, 8486.824, 8612.718, 8621.591, 8899.736, 8390.299, 8997.346, 8490.655, 8547.901, 8682.398, 8691.123, 8653.058, 8908.389, 8690.216, 8662.341, 8806.261, 8680.914, 8633.584, 8364.921, 8431.731, 8746.071, 8660.218, 8599.969, 8690.88, 9036.314, 8764.48, 8980.472, 8804.271, 8586.79, 8629.597, 8746.282, 8631.348, 8621.909, 8671.229, 8724.403, 8543.989, 8808.585, 8660.787, 8623.249, 8694.696, 8742.458, 8820.325, 8750.822, 8517.092, 8464.023, 8764.346, 8825.915, 8980.595, 8580.796, 8723.507, 8536.035, 8635.7, 8716.219, 8613.967, 8635.552, 9074.776, 9056.535, 8812.291, 8630.72, 8756.079, 8600.499, 8848.157, 8534.478, 8765.459, 8733.796, 8533.603, 8659.65, 8615.828, 8576.352, 8673.747, 8690.732, 8815.078, 8797.896, 8678.994, 8623.982, 8570.915, 8719.24, 8506.696, 8564.649, 8799.93, 8741.252, 8639.163, 8678.73, 8795.757, 8803.936, 8631.467, 8679.572, 8556.33, 8460.759, 8515.508, 8698.186, 8608.156, 8505.641, 8809.55, 8845.349, 8695.953, 8626.629, 8949.918, 8590.414, 8839.477, 8614.412, 8508.327, 8763.088, 8740.376, 8662.718, 8614.089, 8766.538, 8695.465, 8724.124, 8926.806, 9044.818, 8723.081, 8851.762, 8877.421, 8920.958, 8891.792, 8628.755, 8902.691, 8527.137, 8781.094, 8889.925, 8379.015, 8592.96, 8545.507, 8804.18, 8713.005, 8811.027, 8736.595, 8696.08, 8666.156, 8691.931]\n"
          ]
        }
      ]
    },
    {
      "cell_type": "code",
      "source": [
        "sns.histplot(x =m_s, kde = True)\n",
        "sns.histplot(x =f_s, kde = True)"
      ],
      "metadata": {
        "colab": {
          "base_uri": "https://localhost:8080/",
          "height": 447
        },
        "id": "lTSTaeYdA3oL",
        "outputId": "23dab767-8064-4a38-898f-d194944995d3"
      },
      "execution_count": null,
      "outputs": [
        {
          "output_type": "execute_result",
          "data": {
            "text/plain": [
              "<Axes: ylabel='Count'>"
            ]
          },
          "metadata": {},
          "execution_count": 30
        },
        {
          "output_type": "display_data",
          "data": {
            "text/plain": [
              "<Figure size 640x480 with 1 Axes>"
            ],
            "image/png": "[encoded data removed]"
          },
          "metadata": {}
        }
      ]
    },
    {
      "cell_type": "code",
      "source": [
        "mp =np.mean(m_s)\n",
        "mp"
      ],
      "metadata": {
        "colab": {
          "base_uri": "https://localhost:8080/"
        },
        "id": "q7O6IGx2BPL_",
        "outputId": "cf6730c4-8c83-4f98-fd75-e7a165b32110"
      },
      "execution_count": null,
      "outputs": [
        {
          "output_type": "execute_result",
          "data": {
            "text/plain": [
              "9433.40618"
            ]
          },
          "metadata": {},
          "execution_count": 31
        }
      ]
    },
    {
      "cell_type": "code",
      "source": [
        "se_m = m.std()/np.sqrt(1000)"
      ],
      "metadata": {
        "id": "3ks4sJ8UBZzr"
      },
      "execution_count": null,
      "outputs": []
    },
    {
      "cell_type": "code",
      "source": [
        "[mp+1.96*se_m,mp - 1.96* se_m] ## -with 95% confidence we can say that everything a\n",
        "# male visits walmart he will purchase between 9200 and 9800"
      ],
      "metadata": {
        "colab": {
          "base_uri": "https://localhost:8080/"
        },
        "id": "rp00nM4WBsQM",
        "outputId": "d3bcb8ba-85cd-4cf5-ed76-8ac51e9dced5"
      },
      "execution_count": null,
      "outputs": [
        {
          "output_type": "execute_result",
          "data": {
            "text/plain": [
              "[9749.023151174928, 9117.789208825072]"
            ]
          },
          "metadata": {},
          "execution_count": 33
        }
      ]
    },
    {
      "cell_type": "code",
      "source": [
        "fp = np.mean(f_s)\n",
        "se_f = f.std()/np.sqrt(1000)\n",
        "[fp+1.96*se_f,fp - 1.96* se_f]"
      ],
      "metadata": {
        "colab": {
          "base_uri": "https://localhost:8080/"
        },
        "id": "y8G2CjiECS6h",
        "outputId": "40c6da5e-7dc8-40bc-b0dc-ccb61302e37a"
      },
      "execution_count": null,
      "outputs": [
        {
          "output_type": "execute_result",
          "data": {
            "text/plain": [
              "[9021.420469498134, 8430.468108501867]"
            ]
          },
          "metadata": {},
          "execution_count": 35
        }
      ]
    },
    {
      "cell_type": "markdown",
      "source": [
        "with 95% confidence we can say that everytime a\n",
        "female visits walmart she will purchase between 8400 and 9000"
      ],
      "metadata": {
        "id": "pyLVobpyCjSQ"
      }
    }
  ]
}