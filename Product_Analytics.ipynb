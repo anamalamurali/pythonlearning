{
  "nbformat": 4,
  "nbformat_minor": 0,
  "metadata": {
    "colab": {
      "provenance": [],
      "authorship_tag": "ABX9TyO4H9mYgcWgazkjzTYPXXuj",
      "include_colab_link": true
    },
    "kernelspec": {
      "name": "python3",
      "display_name": "Python 3"
    },
    "language_info": {
      "name": "python"
    }
  },
  "cells": [
    {
      "cell_type": "markdown",
      "metadata": {
        "id": "view-in-github",
        "colab_type": "text"
      },
      "source": [
        "<a href=\"https://colab.research.google.com/github/muralianamalatibco/pythonlearning/blob/main/Product_Analytics.ipynb\" target=\"_parent\"><img src=\"https://colab.research.google.com/assets/colab-badge.svg\" alt=\"Open In Colab\"/></a>"
      ]
    },
    {
      "cell_type": "code",
      "execution_count": null,
      "metadata": {
        "id": "OpIxoBMlSqk9"
      },
      "outputs": [],
      "source": [
        "import numpy as np\n",
        "import pandas as pd\n",
        "from scipy.stats import norm, binom, expon\n",
        "import matplotlib.pyplot as plt\n",
        "import seaborn as sns\n",
        "from statsmodels.stats import power"
      ]
    },
    {
      "cell_type": "code",
      "source": [
        "p = 1 - binom.cdf(k=6, n=10, p=0.5)"
      ],
      "metadata": {
        "id": "E8bmxQUjeYAM"
      },
      "execution_count": null,
      "outputs": []
    },
    {
      "cell_type": "code",
      "source": [
        "alpha =0.5\n",
        "if alpha < p:\n",
        "  print(\"Reject H0\")\n",
        "else:\n",
        "  print(\"Fail to reject H0\")"
      ],
      "metadata": {
        "colab": {
          "base_uri": "https://localhost:8080/"
        },
        "id": "r4Rs6nDN7fPZ",
        "outputId": "89549c20-bb69-4cfa-b364-70241613e10e"
      },
      "execution_count": null,
      "outputs": [
        {
          "output_type": "stream",
          "name": "stdout",
          "text": [
            "Fail to reject H0\n"
          ]
        }
      ]
    },
    {
      "cell_type": "markdown",
      "source": [
        "Point estmate +- margin error\n",
        "Example: Marketing example\n",
        "firm A:\n",
        "  worked on 50 stores\n",
        "  sold an avg 1850 bottles\n",
        "\n",
        "Significance level (alpha) (Threshold value) = 0.01\n",
        "confidence level (1 - alpha) = 0.99 or 99%"
      ],
      "metadata": {
        "id": "ZxUufLFsJNQu"
      }
    },
    {
      "cell_type": "markdown",
      "source": [
        "**Suppose there is a Retail Store Chain that sells Shampoo bottles**\n",
        "\n",
        "This chain has 2000 stores across India.\n",
        "The parameters for weekly sales of the shampoo bottle were reported as:\n",
        "Mean: 1800\n",
        "Standard deviation: 100\n",
        "This was calculated by analyzing a lot of historical data\n",
        "\n",
        "Firm A:\n",
        "  50 stores\n",
        "  avg 1850\n",
        "\n",
        "Firm B:\n",
        "  5 stores\n",
        "  avg 1900\n",
        "\n",
        "alpha = 0.01 (Significance level)\n"
      ],
      "metadata": {
        "id": "-7v3yIYQKsVf"
      }
    },
    {
      "cell_type": "code",
      "source": [
        "'''\n",
        "H0 - Null Hypothesis - mu =1800\n",
        "Ha - Alternate Hypothesis - mu > 1800\n",
        "'''"
      ],
      "metadata": {
        "id": "JnButbzL7xhC"
      },
      "execution_count": null,
      "outputs": []
    },
    {
      "cell_type": "code",
      "source": [
        "'''\n",
        "Distribution - Gaussian\n",
        "mu =1800\n",
        "sigma = 100/sqrt(50)\n",
        "'''\n",
        "mu = 1800\n",
        "sigma = 100/np.sqrt(50)\n",
        "\n",
        "mu_m = 1850\n",
        "\n",
        "z_score = (mu_m - mu)/sigma\n",
        "print(z_score)"
      ],
      "metadata": {
        "colab": {
          "base_uri": "https://localhost:8080/"
        },
        "id": "ujZhw_f6LbZ8",
        "outputId": "aa33ff86-3cf4-4d56-b540-ac6181643b1a"
      },
      "execution_count": null,
      "outputs": [
        {
          "output_type": "stream",
          "name": "stdout",
          "text": [
            "3.5355339059327378\n"
          ]
        }
      ]
    },
    {
      "cell_type": "code",
      "source": [
        "1- norm.cdf(z_score), 1- norm.isf(z_score)"
      ],
      "metadata": {
        "colab": {
          "base_uri": "https://localhost:8080/"
        },
        "id": "bHS6hNy6Mfxu",
        "outputId": "85c4889d-fecb-46fd-f9d8-5952a6acfd87"
      },
      "execution_count": null,
      "outputs": [
        {
          "output_type": "execute_result",
          "data": {
            "text/plain": [
              "(0.00020347600872250293, nan)"
            ]
          },
          "metadata": {},
          "execution_count": 6
        }
      ]
    },
    {
      "cell_type": "code",
      "source": [
        "'''\n",
        "Firm B\n",
        "Ho - mu = 1800\n",
        "Ha - mu > 1850\n",
        "n = 5 stores\n",
        "\n",
        "'''\n",
        "mu = 1800\n",
        "sigma = 100/np.sqrt(5)\n",
        "\n",
        "mu_m = 1900\n",
        "\n",
        "alpha = 0.01\n",
        "\n",
        "z = (mu_m - mu)/sigma\n",
        "p = 1- norm.cdf(z)\n",
        "p"
      ],
      "metadata": {
        "colab": {
          "base_uri": "https://localhost:8080/"
        },
        "id": "1icYQff-M0Rt",
        "outputId": "73cc0a8a-0d22-4e67-ab19-1dfd4a6e3c6f"
      },
      "execution_count": null,
      "outputs": [
        {
          "output_type": "execute_result",
          "data": {
            "text/plain": [
              "0.0126736593387341"
            ]
          },
          "metadata": {},
          "execution_count": 15
        }
      ]
    },
    {
      "cell_type": "code",
      "source": [
        "if p < alpha:\n",
        "  print(\"Reject H0\")\n",
        "else:\n",
        "  print(\"Fail to reject H0\")"
      ],
      "metadata": {
        "colab": {
          "base_uri": "https://localhost:8080/"
        },
        "id": "yYR5p2BTNVOa",
        "outputId": "d2335337-cc81-4237-b192-302bb00f0fdc"
      },
      "execution_count": null,
      "outputs": [
        {
          "output_type": "stream",
          "name": "stdout",
          "text": [
            "Fail to reject H0\n"
          ]
        }
      ]
    },
    {
      "cell_type": "markdown",
      "source": [
        " **CRITCAL VALUE**\n",
        "\n",
        " What should be the minimum weekly avg sales for the 50 stores under firm A, to convince us that their marketing had a positive effect with a confidence level of 99%\n",
        "\n"
      ],
      "metadata": {
        "id": "P_cPViE8OXm4"
      }
    },
    {
      "cell_type": "code",
      "source": [
        "mu = 1800\n",
        "sigma = 100/np.sqrt(50)\n",
        "min_weekly_avg_sales = mu + norm.isf(0.01) * sigma\n",
        "min_weekly_avg_sales, mu + norm.ppf(0.99) * sigma\n"
      ],
      "metadata": {
        "colab": {
          "base_uri": "https://localhost:8080/"
        },
        "id": "mLuCMGA9O8HP",
        "outputId": "ab410b58-1cb2-4cdb-cb3b-701c9ffa857c"
      },
      "execution_count": null,
      "outputs": [
        {
          "output_type": "execute_result",
          "data": {
            "text/plain": [
              "(1832.8995271426638, 1832.8995271426638)"
            ]
          },
          "metadata": {},
          "execution_count": 19
        }
      ]
    },
    {
      "cell_type": "code",
      "source": [
        "from functools import singledispatchmethod\n",
        "# Firm B\n",
        "mu = 1800\n",
        "sigma = 100/np.sqrt(5)\n",
        "\n",
        "min_weekly_avg_sales_b = mu + norm.isf(0.01) * sigma\n",
        "min_weekly_avg_sales_b, mu + norm.ppf(0.99) * sigma"
      ],
      "metadata": {
        "colab": {
          "base_uri": "https://localhost:8080/"
        },
        "id": "vnxnxzXsQUru",
        "outputId": "e8b9835e-64e2-40dd-c52c-3a22ed550230"
      },
      "execution_count": null,
      "outputs": [
        {
          "output_type": "execute_result",
          "data": {
            "text/plain": [
              "(1904.0374397133487, 1904.0374397133487)"
            ]
          },
          "metadata": {},
          "execution_count": 20
        }
      ]
    },
    {
      "cell_type": "markdown",
      "source": [
        "**CONFIDENCE INTERVAL**\n",
        "\n",
        "A confidence interval is a range of values that provides an estimate of a population parameter, such as the population mean, with a specified level of confidence\n",
        "\n",
        "point estimate +- margin error\n",
        "\n",
        "CI = Sample mean +- (Z * sigma/sqrt(n))\n"
      ],
      "metadata": {
        "id": "4GlxNe6vQqH0"
      }
    },
    {
      "cell_type": "code",
      "source": [
        "# Firm A\n",
        "pop_mean = 1800\n",
        "sampe_mean = 1850\n",
        "pop_stddv = 100\n",
        "sample_size = 50\n",
        "alpha = 0.01\n",
        "\n",
        "z_critical = norm.ppf(1 - alpha)\n",
        "margin_of_error ="
      ],
      "metadata": {
        "id": "AYYEz589Q8N3"
      },
      "execution_count": null,
      "outputs": []
    },
    {
      "cell_type": "code",
      "source": [
        "# Given data\n",
        "population_mean = 1800\n",
        "sample_mean = 1850\n",
        "population_stddev = 100\n",
        "sample_size = np.sqrt(50)\n",
        "alpha = 0.01  # Significance level (1 - alpha will give us the confidence level)\n",
        "# Calculate the critical value (Z) for a right-tailed test at the given alpha lev\n",
        "z_critical = norm.ppf(1 - alpha)\n",
        "# Calculate the margin of error\n",
        "margin_of_error = z_critical * (population_stddev / sample_size)\n",
        "# Calculate the confidence interval\n",
        "confidence_interval = (sample_mean - margin_of_error, sample_mean + margin_of_error)\n",
        "print(\"Confidence Interval:\", confidence_interval)\n",
        "# Check if the population mean (1800) falls within the confidence interval\n",
        "if confidence_interval[0] <= population_mean <= confidence_interval[1]:\n",
        "    print(\"The population mean falls within the confidence interval. Then we fail to reject null Hypothesis\")\n",
        "else:\n",
        "    print(\"The population mean does not fall within the confidence interval. Then we reject null hypothesis\")\n"
      ],
      "metadata": {
        "colab": {
          "base_uri": "https://localhost:8080/"
        },
        "id": "-obhs-u2TEeQ",
        "outputId": "fcb4fc54-97d9-41ce-ac37-db253ce56c69"
      },
      "execution_count": null,
      "outputs": [
        {
          "output_type": "stream",
          "name": "stdout",
          "text": [
            "Confidence Interval: (1817.1004728573362, 1882.8995271426638)\n",
            "The population mean does not fall within the confidence interval. Then we reject null hypothesis\n"
          ]
        }
      ]
    },
    {
      "cell_type": "code",
      "source": [
        "# Firm B\n",
        "population_mean = 1800\n",
        "sample_mean = 1900\n",
        "population_stddev = 100\n",
        "sample_size = np.sqrt(5)\n",
        "alpha = 0.01  # Significance level (1 - alpha will give us the confidence level)\n",
        "# Calculate the critical value (Z) for a right-tailed test at the given alpha\n",
        "z_critical = norm.ppf(1 - alpha)\n",
        "# Calaculate the margin of error\n",
        "margin_of_error = z_critical * (population_stddev / sample_size)\n",
        "# Calculate the confidence interval\n",
        "confidence_interval = (sample_mean - margin_of_error, sample_mean + margin_of_error)\n",
        "print(\"Confidence Interval:\", confidence_interval)\n",
        "\n",
        "# Check if the population mean (1800) falls within the confidence interval\n",
        "\n",
        "if (confidence_interval[0] <= population_mean <= confidence_interval[1]):\n",
        "    print(\"The population mean falls within the confidence interval. Then we fail to reject null Hypothesis\")\n",
        "else:\n",
        "    print(\"The population mean does not fall within the confidence interval. Then we reject null hypothesis\")"
      ],
      "metadata": {
        "colab": {
          "base_uri": "https://localhost:8080/"
        },
        "id": "EaluFvV3TxYE",
        "outputId": "48b0d196-9fda-4c0b-895c-c4d7f2d2728e"
      },
      "execution_count": null,
      "outputs": [
        {
          "output_type": "stream",
          "name": "stdout",
          "text": [
            "Confidence Interval: (1795.9625602866513, 2004.0374397133487)\n",
            "The population mean falls within the confidence interval. Then we fail to reject null Hypothesis\n"
          ]
        }
      ]
    },
    {
      "cell_type": "code",
      "source": [
        "# Chocolate factory problem\n",
        "population_mean = 50\n",
        "population_stddev = 2\n",
        "sample_size = 30\n",
        "\n",
        "sample_mean = 50\n",
        "alpha = 0.05\n"
      ],
      "metadata": {
        "id": "it8OnAWvf2uh"
      },
      "execution_count": null,
      "outputs": []
    },
    {
      "cell_type": "code",
      "source": [
        "data = [55, 45, 52, 48, 55, 52, 52, 53, 48, 52, 53, 47, 54, 51, 52, 51, 48, 52, 53, 54, 51, 51, 52, 54, 47, 52, 53, 48, 51, 54]\n",
        "\n",
        "# H0 -> mu = 50\n",
        "# Ha -> mu not eq 50\n",
        "\n",
        "alpha = 0.05\n",
        "confidence_level = 1- (alpha/2)\n",
        "sample_size = 30\n",
        "\n",
        "z_critical = np.abs(round(norm.isf(alpha/2), 4))\n",
        "\n",
        "sample_mean = np.mean(data)\n",
        "sample_stddev = np.std(data)\n",
        "\n",
        "# null hypothesis value\n",
        "hypo_mean = 50\n",
        "\n",
        "# calculate the effect size (diff between sample mean and hypothesized mean)\n",
        "effect_size = (sample_mean - hypo_mean) / sample_stddev\n",
        "print(\"Effect size:\", effect_size)\n",
        "\n",
        "# Use zt_ind_solve_power()\n",
        "power = power.zt_ind_solve_power(effect_size = effect_size,\n",
        "                                 nobs1 = sample_size,\n",
        "                                 alpha = alpha,\n",
        "                                 ratio = 0,\n",
        "                                 alternative = 'two-sided')\n",
        "print(\"Power:\", power)\n"
      ],
      "metadata": {
        "colab": {
          "base_uri": "https://localhost:8080/"
        },
        "id": "mihyWZ37gQqA",
        "outputId": "ea1f1330-75e3-4602-8149-ed787419582d"
      },
      "execution_count": null,
      "outputs": [
        {
          "output_type": "stream",
          "name": "stdout",
          "text": [
            "Effect size: 0.5261336417646574\n",
            "Power: 0.8216812302268112\n"
          ]
        }
      ]
    },
    {
      "cell_type": "code",
      "source": [
        "p_avg = 65\n",
        "p_std = 2.5\n",
        "n = 20\n",
        "s_avg = 64.5\n",
        "alpha = 0.05\n",
        "\n",
        "sig = 2.5 / np.sqrt(20)\n",
        "\n",
        "z = (s_avg - p_avg) / sig\n",
        "print(z)\n",
        "\n",
        "p_val = norm.cdf(z)\n",
        "print(p_val)\n",
        "\n",
        "if p_val < alpha:\n",
        "  print(\"Reject H0\")\n",
        "else:\n",
        "  print(\"Fail to reject H0\")"
      ],
      "metadata": {
        "colab": {
          "base_uri": "https://localhost:8080/"
        },
        "id": "Flgm_v3S6YlC",
        "outputId": "b6c14d19-a9ac-4817-8957-0b7d957c6779"
      },
      "execution_count": null,
      "outputs": [
        {
          "output_type": "stream",
          "name": "stdout",
          "text": [
            "-0.8944271909999159\n",
            "0.18554668476134878\n",
            "Fail to reject H0\n"
          ]
        }
      ]
    },
    {
      "cell_type": "code",
      "source": [
        "pop_mean = 500\n",
        "samp_mean = 530\n",
        "sample_size = 70\n",
        "pop_std = 125\n",
        "\n",
        "cri_val = 1.64\n",
        "alpha =0.05\n",
        "\n",
        "z= (530-500)/(125/np.sqrt(70))\n",
        "print(z)"
      ],
      "metadata": {
        "colab": {
          "base_uri": "https://localhost:8080/"
        },
        "id": "8UG1XG___5m3",
        "outputId": "8d3fe256-a230-45c8-da31-16caba2f4d19"
      },
      "execution_count": null,
      "outputs": [
        {
          "output_type": "stream",
          "name": "stdout",
          "text": [
            "2.007984063681781\n"
          ]
        }
      ]
    },
    {
      "cell_type": "code",
      "source": [
        "norm.isf(0.05)"
      ],
      "metadata": {
        "colab": {
          "base_uri": "https://localhost:8080/"
        },
        "id": "S6MeVZGOAmIH",
        "outputId": "1ccd15a1-4981-4666-c692-82a96bce4213"
      },
      "execution_count": null,
      "outputs": [
        {
          "output_type": "execute_result",
          "data": {
            "text/plain": [
              "1.6448536269514729"
            ]
          },
          "metadata": {},
          "execution_count": 33
        }
      ]
    },
    {
      "cell_type": "code",
      "source": [
        "p_avg = 1.7\n",
        "p_std = 0.5\n",
        "n = 30\n",
        "samp_avg = 1.85\n",
        "sig = 0.5/np.sqrt(30)\n",
        "\n",
        "z = (samp_avg - p_avg)/sig\n",
        "print(z)"
      ],
      "metadata": {
        "colab": {
          "base_uri": "https://localhost:8080/"
        },
        "id": "AVzpDK1jBJHT",
        "outputId": "28c3bfb1-f507-4315-f523-2da78c656ea3"
      },
      "execution_count": null,
      "outputs": [
        {
          "output_type": "stream",
          "name": "stdout",
          "text": [
            "1.6431676725155\n"
          ]
        }
      ]
    },
    {
      "cell_type": "code",
      "source": [
        "norm.ppf(1 - (1 - 0.96)/2) * 30 + 250"
      ],
      "metadata": {
        "colab": {
          "base_uri": "https://localhost:8080/"
        },
        "id": "QFijUW--Bw0Z",
        "outputId": "3c10412c-d572-4824-e5fc-0fb6a8db3311"
      },
      "execution_count": null,
      "outputs": [
        {
          "output_type": "execute_result",
          "data": {
            "text/plain": [
              "311.61246731895466"
            ]
          },
          "metadata": {},
          "execution_count": 39
        }
      ]
    },
    {
      "cell_type": "markdown",
      "source": [
        "It is known that the mean IQ of high school students is 100, and the standard deviation is 15.\n",
        "\n",
        "A coaching institute claims that candidates who study there have more IQ than an average high school student. When the IQ of 50 candidates was calculated, the average turned out to be 110\n",
        "\n",
        "Conduct an appropriate hypothesis test to test the institute’s claim, with a significance level of 5%"
      ],
      "metadata": {
        "id": "cSt1-b69DWKW"
      }
    },
    {
      "cell_type": "code",
      "source": [
        "pop_mean = 100\n",
        "pop_std = 15\n",
        "n = 50\n",
        "samp_mean = 110\n",
        "alpha = 0.05\n",
        "\n",
        "z = (samp_mean - pop_mean)/(pop_std/np.sqrt(n))\n",
        "print(z)\n",
        "\n",
        "p_val = 1 - norm.cdf(z)\n",
        "print(p_val)\n",
        "\n",
        "if p_val < alpha:\n",
        "  print(\"Reject H0\")\n",
        "else:\n",
        "  print(\"Fail to reject H0\")"
      ],
      "metadata": {
        "colab": {
          "base_uri": "https://localhost:8080/"
        },
        "id": "eMtifoulDV05",
        "outputId": "42dc03e6-aecf-4f97-a9b3-0d1fc6260c88"
      },
      "execution_count": null,
      "outputs": [
        {
          "output_type": "stream",
          "name": "stdout",
          "text": [
            "4.714045207910317\n",
            "1.2142337364462463e-06\n",
            "Reject H0\n"
          ]
        }
      ]
    },
    {
      "cell_type": "markdown",
      "source": [
        "When smokers smoke, nicotine is transformed into cotinine, which can be tested.\n",
        "\n",
        "The average cotinine level in a group of 50 smokers was 243.5 ng ml.\n",
        "\n",
        "Assuming that the standard deviation is known to be 229.5 ng ml.\n",
        "\n",
        "Test the assertion that the mean cotinine level of all smokers is equal to 300.0 ng ml, at 95% confidence."
      ],
      "metadata": {
        "id": "Y8TBYAszENVA"
      }
    },
    {
      "cell_type": "code",
      "source": [
        "s_avg = 243.5\n",
        "n = 50\n",
        "s_std = 229.5\n",
        "p_avg = 300\n",
        "alpha = 0.05\n",
        "\n",
        "sig = 229.5/np.sqrt(50)\n",
        "\n",
        "z = (243.5 - 300)/sig\n",
        "z\n",
        "\n",
        "p_v = 2 * (1 - norm.cdf(abs(z)))\n",
        "p_v, z"
      ],
      "metadata": {
        "colab": {
          "base_uri": "https://localhost:8080/"
        },
        "id": "Eq8sg0CHEODC",
        "outputId": "22324050-2107-4910-fda7-1f7f5bf638df"
      },
      "execution_count": null,
      "outputs": [
        {
          "output_type": "execute_result",
          "data": {
            "text/plain": [
              "(0.08171731915149638, -1.7408075440976007)"
            ]
          },
          "metadata": {},
          "execution_count": 47
        }
      ]
    },
    {
      "cell_type": "code",
      "source": [
        "d = (750-800)/50\n",
        "d"
      ],
      "metadata": {
        "colab": {
          "base_uri": "https://localhost:8080/"
        },
        "id": "YY_tw3iqZo84",
        "outputId": "3cde837e-593e-410b-911b-ddc53538ba6e"
      },
      "execution_count": null,
      "outputs": [
        {
          "output_type": "execute_result",
          "data": {
            "text/plain": [
              "-1.0"
            ]
          },
          "metadata": {},
          "execution_count": 49
        }
      ]
    },
    {
      "cell_type": "code",
      "source": [
        "'''\n",
        "The student hostel office at IIT Madras estimates that each student uses more than 3.5 buckets of water per day.\n",
        "\n",
        "In order to verify this claim, the college trustees decide to monitor the water consuption over the next 45 days, and it is found that on an average, 3.72 buckets of water is consumed by a student, per day.\n",
        "\n",
        "Assume that the population standard deviation is 0.7 buckets. What is the critical sample mean, assuming a critical z-value of 1.28?\n",
        "\n",
        "Note: The critical sample mean is defined as the mean value for which the z-score is equal to the critical value. Also, round off the final answer to three decimal places.\n",
        "'''\n",
        "sample_size = 45\n",
        "mean = 3.5\n",
        "std = 0.7\n",
        "critical_z = 1.28\n",
        "critical_mean = mean + critical_z * (std / np.sqrt(sample_size))\n",
        "print(f\"The critical sample mean is {critical_mean:.3f}\")"
      ],
      "metadata": {
        "colab": {
          "base_uri": "https://localhost:8080/"
        },
        "id": "_rjF0nWBZ7ef",
        "outputId": "b707dd44-3e0f-4c45-f506-3efd414bfad0"
      },
      "execution_count": null,
      "outputs": [
        {
          "output_type": "stream",
          "name": "stdout",
          "text": [
            "The critical sample mean is 3.634\n"
          ]
        }
      ]
    },
    {
      "cell_type": "code",
      "source": [
        "'''\n",
        "The verbal reasoning in the GRE has an average score of 150 and a standard deviation of 8.5.\n",
        "\n",
        "A coaching centre claims that their students are better. An average of 10 people showed that students from this coaching centre have an average score of 155.\n",
        "\n",
        "At a 5% significance level (or 95% confidence level), can we conclude that students from the coaching centre are better? Use the Z-test, and compute the p-value.\n",
        "'''\n",
        "\n",
        "mean = 150\n",
        "std = 8.5\n",
        "n = 10\n",
        "samp_mean = 155\n",
        "alpha = 0.05\n",
        "\n",
        "sig = 8.5/np.sqrt(10)\n",
        "\n",
        "z = (samp_mean - mean)/sig\n",
        "print(z)\n",
        "\n",
        "p_val = 1 - norm.cdf(z)\n",
        "print(p_val)\n",
        "\n",
        "if p_val < alpha:\n",
        "  print(\"Reject H0\")\n",
        "else:\n",
        "  print(\"Fail to reject H0\")"
      ],
      "metadata": {
        "colab": {
          "base_uri": "https://localhost:8080/"
        },
        "id": "tivhKE6KanYQ",
        "outputId": "8027100e-bc6a-43fb-dfe7-965dc9014266"
      },
      "execution_count": null,
      "outputs": [
        {
          "output_type": "stream",
          "name": "stdout",
          "text": [
            "1.8601633295108115\n",
            "0.031431210741779014\n",
            "Reject H0\n"
          ]
        }
      ]
    },
    {
      "cell_type": "code",
      "source": [
        "'''\n",
        "A company claims that the average time it takes to deliver a product to customers is 3 days.\n",
        "\n",
        "The company's delivery process is under scrutiny, and a sample of 25 delivery times is collected. The sample mean delivery time is 3.5 days, and the population standard deviation is known to be 0.8 days.\n",
        "\n",
        "\n",
        "At a 5% significance level, can we conclude that the average delivery time is greater than 3 days?\n",
        "\n",
        "Conduct a one-sample Z-test to determine the same. Also, evaluate the z-score for observed average time.\n",
        "'''\n",
        "\n",
        "sample_size = 25\n",
        "samp_mean = 3.5\n",
        "mean = 3\n",
        "std = 0.8\n",
        "alpha = 0.05\n",
        "\n",
        "sig = 0.8/np.sqrt(25)\n",
        "\n",
        "z = (samp_mean - mean)/sig\n",
        "print(z)\n",
        "\n",
        "p_val = 1 - norm.cdf(z)\n",
        "print(p_val)\n",
        "\n",
        "if p_val < alpha:\n",
        "  print(\"Reject H0\")\n",
        "else:\n",
        "  print(\"Fail to reject H0\")"
      ],
      "metadata": {
        "colab": {
          "base_uri": "https://localhost:8080/"
        },
        "id": "UshJZ8mLbFHt",
        "outputId": "a56c7b91-c555-4aa8-982c-9e0fcbc93b0f"
      },
      "execution_count": null,
      "outputs": [
        {
          "output_type": "stream",
          "name": "stdout",
          "text": [
            "3.125\n",
            "0.0008890252991083925\n",
            "Reject H0\n"
          ]
        }
      ]
    },
    {
      "cell_type": "code",
      "source": [
        "'''\n",
        "A marketing team aims to estimate the average time, visitors spend on their website.\n",
        "\n",
        "They gathered a random sample of 100 visitors and determined that the average time spent on the website was 4.5 minutes.\n",
        "\n",
        "The team is working under the assumption that the population's mean time spent on the website is 4.0 minutes, with a standard deviation of 1.2 minutes.\n",
        "\n",
        "Their goal is to estimate the true time spent on the website with a 95% confidence level. Calculate the confidence interval values and make a conclusion based on the calculated interval.\n",
        "'''\n",
        "sample_size = 100\n",
        "sample_avg = 4.5\n",
        "mean = 4.0\n",
        "std = 1.2\n",
        "alpha = 0.05\n",
        "\n",
        "sig = 1.2/np.sqrt(100)\n",
        "\n",
        "z = (sample_avg - mean)/sig\n",
        "print(z)\n",
        "\n",
        "confidence_interval = norm.interval(1-alpha, loc=sample_avg, scale=sig)\n",
        "print(confidence_interval)\n",
        "\n",
        "if confidence_interval[0] <= mean <= confidence_interval[1]:\n",
        "  print(\"The population mean falls within the confidence interval. Then we fail to reject null Hypothesis\")\n",
        "else:\n",
        "  print(\"The population mean does not fall within the confidence interval. Then we reject null hypothesis\")"
      ],
      "metadata": {
        "colab": {
          "base_uri": "https://localhost:8080/"
        },
        "id": "T0iFY9_Qbdkt",
        "outputId": "70a216e2-82d1-47b0-8ca2-329d5e0ca86d"
      },
      "execution_count": null,
      "outputs": [
        {
          "output_type": "stream",
          "name": "stdout",
          "text": [
            "4.166666666666667\n",
            "(4.264804321855194, 4.735195678144806)\n",
            "The population mean does not fall within the confidence interval. Then we reject null hypothesis\n"
          ]
        }
      ]
    },
    {
      "cell_type": "code",
      "source": [
        "'''\n",
        "A researcher is conducting a hypothesis test with a significance level (α) of 0.05.\n",
        "\n",
        "The null hypothesis is that there is no effect, and the alternative hypothesis is that there is a significant effect. The researcher calculates the power of the test to be 0.80.\n",
        "\n",
        "What does a power of 0.80 signify in this context?\n",
        "'''\n",
        "power = power.zt_ind_solve_power(effect_size = 1,\n",
        "                                 nobs1 = 1,\n",
        "                                 alpha = alpha,\n",
        "                                 ratio = 0,\n",
        "                                 alternative = 'two-sided')"
      ],
      "metadata": {
        "colab": {
          "base_uri": "https://localhost:8080/",
          "height": 211
        },
        "id": "10dWCTHccTRJ",
        "outputId": "5ca91d55-f360-432c-86a2-d80d4152e728"
      },
      "execution_count": null,
      "outputs": [
        {
          "output_type": "error",
          "ename": "AttributeError",
          "evalue": "'float' object has no attribute 'zt_ind_solve_power'",
          "traceback": [
            "\u001b[0;31m---------------------------------------------------------------------------\u001b[0m",
            "\u001b[0;31mAttributeError\u001b[0m                            Traceback (most recent call last)",
            "\u001b[0;32m<ipython-input-62-eb6cf7998f8e>\u001b[0m in \u001b[0;36m<cell line: 11>\u001b[0;34m()\u001b[0m\n\u001b[1;32m      9\u001b[0m \u001b[0;31m#power = 0.80\u001b[0m\u001b[0;34m\u001b[0m\u001b[0;34m\u001b[0m\u001b[0m\n\u001b[1;32m     10\u001b[0m \u001b[0;34m\u001b[0m\u001b[0m\n\u001b[0;32m---> 11\u001b[0;31m powe = power.zt_ind_solve_power(effect_size = 1,\n\u001b[0m\u001b[1;32m     12\u001b[0m                                  \u001b[0mnobs1\u001b[0m \u001b[0;34m=\u001b[0m \u001b[0;36m100\u001b[0m\u001b[0;34m,\u001b[0m\u001b[0;34m\u001b[0m\u001b[0;34m\u001b[0m\u001b[0m\n\u001b[1;32m     13\u001b[0m                                  \u001b[0malpha\u001b[0m \u001b[0;34m=\u001b[0m \u001b[0malpha\u001b[0m\u001b[0;34m,\u001b[0m\u001b[0;34m\u001b[0m\u001b[0;34m\u001b[0m\u001b[0m\n",
            "\u001b[0;31mAttributeError\u001b[0m: 'float' object has no attribute 'zt_ind_solve_power'"
          ]
        }
      ]
    },
    {
      "cell_type": "code",
      "source": [
        "import random\n",
        "import numpy as np\n",
        "from scipy.stats import norm\n",
        "import scipy.stats as power"
      ],
      "metadata": {
        "id": "u0OHF4LV22Rk"
      },
      "execution_count": null,
      "outputs": []
    },
    {
      "cell_type": "code",
      "source": [
        "random.seed(123)\n",
        "#create a empty list\n",
        "M1_data = []\n",
        "\n",
        "# generate 100 random recovery times\n",
        "for _ in range(100):\n",
        "  recovery_time = random.uniform(5.0, 20.0)  # Generating values between 5 and 20\n",
        "  M1_data.append(np.round(recovery_time, 0))\n",
        "\n",
        "print(\"M1 data: \", M1_data)\n",
        "\n",
        "M2_data = []\n",
        "\n",
        "for _ in range(90):\n",
        "  recovery_time = random.uniform(5.0, 30.0) # Generating values between 5 and 30\n",
        "  M2_data.append(np.round(recovery_time, 0))\n",
        "\n",
        "print(\"M2 Data: \", M2_data)"
      ],
      "metadata": {
        "colab": {
          "base_uri": "https://localhost:8080/"
        },
        "id": "f5wnR8J-5Ojm",
        "outputId": "edca228a-7f32-4c6c-f396-13f472f0ec6c"
      },
      "execution_count": null,
      "outputs": [
        {
          "output_type": "stream",
          "name": "stdout",
          "text": [
            "M1 data:  [6.0, 6.0, 11.0, 7.0, 19.0, 6.0, 13.0, 10.0, 18.0, 7.0, 10.0, 10.0, 9.0, 5.0, 12.0, 6.0, 14.0, 6.0, 10.0, 12.0, 19.0, 6.0, 7.0, 17.0, 5.0, 19.0, 14.0, 9.0, 18.0, 17.0, 10.0, 17.0, 8.0, 14.0, 13.0, 17.0, 10.0, 11.0, 17.0, 13.0, 15.0, 15.0, 15.0, 18.0, 12.0, 15.0, 11.0, 5.0, 16.0, 8.0, 17.0, 19.0, 15.0, 8.0, 10.0, 11.0, 6.0, 12.0, 14.0, 10.0, 8.0, 6.0, 14.0, 5.0, 10.0, 8.0, 13.0, 16.0, 19.0, 15.0, 20.0, 19.0, 14.0, 9.0, 12.0, 8.0, 20.0, 12.0, 16.0, 6.0, 7.0, 8.0, 9.0, 10.0, 9.0, 12.0, 11.0, 7.0, 6.0, 10.0, 6.0, 11.0, 5.0, 13.0, 6.0, 15.0, 11.0, 20.0, 9.0, 12.0]\n",
            "M2 Data:  [24.0, 13.0, 14.0, 21.0, 29.0, 27.0, 15.0, 23.0, 22.0, 14.0, 11.0, 7.0, 27.0, 6.0, 18.0, 18.0, 9.0, 21.0, 28.0, 24.0, 15.0, 8.0, 29.0, 18.0, 21.0, 25.0, 15.0, 7.0, 8.0, 22.0, 14.0, 27.0, 24.0, 30.0, 22.0, 13.0, 25.0, 6.0, 18.0, 27.0, 18.0, 8.0, 18.0, 19.0, 14.0, 27.0, 14.0, 12.0, 18.0, 10.0, 13.0, 15.0, 28.0, 7.0, 10.0, 10.0, 30.0, 27.0, 10.0, 19.0, 7.0, 13.0, 14.0, 18.0, 28.0, 25.0, 18.0, 25.0, 17.0, 23.0, 24.0, 11.0, 26.0, 19.0, 17.0, 15.0, 11.0, 18.0, 8.0, 21.0, 27.0, 25.0, 20.0, 17.0, 22.0, 8.0, 6.0, 27.0, 14.0, 22.0]\n"
          ]
        }
      ]
    },
    {
      "cell_type": "code",
      "source": [
        "# Perform two sample Z-Test\n",
        "from statsmodels.stats import weightstats as stests\n",
        "from scipy import stats\n",
        "\n",
        "z_score, pval = stests.ztest(x1 = M1_data, x2=M2_data, value=0, alternative='two-sided')\n",
        "print(\"Z-score: \", z_score)\n",
        "print(\"P-value: \", pval)"
      ],
      "metadata": {
        "colab": {
          "base_uri": "https://localhost:8080/"
        },
        "id": "n3Swh5-A6Jdw",
        "outputId": "769aa668-a9f4-487b-c39b-2461b5e983d0"
      },
      "execution_count": null,
      "outputs": [
        {
          "output_type": "stream",
          "name": "stdout",
          "text": [
            "Z-score:  -7.68917478890992\n",
            "P-value:  1.4808703984296164e-14\n"
          ]
        }
      ]
    },
    {
      "cell_type": "code",
      "source": [
        "alpha = 0.01\n",
        "if pval < alpha:\n",
        "  print(\"Reject H0, (i.e The recovery time of two medicines are different)\")\n",
        "else:\n",
        "  print(\"Fail to reject H0 (i.e The reovery time of two medicines are same)\")"
      ],
      "metadata": {
        "colab": {
          "base_uri": "https://localhost:8080/"
        },
        "id": "HPbf0ZAe6ygO",
        "outputId": "d743abef-b618-4ffe-bf4a-da04b95a3cfc"
      },
      "execution_count": null,
      "outputs": [
        {
          "output_type": "stream",
          "name": "stdout",
          "text": [
            "Reject H0, (i.e The recovery time of two medicines are different)\n"
          ]
        }
      ]
    },
    {
      "cell_type": "code",
      "source": [
        "# X data\n",
        "n1 = 50\n",
        "x1 = 30\n",
        "sigma1 = 3\n",
        "\n",
        "# Y data\n",
        "n2 = 60\n",
        "x2 = 32\n",
        "sigma2 = 2.5\n",
        "\n",
        "alpha =0.05\n",
        "\n",
        "z = (x1 - x2)/np.sqrt((sigma1**2/n1) + (sigma2**2/n2))\n",
        "print(z)\n",
        "\n",
        "p_val = 2 * (1 - norm.cdf(abs(z)))\n",
        "print(p_val)\n",
        "\n",
        "if p_val < alpha:\n",
        "  print(\"Reject H0\")\n",
        "else:\n",
        "  print(\"Fail to reject H0\")"
      ],
      "metadata": {
        "colab": {
          "base_uri": "https://localhost:8080/"
        },
        "id": "tTnp8cHD7NxR",
        "outputId": "cf044887-73a7-42f8-92d4-284bc2df511f"
      },
      "execution_count": null,
      "outputs": [
        {
          "output_type": "stream",
          "name": "stdout",
          "text": [
            "-3.751832396884334\n",
            "0.00017554681014564366\n",
            "Reject H0\n"
          ]
        }
      ]
    },
    {
      "cell_type": "markdown",
      "source": [
        "Question:\n",
        "\n",
        "You are a product manager for a company that has recently launched a new product.\n",
        "\n",
        "Customer satisfaction is a critical metric, and you want to determine if the proportion of\n",
        "satisfied customers with the new product meets your target satisfaction level of 70%.\n",
        "\n",
        "You collected a random sample of 150 customer reviews, and 115 of them expressed\n",
        "satisfaction with the product.\n"
      ],
      "metadata": {
        "id": "tGy9JsCK0GYV"
      }
    },
    {
      "cell_type": "code",
      "source": [
        "# STEP1\n",
        "# What should be the null and alternate hypothesis\n",
        "'''\n",
        "Null Hypothesis (H0): The proportion of satisfied customers with the new product is equal to 70%.\n",
        "Alternate Hypothesis (H1): The proportion of satisfied customers with the new product is not equal to 70%.\n",
        "'''\n",
        "#Step 2\n",
        "# What is the distribution it follows\n",
        "# Normal distribution\n",
        "\n",
        "#STEP 3\n",
        "# Is the team looking for an effect towards the left side or right side or two-tailed?\n",
        "# Two-tailed test\n",
        "\n",
        "# STEP 4\n",
        "# We perform One sample Z- Proportion test and calculate the P-Value\n",
        "\n",
        "import numpy as np\n",
        "import scipy.stats as stats\n",
        "\n",
        "# Define the data\n",
        "# No of satisfied customers\n",
        "satisfied_cutomers = 115\n",
        "# Total no of customers in the samle\n",
        "total_customers = 150\n",
        "\n",
        "# Specify the target satisfaction level (null hypothesis)\n",
        "target_satisfaction = 0.7\n",
        "\n",
        "p = target_satisfaction\n",
        "\n",
        "# cal the test statistic (Z)\n",
        "p_hat = satisfied_cutomers/total_customers\n",
        "z = (p_hat - p) / np.sqrt((p * (1 - p)) / total_customers)\n",
        "\n",
        "# Calculate the p-value\n",
        "p_val = 2 * (1 - stats.norm.cdf(abs(z)))\n",
        "\n",
        "print(\"Z-score:\", z)\n",
        "print(\"P-value:\", p_val)"
      ],
      "metadata": {
        "colab": {
          "base_uri": "https://localhost:8080/"
        },
        "id": "8wAJzFxX0A-A",
        "outputId": "38455472-a273-4f62-e9ca-5fdd09c675d9"
      },
      "execution_count": null,
      "outputs": [
        {
          "output_type": "stream",
          "name": "stdout",
          "text": [
            "Z-score: 1.7817416127494983\n",
            "P-value: 0.07479137758694376\n"
          ]
        }
      ]
    },
    {
      "cell_type": "code",
      "source": [
        "# STEP 5\n",
        "alpha = 0.05 # for confidence level 95%\n",
        "\n",
        "if p_val < alpha:\n",
        "  print(\"Reject H0: There is enough evidence to conclude that proportion of satisfied customers with new product \")\n",
        "else:\n",
        "  print(\"Fail to reject H0\")\n"
      ],
      "metadata": {
        "colab": {
          "base_uri": "https://localhost:8080/"
        },
        "id": "j_pSKVNV15qC",
        "outputId": "e7f04381-fd62-4335-e4c1-cfac78754da4"
      },
      "execution_count": null,
      "outputs": [
        {
          "output_type": "stream",
          "name": "stdout",
          "text": [
            "Fail to reject H0\n"
          ]
        }
      ]
    },
    {
      "cell_type": "markdown",
      "source": [
        "# TWO SAMPLE Z PROPORTION TEST"
      ],
      "metadata": {
        "id": "UV-ADhcw20hn"
      }
    },
    {
      "cell_type": "code",
      "source": [],
      "metadata": {
        "id": "OOKpUX-b25Uw"
      },
      "execution_count": null,
      "outputs": []
    },
    {
      "cell_type": "markdown",
      "source": [
        "The average hourly wage of a sample of 150 workers in plant 'A' was Rs.2·87 with a standard deviation of Rs. 1·08.\n",
        "\n",
        "The average wage of a sample of 200 workers in plant 'B' was Rs. 2·56 with a standard deviation of Rs. 1·28.\n",
        "\n",
        "(i) Calculate the Z-score for this scenario.\n",
        "\n",
        "(ii) Can an applicant safely assume that the hourly wages paid by plant 'A' are higher than those paid by plant 'B' at a 1% significance level?"
      ],
      "metadata": {
        "id": "EcFCXOkz6ROD"
      }
    },
    {
      "cell_type": "code",
      "source": [
        "n1 =150\n",
        "mu1 = 2.87\n",
        "std1 = 1.08\n",
        "n2 = 200\n",
        "mu2 = 2.56\n",
        "std2 = 1.28\n",
        "\n",
        "z = (mu1 - mu2)/np.sqrt((std1**2/n1) + (std2**2/n2))\n",
        "print(z)\n",
        "\n",
        "p_val = 1- norm.cdf(z)\n",
        "print(p_val)\n",
        "alpha = 0.01\n",
        "if p_val < alpha:\n",
        "  print(\"Reject H0\")\n",
        "else:\n",
        "  print(\"Fail to reject H0\")"
      ],
      "metadata": {
        "colab": {
          "base_uri": "https://localhost:8080/"
        },
        "id": "qzZaFBov6SQG",
        "outputId": "ffc85eb3-98a8-498c-a8b0-d2bf4af848e0"
      },
      "execution_count": null,
      "outputs": [
        {
          "output_type": "stream",
          "name": "stdout",
          "text": [
            "2.453219634102559\n",
            "0.007079193063952549\n",
            "Reject H0\n"
          ]
        }
      ]
    },
    {
      "cell_type": "markdown",
      "source": [
        "The Head of Data Analyst Department is conducting a comparative analysis of the complexity of SQL queries written by two analysts, namely Analyst X and Analyst Y.\n",
        "\n",
        "He has gathered data on the number of lines of code for each SQL query.\n",
        "\n",
        "Analyst X's SQL lines of code: [15, 18, 20, 17, 16, 19, 22, 16, 18, 21, 23, 18, 17, 19, 20, 24, 25, 26, 27, 28, 19, 21, 22, 23, 24, 25, 26, 27, 28, 29, 30]\n",
        "\n",
        "Analyst Y's SQL lines of code: [14, 17, 19, 16, 15, 18, 21, 15, 17, 20, 22, 17, 16, 18, 19, 23, 24, 25, 26, 27, 18, 20, 21, 22, 23, 24, 25, 26, 27, 28, 29]\n",
        "\n",
        "The analyst hypothesizes that Analyst Y writes less complex code compared to Analyst X. To investigate this hypothesis, conduct an appropriate test with a 90% confidence interval."
      ],
      "metadata": {
        "id": "rlESp8Df9FqW"
      }
    },
    {
      "cell_type": "code",
      "source": [
        "alpha = 0.01\n",
        "x_data = [15, 18, 20, 17, 16, 19, 22, 16, 18, 21, 23, 18, 17, 19, 20, 24, 25, 26, 27, 28, 19, 21, 22, 23, 24, 25, 26, 27, 28, 29, 30]\n",
        "y_data = [14, 17, 19, 16, 15, 18, 21, 15, 17, 20, 22, 17, 16, 18, 19, 23, 24, 25, 26, 27, 18, 20, 21, 22, 23, 24, 25, 26, 27, 28, 29]\n",
        "\n",
        "# TEST 1\n",
        "'''\n",
        "Null hypothesis (H0): Analyst Y writes same complex code compared to Analyst X. (mu_x = mu_y)\n",
        "Alternative hypothesis (H1): Analyst Y writes less complex code compared to Analyst X. (mu_y < mu_x)\n",
        "'''\n",
        "\n",
        "# TEST 2\n",
        "# Distribution - Normal distribution\n",
        "# Left tailed - 2 sample Z - Test\n",
        "\n",
        "z_test, p_val = stests.ztest(x1 = y_data, x2=x_data, value=0, alternative='smaller')\n",
        "print(\"Z-score: \", z_test)\n",
        "print(\"P-value: \", p_val)\n"
      ],
      "metadata": {
        "colab": {
          "base_uri": "https://localhost:8080/"
        },
        "id": "_LwsVrQk9IVG",
        "outputId": "77a7ea00-26d7-4135-df02-341f1760677f"
      },
      "execution_count": null,
      "outputs": [
        {
          "output_type": "stream",
          "name": "stdout",
          "text": [
            "Z-score:  -0.9186781563938095\n",
            "P-value:  0.17913196923296043\n"
          ]
        }
      ]
    },
    {
      "cell_type": "markdown",
      "source": [
        "Out of a sample of 1,000 people residing in Maharashtra, 540 are rice eaters, while the rest consume wheat primarily.\n",
        "\n",
        "Can we assume that rice and wheat are equally popular in this state at a 5% significance level?"
      ],
      "metadata": {
        "id": "u3VYNyysKP56"
      }
    },
    {
      "cell_type": "code",
      "source": [
        "import statsmodels.api as sm\n",
        "alpha = 0.5\n",
        "total_population = 1000\n",
        "rice_eaters = 540\n",
        "wheat_eaters = 560 #(total_population - rice_eaters)\n",
        "\n",
        "# two tailed z-proportion test\n",
        "z_stat, p_val = sm.stats.proportions_ztest(540, 1000, 0.5, alternative='two-sided')\n",
        "print(\"Z-score: \", z_test)\n",
        "print(\"P-value: \", p_val)"
      ],
      "metadata": {
        "colab": {
          "base_uri": "https://localhost:8080/"
        },
        "id": "m-oCLsrSKOHX",
        "outputId": "5297adbe-b13c-496f-d6fe-19265be6b777"
      },
      "execution_count": null,
      "outputs": [
        {
          "output_type": "stream",
          "name": "stdout",
          "text": [
            "Z-score:  31.08996866143098\n",
            "P-value:  0.011150180283180655\n"
          ]
        }
      ]
    },
    {
      "cell_type": "code",
      "source": [
        "import statsmodels.api as sm\n",
        "\n",
        "total_population = 1000\n",
        "rice_eaters = 540\n",
        "wheat_eaters = total_population - rice_eaters\n",
        "assumed_proportion = 0.5  # Assuming equal popularity of rice and wheat\n",
        "\n",
        "# Hypothesis test\n",
        "#z_stat, p_value = sm.stats.proportions_ztest(rice_eaters, total_population, assumed_proportion, alternative='two-sided')\n",
        "z_stat, p_value = sm.stats.proportions_ztest(540, 1000, 0.5, alternative='two-sided')\n",
        "\n",
        "# Print the results\n",
        "\n",
        "print(\"Z-statistic:\", z_stat)\n",
        "print(\"P-value:\", p_value)"
      ],
      "metadata": {
        "colab": {
          "base_uri": "https://localhost:8080/"
        },
        "id": "EHguaZeTLcZA",
        "outputId": "18aebe77-1aa8-4488-e4ac-987ce45b7f75"
      },
      "execution_count": null,
      "outputs": [
        {
          "output_type": "stream",
          "name": "stdout",
          "text": [
            "Z-statistic: 2.537956625422939\n",
            "P-value: 0.011150180283180655\n"
          ]
        }
      ]
    },
    {
      "cell_type": "markdown",
      "source": [
        "A state senator cannot decide how to vote on an environmental protection bill.\n",
        "\n",
        "The senator decides to request a survey and if the proportion of registered voters supporting the bill exceeds 0.60, she will vote for it.\n",
        "\n",
        "A random sample of 750 voters is selected and 495 are found to support the bill.\n",
        "\n",
        "Conduct an appropriate test at a 90% confidence interval."
      ],
      "metadata": {
        "id": "mPJMcjAzNiLj"
      }
    },
    {
      "cell_type": "code",
      "source": [
        "sample_size = 750\n",
        "observed_support = 495\n",
        "hypothesized_proportion = 0.6\n",
        "confidence_level = 0.9\n",
        "significance_level = 1 - confidence_level\n",
        "\n",
        "# calculate Z stat\n",
        "sample_proportion = observed_support / sample_size\n",
        "z_stat = (sample_proportion - hypothesized_proportion) / np.sqrt((hypothesized_proportion * (1 - hypothesized_proportion)) / sample_size)\n",
        "\n",
        "# Calculate the p-value\n",
        "p_val = (1 - norm.cdf(z_stat))\n",
        "\n",
        "print(\"Z-statistic:\", z_stat)\n",
        "print(\"P-value:\", p_val)\n"
      ],
      "metadata": {
        "colab": {
          "base_uri": "https://localhost:8080/"
        },
        "id": "Rd1ITLzPNjJ0",
        "outputId": "a4c8fc0c-4094-45b7-8fa5-c6f93bbcaa81"
      },
      "execution_count": null,
      "outputs": [
        {
          "output_type": "stream",
          "name": "stdout",
          "text": [
            "Z-statistic: 3.354101966249688\n",
            "P-value: 0.0003981150787953913\n"
          ]
        }
      ]
    },
    {
      "cell_type": "markdown",
      "source": [
        "A fair coin should land showing tails with a relative frequency of 50% in a long series of flips.\n",
        "\n",
        "John was told by a friend that spinning a coin on a flat surface, rather than flipping it would not be fair. Spinning would cause the coin to be more biased towards giving tails.\n",
        "\n",
        "To test this claim, he spun his own penny 100 times. It was observed that the penny showed tails in 60% of the spins.\n",
        "\n",
        "Let p represent the proportion of spins that this penny would land showing tails.\n",
        "\n",
        "What are appropriate hypotheses for John's significance test?"
      ],
      "metadata": {
        "id": "LjghMhtxQ9Lv"
      }
    },
    {
      "cell_type": "code",
      "source": [],
      "metadata": {
        "id": "gUUspLW_Q-D8"
      },
      "execution_count": null,
      "outputs": []
    },
    {
      "cell_type": "markdown",
      "source": [
        "The Quidditch teams at Hogwarts conducted tryouts for two positions: Chasers and Seekers.\n",
        "\n",
        "In Group Chasers, out of 90 students who tried out, 57 were selected. In Group Seekers, out of 120 students who tried out, 98 were selected.\n",
        "\n",
        "Is there a significant difference in the proportion of students selected for Chasers and Seekers positions?\n",
        "\n",
        "Conduct a test at 90% confidence level."
      ],
      "metadata": {
        "id": "8ts12lrWRuTW"
      }
    },
    {
      "cell_type": "code",
      "source": [
        "selected_chasers = 57\n",
        "total_chasers = 90\n",
        "\n",
        "selected_seekers = 98\n",
        "total_seekers =120\n",
        "\n",
        "z_stat, p_val = sm.stats.proportions_ztest([selected_chasers, selected_seekers], [total_chasers, total_seekers], alternative='two-sided')\n",
        "\n",
        "print(\"Z-statistic:\", z_stat)\n",
        "print(\"P-value:\", p_val)\n",
        "\n",
        "alpha =0.01\n",
        "\n",
        "if p_val < alpha:\n",
        "  print(\"Reject H0\")\n",
        "else:\n",
        "  print(\"Fail to reject H0\")"
      ],
      "metadata": {
        "colab": {
          "base_uri": "https://localhost:8080/"
        },
        "id": "myECO9NZRvLR",
        "outputId": "60b51e23-aa8a-4040-e3f1-61a96b29edf2"
      },
      "execution_count": null,
      "outputs": [
        {
          "output_type": "stream",
          "name": "stdout",
          "text": [
            "Z-statistic: -2.990306921349541\n",
            "P-value: 0.002786972588958094\n",
            "Reject H0\n"
          ]
        }
      ]
    },
    {
      "cell_type": "markdown",
      "source": [
        "As a product manager, you want to evaluate the user satisfaction for two different seasons of Naruto Shippuden (Season 1 and Season 2).\n",
        "\n",
        "You collected feedback from 250 viewers who watched Season 1 of Naruto Shippuden, and 120 expressed satisfaction. Similarly, for Season 2, you gathered data from 300 viewers, and 150 of them expressed satisfaction.\n",
        "\n",
        "Conduct an appropriate test at a 95% confidence interval to determine if there's a higher user satisfaction for Season 2 than for Season 1."
      ],
      "metadata": {
        "id": "vxBdr8hqSpyF"
      }
    },
    {
      "cell_type": "code",
      "source": [
        "s1_satisfied = 120\n",
        "s1_total = 250\n",
        "\n",
        "s2_satisfied = 150\n",
        "s2_total = 300\n",
        "\n",
        "z_stat, p_val = sm.stats.proportions_ztest([s2_satisfied, s1_satisfied], [s2_total, s1_total], alternative='larger')\n",
        "\n",
        "print(\"Z-statistic:\", z_stat)\n",
        "print(\"P-value:\", p_val)\n",
        "\n",
        "alpha =0.05\n",
        "\n",
        "if p_val < alpha:\n",
        "  print(\"Reject H0\")\n",
        "else:\n",
        "  print(\"Fail to reject H0\")"
      ],
      "metadata": {
        "colab": {
          "base_uri": "https://localhost:8080/"
        },
        "id": "Uz0px17uSqim",
        "outputId": "2a5a5ff2-c14e-467a-a192-412c9ba93232"
      },
      "execution_count": null,
      "outputs": [
        {
          "output_type": "stream",
          "name": "stdout",
          "text": [
            "Z-statistic: 0.46717659215115714\n",
            "P-value: 0.3201867697265242\n",
            "Fail to reject H0\n"
          ]
        }
      ]
    },
    {
      "cell_type": "markdown",
      "source": [
        "An IT team is comparing the response times of two different web servers, Server A and Server B, under a specific load. They have collected response time data for a sample of requests.\n",
        "\n",
        "Server A: Mean response time of 120 milliseconds from 30 requests, with a standard deviation of 15 milliseconds.\n",
        "\n",
        "Server B: Mean response time of 110 milliseconds from 35 requests, with a standard deviation of 12 milliseconds.\n",
        "\n",
        "Conduct an appropriate test to determine if there is a significant difference in the mean response times between the two servers. Assume a 5% significance level."
      ],
      "metadata": {
        "id": "nKLYnNdQUO9h"
      }
    },
    {
      "cell_type": "code",
      "source": [
        "z_test = (120 - 110)/np.sqrt((15**2/30) + (12**2/35))\n",
        "z_test\n",
        "p_val = 2 * (1 - norm.cdf(abs(z_test)))\n",
        "p_val, z_test"
      ],
      "metadata": {
        "colab": {
          "base_uri": "https://localhost:8080/"
        },
        "id": "Srn4KzeZURVi",
        "outputId": "02c047d6-dc0a-4aea-8980-0d293ca3707e"
      },
      "execution_count": null,
      "outputs": [
        {
          "output_type": "execute_result",
          "data": {
            "text/plain": [
              "(0.003343064983343025, 2.9342948217350298)"
            ]
          },
          "metadata": {},
          "execution_count": 38
        }
      ]
    },
    {
      "cell_type": "markdown",
      "source": [
        "A group of archers claims that they can hit the bullseye with a success rate of 70%. To test this claim, a random sample of 100 shots is taken, and 65 of them hit the bullseye.\n",
        "\n",
        "Is there significant evidence to suggest that the archer’s actual success rate is greater than 70% at a 95% confidence level?"
      ],
      "metadata": {
        "id": "7qsSrML9VODr"
      }
    },
    {
      "cell_type": "code",
      "source": [
        "#one-sampled right tailed Z-proportion test\n",
        "\n",
        "sample_prop = 65/100\n",
        "assumed_prop = 0.7\n",
        "\n",
        "z_test = (sample_prop - assumed_prop)/np.sqrt((assumed_prop * (1 - assumed_prop))/100)\n",
        "z_test\n",
        "\n",
        "p_val = 1 - norm.cdf(z_test)\n",
        "p_val\n",
        "\n",
        "alpha = 0.05\n",
        "\n",
        "if p_val < alpha:\n",
        "  print(\"Reject H0\")\n",
        "else:\n",
        "  print(\"Fail to reject H0\")"
      ],
      "metadata": {
        "colab": {
          "base_uri": "https://localhost:8080/"
        },
        "id": "-NIYOsAfVO4U",
        "outputId": "cd6a14db-9055-491e-b0df-e1eed8abc9cd"
      },
      "execution_count": null,
      "outputs": [
        {
          "output_type": "stream",
          "name": "stdout",
          "text": [
            "Fail to reject H0\n"
          ]
        }
      ]
    },
    {
      "cell_type": "code",
      "source": [
        "z_stat, p_val = sm.stats.proportions_ztest([41, 351], [195, 605], alternative='two-sided')\n",
        "\n",
        "print(\"Z-statistic:\", z_stat)\n",
        "print(\"P-value:\", p_val)"
      ],
      "metadata": {
        "colab": {
          "base_uri": "https://localhost:8080/"
        },
        "id": "GFtp6stvWDcr",
        "outputId": "57cced8c-bb7a-4d12-9d80-3d71f2ec962d"
      },
      "execution_count": null,
      "outputs": [
        {
          "output_type": "stream",
          "name": "stdout",
          "text": [
            "Z-statistic: -8.985900954503084\n",
            "P-value: 2.566230446480293e-19\n"
          ]
        }
      ]
    },
    {
      "cell_type": "code",
      "source": [
        "'''\n",
        "H0 - mu =500\n",
        "Ha - mu > 500\n",
        "'''\n",
        "sample_std = (125 / np.sqrt(70)) #pop_std / sqrt sample_size\n",
        "\n",
        "Z = (530-500)/sample_std\n",
        "Z, 1- norm.cdf(Z)"
      ],
      "metadata": {
        "colab": {
          "base_uri": "https://localhost:8080/"
        },
        "id": "p9W9aOLsbRhv",
        "outputId": "82bb6df5-ad70-426b-d26e-3451706e1c07"
      },
      "execution_count": null,
      "outputs": [
        {
          "output_type": "execute_result",
          "data": {
            "text/plain": [
              "(2.007984063681781, 0.022322492581293485)"
            ]
          },
          "metadata": {},
          "execution_count": 44
        }
      ]
    },
    {
      "cell_type": "code",
      "source": [
        "# Critical point, find the z-score for 95% confidence\n",
        "z_score = norm.ppf(0.95)\n",
        "print(\"Critical z-score:\", z_score)"
      ],
      "metadata": {
        "colab": {
          "base_uri": "https://localhost:8080/"
        },
        "id": "fgvPJUMxcWgA",
        "outputId": "d410cb97-558f-4215-b800-cc8644b7d00b"
      },
      "execution_count": null,
      "outputs": [
        {
          "output_type": "stream",
          "name": "stdout",
          "text": [
            "Critical z-score: 1.6448536269514722\n"
          ]
        }
      ]
    },
    {
      "cell_type": "code",
      "source": [
        "x = 500 + (z_score * sample_std)\n",
        "print(\"Confidence interval:\", x)"
      ],
      "metadata": {
        "colab": {
          "base_uri": "https://localhost:8080/"
        },
        "id": "Sc45_CItchXP",
        "outputId": "27e7a526-9d71-4c3a-af66-1a1b3b44b84d"
      },
      "execution_count": null,
      "outputs": [
        {
          "output_type": "stream",
          "name": "stdout",
          "text": [
            "Confidence interval: 524.574701413748\n"
          ]
        }
      ]
    },
    {
      "cell_type": "code",
      "source": [
        "z = (540-500)/sample_std\n",
        "z, 1- norm.cdf(z)"
      ],
      "metadata": {
        "colab": {
          "base_uri": "https://localhost:8080/"
        },
        "id": "J2ebc79icuo3",
        "outputId": "a8b601b1-7d96-48d4-c672-0a830bad2741"
      },
      "execution_count": null,
      "outputs": [
        {
          "output_type": "execute_result",
          "data": {
            "text/plain": [
              "(2.6773120849090417, 0.0037107735265998754)"
            ]
          },
          "metadata": {},
          "execution_count": 47
        }
      ]
    },
    {
      "cell_type": "code",
      "source": [
        "'''\n",
        "Traditionally it is known that a green gram cultivation yields 12.0 quintals per hectare on an average.\n",
        "\n",
        "In order to increase crop yields, scientists have developed a new variety of green grams, that can supposedly produce more than the expected average yield of 12 quintals per hectare.\n",
        "\n",
        "To test the same, this variety of green grams was tested on 10 randomly selected farmer's fields.\n",
        "\n",
        "The yield (quintals/hectare) was recorded as: [14.3,12.6,13.7,10.9,13.7,12.0,11.4,12.0,12.6,13.1]\n",
        "\n",
        "With a 5% significance level, can we conclude that the average yield of this variety of green grams is more than the expected yield (12 quintals/hectare)?\n",
        "\n",
        "Perform an appropriate test and choose the correct option below :\n",
        "'''\n",
        "\n",
        "from scipy.stats import ttest_1samp, ttest_ind, ttest_rel\n",
        "import numpy as np\n",
        "\n",
        "# Given data\n",
        "yield_data = [14.3,12.6,13.7,10.9,13.7,12.0,11.4,12.0,12.6,13.1]\n",
        "\n",
        "t_stats, p_val = ttest_1samp(yield_data, popmean=12.0, alternative='greater')\n",
        "\n",
        "print(\"T-statistic:\", t_stats)\n",
        "print(\"P-value:\", p_val)\n",
        "\n",
        "alpha = 0.05\n",
        "\n",
        "if p_val < alpha:\n",
        "  print(\"Reject H0\")\n",
        "else:\n",
        "  print(\"Fail to reject H0\")"
      ],
      "metadata": {
        "colab": {
          "base_uri": "https://localhost:8080/"
        },
        "id": "4arKHkQlXGYC",
        "outputId": "5ec00e7f-8633-4898-8732-bc752904dba0"
      },
      "execution_count": null,
      "outputs": [
        {
          "output_type": "stream",
          "name": "stdout",
          "text": [
            "T-statistic: 1.8356436949305335\n",
            "P-value: 0.04979938002326665\n",
            "Reject H0\n"
          ]
        }
      ]
    },
    {
      "cell_type": "code",
      "source": [
        "'''\n",
        "Samples of Body fat percentages of few gym going men and women are recorded.\n",
        "\n",
        "men = [13.3, 6.0, 20.0, 8.0, 14.0, 19.0, 18.0, 25.0, 16.0, 24.0, 15.0, 1.0, 15.0]\n",
        "women = [22.0, 16.0, 21.7, 21.0, 30.0, 26.0, 12.0, 23.2, 28.0, 23.0]\n",
        "Perform an appropriate test to check if the mean body fat percentage of men and women is statistically different.\n",
        "\n",
        "Assume the significance level to be 5%.\n",
        "\n",
        "Choose the correct option below :\n",
        "'''\n",
        "men = [13.3, 6.0, 20.0, 8.0, 14.0, 19.0, 18.0, 25.0, 16.0, 24.0, 15.0, 1.0, 15.0]\n",
        "women = [22.0, 16.0, 21.7, 21.0, 30.0, 26.0, 12.0, 23.2, 28.0, 23.0]\n",
        "alpha = 0.05\n",
        "\n",
        "# perform t-test\n",
        "t_stat, p_val = ttest_ind(men, women, alternative='two-sided')\n",
        "\n",
        "print(\"T-statistic:\", t_stat)\n",
        "print(\"P-value:\", p_val)\n",
        "\n",
        "if p_val < alpha:\n",
        "  print(\"Reject H0\")\n",
        "else:\n",
        "  print(\"Fail to reject H0\")"
      ],
      "metadata": {
        "colab": {
          "base_uri": "https://localhost:8080/"
        },
        "id": "s0P9uMrTX2f5",
        "outputId": "7f710edf-8003-446a-a086-06c925bce8f0"
      },
      "execution_count": null,
      "outputs": [
        {
          "output_type": "stream",
          "name": "stdout",
          "text": [
            "T-statistic: -2.799960442832919\n",
            "P-value: 0.010730607904197957\n",
            "Reject H0\n"
          ]
        }
      ]
    },
    {
      "cell_type": "code",
      "source": [
        "'''\n",
        "The quality assurance department claims that on average the non-fat milk contains more than 190 mg of Calcium per 500 ml packet.\n",
        "\n",
        "To check this claim 45 packets of milk are collected and the content of calcium is recorded.\n",
        "\n",
        "Perform an appropriate test to check the claim with a 90% confidence level.\n",
        "\n",
        "data = [193, 321, 222, 158, 176, 149, 154, 223, 233, 177, 280, 244, 138, 210, 167, 129, 254, 167, 194, 191, 128, 191, 144, 184, 330, 216, 212, 142, 216, 197, 231, 133, 205, 192, 195, 243, 224, 137, 234, 171, 176, 249, 222, 234, 191]\n",
        "\n",
        "\n",
        "Note: Round off the answer to four decimal places.\n",
        "'''\n",
        "data = [193, 321, 222, 158, 176, 149, 154, 223, 233, 177, 280, 244, 138, 210, 167, 129, 254, 167, 194, 191, 128, 191, 144, 184, 330, 216, 212, 142, 216, 197, 231, 133, 205, 192, 195, 243, 224, 137, 234, 171, 176, 249, 222, 234, 191]\n",
        "\n",
        "alpha = 0.1\n",
        "\n",
        "# perform t-test\n",
        "t_test, p_val = ttest_1samp(data, popmean=190, alternative='greater')\n",
        "\n",
        "print(\"T-statistic:\", t_test)\n",
        "print(\"P-value:\", p_val)\n",
        "\n",
        "if p_val < alpha:\n",
        "  print(\"Reject H0\")\n",
        "else:\n",
        "  print(\"Fail to reject H0\")"
      ],
      "metadata": {
        "colab": {
          "base_uri": "https://localhost:8080/"
        },
        "id": "u9okADkiZzH2",
        "outputId": "5b2bd7dd-7ae6-4c41-851b-a510bfe51833"
      },
      "execution_count": null,
      "outputs": [
        {
          "output_type": "stream",
          "name": "stdout",
          "text": [
            "T-statistic: 1.3689029903414232\n",
            "P-value: 0.08898891556150607\n",
            "Reject H0\n"
          ]
        }
      ]
    },
    {
      "cell_type": "code",
      "source": [
        "'''\n",
        "There are 8 females and 12 males in a coaching class.\n",
        "\n",
        "After a practice test, the coach wants to know whether the average score of females is greater than the average score of males.\n",
        "\n",
        "Given data describes the scores of females and males in his class.\n",
        "\n",
        "female_scores=[25,30,45,49,47,35,32,42]\n",
        "\n",
        "male_scores=[45,47,25,22,29,32,27,28,40,49,50,33]\n",
        "Use an appropriate test to check whether the assumption of the coach is significant or not, at a 2% significance level?\n",
        "'''\n",
        "female_scores=[25,30,45,49,47,35,32,42]\n",
        "\n",
        "male_scores=[45,47,25,22,29,32,27,28,40,49,50,33]\n",
        "\n",
        "t_test, p_val = ttest_ind(female_scores, male_scores, alternative='greater')\n",
        "\n",
        "print(\"T-statistic:\", t_test)\n",
        "print(\"P-value:\", p_val)\n",
        "alpha = 0.02\n",
        "\n",
        "if p_val < alpha:\n",
        "  print(\"Reject H0\")\n",
        "else:\n",
        "  print(\"Fail to reject H0\")"
      ],
      "metadata": {
        "colab": {
          "base_uri": "https://localhost:8080/"
        },
        "id": "crD2wMOQag9g",
        "outputId": "bba515bf-3329-4611-bb0b-195fda58c0c5"
      },
      "execution_count": null,
      "outputs": [
        {
          "output_type": "stream",
          "name": "stdout",
          "text": [
            "T-statistic: 0.5795450171026676\n",
            "P-value: 0.2847023809445894\n",
            "Fail to reject H0\n"
          ]
        }
      ]
    },
    {
      "cell_type": "code",
      "source": [
        "'''\n",
        "An experiment was performed to compare the effectiveness of Ammonium Chloride and urea on the grain yield (in quintal per hectare) and the results are given in the arrays below:\n",
        "\n",
        "Ammonium_chloride = [13.4, 10.9, 11.2, 11.8, 14, 15.3, 14.2, 12.6, 17, 16.2, 16.5, 15.7]\n",
        "Urea = [12, 11.7, 10.7, 11.2, 14.8, 14.4, 13.9, 13.7, 16.9, 16, 15.6, 16]\n",
        "Conduct an appropriate test to compare the same with a 95% confidence level and choose the appropriate option below.\n",
        "'''\n",
        "Ammonium_chloride = [13.4, 10.9, 11.2, 11.8, 14, 15.3, 14.2, 12.6, 17, 16.2, 16.5, 15.7]\n",
        "Urea = [12, 11.7, 10.7, 11.2, 14.8, 14.4, 13.9, 13.7, 16.9, 16, 15.6, 16]\n",
        "\n",
        "t_stat, p_val = ttest_ind(Ammonium_chloride, Urea, alternative='two-sided')\n",
        "\n",
        "print(\"T-statistic:\", t_stat)\n",
        "print(\"P-value:\", p_val)\n",
        "\n",
        "alpha =0.05\n",
        "if p_val < alpha:\n",
        "  print(\"Reject H0\")\n",
        "else:\n",
        "  print(\"Fail to reject H0\")"
      ],
      "metadata": {
        "colab": {
          "base_uri": "https://localhost:8080/"
        },
        "id": "NAdjQwsPcHSd",
        "outputId": "165e6124-a4bf-47ab-c947-1ee15be3ede5"
      },
      "execution_count": null,
      "outputs": [
        {
          "output_type": "stream",
          "name": "stdout",
          "text": [
            "T-statistic: 0.1846496543760765\n",
            "P-value: 0.8551954147800473\n",
            "Fail to reject H0\n"
          ]
        }
      ]
    },
    {
      "cell_type": "code",
      "source": [
        "'''\n",
        "The Zumba trainer claims to the customers, that their new dance routine helps to reduce more weight.\n",
        "\n",
        "Weight of 8 people were recorded before and after following the new Zumba training for a month:\n",
        "\n",
        "wt_before = [85, 74, 63.5, 69.4, 71.6, 65,90,78]\n",
        "\n",
        "wt_after = [82, 71, 64, 65.2, 67.8, 64.7,95,77]\n",
        "\n",
        "Test the trainer's claim with 90% confidence. Further, what would be the pvalue?\n",
        "'''\n",
        "wt_before = [85, 74, 63.5, 69.4, 71.6, 65,90,78]\n",
        "\n",
        "wt_after = [82, 71, 64, 65.2, 67.8, 64.7,95,77]\n",
        "\n",
        "t_stat, p_val = ttest_rel(wt_before, wt_after, alternative='greater')\n",
        "\n",
        "print(\"T-statistic:\", t_stat)\n",
        "print(\"P-value:\", p_val )\n",
        "\n",
        "alpha = 0.1\n",
        "\n",
        "if p_val < alpha:\n",
        "  print(\"Reject H0\")\n",
        "else:\n",
        "  print(\"Fail to reject H0\")"
      ],
      "metadata": {
        "colab": {
          "base_uri": "https://localhost:8080/"
        },
        "id": "7hLmrWrVtqhn",
        "outputId": "efe39000-a3fd-41df-ea19-b377ee1ed354"
      },
      "execution_count": null,
      "outputs": [
        {
          "output_type": "stream",
          "name": "stdout",
          "text": [
            "T-statistic: 1.1421853793555032\n",
            "P-value: 0.14546808501326386\n",
            "Fail to reject H0\n"
          ]
        }
      ]
    },
    {
      "cell_type": "code",
      "source": [
        "'''\n",
        "A certain company decided to roll out a new training regime for its employees.\n",
        "\n",
        "To test which regime (old or new) would be preferred by the employees, they made 5 employees (who had earlier cleared the old regime) take part in the new training regime, and then score them both, out of 100.\n",
        "\n",
        "Which of the following statistical procedures would be most appropriate to test the claim that employee overall scores are the same in both training regimes?\n",
        "\n",
        "\n",
        "'''\n",
        "\n"
      ],
      "metadata": {
        "id": "gk784xQ2uOVq"
      },
      "execution_count": null,
      "outputs": []
    },
    {
      "cell_type": "code",
      "source": [
        "'''\n",
        "You are appointed as a Data Analyst for a training program deployed by the Government of India.\n",
        "\n",
        "The participants’ skills were tested before and after the training using some metrics on a scale of 10.\n",
        "\n",
        "before = [2.45, 0.69, 1.80, 2.80, 0.07, 1.67, 2.93, 0.47, 1.45, 1.34]\n",
        "\n",
        "after = [7.71, 2.17, 5.65, 8.79, 0.23, 5.23, 9.19, 1.49, 4.56, 4.20]\n",
        "Conduct an appropriate test to assess a statistically significant increase in the average skill score after the training program, and then answer the below questions accordingly.\n",
        "\n",
        "Note: Perform the test at alpha = 5%.\n",
        "'''\n",
        "before = [2.45, 0.69, 1.80, 2.80, 0.07, 1.67, 2.93, 0.47, 1.45, 1.34]\n",
        "\n",
        "after = [7.71, 2.17, 5.65, 8.79, 0.23, 5.23, 9.19, 1.49, 4.56, 4.20]\n",
        "\n",
        "t_stat, p_val = ttest_rel(before, after, alternative='less')\n",
        "\n",
        "print(\"T-statistic:\", t_stat)\n",
        "print(\"P-value:\", p_val )\n",
        "\n",
        "alpha = 0.05\n",
        "if p_val < alpha:\n",
        "  print(\"Reject H0\")\n",
        "else:\n",
        "  print(\"Fail to reject H0\")\n"
      ],
      "metadata": {
        "colab": {
          "base_uri": "https://localhost:8080/"
        },
        "id": "ntEJdopLu0np",
        "outputId": "009d0cb3-7766-457a-d8c5-b7c3423838bd"
      },
      "execution_count": null,
      "outputs": [
        {
          "output_type": "stream",
          "name": "stdout",
          "text": [
            "T-statistic: -5.111096450191605\n",
            "P-value: 0.00031778119819482275\n",
            "Reject H0\n"
          ]
        }
      ]
    },
    {
      "cell_type": "code",
      "source": [
        "'''\n",
        "The average British man is 175.3 cm tall. A survey recorded the heights of 10 UK men and we want to know whether the mean of the sample is different from the population mean.\n",
        "\n",
        "survey_height = [177.3, 182.7, 169.6, 176.3, 180.3, 179.4, 178.5, 177.2, 181.8, 176.5]\n",
        "\n",
        "Perform an appropriate test and choose the correct option below, that we can conclude with a 5% significance.\n",
        "'''\n",
        "\n",
        "survey_height = [177.3, 182.7, 169.6, 176.3, 180.3, 179.4, 178.5, 177.2, 181.8, 176.5]\n",
        "\n",
        "t_stat, p_val = ttest_1samp(survey_height, popmean=175.3, alternative='two-sided')\n",
        "\n",
        "print(\"T-statistic:\", t_stat)\n",
        "print(\"P-value:\", p_val )\n",
        "alpha = 0.05\n",
        "if p_val < alpha:\n",
        "  print(\"Reject H0\")\n",
        "else:\n",
        "  print(\"Fail to reject H0\")"
      ],
      "metadata": {
        "colab": {
          "base_uri": "https://localhost:8080/"
        },
        "id": "35044_Ygwzfe",
        "outputId": "1a2f8115-d28b-4d1c-bfcd-9dccac650987"
      },
      "execution_count": null,
      "outputs": [
        {
          "output_type": "stream",
          "name": "stdout",
          "text": [
            "T-statistic: 2.295568968083183\n",
            "P-value: 0.04734137339747034\n",
            "Reject H0\n"
          ]
        }
      ]
    },
    {
      "cell_type": "code",
      "source": [
        "'''\n",
        "Samples of IQ scores are collected from two competing schools, as follows:\n",
        "\n",
        "school_1 = [115, 111, 112, 101, 95, 98, 100, 90, 89, 108]\n",
        "school_2 = [107, 103, 91, 99, 104, 98, 117, 113, 92, 96, 108, 115, 116, 88]\n",
        "Perform an appropriate test with a 5% significance level to check if there is any statistically significant difference in the mean IQ's of these schools.\n",
        "\n",
        "Choose the correct option below :\n",
        "'''\n",
        "school_1 = [115, 111, 112, 101, 95, 98, 100, 90, 89, 108]\n",
        "school_2 = [107, 103, 91, 99, 104, 98, 117, 113, 92, 96, 108, 115, 116, 88]\n",
        "\n",
        "t_stat, p_val = ttest_ind(school_1, school_2, alternative='two-sided')\n",
        "\n",
        "print(\"T-statistic:\", t_stat)\n",
        "print(\"P-value:\", p_val )\n",
        "alpha = 0.05\n",
        "if p_val < alpha:\n",
        "  print(\"Reject H0\")\n",
        "else:\n",
        "  print(\"Fail to reject H0\")"
      ],
      "metadata": {
        "colab": {
          "base_uri": "https://localhost:8080/"
        },
        "id": "1hn7bXeIxDaC",
        "outputId": "1cfc014f-5408-4e19-c7d5-26acd2886d4f"
      },
      "execution_count": null,
      "outputs": [
        {
          "output_type": "stream",
          "name": "stdout",
          "text": [
            "T-statistic: -0.36928503344341035\n",
            "P-value: 0.7154458095186707\n",
            "Fail to reject H0\n"
          ]
        }
      ]
    },
    {
      "cell_type": "code",
      "source": [
        "import threading\n",
        "import time\n",
        "import cachetools\n",
        "from cachetools import TTLCache\n",
        "from sqlalchemy import create_engine"
      ],
      "metadata": {
        "id": "_gbZnCb5cPmP"
      },
      "execution_count": null,
      "outputs": []
    },
    {
      "cell_type": "code",
      "source": [
        "dir(cachetools)"
      ],
      "metadata": {
        "colab": {
          "base_uri": "https://localhost:8080/"
        },
        "id": "RfeirmiEcRVO",
        "outputId": "6e94f093-ca8d-4f15-e6d5-ad0c8e402a65"
      },
      "execution_count": null,
      "outputs": [
        {
          "output_type": "execute_result",
          "data": {
            "text/plain": [
              "['Cache',\n",
              " 'FIFOCache',\n",
              " 'LFUCache',\n",
              " 'LRUCache',\n",
              " 'MRUCache',\n",
              " 'RRCache',\n",
              " 'TLRUCache',\n",
              " 'TTLCache',\n",
              " '_CacheInfo',\n",
              " '_DefaultSize',\n",
              " '_TimedCache',\n",
              " '__all__',\n",
              " '__builtins__',\n",
              " '__cached__',\n",
              " '__doc__',\n",
              " '__file__',\n",
              " '__loader__',\n",
              " '__name__',\n",
              " '__package__',\n",
              " '__path__',\n",
              " '__spec__',\n",
              " '__version__',\n",
              " 'cached',\n",
              " 'cachedmethod',\n",
              " 'collections',\n",
              " 'functools',\n",
              " 'heapq',\n",
              " 'keys',\n",
              " 'random',\n",
              " 'time']"
            ]
          },
          "metadata": {},
          "execution_count": 2
        }
      ]
    },
    {
      "cell_type": "markdown",
      "source": [
        "# ROOT CAUSE ANALYSIS - UBER CASE STUDY"
      ],
      "metadata": {
        "id": "4365rMcQYD5B"
      }
    },
    {
      "cell_type": "code",
      "source": [
        "import numpy as np\n",
        "import pandas as pd\n",
        "import matplotlib.pyplot as plt\n",
        "import seaborn as sns"
      ],
      "metadata": {
        "id": "8R2e1CRRYM0F"
      },
      "execution_count": null,
      "outputs": []
    },
    {
      "cell_type": "code",
      "source": [
        "\n",
        "import warnings\n",
        "warnings.filterwarnings('ignore')\n",
        "\n",
        "sns.set_style('whitegrid')"
      ],
      "metadata": {
        "id": "kHCBvFz8YV2g"
      },
      "execution_count": null,
      "outputs": []
    },
    {
      "cell_type": "code",
      "source": [
        "df = pd.read_csv('uber-data.csv')\n",
        "df.head()"
      ],
      "metadata": {
        "colab": {
          "base_uri": "https://localhost:8080/",
          "height": 206
        },
        "id": "xamiBZ9QbYze",
        "outputId": "a536d75e-31b5-4abd-db3d-2e6d0aa284ff"
      },
      "execution_count": null,
      "outputs": [
        {
          "output_type": "execute_result",
          "data": {
            "text/plain": [
              "   Request id Pickup point  Driver id          Status    Request timestamp  \\\n",
              "0         619      Airport        1.0  Trip Completed      11/7/2016 11:51   \n",
              "1         867      Airport        1.0  Trip Completed      11/7/2016 17:57   \n",
              "2        1807         City        1.0  Trip Completed       12/7/2016 9:17   \n",
              "3        2532      Airport        1.0  Trip Completed      12/7/2016 21:08   \n",
              "4        3112         City        1.0  Trip Completed  13-07-2016 08:33:16   \n",
              "\n",
              "        Drop timestamp  \n",
              "0      11/7/2016 13:00  \n",
              "1      11/7/2016 18:47  \n",
              "2       12/7/2016 9:58  \n",
              "3      12/7/2016 22:03  \n",
              "4  13-07-2016 09:25:47  "
            ],
            "text/html": [
              "\n",
              "  <div id=\"df-71762827-500b-4a25-8dc6-aa2e4f87cfaa\" class=\"colab-df-container\">\n",
              "    <div>\n",
              "<style scoped>\n",
              "    .dataframe tbody tr th:only-of-type {\n",
              "        vertical-align: middle;\n",
              "    }\n",
              "\n",
              "    .dataframe tbody tr th {\n",
              "        vertical-align: top;\n",
              "    }\n",
              "\n",
              "    .dataframe thead th {\n",
              "        text-align: right;\n",
              "    }\n",
              "</style>\n",
              "<table border=\"1\" class=\"dataframe\">\n",
              "  <thead>\n",
              "    <tr style=\"text-align: right;\">\n",
              "      <th></th>\n",
              "      <th>Request id</th>\n",
              "      <th>Pickup point</th>\n",
              "      <th>Driver id</th>\n",
              "      <th>Status</th>\n",
              "      <th>Request timestamp</th>\n",
              "      <th>Drop timestamp</th>\n",
              "    </tr>\n",
              "  </thead>\n",
              "  <tbody>\n",
              "    <tr>\n",
              "      <th>0</th>\n",
              "      <td>619</td>\n",
              "      <td>Airport</td>\n",
              "      <td>1.0</td>\n",
              "      <td>Trip Completed</td>\n",
              "      <td>11/7/2016 11:51</td>\n",
              "      <td>11/7/2016 13:00</td>\n",
              "    </tr>\n",
              "    <tr>\n",
              "      <th>1</th>\n",
              "      <td>867</td>\n",
              "      <td>Airport</td>\n",
              "      <td>1.0</td>\n",
              "      <td>Trip Completed</td>\n",
              "      <td>11/7/2016 17:57</td>\n",
              "      <td>11/7/2016 18:47</td>\n",
              "    </tr>\n",
              "    <tr>\n",
              "      <th>2</th>\n",
              "      <td>1807</td>\n",
              "      <td>City</td>\n",
              "      <td>1.0</td>\n",
              "      <td>Trip Completed</td>\n",
              "      <td>12/7/2016 9:17</td>\n",
              "      <td>12/7/2016 9:58</td>\n",
              "    </tr>\n",
              "    <tr>\n",
              "      <th>3</th>\n",
              "      <td>2532</td>\n",
              "      <td>Airport</td>\n",
              "      <td>1.0</td>\n",
              "      <td>Trip Completed</td>\n",
              "      <td>12/7/2016 21:08</td>\n",
              "      <td>12/7/2016 22:03</td>\n",
              "    </tr>\n",
              "    <tr>\n",
              "      <th>4</th>\n",
              "      <td>3112</td>\n",
              "      <td>City</td>\n",
              "      <td>1.0</td>\n",
              "      <td>Trip Completed</td>\n",
              "      <td>13-07-2016 08:33:16</td>\n",
              "      <td>13-07-2016 09:25:47</td>\n",
              "    </tr>\n",
              "  </tbody>\n",
              "</table>\n",
              "</div>\n",
              "    <div class=\"colab-df-buttons\">\n",
              "\n",
              "  <div class=\"colab-df-container\">\n",
              "    <button class=\"colab-df-convert\" onclick=\"convertToInteractive('df-71762827-500b-4a25-8dc6-aa2e4f87cfaa')\"\n",
              "            title=\"Convert this dataframe to an interactive table.\"\n",
              "            style=\"display:none;\">\n",
              "\n",
              "  <svg xmlns=\"http://www.w3.org/2000/svg\" height=\"24px\" viewBox=\"0 -960 960 960\">\n",
              "    <path d=\"M120-120v-720h720v720H120Zm60-500h600v-160H180v160Zm220 220h160v-160H400v160Zm0 220h160v-160H400v160ZM180-400h160v-160H180v160Zm440 0h160v-160H620v160ZM180-180h160v-160H180v160Zm440 0h160v-160H620v160Z\"/>\n",
              "  </svg>\n",
              "    </button>\n",
              "\n",
              "  <style>\n",
              "    .colab-df-container {\n",
              "      display:flex;\n",
              "      gap: 12px;\n",
              "    }\n",
              "\n",
              "    .colab-df-convert {\n",
              "      background-color: #E8F0FE;\n",
              "      border: none;\n",
              "      border-radius: 50%;\n",
              "      cursor: pointer;\n",
              "      display: none;\n",
              "      fill: #1967D2;\n",
              "      height: 32px;\n",
              "      padding: 0 0 0 0;\n",
              "      width: 32px;\n",
              "    }\n",
              "\n",
              "    .colab-df-convert:hover {\n",
              "      background-color: #E2EBFA;\n",
              "      box-shadow: 0px 1px 2px rgba(60, 64, 67, 0.3), 0px 1px 3px 1px rgba(60, 64, 67, 0.15);\n",
              "      fill: #174EA6;\n",
              "    }\n",
              "\n",
              "    .colab-df-buttons div {\n",
              "      margin-bottom: 4px;\n",
              "    }\n",
              "\n",
              "    [theme=dark] .colab-df-convert {\n",
              "      background-color: #3B4455;\n",
              "      fill: #D2E3FC;\n",
              "    }\n",
              "\n",
              "    [theme=dark] .colab-df-convert:hover {\n",
              "      background-color: #434B5C;\n",
              "      box-shadow: 0px 1px 3px 1px rgba(0, 0, 0, 0.15);\n",
              "      filter: drop-shadow(0px 1px 2px rgba(0, 0, 0, 0.3));\n",
              "      fill: #FFFFFF;\n",
              "    }\n",
              "  </style>\n",
              "\n",
              "    <script>\n",
              "      const buttonEl =\n",
              "        document.querySelector('#df-71762827-500b-4a25-8dc6-aa2e4f87cfaa button.colab-df-convert');\n",
              "      buttonEl.style.display =\n",
              "        google.colab.kernel.accessAllowed ? 'block' : 'none';\n",
              "\n",
              "      async function convertToInteractive(key) {\n",
              "        const element = document.querySelector('#df-71762827-500b-4a25-8dc6-aa2e4f87cfaa');\n",
              "        const dataTable =\n",
              "          await google.colab.kernel.invokeFunction('convertToInteractive',\n",
              "                                                    [key], {});\n",
              "        if (!dataTable) return;\n",
              "\n",
              "        const docLinkHtml = 'Like what you see? Visit the ' +\n",
              "          '<a target=\"_blank\" href=https://colab.research.google.com/notebooks/data_table.ipynb>data table notebook</a>'\n",
              "          + ' to learn more about interactive tables.';\n",
              "        element.innerHTML = '';\n",
              "        dataTable['output_type'] = 'display_data';\n",
              "        await google.colab.output.renderOutput(dataTable, element);\n",
              "        const docLink = document.createElement('div');\n",
              "        docLink.innerHTML = docLinkHtml;\n",
              "        element.appendChild(docLink);\n",
              "      }\n",
              "    </script>\n",
              "  </div>\n",
              "\n",
              "\n",
              "<div id=\"df-695cb6d9-a0a9-494a-b2ba-65de46b22a9e\">\n",
              "  <button class=\"colab-df-quickchart\" onclick=\"quickchart('df-695cb6d9-a0a9-494a-b2ba-65de46b22a9e')\"\n",
              "            title=\"Suggest charts\"\n",
              "            style=\"display:none;\">\n",
              "\n",
              "<svg xmlns=\"http://www.w3.org/2000/svg\" height=\"24px\"viewBox=\"0 0 24 24\"\n",
              "     width=\"24px\">\n",
              "    <g>\n",
              "        <path d=\"M19 3H5c-1.1 0-2 .9-2 2v14c0 1.1.9 2 2 2h14c1.1 0 2-.9 2-2V5c0-1.1-.9-2-2-2zM9 17H7v-7h2v7zm4 0h-2V7h2v10zm4 0h-2v-4h2v4z\"/>\n",
              "    </g>\n",
              "</svg>\n",
              "  </button>\n",
              "\n",
              "<style>\n",
              "  .colab-df-quickchart {\n",
              "      --bg-color: #E8F0FE;\n",
              "      --fill-color: #1967D2;\n",
              "      --hover-bg-color: #E2EBFA;\n",
              "      --hover-fill-color: #174EA6;\n",
              "      --disabled-fill-color: #AAA;\n",
              "      --disabled-bg-color: #DDD;\n",
              "  }\n",
              "\n",
              "  [theme=dark] .colab-df-quickchart {\n",
              "      --bg-color: #3B4455;\n",
              "      --fill-color: #D2E3FC;\n",
              "      --hover-bg-color: #434B5C;\n",
              "      --hover-fill-color: #FFFFFF;\n",
              "      --disabled-bg-color: #3B4455;\n",
              "      --disabled-fill-color: #666;\n",
              "  }\n",
              "\n",
              "  .colab-df-quickchart {\n",
              "    background-color: var(--bg-color);\n",
              "    border: none;\n",
              "    border-radius: 50%;\n",
              "    cursor: pointer;\n",
              "    display: none;\n",
              "    fill: var(--fill-color);\n",
              "    height: 32px;\n",
              "    padding: 0;\n",
              "    width: 32px;\n",
              "  }\n",
              "\n",
              "  .colab-df-quickchart:hover {\n",
              "    background-color: var(--hover-bg-color);\n",
              "    box-shadow: 0 1px 2px rgba(60, 64, 67, 0.3), 0 1px 3px 1px rgba(60, 64, 67, 0.15);\n",
              "    fill: var(--button-hover-fill-color);\n",
              "  }\n",
              "\n",
              "  .colab-df-quickchart-complete:disabled,\n",
              "  .colab-df-quickchart-complete:disabled:hover {\n",
              "    background-color: var(--disabled-bg-color);\n",
              "    fill: var(--disabled-fill-color);\n",
              "    box-shadow: none;\n",
              "  }\n",
              "\n",
              "  .colab-df-spinner {\n",
              "    border: 2px solid var(--fill-color);\n",
              "    border-color: transparent;\n",
              "    border-bottom-color: var(--fill-color);\n",
              "    animation:\n",
              "      spin 1s steps(1) infinite;\n",
              "  }\n",
              "\n",
              "  @keyframes spin {\n",
              "    0% {\n",
              "      border-color: transparent;\n",
              "      border-bottom-color: var(--fill-color);\n",
              "      border-left-color: var(--fill-color);\n",
              "    }\n",
              "    20% {\n",
              "      border-color: transparent;\n",
              "      border-left-color: var(--fill-color);\n",
              "      border-top-color: var(--fill-color);\n",
              "    }\n",
              "    30% {\n",
              "      border-color: transparent;\n",
              "      border-left-color: var(--fill-color);\n",
              "      border-top-color: var(--fill-color);\n",
              "      border-right-color: var(--fill-color);\n",
              "    }\n",
              "    40% {\n",
              "      border-color: transparent;\n",
              "      border-right-color: var(--fill-color);\n",
              "      border-top-color: var(--fill-color);\n",
              "    }\n",
              "    60% {\n",
              "      border-color: transparent;\n",
              "      border-right-color: var(--fill-color);\n",
              "    }\n",
              "    80% {\n",
              "      border-color: transparent;\n",
              "      border-right-color: var(--fill-color);\n",
              "      border-bottom-color: var(--fill-color);\n",
              "    }\n",
              "    90% {\n",
              "      border-color: transparent;\n",
              "      border-bottom-color: var(--fill-color);\n",
              "    }\n",
              "  }\n",
              "</style>\n",
              "\n",
              "  <script>\n",
              "    async function quickchart(key) {\n",
              "      const quickchartButtonEl =\n",
              "        document.querySelector('#' + key + ' button');\n",
              "      quickchartButtonEl.disabled = true;  // To prevent multiple clicks.\n",
              "      quickchartButtonEl.classList.add('colab-df-spinner');\n",
              "      try {\n",
              "        const charts = await google.colab.kernel.invokeFunction(\n",
              "            'suggestCharts', [key], {});\n",
              "      } catch (error) {\n",
              "        console.error('Error during call to suggestCharts:', error);\n",
              "      }\n",
              "      quickchartButtonEl.classList.remove('colab-df-spinner');\n",
              "      quickchartButtonEl.classList.add('colab-df-quickchart-complete');\n",
              "    }\n",
              "    (() => {\n",
              "      let quickchartButtonEl =\n",
              "        document.querySelector('#df-695cb6d9-a0a9-494a-b2ba-65de46b22a9e button');\n",
              "      quickchartButtonEl.style.display =\n",
              "        google.colab.kernel.accessAllowed ? 'block' : 'none';\n",
              "    })();\n",
              "  </script>\n",
              "</div>\n",
              "\n",
              "    </div>\n",
              "  </div>\n"
            ],
            "application/vnd.google.colaboratory.intrinsic+json": {
              "type": "dataframe",
              "variable_name": "df",
              "summary": "{\n  \"name\": \"df\",\n  \"rows\": 6745,\n  \"fields\": [\n    {\n      \"column\": \"Request id\",\n      \"properties\": {\n        \"dtype\": \"number\",\n        \"std\": 1955,\n        \"min\": 1,\n        \"max\": 6766,\n        \"num_unique_values\": 6745,\n        \"samples\": [\n          2761,\n          1342,\n          44\n        ],\n        \"semantic_type\": \"\",\n        \"description\": \"\"\n      }\n    },\n    {\n      \"column\": \"Pickup point\",\n      \"properties\": {\n        \"dtype\": \"category\",\n        \"num_unique_values\": 2,\n        \"samples\": [\n          \"City\",\n          \"Airport\"\n        ],\n        \"semantic_type\": \"\",\n        \"description\": \"\"\n      }\n    },\n    {\n      \"column\": \"Driver id\",\n      \"properties\": {\n        \"dtype\": \"number\",\n        \"std\": 86.05199423275747,\n        \"min\": 1.0,\n        \"max\": 300.0,\n        \"num_unique_values\": 300,\n        \"samples\": [\n          204.0,\n          267.0\n        ],\n        \"semantic_type\": \"\",\n        \"description\": \"\"\n      }\n    },\n    {\n      \"column\": \"Status\",\n      \"properties\": {\n        \"dtype\": \"category\",\n        \"num_unique_values\": 3,\n        \"samples\": [\n          \"Trip Completed\",\n          \"Cancelled\"\n        ],\n        \"semantic_type\": \"\",\n        \"description\": \"\"\n      }\n    },\n    {\n      \"column\": \"Request timestamp\",\n      \"properties\": {\n        \"dtype\": \"string\",\n        \"num_unique_values\": 5618,\n        \"samples\": [\n          \"13-07-2016 08:33:01\",\n          \"14-07-2016 08:06:48\"\n        ],\n        \"semantic_type\": \"\",\n        \"description\": \"\"\n      }\n    },\n    {\n      \"column\": \"Drop timestamp\",\n      \"properties\": {\n        \"dtype\": \"category\",\n        \"num_unique_values\": 2598,\n        \"samples\": [\n          \"15-07-2016 06:50:02\",\n          \"13-07-2016 16:11:42\"\n        ],\n        \"semantic_type\": \"\",\n        \"description\": \"\"\n      }\n    }\n  ]\n}"
            }
          },
          "metadata": {},
          "execution_count": 14
        }
      ]
    },
    {
      "cell_type": "code",
      "source": [
        "# Shape of the dataset -\n",
        "\n",
        "print(\"No. of rows: {}\".format(df.shape[0]))\n",
        "print(\"No. of cols: {}\".format(df.shape[1]))"
      ],
      "metadata": {
        "colab": {
          "base_uri": "https://localhost:8080/"
        },
        "id": "zysvn22Uewfq",
        "outputId": "4754f5fe-5b90-46f9-9732-53366fe014c5"
      },
      "execution_count": null,
      "outputs": [
        {
          "output_type": "stream",
          "name": "stdout",
          "text": [
            "No. of rows: 6745\n",
            "No. of cols: 6\n"
          ]
        }
      ]
    },
    {
      "cell_type": "code",
      "source": [
        "df.info()"
      ],
      "metadata": {
        "colab": {
          "base_uri": "https://localhost:8080/"
        },
        "id": "CBPZfUOPeya6",
        "outputId": "17fa37d0-1e1b-4033-bae6-d06b0b2b7f7c"
      },
      "execution_count": null,
      "outputs": [
        {
          "output_type": "stream",
          "name": "stdout",
          "text": [
            "<class 'pandas.core.frame.DataFrame'>\n",
            "RangeIndex: 6745 entries, 0 to 6744\n",
            "Data columns (total 6 columns):\n",
            " #   Column             Non-Null Count  Dtype  \n",
            "---  ------             --------------  -----  \n",
            " 0   Request id         6745 non-null   int64  \n",
            " 1   Pickup point       6745 non-null   object \n",
            " 2   Driver id          4095 non-null   float64\n",
            " 3   Status             6745 non-null   object \n",
            " 4   Request timestamp  6745 non-null   object \n",
            " 5   Drop timestamp     2831 non-null   object \n",
            "dtypes: float64(1), int64(1), object(4)\n",
            "memory usage: 316.3+ KB\n"
          ]
        }
      ]
    },
    {
      "cell_type": "code",
      "source": [
        "df['Request timestamp_1'] = pd.to_datetime(df['Request timestamp'], format='%d-%m-%Y %H:%M:%S', errors='coerce')\n",
        "df['Request timestamp_2'] = pd.to_datetime(df['Request timestamp'], format='%d/%m/%Y %H:%M', errors='coerce')\n",
        "df['Request timestamp']=df['Request timestamp_2'].combine_first(df['Request timestamp_1'])\n",
        "\n",
        "# Convert Drop timestamp column to datetime dtype\n",
        "df['Drop timestamp_1'] = pd.to_datetime(df['Drop timestamp'], format='%d-%m-%Y %H:%M:%S', errors='coerce')\n",
        "df['Drop timestamp_2']=pd.to_datetime(df['Drop timestamp'], format='%d/%m/%Y %H:%M', errors='coerce')\n",
        "df['Drop timestamp']=df['Drop timestamp_2'].combine_first(df['Drop timestamp_1'])\n",
        "\n",
        "df.head()"
      ],
      "metadata": {
        "colab": {
          "base_uri": "https://localhost:8080/",
          "height": 206
        },
        "id": "w8fE5dSffE-X",
        "outputId": "058c41fe-9793-47ed-8dde-2fc3cd721e6c"
      },
      "execution_count": null,
      "outputs": [
        {
          "output_type": "execute_result",
          "data": {
            "text/plain": [
              "   Request id Pickup point  Driver id          Status   Request timestamp  \\\n",
              "0         619      Airport        1.0  Trip Completed 2016-07-11 11:51:00   \n",
              "1         867      Airport        1.0  Trip Completed 2016-07-11 17:57:00   \n",
              "2        1807         City        1.0  Trip Completed 2016-07-12 09:17:00   \n",
              "3        2532      Airport        1.0  Trip Completed 2016-07-12 21:08:00   \n",
              "4        3112         City        1.0  Trip Completed 2016-07-13 08:33:16   \n",
              "\n",
              "       Drop timestamp Request timestamp_1 Request timestamp_2  \\\n",
              "0 2016-07-11 13:00:00 2016-07-11 11:51:00 2016-07-11 11:51:00   \n",
              "1 2016-07-11 18:47:00 2016-07-11 17:57:00 2016-07-11 17:57:00   \n",
              "2 2016-07-12 09:58:00 2016-07-12 09:17:00 2016-07-12 09:17:00   \n",
              "3 2016-07-12 22:03:00 2016-07-12 21:08:00 2016-07-12 21:08:00   \n",
              "4 2016-07-13 09:25:47 2016-07-13 08:33:16 2016-07-13 08:33:16   \n",
              "\n",
              "     Drop timestamp_1    Drop timestamp_2  \n",
              "0                 NaT 2016-07-11 13:00:00  \n",
              "1                 NaT 2016-07-11 18:47:00  \n",
              "2                 NaT 2016-07-12 09:58:00  \n",
              "3                 NaT 2016-07-12 22:03:00  \n",
              "4 2016-07-13 09:25:47                 NaT  "
            ],
            "text/html": [
              "\n",
              "  <div id=\"df-bdea50de-6278-401d-8f1e-a5e8f08b0f9b\" class=\"colab-df-container\">\n",
              "    <div>\n",
              "<style scoped>\n",
              "    .dataframe tbody tr th:only-of-type {\n",
              "        vertical-align: middle;\n",
              "    }\n",
              "\n",
              "    .dataframe tbody tr th {\n",
              "        vertical-align: top;\n",
              "    }\n",
              "\n",
              "    .dataframe thead th {\n",
              "        text-align: right;\n",
              "    }\n",
              "</style>\n",
              "<table border=\"1\" class=\"dataframe\">\n",
              "  <thead>\n",
              "    <tr style=\"text-align: right;\">\n",
              "      <th></th>\n",
              "      <th>Request id</th>\n",
              "      <th>Pickup point</th>\n",
              "      <th>Driver id</th>\n",
              "      <th>Status</th>\n",
              "      <th>Request timestamp</th>\n",
              "      <th>Drop timestamp</th>\n",
              "      <th>Request timestamp_1</th>\n",
              "      <th>Request timestamp_2</th>\n",
              "      <th>Drop timestamp_1</th>\n",
              "      <th>Drop timestamp_2</th>\n",
              "    </tr>\n",
              "  </thead>\n",
              "  <tbody>\n",
              "    <tr>\n",
              "      <th>0</th>\n",
              "      <td>619</td>\n",
              "      <td>Airport</td>\n",
              "      <td>1.0</td>\n",
              "      <td>Trip Completed</td>\n",
              "      <td>2016-07-11 11:51:00</td>\n",
              "      <td>2016-07-11 13:00:00</td>\n",
              "      <td>2016-07-11 11:51:00</td>\n",
              "      <td>2016-07-11 11:51:00</td>\n",
              "      <td>NaT</td>\n",
              "      <td>2016-07-11 13:00:00</td>\n",
              "    </tr>\n",
              "    <tr>\n",
              "      <th>1</th>\n",
              "      <td>867</td>\n",
              "      <td>Airport</td>\n",
              "      <td>1.0</td>\n",
              "      <td>Trip Completed</td>\n",
              "      <td>2016-07-11 17:57:00</td>\n",
              "      <td>2016-07-11 18:47:00</td>\n",
              "      <td>2016-07-11 17:57:00</td>\n",
              "      <td>2016-07-11 17:57:00</td>\n",
              "      <td>NaT</td>\n",
              "      <td>2016-07-11 18:47:00</td>\n",
              "    </tr>\n",
              "    <tr>\n",
              "      <th>2</th>\n",
              "      <td>1807</td>\n",
              "      <td>City</td>\n",
              "      <td>1.0</td>\n",
              "      <td>Trip Completed</td>\n",
              "      <td>2016-07-12 09:17:00</td>\n",
              "      <td>2016-07-12 09:58:00</td>\n",
              "      <td>2016-07-12 09:17:00</td>\n",
              "      <td>2016-07-12 09:17:00</td>\n",
              "      <td>NaT</td>\n",
              "      <td>2016-07-12 09:58:00</td>\n",
              "    </tr>\n",
              "    <tr>\n",
              "      <th>3</th>\n",
              "      <td>2532</td>\n",
              "      <td>Airport</td>\n",
              "      <td>1.0</td>\n",
              "      <td>Trip Completed</td>\n",
              "      <td>2016-07-12 21:08:00</td>\n",
              "      <td>2016-07-12 22:03:00</td>\n",
              "      <td>2016-07-12 21:08:00</td>\n",
              "      <td>2016-07-12 21:08:00</td>\n",
              "      <td>NaT</td>\n",
              "      <td>2016-07-12 22:03:00</td>\n",
              "    </tr>\n",
              "    <tr>\n",
              "      <th>4</th>\n",
              "      <td>3112</td>\n",
              "      <td>City</td>\n",
              "      <td>1.0</td>\n",
              "      <td>Trip Completed</td>\n",
              "      <td>2016-07-13 08:33:16</td>\n",
              "      <td>2016-07-13 09:25:47</td>\n",
              "      <td>2016-07-13 08:33:16</td>\n",
              "      <td>2016-07-13 08:33:16</td>\n",
              "      <td>2016-07-13 09:25:47</td>\n",
              "      <td>NaT</td>\n",
              "    </tr>\n",
              "  </tbody>\n",
              "</table>\n",
              "</div>\n",
              "    <div class=\"colab-df-buttons\">\n",
              "\n",
              "  <div class=\"colab-df-container\">\n",
              "    <button class=\"colab-df-convert\" onclick=\"convertToInteractive('df-bdea50de-6278-401d-8f1e-a5e8f08b0f9b')\"\n",
              "            title=\"Convert this dataframe to an interactive table.\"\n",
              "            style=\"display:none;\">\n",
              "\n",
              "  <svg xmlns=\"http://www.w3.org/2000/svg\" height=\"24px\" viewBox=\"0 -960 960 960\">\n",
              "    <path d=\"M120-120v-720h720v720H120Zm60-500h600v-160H180v160Zm220 220h160v-160H400v160Zm0 220h160v-160H400v160ZM180-400h160v-160H180v160Zm440 0h160v-160H620v160ZM180-180h160v-160H180v160Zm440 0h160v-160H620v160Z\"/>\n",
              "  </svg>\n",
              "    </button>\n",
              "\n",
              "  <style>\n",
              "    .colab-df-container {\n",
              "      display:flex;\n",
              "      gap: 12px;\n",
              "    }\n",
              "\n",
              "    .colab-df-convert {\n",
              "      background-color: #E8F0FE;\n",
              "      border: none;\n",
              "      border-radius: 50%;\n",
              "      cursor: pointer;\n",
              "      display: none;\n",
              "      fill: #1967D2;\n",
              "      height: 32px;\n",
              "      padding: 0 0 0 0;\n",
              "      width: 32px;\n",
              "    }\n",
              "\n",
              "    .colab-df-convert:hover {\n",
              "      background-color: #E2EBFA;\n",
              "      box-shadow: 0px 1px 2px rgba(60, 64, 67, 0.3), 0px 1px 3px 1px rgba(60, 64, 67, 0.15);\n",
              "      fill: #174EA6;\n",
              "    }\n",
              "\n",
              "    .colab-df-buttons div {\n",
              "      margin-bottom: 4px;\n",
              "    }\n",
              "\n",
              "    [theme=dark] .colab-df-convert {\n",
              "      background-color: #3B4455;\n",
              "      fill: #D2E3FC;\n",
              "    }\n",
              "\n",
              "    [theme=dark] .colab-df-convert:hover {\n",
              "      background-color: #434B5C;\n",
              "      box-shadow: 0px 1px 3px 1px rgba(0, 0, 0, 0.15);\n",
              "      filter: drop-shadow(0px 1px 2px rgba(0, 0, 0, 0.3));\n",
              "      fill: #FFFFFF;\n",
              "    }\n",
              "  </style>\n",
              "\n",
              "    <script>\n",
              "      const buttonEl =\n",
              "        document.querySelector('#df-bdea50de-6278-401d-8f1e-a5e8f08b0f9b button.colab-df-convert');\n",
              "      buttonEl.style.display =\n",
              "        google.colab.kernel.accessAllowed ? 'block' : 'none';\n",
              "\n",
              "      async function convertToInteractive(key) {\n",
              "        const element = document.querySelector('#df-bdea50de-6278-401d-8f1e-a5e8f08b0f9b');\n",
              "        const dataTable =\n",
              "          await google.colab.kernel.invokeFunction('convertToInteractive',\n",
              "                                                    [key], {});\n",
              "        if (!dataTable) return;\n",
              "\n",
              "        const docLinkHtml = 'Like what you see? Visit the ' +\n",
              "          '<a target=\"_blank\" href=https://colab.research.google.com/notebooks/data_table.ipynb>data table notebook</a>'\n",
              "          + ' to learn more about interactive tables.';\n",
              "        element.innerHTML = '';\n",
              "        dataTable['output_type'] = 'display_data';\n",
              "        await google.colab.output.renderOutput(dataTable, element);\n",
              "        const docLink = document.createElement('div');\n",
              "        docLink.innerHTML = docLinkHtml;\n",
              "        element.appendChild(docLink);\n",
              "      }\n",
              "    </script>\n",
              "  </div>\n",
              "\n",
              "\n",
              "<div id=\"df-8dd0b0f7-6265-45c1-b5d3-4af974cfe411\">\n",
              "  <button class=\"colab-df-quickchart\" onclick=\"quickchart('df-8dd0b0f7-6265-45c1-b5d3-4af974cfe411')\"\n",
              "            title=\"Suggest charts\"\n",
              "            style=\"display:none;\">\n",
              "\n",
              "<svg xmlns=\"http://www.w3.org/2000/svg\" height=\"24px\"viewBox=\"0 0 24 24\"\n",
              "     width=\"24px\">\n",
              "    <g>\n",
              "        <path d=\"M19 3H5c-1.1 0-2 .9-2 2v14c0 1.1.9 2 2 2h14c1.1 0 2-.9 2-2V5c0-1.1-.9-2-2-2zM9 17H7v-7h2v7zm4 0h-2V7h2v10zm4 0h-2v-4h2v4z\"/>\n",
              "    </g>\n",
              "</svg>\n",
              "  </button>\n",
              "\n",
              "<style>\n",
              "  .colab-df-quickchart {\n",
              "      --bg-color: #E8F0FE;\n",
              "      --fill-color: #1967D2;\n",
              "      --hover-bg-color: #E2EBFA;\n",
              "      --hover-fill-color: #174EA6;\n",
              "      --disabled-fill-color: #AAA;\n",
              "      --disabled-bg-color: #DDD;\n",
              "  }\n",
              "\n",
              "  [theme=dark] .colab-df-quickchart {\n",
              "      --bg-color: #3B4455;\n",
              "      --fill-color: #D2E3FC;\n",
              "      --hover-bg-color: #434B5C;\n",
              "      --hover-fill-color: #FFFFFF;\n",
              "      --disabled-bg-color: #3B4455;\n",
              "      --disabled-fill-color: #666;\n",
              "  }\n",
              "\n",
              "  .colab-df-quickchart {\n",
              "    background-color: var(--bg-color);\n",
              "    border: none;\n",
              "    border-radius: 50%;\n",
              "    cursor: pointer;\n",
              "    display: none;\n",
              "    fill: var(--fill-color);\n",
              "    height: 32px;\n",
              "    padding: 0;\n",
              "    width: 32px;\n",
              "  }\n",
              "\n",
              "  .colab-df-quickchart:hover {\n",
              "    background-color: var(--hover-bg-color);\n",
              "    box-shadow: 0 1px 2px rgba(60, 64, 67, 0.3), 0 1px 3px 1px rgba(60, 64, 67, 0.15);\n",
              "    fill: var(--button-hover-fill-color);\n",
              "  }\n",
              "\n",
              "  .colab-df-quickchart-complete:disabled,\n",
              "  .colab-df-quickchart-complete:disabled:hover {\n",
              "    background-color: var(--disabled-bg-color);\n",
              "    fill: var(--disabled-fill-color);\n",
              "    box-shadow: none;\n",
              "  }\n",
              "\n",
              "  .colab-df-spinner {\n",
              "    border: 2px solid var(--fill-color);\n",
              "    border-color: transparent;\n",
              "    border-bottom-color: var(--fill-color);\n",
              "    animation:\n",
              "      spin 1s steps(1) infinite;\n",
              "  }\n",
              "\n",
              "  @keyframes spin {\n",
              "    0% {\n",
              "      border-color: transparent;\n",
              "      border-bottom-color: var(--fill-color);\n",
              "      border-left-color: var(--fill-color);\n",
              "    }\n",
              "    20% {\n",
              "      border-color: transparent;\n",
              "      border-left-color: var(--fill-color);\n",
              "      border-top-color: var(--fill-color);\n",
              "    }\n",
              "    30% {\n",
              "      border-color: transparent;\n",
              "      border-left-color: var(--fill-color);\n",
              "      border-top-color: var(--fill-color);\n",
              "      border-right-color: var(--fill-color);\n",
              "    }\n",
              "    40% {\n",
              "      border-color: transparent;\n",
              "      border-right-color: var(--fill-color);\n",
              "      border-top-color: var(--fill-color);\n",
              "    }\n",
              "    60% {\n",
              "      border-color: transparent;\n",
              "      border-right-color: var(--fill-color);\n",
              "    }\n",
              "    80% {\n",
              "      border-color: transparent;\n",
              "      border-right-color: var(--fill-color);\n",
              "      border-bottom-color: var(--fill-color);\n",
              "    }\n",
              "    90% {\n",
              "      border-color: transparent;\n",
              "      border-bottom-color: var(--fill-color);\n",
              "    }\n",
              "  }\n",
              "</style>\n",
              "\n",
              "  <script>\n",
              "    async function quickchart(key) {\n",
              "      const quickchartButtonEl =\n",
              "        document.querySelector('#' + key + ' button');\n",
              "      quickchartButtonEl.disabled = true;  // To prevent multiple clicks.\n",
              "      quickchartButtonEl.classList.add('colab-df-spinner');\n",
              "      try {\n",
              "        const charts = await google.colab.kernel.invokeFunction(\n",
              "            'suggestCharts', [key], {});\n",
              "      } catch (error) {\n",
              "        console.error('Error during call to suggestCharts:', error);\n",
              "      }\n",
              "      quickchartButtonEl.classList.remove('colab-df-spinner');\n",
              "      quickchartButtonEl.classList.add('colab-df-quickchart-complete');\n",
              "    }\n",
              "    (() => {\n",
              "      let quickchartButtonEl =\n",
              "        document.querySelector('#df-8dd0b0f7-6265-45c1-b5d3-4af974cfe411 button');\n",
              "      quickchartButtonEl.style.display =\n",
              "        google.colab.kernel.accessAllowed ? 'block' : 'none';\n",
              "    })();\n",
              "  </script>\n",
              "</div>\n",
              "\n",
              "    </div>\n",
              "  </div>\n"
            ],
            "application/vnd.google.colaboratory.intrinsic+json": {
              "type": "dataframe",
              "variable_name": "df",
              "summary": "{\n  \"name\": \"df\",\n  \"rows\": 6745,\n  \"fields\": [\n    {\n      \"column\": \"Request id\",\n      \"properties\": {\n        \"dtype\": \"number\",\n        \"std\": 1955,\n        \"min\": 1,\n        \"max\": 6766,\n        \"num_unique_values\": 6745,\n        \"samples\": [\n          2761,\n          1342,\n          44\n        ],\n        \"semantic_type\": \"\",\n        \"description\": \"\"\n      }\n    },\n    {\n      \"column\": \"Pickup point\",\n      \"properties\": {\n        \"dtype\": \"category\",\n        \"num_unique_values\": 2,\n        \"samples\": [\n          \"City\",\n          \"Airport\"\n        ],\n        \"semantic_type\": \"\",\n        \"description\": \"\"\n      }\n    },\n    {\n      \"column\": \"Driver id\",\n      \"properties\": {\n        \"dtype\": \"number\",\n        \"std\": 86.05199423275747,\n        \"min\": 1.0,\n        \"max\": 300.0,\n        \"num_unique_values\": 300,\n        \"samples\": [\n          204.0,\n          267.0\n        ],\n        \"semantic_type\": \"\",\n        \"description\": \"\"\n      }\n    },\n    {\n      \"column\": \"Status\",\n      \"properties\": {\n        \"dtype\": \"category\",\n        \"num_unique_values\": 3,\n        \"samples\": [\n          \"Trip Completed\",\n          \"Cancelled\"\n        ],\n        \"semantic_type\": \"\",\n        \"description\": \"\"\n      }\n    },\n    {\n      \"column\": \"Request timestamp\",\n      \"properties\": {\n        \"dtype\": \"date\",\n        \"min\": \"2016-07-11 00:00:00\",\n        \"max\": \"2016-07-15 23:59:58\",\n        \"num_unique_values\": 5618,\n        \"samples\": [\n          \"2016-07-13 08:33:01\",\n          \"2016-07-14 08:06:48\"\n        ],\n        \"semantic_type\": \"\",\n        \"description\": \"\"\n      }\n    },\n    {\n      \"column\": \"Drop timestamp\",\n      \"properties\": {\n        \"dtype\": \"date\",\n        \"min\": \"2016-07-11 00:51:00\",\n        \"max\": \"2016-07-16 01:09:24\",\n        \"num_unique_values\": 2598,\n        \"samples\": [\n          \"2016-07-15 06:50:02\",\n          \"2016-07-13 16:11:42\"\n        ],\n        \"semantic_type\": \"\",\n        \"description\": \"\"\n      }\n    },\n    {\n      \"column\": \"Request timestamp_1\",\n      \"properties\": {\n        \"dtype\": \"date\",\n        \"min\": \"2016-07-11 00:00:00\",\n        \"max\": \"2016-07-15 23:59:58\",\n        \"num_unique_values\": 5618,\n        \"samples\": [\n          \"2016-07-13 08:33:01\",\n          \"2016-07-14 08:06:48\"\n        ],\n        \"semantic_type\": \"\",\n        \"description\": \"\"\n      }\n    },\n    {\n      \"column\": \"Request timestamp_2\",\n      \"properties\": {\n        \"dtype\": \"date\",\n        \"min\": \"2016-07-11 00:00:00\",\n        \"max\": \"2016-07-15 23:59:58\",\n        \"num_unique_values\": 5618,\n        \"samples\": [\n          \"2016-07-13 08:33:01\",\n          \"2016-07-14 08:06:48\"\n        ],\n        \"semantic_type\": \"\",\n        \"description\": \"\"\n      }\n    },\n    {\n      \"column\": \"Drop timestamp_1\",\n      \"properties\": {\n        \"dtype\": \"date\",\n        \"min\": \"2016-07-13 00:01:12\",\n        \"max\": \"2016-07-16 01:09:24\",\n        \"num_unique_values\": 1674,\n        \"samples\": [\n          \"2016-07-14 10:01:21\",\n          \"2016-07-15 13:51:26\"\n        ],\n        \"semantic_type\": \"\",\n        \"description\": \"\"\n      }\n    },\n    {\n      \"column\": \"Drop timestamp_2\",\n      \"properties\": {\n        \"dtype\": \"date\",\n        \"min\": \"2016-07-11 00:51:00\",\n        \"max\": \"2016-07-12 23:45:00\",\n        \"num_unique_values\": 924,\n        \"samples\": [\n          \"2016-07-12 07:32:00\",\n          \"2016-07-11 11:25:00\"\n        ],\n        \"semantic_type\": \"\",\n        \"description\": \"\"\n      }\n    }\n  ]\n}"
            }
          },
          "metadata": {},
          "execution_count": 18
        }
      ]
    },
    {
      "cell_type": "code",
      "source": [
        "# Dropping reduntant columns\n",
        "df.drop(columns=['Request timestamp_1','Request timestamp_2',\n",
        "                 'Drop timestamp_1', 'Drop timestamp_2'],\n",
        "        inplace=True)"
      ],
      "metadata": {
        "id": "5YvSTekfjwJh"
      },
      "execution_count": null,
      "outputs": []
    },
    {
      "cell_type": "code",
      "source": [
        "# Checking for null values -\n",
        "\n",
        "df.isnull().sum() /len(df) * 100"
      ],
      "metadata": {
        "colab": {
          "base_uri": "https://localhost:8080/",
          "height": 272
        },
        "id": "5Sp6FGuMtXEP",
        "outputId": "154bc08a-015a-455c-b908-087b15845f43"
      },
      "execution_count": null,
      "outputs": [
        {
          "output_type": "execute_result",
          "data": {
            "text/plain": [
              "Request id            0.000000\n",
              "Pickup point          0.000000\n",
              "Driver id            39.288362\n",
              "Status                0.000000\n",
              "Request timestamp     0.000000\n",
              "Drop timestamp       58.028169\n",
              "dtype: float64"
            ],
            "text/html": [
              "<div>\n",
              "<style scoped>\n",
              "    .dataframe tbody tr th:only-of-type {\n",
              "        vertical-align: middle;\n",
              "    }\n",
              "\n",
              "    .dataframe tbody tr th {\n",
              "        vertical-align: top;\n",
              "    }\n",
              "\n",
              "    .dataframe thead th {\n",
              "        text-align: right;\n",
              "    }\n",
              "</style>\n",
              "<table border=\"1\" class=\"dataframe\">\n",
              "  <thead>\n",
              "    <tr style=\"text-align: right;\">\n",
              "      <th></th>\n",
              "      <th>0</th>\n",
              "    </tr>\n",
              "  </thead>\n",
              "  <tbody>\n",
              "    <tr>\n",
              "      <th>Request id</th>\n",
              "      <td>0.000000</td>\n",
              "    </tr>\n",
              "    <tr>\n",
              "      <th>Pickup point</th>\n",
              "      <td>0.000000</td>\n",
              "    </tr>\n",
              "    <tr>\n",
              "      <th>Driver id</th>\n",
              "      <td>39.288362</td>\n",
              "    </tr>\n",
              "    <tr>\n",
              "      <th>Status</th>\n",
              "      <td>0.000000</td>\n",
              "    </tr>\n",
              "    <tr>\n",
              "      <th>Request timestamp</th>\n",
              "      <td>0.000000</td>\n",
              "    </tr>\n",
              "    <tr>\n",
              "      <th>Drop timestamp</th>\n",
              "      <td>58.028169</td>\n",
              "    </tr>\n",
              "  </tbody>\n",
              "</table>\n",
              "</div><br><label><b>dtype:</b> float64</label>"
            ]
          },
          "metadata": {},
          "execution_count": 24
        }
      ]
    },
    {
      "cell_type": "code",
      "source": [
        "# Checking for duplicate rows -\n",
        "\n",
        "print(\"No. of duplicate rows: \", df.duplicated().sum())"
      ],
      "metadata": {
        "colab": {
          "base_uri": "https://localhost:8080/"
        },
        "id": "0yizpCLYtoWd",
        "outputId": "c2e542bb-2ea6-4d3d-d26e-aa16cbd2fa36"
      },
      "execution_count": null,
      "outputs": [
        {
          "output_type": "stream",
          "name": "stdout",
          "text": [
            "No. of duplicate rows:  0\n"
          ]
        }
      ]
    },
    {
      "cell_type": "markdown",
      "source": [
        "*Extracting new features from the existing ones -*"
      ],
      "metadata": {
        "id": "aRYvuedOt3mO"
      }
    },
    {
      "cell_type": "code",
      "source": [
        "# Extract hour from the Request timestamp -\n",
        "\n",
        "df['RequestHour'] = df['Request timestamp'].dt.hour"
      ],
      "metadata": {
        "id": "k2y6i-SAt4H-"
      },
      "execution_count": null,
      "outputs": []
    },
    {
      "cell_type": "code",
      "source": [
        "# Separate 5 different timeslots from the Hour - Dawn, Early Morning, Noon, Late Evening, Night -\n",
        "\n",
        "df['TimeSlot'] = df['RequestHour'].apply(lambda x: 'Dawn' if x<= 4 else ('Early Morning'\n",
        "                                                                        if x<=9 else (\"Late Evening\"\n",
        "                                                                                      if x<=21 else \"Night\")))"
      ],
      "metadata": {
        "id": "Q9Zf4d9quALO"
      },
      "execution_count": null,
      "outputs": []
    },
    {
      "cell_type": "code",
      "source": [
        "# Distinguish the Supply-Demand Gap by a new variable Cab Availability where Supply is when Trip is Completed, all else is Demand -\n",
        "\n",
        "df['CabAvailability'] = df['Status'].apply(lambda x: \"Available\" if x=='Trip Completed' else 'Not Available')"
      ],
      "metadata": {
        "id": "TLmUtRQzuw9x"
      },
      "execution_count": null,
      "outputs": []
    },
    {
      "cell_type": "code",
      "source": [
        "df.head()"
      ],
      "metadata": {
        "colab": {
          "base_uri": "https://localhost:8080/",
          "height": 206
        },
        "id": "-ZmbO-0avhPz",
        "outputId": "16528c80-749c-4187-900c-3b52d4dbfc13"
      },
      "execution_count": null,
      "outputs": [
        {
          "output_type": "execute_result",
          "data": {
            "text/plain": [
              "   Request id Pickup point  Driver id          Status   Request timestamp  \\\n",
              "0         619      Airport        1.0  Trip Completed 2016-07-11 11:51:00   \n",
              "1         867      Airport        1.0  Trip Completed 2016-07-11 17:57:00   \n",
              "2        1807         City        1.0  Trip Completed 2016-07-12 09:17:00   \n",
              "3        2532      Airport        1.0  Trip Completed 2016-07-12 21:08:00   \n",
              "4        3112         City        1.0  Trip Completed 2016-07-13 08:33:16   \n",
              "\n",
              "       Drop timestamp  RequestHour       TimeSlot CabAvailability  \n",
              "0 2016-07-11 13:00:00           11   Late Evening       Available  \n",
              "1 2016-07-11 18:47:00           17   Late Evening       Available  \n",
              "2 2016-07-12 09:58:00            9  Early Morning       Available  \n",
              "3 2016-07-12 22:03:00           21   Late Evening       Available  \n",
              "4 2016-07-13 09:25:47            8  Early Morning       Available  "
            ],
            "text/html": [
              "\n",
              "  <div id=\"df-c19c25b0-b0fd-4e3a-916e-31ffb4338c48\" class=\"colab-df-container\">\n",
              "    <div>\n",
              "<style scoped>\n",
              "    .dataframe tbody tr th:only-of-type {\n",
              "        vertical-align: middle;\n",
              "    }\n",
              "\n",
              "    .dataframe tbody tr th {\n",
              "        vertical-align: top;\n",
              "    }\n",
              "\n",
              "    .dataframe thead th {\n",
              "        text-align: right;\n",
              "    }\n",
              "</style>\n",
              "<table border=\"1\" class=\"dataframe\">\n",
              "  <thead>\n",
              "    <tr style=\"text-align: right;\">\n",
              "      <th></th>\n",
              "      <th>Request id</th>\n",
              "      <th>Pickup point</th>\n",
              "      <th>Driver id</th>\n",
              "      <th>Status</th>\n",
              "      <th>Request timestamp</th>\n",
              "      <th>Drop timestamp</th>\n",
              "      <th>RequestHour</th>\n",
              "      <th>TimeSlot</th>\n",
              "      <th>CabAvailability</th>\n",
              "    </tr>\n",
              "  </thead>\n",
              "  <tbody>\n",
              "    <tr>\n",
              "      <th>0</th>\n",
              "      <td>619</td>\n",
              "      <td>Airport</td>\n",
              "      <td>1.0</td>\n",
              "      <td>Trip Completed</td>\n",
              "      <td>2016-07-11 11:51:00</td>\n",
              "      <td>2016-07-11 13:00:00</td>\n",
              "      <td>11</td>\n",
              "      <td>Late Evening</td>\n",
              "      <td>Available</td>\n",
              "    </tr>\n",
              "    <tr>\n",
              "      <th>1</th>\n",
              "      <td>867</td>\n",
              "      <td>Airport</td>\n",
              "      <td>1.0</td>\n",
              "      <td>Trip Completed</td>\n",
              "      <td>2016-07-11 17:57:00</td>\n",
              "      <td>2016-07-11 18:47:00</td>\n",
              "      <td>17</td>\n",
              "      <td>Late Evening</td>\n",
              "      <td>Available</td>\n",
              "    </tr>\n",
              "    <tr>\n",
              "      <th>2</th>\n",
              "      <td>1807</td>\n",
              "      <td>City</td>\n",
              "      <td>1.0</td>\n",
              "      <td>Trip Completed</td>\n",
              "      <td>2016-07-12 09:17:00</td>\n",
              "      <td>2016-07-12 09:58:00</td>\n",
              "      <td>9</td>\n",
              "      <td>Early Morning</td>\n",
              "      <td>Available</td>\n",
              "    </tr>\n",
              "    <tr>\n",
              "      <th>3</th>\n",
              "      <td>2532</td>\n",
              "      <td>Airport</td>\n",
              "      <td>1.0</td>\n",
              "      <td>Trip Completed</td>\n",
              "      <td>2016-07-12 21:08:00</td>\n",
              "      <td>2016-07-12 22:03:00</td>\n",
              "      <td>21</td>\n",
              "      <td>Late Evening</td>\n",
              "      <td>Available</td>\n",
              "    </tr>\n",
              "    <tr>\n",
              "      <th>4</th>\n",
              "      <td>3112</td>\n",
              "      <td>City</td>\n",
              "      <td>1.0</td>\n",
              "      <td>Trip Completed</td>\n",
              "      <td>2016-07-13 08:33:16</td>\n",
              "      <td>2016-07-13 09:25:47</td>\n",
              "      <td>8</td>\n",
              "      <td>Early Morning</td>\n",
              "      <td>Available</td>\n",
              "    </tr>\n",
              "  </tbody>\n",
              "</table>\n",
              "</div>\n",
              "    <div class=\"colab-df-buttons\">\n",
              "\n",
              "  <div class=\"colab-df-container\">\n",
              "    <button class=\"colab-df-convert\" onclick=\"convertToInteractive('df-c19c25b0-b0fd-4e3a-916e-31ffb4338c48')\"\n",
              "            title=\"Convert this dataframe to an interactive table.\"\n",
              "            style=\"display:none;\">\n",
              "\n",
              "  <svg xmlns=\"http://www.w3.org/2000/svg\" height=\"24px\" viewBox=\"0 -960 960 960\">\n",
              "    <path d=\"M120-120v-720h720v720H120Zm60-500h600v-160H180v160Zm220 220h160v-160H400v160Zm0 220h160v-160H400v160ZM180-400h160v-160H180v160Zm440 0h160v-160H620v160ZM180-180h160v-160H180v160Zm440 0h160v-160H620v160Z\"/>\n",
              "  </svg>\n",
              "    </button>\n",
              "\n",
              "  <style>\n",
              "    .colab-df-container {\n",
              "      display:flex;\n",
              "      gap: 12px;\n",
              "    }\n",
              "\n",
              "    .colab-df-convert {\n",
              "      background-color: #E8F0FE;\n",
              "      border: none;\n",
              "      border-radius: 50%;\n",
              "      cursor: pointer;\n",
              "      display: none;\n",
              "      fill: #1967D2;\n",
              "      height: 32px;\n",
              "      padding: 0 0 0 0;\n",
              "      width: 32px;\n",
              "    }\n",
              "\n",
              "    .colab-df-convert:hover {\n",
              "      background-color: #E2EBFA;\n",
              "      box-shadow: 0px 1px 2px rgba(60, 64, 67, 0.3), 0px 1px 3px 1px rgba(60, 64, 67, 0.15);\n",
              "      fill: #174EA6;\n",
              "    }\n",
              "\n",
              "    .colab-df-buttons div {\n",
              "      margin-bottom: 4px;\n",
              "    }\n",
              "\n",
              "    [theme=dark] .colab-df-convert {\n",
              "      background-color: #3B4455;\n",
              "      fill: #D2E3FC;\n",
              "    }\n",
              "\n",
              "    [theme=dark] .colab-df-convert:hover {\n",
              "      background-color: #434B5C;\n",
              "      box-shadow: 0px 1px 3px 1px rgba(0, 0, 0, 0.15);\n",
              "      filter: drop-shadow(0px 1px 2px rgba(0, 0, 0, 0.3));\n",
              "      fill: #FFFFFF;\n",
              "    }\n",
              "  </style>\n",
              "\n",
              "    <script>\n",
              "      const buttonEl =\n",
              "        document.querySelector('#df-c19c25b0-b0fd-4e3a-916e-31ffb4338c48 button.colab-df-convert');\n",
              "      buttonEl.style.display =\n",
              "        google.colab.kernel.accessAllowed ? 'block' : 'none';\n",
              "\n",
              "      async function convertToInteractive(key) {\n",
              "        const element = document.querySelector('#df-c19c25b0-b0fd-4e3a-916e-31ffb4338c48');\n",
              "        const dataTable =\n",
              "          await google.colab.kernel.invokeFunction('convertToInteractive',\n",
              "                                                    [key], {});\n",
              "        if (!dataTable) return;\n",
              "\n",
              "        const docLinkHtml = 'Like what you see? Visit the ' +\n",
              "          '<a target=\"_blank\" href=https://colab.research.google.com/notebooks/data_table.ipynb>data table notebook</a>'\n",
              "          + ' to learn more about interactive tables.';\n",
              "        element.innerHTML = '';\n",
              "        dataTable['output_type'] = 'display_data';\n",
              "        await google.colab.output.renderOutput(dataTable, element);\n",
              "        const docLink = document.createElement('div');\n",
              "        docLink.innerHTML = docLinkHtml;\n",
              "        element.appendChild(docLink);\n",
              "      }\n",
              "    </script>\n",
              "  </div>\n",
              "\n",
              "\n",
              "<div id=\"df-e03c9c54-5d88-45a3-8ca3-101005a4e847\">\n",
              "  <button class=\"colab-df-quickchart\" onclick=\"quickchart('df-e03c9c54-5d88-45a3-8ca3-101005a4e847')\"\n",
              "            title=\"Suggest charts\"\n",
              "            style=\"display:none;\">\n",
              "\n",
              "<svg xmlns=\"http://www.w3.org/2000/svg\" height=\"24px\"viewBox=\"0 0 24 24\"\n",
              "     width=\"24px\">\n",
              "    <g>\n",
              "        <path d=\"M19 3H5c-1.1 0-2 .9-2 2v14c0 1.1.9 2 2 2h14c1.1 0 2-.9 2-2V5c0-1.1-.9-2-2-2zM9 17H7v-7h2v7zm4 0h-2V7h2v10zm4 0h-2v-4h2v4z\"/>\n",
              "    </g>\n",
              "</svg>\n",
              "  </button>\n",
              "\n",
              "<style>\n",
              "  .colab-df-quickchart {\n",
              "      --bg-color: #E8F0FE;\n",
              "      --fill-color: #1967D2;\n",
              "      --hover-bg-color: #E2EBFA;\n",
              "      --hover-fill-color: #174EA6;\n",
              "      --disabled-fill-color: #AAA;\n",
              "      --disabled-bg-color: #DDD;\n",
              "  }\n",
              "\n",
              "  [theme=dark] .colab-df-quickchart {\n",
              "      --bg-color: #3B4455;\n",
              "      --fill-color: #D2E3FC;\n",
              "      --hover-bg-color: #434B5C;\n",
              "      --hover-fill-color: #FFFFFF;\n",
              "      --disabled-bg-color: #3B4455;\n",
              "      --disabled-fill-color: #666;\n",
              "  }\n",
              "\n",
              "  .colab-df-quickchart {\n",
              "    background-color: var(--bg-color);\n",
              "    border: none;\n",
              "    border-radius: 50%;\n",
              "    cursor: pointer;\n",
              "    display: none;\n",
              "    fill: var(--fill-color);\n",
              "    height: 32px;\n",
              "    padding: 0;\n",
              "    width: 32px;\n",
              "  }\n",
              "\n",
              "  .colab-df-quickchart:hover {\n",
              "    background-color: var(--hover-bg-color);\n",
              "    box-shadow: 0 1px 2px rgba(60, 64, 67, 0.3), 0 1px 3px 1px rgba(60, 64, 67, 0.15);\n",
              "    fill: var(--button-hover-fill-color);\n",
              "  }\n",
              "\n",
              "  .colab-df-quickchart-complete:disabled,\n",
              "  .colab-df-quickchart-complete:disabled:hover {\n",
              "    background-color: var(--disabled-bg-color);\n",
              "    fill: var(--disabled-fill-color);\n",
              "    box-shadow: none;\n",
              "  }\n",
              "\n",
              "  .colab-df-spinner {\n",
              "    border: 2px solid var(--fill-color);\n",
              "    border-color: transparent;\n",
              "    border-bottom-color: var(--fill-color);\n",
              "    animation:\n",
              "      spin 1s steps(1) infinite;\n",
              "  }\n",
              "\n",
              "  @keyframes spin {\n",
              "    0% {\n",
              "      border-color: transparent;\n",
              "      border-bottom-color: var(--fill-color);\n",
              "      border-left-color: var(--fill-color);\n",
              "    }\n",
              "    20% {\n",
              "      border-color: transparent;\n",
              "      border-left-color: var(--fill-color);\n",
              "      border-top-color: var(--fill-color);\n",
              "    }\n",
              "    30% {\n",
              "      border-color: transparent;\n",
              "      border-left-color: var(--fill-color);\n",
              "      border-top-color: var(--fill-color);\n",
              "      border-right-color: var(--fill-color);\n",
              "    }\n",
              "    40% {\n",
              "      border-color: transparent;\n",
              "      border-right-color: var(--fill-color);\n",
              "      border-top-color: var(--fill-color);\n",
              "    }\n",
              "    60% {\n",
              "      border-color: transparent;\n",
              "      border-right-color: var(--fill-color);\n",
              "    }\n",
              "    80% {\n",
              "      border-color: transparent;\n",
              "      border-right-color: var(--fill-color);\n",
              "      border-bottom-color: var(--fill-color);\n",
              "    }\n",
              "    90% {\n",
              "      border-color: transparent;\n",
              "      border-bottom-color: var(--fill-color);\n",
              "    }\n",
              "  }\n",
              "</style>\n",
              "\n",
              "  <script>\n",
              "    async function quickchart(key) {\n",
              "      const quickchartButtonEl =\n",
              "        document.querySelector('#' + key + ' button');\n",
              "      quickchartButtonEl.disabled = true;  // To prevent multiple clicks.\n",
              "      quickchartButtonEl.classList.add('colab-df-spinner');\n",
              "      try {\n",
              "        const charts = await google.colab.kernel.invokeFunction(\n",
              "            'suggestCharts', [key], {});\n",
              "      } catch (error) {\n",
              "        console.error('Error during call to suggestCharts:', error);\n",
              "      }\n",
              "      quickchartButtonEl.classList.remove('colab-df-spinner');\n",
              "      quickchartButtonEl.classList.add('colab-df-quickchart-complete');\n",
              "    }\n",
              "    (() => {\n",
              "      let quickchartButtonEl =\n",
              "        document.querySelector('#df-e03c9c54-5d88-45a3-8ca3-101005a4e847 button');\n",
              "      quickchartButtonEl.style.display =\n",
              "        google.colab.kernel.accessAllowed ? 'block' : 'none';\n",
              "    })();\n",
              "  </script>\n",
              "</div>\n",
              "\n",
              "    </div>\n",
              "  </div>\n"
            ],
            "application/vnd.google.colaboratory.intrinsic+json": {
              "type": "dataframe",
              "variable_name": "df",
              "summary": "{\n  \"name\": \"df\",\n  \"rows\": 6745,\n  \"fields\": [\n    {\n      \"column\": \"Request id\",\n      \"properties\": {\n        \"dtype\": \"number\",\n        \"std\": 1955,\n        \"min\": 1,\n        \"max\": 6766,\n        \"num_unique_values\": 6745,\n        \"samples\": [\n          2761,\n          1342,\n          44\n        ],\n        \"semantic_type\": \"\",\n        \"description\": \"\"\n      }\n    },\n    {\n      \"column\": \"Pickup point\",\n      \"properties\": {\n        \"dtype\": \"category\",\n        \"num_unique_values\": 2,\n        \"samples\": [\n          \"City\",\n          \"Airport\"\n        ],\n        \"semantic_type\": \"\",\n        \"description\": \"\"\n      }\n    },\n    {\n      \"column\": \"Driver id\",\n      \"properties\": {\n        \"dtype\": \"number\",\n        \"std\": 86.05199423275747,\n        \"min\": 1.0,\n        \"max\": 300.0,\n        \"num_unique_values\": 300,\n        \"samples\": [\n          204.0,\n          267.0\n        ],\n        \"semantic_type\": \"\",\n        \"description\": \"\"\n      }\n    },\n    {\n      \"column\": \"Status\",\n      \"properties\": {\n        \"dtype\": \"category\",\n        \"num_unique_values\": 3,\n        \"samples\": [\n          \"Trip Completed\",\n          \"Cancelled\"\n        ],\n        \"semantic_type\": \"\",\n        \"description\": \"\"\n      }\n    },\n    {\n      \"column\": \"Request timestamp\",\n      \"properties\": {\n        \"dtype\": \"date\",\n        \"min\": \"2016-07-11 00:00:00\",\n        \"max\": \"2016-07-15 23:59:58\",\n        \"num_unique_values\": 5618,\n        \"samples\": [\n          \"2016-07-13 08:33:01\",\n          \"2016-07-14 08:06:48\"\n        ],\n        \"semantic_type\": \"\",\n        \"description\": \"\"\n      }\n    },\n    {\n      \"column\": \"Drop timestamp\",\n      \"properties\": {\n        \"dtype\": \"date\",\n        \"min\": \"2016-07-11 00:51:00\",\n        \"max\": \"2016-07-16 01:09:24\",\n        \"num_unique_values\": 2598,\n        \"samples\": [\n          \"2016-07-15 06:50:02\",\n          \"2016-07-13 16:11:42\"\n        ],\n        \"semantic_type\": \"\",\n        \"description\": \"\"\n      }\n    },\n    {\n      \"column\": \"RequestHour\",\n      \"properties\": {\n        \"dtype\": \"int32\",\n        \"num_unique_values\": 24,\n        \"samples\": [\n          4,\n          16\n        ],\n        \"semantic_type\": \"\",\n        \"description\": \"\"\n      }\n    },\n    {\n      \"column\": \"TimeSlot\",\n      \"properties\": {\n        \"dtype\": \"category\",\n        \"num_unique_values\": 4,\n        \"samples\": [\n          \"Early Morning\",\n          \"Night\"\n        ],\n        \"semantic_type\": \"\",\n        \"description\": \"\"\n      }\n    },\n    {\n      \"column\": \"CabAvailability\",\n      \"properties\": {\n        \"dtype\": \"category\",\n        \"num_unique_values\": 2,\n        \"samples\": [\n          \"Not Available\",\n          \"Available\"\n        ],\n        \"semantic_type\": \"\",\n        \"description\": \"\"\n      }\n    }\n  ]\n}"
            }
          },
          "metadata": {},
          "execution_count": 30
        }
      ]
    },
    {
      "cell_type": "code",
      "source": [
        "df['CabAvailability'].value_counts(normalize=True) * 100"
      ],
      "metadata": {
        "colab": {
          "base_uri": "https://localhost:8080/",
          "height": 178
        },
        "id": "3nxghUzTvseP",
        "outputId": "4fdf06b9-1ef0-4f2a-fe45-a85788fcd2e5"
      },
      "execution_count": null,
      "outputs": [
        {
          "output_type": "execute_result",
          "data": {
            "text/plain": [
              "CabAvailability\n",
              "Not Available    58.028169\n",
              "Available        41.971831\n",
              "Name: proportion, dtype: float64"
            ],
            "text/html": [
              "<div>\n",
              "<style scoped>\n",
              "    .dataframe tbody tr th:only-of-type {\n",
              "        vertical-align: middle;\n",
              "    }\n",
              "\n",
              "    .dataframe tbody tr th {\n",
              "        vertical-align: top;\n",
              "    }\n",
              "\n",
              "    .dataframe thead th {\n",
              "        text-align: right;\n",
              "    }\n",
              "</style>\n",
              "<table border=\"1\" class=\"dataframe\">\n",
              "  <thead>\n",
              "    <tr style=\"text-align: right;\">\n",
              "      <th></th>\n",
              "      <th>proportion</th>\n",
              "    </tr>\n",
              "    <tr>\n",
              "      <th>CabAvailability</th>\n",
              "      <th></th>\n",
              "    </tr>\n",
              "  </thead>\n",
              "  <tbody>\n",
              "    <tr>\n",
              "      <th>Not Available</th>\n",
              "      <td>58.028169</td>\n",
              "    </tr>\n",
              "    <tr>\n",
              "      <th>Available</th>\n",
              "      <td>41.971831</td>\n",
              "    </tr>\n",
              "  </tbody>\n",
              "</table>\n",
              "</div><br><label><b>dtype:</b> float64</label>"
            ]
          },
          "metadata": {},
          "execution_count": 33
        }
      ]
    },
    {
      "cell_type": "markdown",
      "source": [
        "**Q. What is the Frequency of Requests that get Canceled or show ‘No Cars Available’ in each hour?**"
      ],
      "metadata": {
        "id": "hMNMhdu3wASM"
      }
    },
    {
      "cell_type": "code",
      "source": [
        "# Frequency of Requests by Hour -\n",
        "\n",
        "df.groupby(['RequestHour', 'Status']).size().unstack().plot(kind='bar', stacked=True, figsize=(15, 8))\n",
        "plt.title(\"Frequency of Requests by Hour\")"
      ],
      "metadata": {
        "colab": {
          "base_uri": "https://localhost:8080/",
          "height": 739
        },
        "id": "EhzHf5r_v22_",
        "outputId": "7382355c-a031-4dd3-bc42-8fa087c0f623"
      },
      "execution_count": null,
      "outputs": [
        {
          "output_type": "execute_result",
          "data": {
            "text/plain": [
              "Text(0.5, 1.0, 'Frequency of Requests by Hour')"
            ]
          },
          "metadata": {},
          "execution_count": 40
        },
        {
          "output_type": "display_data",
          "data": {
            "text/plain": [
              "<Figure size 1500x800 with 1 Axes>"
            ],
            "image/png": "[encoded data removed]"
          },
          "metadata": {}
        }
      ]
    },
    {
      "cell_type": "code",
      "source": [
        "# Types of Requests (city-airport or airport-city) -\n",
        "\n",
        "df.groupby(['Pickup point']).size().plot(kind='pie', stacked=True, figsize=(6,6), table=True)\n",
        "plt.ylabel(\"\")"
      ],
      "metadata": {
        "colab": {
          "base_uri": "https://localhost:8080/",
          "height": 549
        },
        "id": "Rn94LNj4xrdJ",
        "outputId": "292723d3-0c7a-4003-cbd9-3d7a8348be29"
      },
      "execution_count": null,
      "outputs": [
        {
          "output_type": "execute_result",
          "data": {
            "text/plain": [
              "Text(0, 0.5, '')"
            ]
          },
          "metadata": {},
          "execution_count": 42
        },
        {
          "output_type": "display_data",
          "data": {
            "text/plain": [
              "<Figure size 600x600 with 1 Axes>"
            ],
            "image/png": "[encoded data removed]"
          },
          "metadata": {}
        }
      ]
    },
    {
      "cell_type": "code",
      "source": [
        "# Distribution of Time Slots -\n",
        "\n",
        "df[(df['CabAvailability'] == 'Not Available')].groupby(['TimeSlot']).size().plot(kind='pie', stacked=True, figsize=(6,6), table=True)\n",
        "plt.ylabel(\"\")"
      ],
      "metadata": {
        "colab": {
          "base_uri": "https://localhost:8080/",
          "height": 549
        },
        "id": "Lbb-UALTyaEs",
        "outputId": "723040ed-e638-45ee-882d-d56ffe95460f"
      },
      "execution_count": null,
      "outputs": [
        {
          "output_type": "execute_result",
          "data": {
            "text/plain": [
              "Text(0, 0.5, '')"
            ]
          },
          "metadata": {},
          "execution_count": 44
        },
        {
          "output_type": "display_data",
          "data": {
            "text/plain": [
              "<Figure size 600x600 with 1 Axes>"
            ],
            "image/png": "[encoded data removed]"
          },
          "metadata": {}
        }
      ]
    },
    {
      "cell_type": "markdown",
      "source": [
        "**Q. Plot the Demand-Supply Gap from Airport to City.**"
      ],
      "metadata": {
        "id": "jkYq-nhz0C1Y"
      }
    },
    {
      "cell_type": "code",
      "source": [
        "# Demand-Supply Gap from Airport to City -\n",
        "\n",
        "df[(df['Pickup point'] == 'Airport')].groupby(['RequestHour', 'Status']).size().unstack().plot(kind='bar', stacked=True, figsize=(15, 8))\n",
        "plt.title('Demand-Supply Gap from Airport to City')"
      ],
      "metadata": {
        "colab": {
          "base_uri": "https://localhost:8080/",
          "height": 739
        },
        "id": "KJNjckX6y9jw",
        "outputId": "2a0e6bbf-ef33-4380-c782-d4d09e191e84"
      },
      "execution_count": null,
      "outputs": [
        {
          "output_type": "execute_result",
          "data": {
            "text/plain": [
              "Text(0.5, 1.0, 'Demand-Supply Gap from Airport to City')"
            ]
          },
          "metadata": {},
          "execution_count": 45
        },
        {
          "output_type": "display_data",
          "data": {
            "text/plain": [
              "<Figure size 1500x800 with 1 Axes>"
            ],
            "image/png": "[encoded data removed]"
          },
          "metadata": {}
        }
      ]
    },
    {
      "cell_type": "code",
      "source": [
        "# Demand-Supply Gap from City to Airport -\n",
        "\n",
        "df[(df['Pickup point']==\"City\")].groupby(['RequestHour','Status']).size().unstack().plot(kind='bar', stacked=True, figsize=(15, 8))\n",
        "plt.title('Demand-Supply Gap from City to Airport')"
      ],
      "metadata": {
        "colab": {
          "base_uri": "https://localhost:8080/",
          "height": 739
        },
        "id": "z9RO8igw00aH",
        "outputId": "e8690e1a-22d2-41c6-a288-f22b102fd9f2"
      },
      "execution_count": null,
      "outputs": [
        {
          "output_type": "execute_result",
          "data": {
            "text/plain": [
              "Text(0.5, 1.0, 'Demand-Supply Gap from City to Airport')"
            ]
          },
          "metadata": {},
          "execution_count": 46
        },
        {
          "output_type": "display_data",
          "data": {
            "text/plain": [
              "<Figure size 1500x800 with 1 Axes>"
            ],
            "image/png": "[encoded data removed]"
          },
          "metadata": {}
        }
      ]
    },
    {
      "cell_type": "code",
      "source": [
        "# Time slots where highest gap exists -\n",
        "\n",
        "df.groupby(['TimeSlot','CabAvailability']).size().unstack().plot(kind='bar', stacked=True,figsize=(15, 8))\n",
        "plt.title('Time slots where highest gap exists')"
      ],
      "metadata": {
        "colab": {
          "base_uri": "https://localhost:8080/",
          "height": 817
        },
        "id": "NGBoEzcI1FdL",
        "outputId": "f0484295-7562-445b-d22f-66a5ed3c897a"
      },
      "execution_count": null,
      "outputs": [
        {
          "output_type": "execute_result",
          "data": {
            "text/plain": [
              "Text(0.5, 1.0, 'Time slots where highest gap exists')"
            ]
          },
          "metadata": {},
          "execution_count": 49
        },
        {
          "output_type": "display_data",
          "data": {
            "text/plain": [
              "<Figure size 1500x800 with 1 Axes>"
            ],
            "image/png": "[encoded data removed]"
          },
          "metadata": {}
        }
      ]
    },
    {
      "cell_type": "code",
      "source": [
        "#  Types of Requests (city-airport or airport-city) for which the gap is the most severe in the identified time slots -\n",
        "\n",
        "df[df[\"TimeSlot\"]==\"Late Evening\"].groupby(['Pickup point']).size().plot(kind=\"pie\",stacked=True,figsize=(6, 6), table=True)\n",
        "plt.ylabel(\"\")"
      ],
      "metadata": {
        "colab": {
          "base_uri": "https://localhost:8080/",
          "height": 549
        },
        "id": "_LtH7ltY1feJ",
        "outputId": "ee02b980-37e4-4be4-8f55-5e4c08a28908"
      },
      "execution_count": null,
      "outputs": [
        {
          "output_type": "execute_result",
          "data": {
            "text/plain": [
              "Text(0, 0.5, '')"
            ]
          },
          "metadata": {},
          "execution_count": 50
        },
        {
          "output_type": "display_data",
          "data": {
            "text/plain": [
              "<Figure size 600x600 with 1 Axes>"
            ],
            "image/png": "[encoded data removed]"
          },
          "metadata": {}
        }
      ]
    }
  ]
}